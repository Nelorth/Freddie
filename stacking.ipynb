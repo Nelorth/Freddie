{
 "cells": [
  {
   "cell_type": "markdown",
   "id": "6671e507",
   "metadata": {},
   "source": [
    "# torch.stack vs torch.cat.view"
   ]
  },
  {
   "cell_type": "markdown",
   "id": "f0ea5ca2",
   "metadata": {},
   "source": [
    "It appears that `torch.stack` works slower than composing `torch.cat` and `torch.Tensor.view`. This is also documented in a [GitHub issue](https://github.com/pytorch/pytorch/issues/22462)."
   ]
  },
  {
   "cell_type": "code",
   "execution_count": 1,
   "id": "a85b6bfc",
   "metadata": {},
   "outputs": [],
   "source": [
    "import torch\n",
    "from timer import Timer"
   ]
  },
  {
   "cell_type": "code",
   "execution_count": 2,
   "id": "1115e925",
   "metadata": {},
   "outputs": [],
   "source": [
    "def stack(tensors, dim=0):\n",
    "    return torch.stack(tensors, dim=dim)\n",
    "\n",
    "def catview(tensors, dim=0):\n",
    "    if len(tensors) == 0:\n",
    "        raise RuntimeError(\"catview expects a non-empty TensorList\")\n",
    "    return torch.cat(tensors).view(-1, *tensors[0].shape).transpose(0, dim)"
   ]
  },
  {
   "cell_type": "code",
   "execution_count": 3,
   "id": "5f0b4403",
   "metadata": {},
   "outputs": [
    {
     "name": "stdout",
     "output_type": "stream",
     "text": [
      "[stack] Elapsed time: 8.830000 seconds\n",
      "[catview] Elapsed time: 3.194152 seconds\n"
     ]
    }
   ],
   "source": [
    "data = [torch.rand(10, 20) for _ in range(10000)]\n",
    "\n",
    "with Timer(\"stack\"):\n",
    "    for i in range(1000): d = stack(data, dim=1)\n",
    "        \n",
    "with Timer(\"catview\"):\n",
    "    for i in range(1000): d = catview(data, dim=1)"
   ]
  }
 ],
 "metadata": {
  "kernelspec": {
   "display_name": "Python 3",
   "language": "python",
   "name": "python3"
  },
  "language_info": {
   "codemirror_mode": {
    "name": "ipython",
    "version": 3
   },
   "file_extension": ".py",
   "mimetype": "text/x-python",
   "name": "python",
   "nbconvert_exporter": "python",
   "pygments_lexer": "ipython3",
   "version": "3.8.8"
  }
 },
 "nbformat": 4,
 "nbformat_minor": 5
}