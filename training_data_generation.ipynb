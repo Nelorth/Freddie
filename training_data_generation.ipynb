{
 "cells": [
  {
   "cell_type": "markdown",
   "metadata": {
    "pycharm": {
     "name": "#%% md\n"
    }
   },
   "source": [
    "# Training Data Generation"
   ]
  },
  {
   "cell_type": "code",
   "execution_count": 1,
   "metadata": {
    "pycharm": {
     "name": "#%%\n"
    }
   },
   "outputs": [],
   "source": [
    "import os\n",
    "import pandas as pd\n",
    "\n",
    "from tqdm import tqdm\n",
    "from constants import *"
   ]
  },
  {
   "cell_type": "markdown",
   "metadata": {},
   "source": [
    "Define main procedures"
   ]
  },
  {
   "cell_type": "code",
   "execution_count": 2,
   "metadata": {
    "pycharm": {
     "name": "#%%\n"
    }
   },
   "outputs": [],
   "source": [
    "def prepare_orbit(orbit_id):\n",
    "    \"\"\"Load the specified orbit and preprocess it for merging.\"\"\"\n",
    "\n",
    "    file = os.path.join(ORBIT_DIR, ORBIT_FILE(orbit_id))\n",
    "    df_stats.loc[orbit_id, \"does_not_exist\"] = not os.path.exists(file)\n",
    "\n",
    "    if not df_stats.loc[orbit_id, \"does_not_exist\"]:\n",
    "        df_orbit = pd.read_csv(file, index_col=DATE_COL, parse_dates=True)\n",
    "\n",
    "        # determine validity criteria for orbit\n",
    "        df_stats.loc[orbit_id, \"total_nan_count\"] = (\n",
    "                df_orbit.isnull().sum().sum()\n",
    "        )\n",
    "        df_stats.loc[orbit_id, \"missing_entry_count\"] = (\n",
    "                (df_orbit.index[-1] - df_orbit.index[0]).total_seconds() + 1 - len(df_orbit)\n",
    "        )\n",
    "        df_stats.loc[orbit_id, \"has_outside_labels\"] = (\n",
    "                df_labels.loc[orbit_id, \"SK outer in\"] < df_orbit.index[0]\n",
    "                or df_orbit.index[-1] < df_labels.loc[orbit_id, \"SK outer out\"]\n",
    "        )\n",
    "        df_stats.loc[orbit_id, \"flux_norm_maximum\"] = (\n",
    "                df_orbit[FLUX_COLS].pow(2).sum(axis=1).pow(0.5).max()\n",
    "        )\n",
    "        \n",
    "        if df_stats.loc[orbit_id].iloc[0:-1].sum() == 0:\n",
    "            df_orbit[ORBIT_COL] = orbit_id  # add orbit id\n",
    "            return df_orbit\n",
    "        else:\n",
    "            return None  # rule out invalid orbit"
   ]
  },
  {
   "cell_type": "code",
   "execution_count": 3,
   "metadata": {
    "pycharm": {
     "name": "#%%\n"
    }
   },
   "outputs": [],
   "source": [
    "def assign_labels(df_train, df_labels):\n",
    "    \"\"\"Assign labels to the training time series using event boundary labels.\"\"\"\n",
    "\n",
    "    # interplanetary magnetic field\n",
    "    df_train[LABEL_COL] = 0\n",
    "\n",
    "    for row in tqdm(range(len(df_labels))):\n",
    "        event = lambda col: df_labels.iloc[row][col]\n",
    "\n",
    "        # bow shock crossings\n",
    "        df_train.loc[event(\"SK outer in\"):event(\"SK inner in\"), LABEL_COL] = 1\n",
    "        df_train.loc[event(\"SK inner out\"):event(\"SK outer out\"), LABEL_COL] = 1\n",
    "\n",
    "        # magnetosheath\n",
    "        df_train.loc[event(\"SK inner in\"):event(\"MP outer in\"), LABEL_COL] = 2\n",
    "        df_train.loc[event(\"MP outer out\"):event(\"SK inner out\"), LABEL_COL] = 2\n",
    "\n",
    "        # magnetopause crossings\n",
    "        df_train.loc[event(\"MP outer in\"):event(\"MP inner in\"), LABEL_COL] = 3\n",
    "        df_train.loc[event(\"MP inner out\"):event(\"MP outer out\"), LABEL_COL] = 3\n",
    "\n",
    "        # magnetosphere\n",
    "        df_train.loc[event(\"MP inner in\"):event(\"MP inner out\"), LABEL_COL] = 4"
   ]
  },
  {
   "cell_type": "markdown",
   "metadata": {},
   "source": [
    "Load label descriptor file"
   ]
  },
  {
   "cell_type": "code",
   "execution_count": 4,
   "metadata": {
    "pycharm": {
     "name": "#%%\n"
    }
   },
   "outputs": [
    {
     "name": "stdout",
     "output_type": "stream",
     "text": [
      "#healthy orbits: 4019\n"
     ]
    }
   ],
   "source": [
    "df_labels = pd.read_csv(os.path.join(LABEL_DIR, LABEL_FILE),\n",
    "                        index_col=ORBIT_COL,\n",
    "                        parse_dates=EVENT_COLS)\n",
    "df_labels = df_labels.dropna()  # disregard incompletely labeled orbits\n",
    "print(f\"#healthy orbits: {len(df_labels)}\")"
   ]
  },
  {
   "cell_type": "markdown",
   "metadata": {
    "pycharm": {
     "name": "#%% md\n"
    }
   },
   "source": [
    "Prepare orbit validity statistics"
   ]
  },
  {
   "cell_type": "code",
   "execution_count": 5,
   "metadata": {},
   "outputs": [],
   "source": [
    "df_stats = pd.DataFrame(\n",
    "    index=df_labels.index,\n",
    "    columns=[\"does_not_exist\",\n",
    "             \"total_nan_count\",\n",
    "             \"missing_entry_count\",\n",
    "             \"has_outside_labels\",\n",
    "             \"flux_norm_maximum\"]\n",
    ")"
   ]
  },
  {
   "cell_type": "markdown",
   "metadata": {},
   "source": [
    "Combine orbit data into one big frame"
   ]
  },
  {
   "cell_type": "code",
   "execution_count": 6,
   "metadata": {
    "pycharm": {
     "name": "#%%\n"
    }
   },
   "outputs": [
    {
     "name": "stderr",
     "output_type": "stream",
     "text": [
      "100%|██████████| 4019/4019 [20:22<00:00,  3.29it/s]\n"
     ]
    },
    {
     "data": {
      "text/html": [
       "<div>\n",
       "<style scoped>\n",
       "    .dataframe tbody tr th:only-of-type {\n",
       "        vertical-align: middle;\n",
       "    }\n",
       "\n",
       "    .dataframe tbody tr th {\n",
       "        vertical-align: top;\n",
       "    }\n",
       "\n",
       "    .dataframe thead th {\n",
       "        text-align: right;\n",
       "    }\n",
       "</style>\n",
       "<table border=\"1\" class=\"dataframe\">\n",
       "  <thead>\n",
       "    <tr style=\"text-align: right;\">\n",
       "      <th></th>\n",
       "      <th>X_MSO</th>\n",
       "      <th>Y_MSO</th>\n",
       "      <th>Z_MSO</th>\n",
       "      <th>BX_MSO</th>\n",
       "      <th>BY_MSO</th>\n",
       "      <th>BZ_MSO</th>\n",
       "      <th>DBX_MSO</th>\n",
       "      <th>DBY_MSO</th>\n",
       "      <th>DBZ_MSO</th>\n",
       "      <th>RHO_DIPOLE</th>\n",
       "      <th>...</th>\n",
       "      <th>Y</th>\n",
       "      <th>Z</th>\n",
       "      <th>VX</th>\n",
       "      <th>VY</th>\n",
       "      <th>VZ</th>\n",
       "      <th>VABS</th>\n",
       "      <th>D</th>\n",
       "      <th>COSALPHA</th>\n",
       "      <th>EXTREMA</th>\n",
       "      <th>ORBIT</th>\n",
       "    </tr>\n",
       "    <tr>\n",
       "      <th>DATE</th>\n",
       "      <th></th>\n",
       "      <th></th>\n",
       "      <th></th>\n",
       "      <th></th>\n",
       "      <th></th>\n",
       "      <th></th>\n",
       "      <th></th>\n",
       "      <th></th>\n",
       "      <th></th>\n",
       "      <th></th>\n",
       "      <th></th>\n",
       "      <th></th>\n",
       "      <th></th>\n",
       "      <th></th>\n",
       "      <th></th>\n",
       "      <th></th>\n",
       "      <th></th>\n",
       "      <th></th>\n",
       "      <th></th>\n",
       "      <th></th>\n",
       "      <th></th>\n",
       "    </tr>\n",
       "  </thead>\n",
       "  <tbody>\n",
       "    <tr>\n",
       "      <th>2011-03-24 19:46:22</th>\n",
       "      <td>6897.941</td>\n",
       "      <td>5403.502</td>\n",
       "      <td>-15374.343</td>\n",
       "      <td>29.343</td>\n",
       "      <td>-2.064</td>\n",
       "      <td>-9.552</td>\n",
       "      <td>0.299</td>\n",
       "      <td>1.637</td>\n",
       "      <td>1.395</td>\n",
       "      <td>18118.125361</td>\n",
       "      <td>...</td>\n",
       "      <td>3.802753e+07</td>\n",
       "      <td>5.912986e+06</td>\n",
       "      <td>-47.808573</td>\n",
       "      <td>-28.603154</td>\n",
       "      <td>2.049779</td>\n",
       "      <td>55.749454</td>\n",
       "      <td>4.915513e+07</td>\n",
       "      <td>0.670984</td>\n",
       "      <td>0</td>\n",
       "      <td>2</td>\n",
       "    </tr>\n",
       "    <tr>\n",
       "      <th>2011-03-24 19:46:23</th>\n",
       "      <td>6898.235</td>\n",
       "      <td>5403.903</td>\n",
       "      <td>-15374.070</td>\n",
       "      <td>29.540</td>\n",
       "      <td>-1.713</td>\n",
       "      <td>-8.633</td>\n",
       "      <td>0.809</td>\n",
       "      <td>1.914</td>\n",
       "      <td>2.789</td>\n",
       "      <td>18118.117945</td>\n",
       "      <td>...</td>\n",
       "      <td>3.802753e+07</td>\n",
       "      <td>5.912986e+06</td>\n",
       "      <td>-47.808573</td>\n",
       "      <td>-28.603154</td>\n",
       "      <td>2.049796</td>\n",
       "      <td>55.749455</td>\n",
       "      <td>4.915513e+07</td>\n",
       "      <td>0.670984</td>\n",
       "      <td>2</td>\n",
       "      <td>2</td>\n",
       "    </tr>\n",
       "    <tr>\n",
       "      <th>2011-03-24 19:46:23</th>\n",
       "      <td>6898.235</td>\n",
       "      <td>5403.903</td>\n",
       "      <td>-15374.070</td>\n",
       "      <td>29.540</td>\n",
       "      <td>-1.713</td>\n",
       "      <td>-8.633</td>\n",
       "      <td>0.809</td>\n",
       "      <td>1.914</td>\n",
       "      <td>2.789</td>\n",
       "      <td>18118.117945</td>\n",
       "      <td>...</td>\n",
       "      <td>3.802753e+07</td>\n",
       "      <td>5.912986e+06</td>\n",
       "      <td>-47.808573</td>\n",
       "      <td>-28.603154</td>\n",
       "      <td>2.049796</td>\n",
       "      <td>55.749455</td>\n",
       "      <td>4.915513e+07</td>\n",
       "      <td>0.670984</td>\n",
       "      <td>2</td>\n",
       "      <td>3</td>\n",
       "    </tr>\n",
       "    <tr>\n",
       "      <th>2011-03-24 19:46:24</th>\n",
       "      <td>6898.530</td>\n",
       "      <td>5404.304</td>\n",
       "      <td>-15373.797</td>\n",
       "      <td>29.849</td>\n",
       "      <td>-0.977</td>\n",
       "      <td>-10.833</td>\n",
       "      <td>1.065</td>\n",
       "      <td>4.469</td>\n",
       "      <td>3.514</td>\n",
       "      <td>18118.110927</td>\n",
       "      <td>...</td>\n",
       "      <td>3.802753e+07</td>\n",
       "      <td>5.912986e+06</td>\n",
       "      <td>-47.808573</td>\n",
       "      <td>-28.603154</td>\n",
       "      <td>2.049746</td>\n",
       "      <td>55.749453</td>\n",
       "      <td>4.915513e+07</td>\n",
       "      <td>0.670984</td>\n",
       "      <td>0</td>\n",
       "      <td>3</td>\n",
       "    </tr>\n",
       "    <tr>\n",
       "      <th>2011-03-24 19:46:25</th>\n",
       "      <td>6898.825</td>\n",
       "      <td>5404.705</td>\n",
       "      <td>-15373.523</td>\n",
       "      <td>29.333</td>\n",
       "      <td>-2.752</td>\n",
       "      <td>-12.014</td>\n",
       "      <td>1.250</td>\n",
       "      <td>5.516</td>\n",
       "      <td>5.414</td>\n",
       "      <td>18118.103052</td>\n",
       "      <td>...</td>\n",
       "      <td>3.802753e+07</td>\n",
       "      <td>5.912986e+06</td>\n",
       "      <td>-47.808573</td>\n",
       "      <td>-28.603154</td>\n",
       "      <td>2.049724</td>\n",
       "      <td>55.749452</td>\n",
       "      <td>4.915513e+07</td>\n",
       "      <td>0.670984</td>\n",
       "      <td>0</td>\n",
       "      <td>3</td>\n",
       "    </tr>\n",
       "  </tbody>\n",
       "</table>\n",
       "<p>5 rows × 29 columns</p>\n",
       "</div>"
      ],
      "text/plain": [
       "                        X_MSO     Y_MSO      Z_MSO  BX_MSO  BY_MSO  BZ_MSO  \\\n",
       "DATE                                                                         \n",
       "2011-03-24 19:46:22  6897.941  5403.502 -15374.343  29.343  -2.064  -9.552   \n",
       "2011-03-24 19:46:23  6898.235  5403.903 -15374.070  29.540  -1.713  -8.633   \n",
       "2011-03-24 19:46:23  6898.235  5403.903 -15374.070  29.540  -1.713  -8.633   \n",
       "2011-03-24 19:46:24  6898.530  5404.304 -15373.797  29.849  -0.977 -10.833   \n",
       "2011-03-24 19:46:25  6898.825  5404.705 -15373.523  29.333  -2.752 -12.014   \n",
       "\n",
       "                     DBX_MSO  DBY_MSO  DBZ_MSO    RHO_DIPOLE  ...  \\\n",
       "DATE                                                          ...   \n",
       "2011-03-24 19:46:22    0.299    1.637    1.395  18118.125361  ...   \n",
       "2011-03-24 19:46:23    0.809    1.914    2.789  18118.117945  ...   \n",
       "2011-03-24 19:46:23    0.809    1.914    2.789  18118.117945  ...   \n",
       "2011-03-24 19:46:24    1.065    4.469    3.514  18118.110927  ...   \n",
       "2011-03-24 19:46:25    1.250    5.516    5.414  18118.103052  ...   \n",
       "\n",
       "                                Y             Z         VX         VY  \\\n",
       "DATE                                                                    \n",
       "2011-03-24 19:46:22  3.802753e+07  5.912986e+06 -47.808573 -28.603154   \n",
       "2011-03-24 19:46:23  3.802753e+07  5.912986e+06 -47.808573 -28.603154   \n",
       "2011-03-24 19:46:23  3.802753e+07  5.912986e+06 -47.808573 -28.603154   \n",
       "2011-03-24 19:46:24  3.802753e+07  5.912986e+06 -47.808573 -28.603154   \n",
       "2011-03-24 19:46:25  3.802753e+07  5.912986e+06 -47.808573 -28.603154   \n",
       "\n",
       "                           VZ       VABS             D  COSALPHA  EXTREMA  \\\n",
       "DATE                                                                        \n",
       "2011-03-24 19:46:22  2.049779  55.749454  4.915513e+07  0.670984        0   \n",
       "2011-03-24 19:46:23  2.049796  55.749455  4.915513e+07  0.670984        2   \n",
       "2011-03-24 19:46:23  2.049796  55.749455  4.915513e+07  0.670984        2   \n",
       "2011-03-24 19:46:24  2.049746  55.749453  4.915513e+07  0.670984        0   \n",
       "2011-03-24 19:46:25  2.049724  55.749452  4.915513e+07  0.670984        0   \n",
       "\n",
       "                     ORBIT  \n",
       "DATE                        \n",
       "2011-03-24 19:46:22      2  \n",
       "2011-03-24 19:46:23      2  \n",
       "2011-03-24 19:46:23      3  \n",
       "2011-03-24 19:46:24      3  \n",
       "2011-03-24 19:46:25      3  \n",
       "\n",
       "[5 rows x 29 columns]"
      ]
     },
     "execution_count": 6,
     "metadata": {},
     "output_type": "execute_result"
    }
   ],
   "source": [
    "df_train = pd.concat(map(prepare_orbit, tqdm(df_labels.index)))\n",
    "df_train.iloc[43462:43467]"
   ]
  },
  {
   "cell_type": "markdown",
   "metadata": {},
   "source": [
    "Remove extreme outliers"
   ]
  },
  {
   "cell_type": "code",
   "execution_count": 24,
   "metadata": {},
   "outputs": [
    {
     "name": "stdout",
     "output_type": "stream",
     "text": [
      "Int64Index([386, 1375, 1615, 1729, 1899, 1946, 3713, 3714, 3718, 4068], dtype='int64', name='ORBIT')\n"
     ]
    }
   ],
   "source": [
    "outlier_orbits = df_stats.index[df_stats[\"flux_norm_maximum\"] > df_stats[\"flux_norm_maximum\"].mean() + 3 * df_stats[\"flux_norm_maximum\"].std()]\n",
    "print(outlier_orbits)"
   ]
  },
  {
   "cell_type": "code",
   "execution_count": 25,
   "metadata": {},
   "outputs": [],
   "source": [
    "df_train = df_train[~df_train[ORBIT_COL].isin(outlier_orbits)]"
   ]
  },
  {
   "cell_type": "markdown",
   "metadata": {},
   "source": [
    "Save orbit validity statistics"
   ]
  },
  {
   "cell_type": "code",
   "execution_count": 27,
   "metadata": {
    "pycharm": {
     "name": "#%%\n"
    }
   },
   "outputs": [],
   "source": [
    "df_stats.to_excel(os.path.join(MERGED_DIR, \"orbit_statistics.xlsx\"))"
   ]
  },
  {
   "cell_type": "markdown",
   "metadata": {
    "pycharm": {
     "is_executing": true,
     "name": "#%% md\n"
    }
   },
   "source": [
    "Assign labels to the instances of the training data"
   ]
  },
  {
   "cell_type": "code",
   "execution_count": null,
   "metadata": {
    "pycharm": {
     "name": "#%%\n"
    }
   },
   "outputs": [
    {
     "name": "stderr",
     "output_type": "stream",
     "text": [
      "<ipython-input-3-ffb9f95a2e31>:5: SettingWithCopyWarning: \n",
      "A value is trying to be set on a copy of a slice from a DataFrame.\n",
      "Try using .loc[row_indexer,col_indexer] = value instead\n",
      "\n",
      "See the caveats in the documentation: https://pandas.pydata.org/pandas-docs/stable/user_guide/indexing.html#returning-a-view-versus-a-copy\n",
      "  df_train[LABEL_COL] = 0\n",
      "  0%|          | 0/4019 [00:00<?, ?it/s]/opt/conda/lib/python3.8/site-packages/pandas/core/indexing.py:1720: SettingWithCopyWarning: \n",
      "A value is trying to be set on a copy of a slice from a DataFrame.\n",
      "Try using .loc[row_indexer,col_indexer] = value instead\n",
      "\n",
      "See the caveats in the documentation: https://pandas.pydata.org/pandas-docs/stable/user_guide/indexing.html#returning-a-view-versus-a-copy\n",
      "  self._setitem_single_column(loc, value, pi)\n",
      " 60%|█████▉    | 2400/4019 [2:28:22<1:37:45,  3.62s/it]"
     ]
    }
   ],
   "source": [
    "assign_labels(df_train, df_labels)\n",
    "df_train.iloc[16605:16610]"
   ]
  },
  {
   "cell_type": "markdown",
   "metadata": {
    "pycharm": {
     "name": "#%% md\n"
    }
   },
   "source": [
    "Save the final training dataframe"
   ]
  },
  {
   "cell_type": "code",
   "execution_count": null,
   "metadata": {
    "pycharm": {
     "name": "#%%\n"
    }
   },
   "outputs": [],
   "source": [
    "df_train.to_csv(os.path.join(MERGED_DIR, TRAIN_FILE))"
   ]
  },
  {
   "cell_type": "markdown",
   "metadata": {
    "pycharm": {
     "name": "#%% md\n"
    }
   },
   "source": [
    "Generate descriptive overall statistics"
   ]
  },
  {
   "cell_type": "code",
   "execution_count": null,
   "metadata": {
    "pycharm": {
     "name": "#%%\n"
    }
   },
   "outputs": [],
   "source": [
    "df_train_description = df_train.describe()\n",
    "df_train_description.to_excel(os.path.join(MERGED_DIR, \"df_train_total_description.xlsx\"))\n",
    "df_train_description"
   ]
  },
  {
   "cell_type": "markdown",
   "metadata": {
    "pycharm": {
     "name": "#%% md\n"
    }
   },
   "source": [
    "Generate descriptive label-wise statistics"
   ]
  },
  {
   "cell_type": "code",
   "execution_count": null,
   "metadata": {
    "pycharm": {
     "name": "#%%\n"
    }
   },
   "outputs": [],
   "source": [
    "df_train_description = df_train.groupby([LABEL_COL]).describe()\n",
    "df_train_description.to_excel(os.path.join(MERGED_DIR, \"df_train_label_description.xlsx\"))\n",
    "df_train_description"
   ]
  }
 ],
 "metadata": {
  "kernelspec": {
   "display_name": "Python 3",
   "language": "python",
   "name": "python3"
  },
  "language_info": {
   "codemirror_mode": {
    "name": "ipython",
    "version": 3
   },
   "file_extension": ".py",
   "mimetype": "text/x-python",
   "name": "python",
   "nbconvert_exporter": "python",
   "pygments_lexer": "ipython3",
   "version": "3.8.8"
  }
 },
 "nbformat": 4,
 "nbformat_minor": 1
}