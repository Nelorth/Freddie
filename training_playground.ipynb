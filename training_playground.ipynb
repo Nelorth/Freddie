{
 "cells": [
  {
   "cell_type": "markdown",
   "metadata": {
    "pycharm": {
     "name": "#%% md\n"
    }
   },
   "source": [
    "# Training Playground"
   ]
  },
  {
   "cell_type": "code",
   "execution_count": 1,
   "metadata": {},
   "outputs": [],
   "source": [
    "import torch\n",
    "import torch.nn as nn\n",
    "\n",
    "from constants import *\n",
    "from os.path import join\n",
    "from torch.utils.data import DataLoader\n",
    "from messenger_dataset import MessengerDataset\n",
    "from tqdm import tqdm"
   ]
  },
  {
   "cell_type": "code",
   "execution_count": 14,
   "metadata": {
    "pycharm": {
     "name": "#%%\n"
    }
   },
   "outputs": [],
   "source": [
    "LEARNING_RATE = 1e-3\n",
    "BATCH_SIZE = 4096\n",
    "EPOCHS = 5"
   ]
  },
  {
   "cell_type": "code",
   "execution_count": 3,
   "metadata": {},
   "outputs": [
    {
     "data": {
      "text/plain": [
       "2"
      ]
     },
     "execution_count": 3,
     "metadata": {},
     "output_type": "execute_result"
    }
   ],
   "source": [
    "torch.cuda.device_count()"
   ]
  },
  {
   "cell_type": "code",
   "execution_count": 4,
   "metadata": {
    "pycharm": {
     "name": "#%%\n"
    }
   },
   "outputs": [
    {
     "name": "stdout",
     "output_type": "stream",
     "text": [
      "Device: cuda:1\n"
     ]
    }
   ],
   "source": [
    "device = \"cuda:1\" if torch.cuda.is_available() else \"cpu\"\n",
    "# device = \"cpu\"\n",
    "print(f\"Device: {device}\")"
   ]
  },
  {
   "cell_type": "code",
   "execution_count": 5,
   "metadata": {
    "pycharm": {
     "name": "#%%\n"
    }
   },
   "outputs": [
    {
     "name": "stderr",
     "output_type": "stream",
     "text": [
      "\r",
      "  0%|          | 0/6 [00:00<?, ?it/s]"
     ]
    },
    {
     "name": "stdout",
     "output_type": "stream",
     "text": [
      ">>> Data loaded.\n"
     ]
    },
    {
     "name": "stderr",
     "output_type": "stream",
     "text": [
      "100%|██████████| 6/6 [00:53<00:00,  8.85s/it]\n"
     ]
    },
    {
     "name": "stdout",
     "output_type": "stream",
     "text": [
      ">>> Normalization complete.\n"
     ]
    }
   ],
   "source": [
    "ds = MessengerDataset(join(MERGED_DIR, TRAIN_FILE), window_size=7)\n",
    "dl = DataLoader(ds, batch_size=BATCH_SIZE)"
   ]
  },
  {
   "cell_type": "code",
   "execution_count": 6,
   "metadata": {},
   "outputs": [
    {
     "name": "stdout",
     "output_type": "stream",
     "text": [
      "(tensor([[[-0.5304,  0.9792,  0.1287],\n",
      "         [-1.0022, -0.6590,  0.0381],\n",
      "         [ 0.9120,  0.7436, -1.0008],\n",
      "         [ 0.3739, -0.0550, -0.0728],\n",
      "         [-0.1141,  0.2617,  0.2578],\n",
      "         [ 0.0132,  0.0026,  0.1002]],\n",
      "\n",
      "        [[-0.5304,  0.9792,  0.1287],\n",
      "         [-1.0022, -0.6590,  0.0381],\n",
      "         [ 0.9120,  0.7437, -1.0007],\n",
      "         [ 0.3758, -0.0517, -0.0567],\n",
      "         [ 0.0757,  0.0641,  0.4429],\n",
      "         [ 0.0132,  0.0026,  0.1002]],\n",
      "\n",
      "        [[-0.5304,  0.9792,  0.1287],\n",
      "         [-1.0022, -0.6590,  0.0381],\n",
      "         [ 0.9120,  0.7437, -1.0007],\n",
      "         [ 0.3708, -0.0122, -0.0698],\n",
      "         [-0.0347,  0.4038,  0.4409],\n",
      "         [ 0.0132,  0.0026,  0.1002]],\n",
      "\n",
      "        [[-0.5304,  0.9792,  0.1287],\n",
      "         [-1.0022, -0.6590,  0.0381],\n",
      "         [ 0.9121,  0.7438, -1.0007],\n",
      "         [ 0.3862, -0.0220, -0.0767],\n",
      "         [-0.2242, -0.0250, -0.0880],\n",
      "         [ 0.0132,  0.0026,  0.1002]],\n",
      "\n",
      "        [[-0.5304,  0.9792,  0.1287],\n",
      "         [-1.0022, -0.6590,  0.0381],\n",
      "         [ 0.9121,  0.7438, -1.0006],\n",
      "         [ 0.3788, -0.0310, -0.0820],\n",
      "         [-0.1835, -0.1471, -0.2248],\n",
      "         [ 0.0132,  0.0026,  0.1002]],\n",
      "\n",
      "        [[-0.5304,  0.9792,  0.1287],\n",
      "         [-1.0022, -0.6590,  0.0381],\n",
      "         [ 0.9122,  0.7439, -1.0006],\n",
      "         [ 0.3609, -0.0229, -0.0638],\n",
      "         [-0.2245,  0.0685, -0.0019],\n",
      "         [ 0.0132,  0.0026,  0.1002]],\n",
      "\n",
      "        [[-0.5304,  0.9792,  0.1287],\n",
      "         [-1.0022, -0.6590,  0.0381],\n",
      "         [ 0.9122,  0.7439, -1.0005],\n",
      "         [ 0.3633, -0.0186, -0.0524],\n",
      "         [-0.0751,  0.1496,  0.4063],\n",
      "         [ 0.0132,  0.0026,  0.1002]]], dtype=torch.float64), tensor([0, 0, 0, 0, 0, 0, 0]))\n"
     ]
    }
   ],
   "source": [
    "print(ds[43457])"
   ]
  },
  {
   "cell_type": "code",
   "execution_count": 7,
   "metadata": {
    "pycharm": {
     "name": "#%%\n"
    }
   },
   "outputs": [
    {
     "name": "stdout",
     "output_type": "stream",
     "text": [
      "Net(\n",
      "  (flatten): Flatten(start_dim=-2, end_dim=-1)\n",
      "  (linear1): Linear(in_features=18, out_features=9, bias=True)\n",
      "  (relu): ReLU()\n",
      "  (linear2): Linear(in_features=9, out_features=5, bias=True)\n",
      ")\n"
     ]
    }
   ],
   "source": [
    "class Net(nn.Module):\n",
    "    def __init__(self):\n",
    "        super().__init__()\n",
    "        self.flatten = nn.Flatten(-2, -1)\n",
    "        self.linear1 = nn.Linear(3 * len(COLS_3D), 9)\n",
    "        self.relu = nn.ReLU()\n",
    "        self.linear2 = nn.Linear(9, 5)\n",
    "\n",
    "    def forward(self, x):\n",
    "        x = self.flatten(x)\n",
    "        x = self.linear1(x)\n",
    "        x = self.relu(x)\n",
    "        x = self.linear2(x)\n",
    "        return x\n",
    "\n",
    "\n",
    "net = Net()\n",
    "net.to(device)\n",
    "net.double()  # TODO maybe rather convert input to float\n",
    "print(net)"
   ]
  },
  {
   "cell_type": "code",
   "execution_count": 8,
   "metadata": {},
   "outputs": [
    {
     "name": "stdout",
     "output_type": "stream",
     "text": [
      "True\n"
     ]
    }
   ],
   "source": [
    "print(next(net.parameters()).is_cuda)"
   ]
  },
  {
   "cell_type": "code",
   "execution_count": 9,
   "metadata": {
    "pycharm": {
     "name": "#%%\n"
    }
   },
   "outputs": [
    {
     "name": "stdout",
     "output_type": "stream",
     "text": [
      "tensor([[[-0.5076,  0.9924,  0.1277],\n",
      "         [-1.0211, -0.6348,  0.0418],\n",
      "         [ 0.7661,  0.9682,  0.7297],\n",
      "         [-0.5027,  0.3149,  0.2412],\n",
      "         [ 0.9384, -0.0698,  1.1794],\n",
      "         [ 0.0297,  0.0254,  0.1379]],\n",
      "\n",
      "        [[-0.5076,  0.9924,  0.1277],\n",
      "         [-1.0211, -0.6348,  0.0418],\n",
      "         [ 0.7660,  0.9681,  0.7298],\n",
      "         [-0.5610,  0.2096,  0.1142],\n",
      "         [ 0.9294,  1.4560,  0.5762],\n",
      "         [ 0.0297,  0.0254,  0.1379]],\n",
      "\n",
      "        [[-0.5076,  0.9924,  0.1277],\n",
      "         [-1.0211, -0.6348,  0.0418],\n",
      "         [ 0.7659,  0.9681,  0.7300],\n",
      "         [-0.4673,  0.1037,  0.1492],\n",
      "         [ 0.3662,  0.6644,  0.5978],\n",
      "         [ 0.0297,  0.0254,  0.1380]],\n",
      "\n",
      "        [[-0.5076,  0.9924,  0.1277],\n",
      "         [-1.0211, -0.6348,  0.0418],\n",
      "         [ 0.7658,  0.9680,  0.7302],\n",
      "         [-0.4267,  0.0605,  0.2339],\n",
      "         [ 0.2587, -0.1269,  0.0420],\n",
      "         [ 0.0297,  0.0254,  0.1380]],\n",
      "\n",
      "        [[-0.5076,  0.9924,  0.1277],\n",
      "         [-1.0211, -0.6348,  0.0418],\n",
      "         [ 0.7657,  0.9679,  0.7304],\n",
      "         [-0.4674, -0.0029,  0.3416],\n",
      "         [ 0.2142,  0.5060,  0.9387],\n",
      "         [ 0.0297,  0.0254,  0.1380]],\n",
      "\n",
      "        [[-0.5076,  0.9924,  0.1277],\n",
      "         [-1.0211, -0.6348,  0.0418],\n",
      "         [ 0.7656,  0.9678,  0.7306],\n",
      "         [-0.3903,  0.0373,  0.5010],\n",
      "         [ 0.8058,  1.6627,  0.2198],\n",
      "         [ 0.0297,  0.0254,  0.1380]],\n",
      "\n",
      "        [[-0.5076,  0.9924,  0.1277],\n",
      "         [-1.0211, -0.6348,  0.0418],\n",
      "         [ 0.7655,  0.9678,  0.7307],\n",
      "         [-0.3930,  0.2734,  0.4971],\n",
      "         [ 0.3073,  0.9570,  0.7097],\n",
      "         [ 0.0297,  0.0254,  0.1380]]], dtype=torch.float64)\n",
      "tensor([0, 0, 0, 1, 1, 1, 1])\n"
     ]
    }
   ],
   "source": [
    "sample, label = ds[16604]\n",
    "\n",
    "print(sample)\n",
    "print(label)"
   ]
  },
  {
   "cell_type": "code",
   "execution_count": 10,
   "metadata": {
    "pycharm": {
     "name": "#%%\n"
    }
   },
   "outputs": [
    {
     "name": "stdout",
     "output_type": "stream",
     "text": [
      "tensor([[ 0.6064, -0.3969,  0.0175,  0.0672, -0.1668],\n",
      "        [ 0.6293, -0.4663, -0.0184,  0.0745, -0.0751],\n",
      "        [ 0.5899, -0.3653,  0.0762,  0.1257, -0.1497],\n",
      "        [ 0.5208, -0.2739,  0.2015,  0.1516, -0.2326],\n",
      "        [ 0.6151, -0.3746,  0.0707,  0.1307, -0.1426],\n",
      "        [ 0.6298, -0.4497,  0.0253,  0.1143, -0.0351],\n",
      "        [ 0.6633, -0.4082,  0.0469,  0.1397, -0.1129]], device='cuda:1',\n",
      "       dtype=torch.float64, grad_fn=<AddmmBackward>)\n",
      "torch.Size([7, 5])\n"
     ]
    }
   ],
   "source": [
    "sample = sample.to(device)\n",
    "out = net(sample)\n",
    "print(out)\n",
    "print(out.shape)"
   ]
  },
  {
   "cell_type": "code",
   "execution_count": 11,
   "metadata": {
    "pycharm": {
     "name": "#%%\n"
    }
   },
   "outputs": [],
   "source": [
    "criterion = nn.CrossEntropyLoss()\n",
    "optimizer = torch.optim.Adam(net.parameters(), lr=LEARNING_RATE)"
   ]
  },
  {
   "cell_type": "code",
   "execution_count": 12,
   "metadata": {},
   "outputs": [
    {
     "data": {
      "text/plain": [
       "221"
      ]
     },
     "execution_count": 12,
     "metadata": {},
     "output_type": "execute_result"
    }
   ],
   "source": [
    "sum(p.numel() for p in net.parameters())"
   ]
  },
  {
   "cell_type": "code",
   "execution_count": null,
   "metadata": {
    "pycharm": {
     "name": "#%%\n"
    }
   },
   "outputs": [
    {
     "name": "stderr",
     "output_type": "stream",
     "text": [
      "\r",
      "  0%|          | 0/1595611 [00:00<?, ?it/s]"
     ]
    },
    {
     "name": "stdout",
     "output_type": "stream",
     "text": [
      "Epoch 1/5\n",
      "-------------------------------\n"
     ]
    },
    {
     "name": "stderr",
     "output_type": "stream",
     "text": [
      "  0%|          | 5977/1595611 [31:20<137:50:16,  3.20it/s]"
     ]
    }
   ],
   "source": [
    "for epoch in range(EPOCHS):\n",
    "    print(f\"Epoch {epoch + 1}/{EPOCHS}\\n-------------------------------\")\n",
    "    size = len(dl)\n",
    "    for batch, (X, y) in enumerate(tqdm(dl)):\n",
    "        X = X.to(device)\n",
    "        y = y.to(device)\n",
    "        pred = net(X)\n",
    "        pred = pred.permute(0, 2, 1)\n",
    "        loss = criterion(pred, y)\n",
    "\n",
    "        optimizer.zero_grad()\n",
    "        loss.backward()\n",
    "        optimizer.step()\n",
    "\n",
    "        if batch % 10 == 0:\n",
    "            loss, current = loss.item(), batch\n",
    "            # print(f\"loss: {loss:>7f}  [{current:>10d}/{size:>5d}]\")\n",
    "\n",
    "print(\"DONE.\")"
   ]
  },
  {
   "cell_type": "code",
   "execution_count": null,
   "metadata": {},
   "outputs": [],
   "source": [
    "torch.save(net, \"model.pth\")"
   ]
  },
  {
   "cell_type": "code",
   "execution_count": null,
   "metadata": {
    "pycharm": {
     "name": "#%%\n"
    }
   },
   "outputs": [],
   "source": [
    "pred = torch.tensor([[0., 1], [1, 0]])\n",
    "target = torch.tensor([1, 0])\n",
    "print(pred)\n",
    "print(target)\n",
    "criterion(pred, target)"
   ]
  }
 ],
 "metadata": {
  "kernelspec": {
   "display_name": "Python 3",
   "language": "python",
   "name": "python3"
  },
  "language_info": {
   "codemirror_mode": {
    "name": "ipython",
    "version": 3
   },
   "file_extension": ".py",
   "mimetype": "text/x-python",
   "name": "python",
   "nbconvert_exporter": "python",
   "pygments_lexer": "ipython3",
   "version": "3.8.8"
  }
 },
 "nbformat": 4,
 "nbformat_minor": 1
}
