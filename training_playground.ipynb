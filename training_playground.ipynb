{
 "cells": [
  {
   "cell_type": "markdown",
   "metadata": {
    "pycharm": {
     "name": "#%% md\n"
    }
   },
   "source": [
    "# Training Playground"
   ]
  },
  {
   "cell_type": "code",
   "execution_count": 1,
   "metadata": {
    "execution": {
     "iopub.execute_input": "2021-09-23T09:18:09.441361Z",
     "iopub.status.busy": "2021-09-23T09:18:09.440685Z",
     "iopub.status.idle": "2021-09-23T09:18:10.431966Z",
     "shell.execute_reply": "2021-09-23T09:18:10.432551Z"
    }
   },
   "outputs": [],
   "source": [
    "import torch\n",
    "import torch.nn as nn\n",
    "import utils\n",
    "\n",
    "from constants import *\n",
    "from os.path import join\n",
    "from torch.utils.data import DataLoader\n",
    "from torchmetrics import Accuracy\n",
    "from messenger_dataset import ClassificationDataset, PredictionDataset\n",
    "from models import BaseNet"
   ]
  },
  {
   "cell_type": "markdown",
   "metadata": {},
   "source": [
    "Hyperparameters"
   ]
  },
  {
   "cell_type": "code",
   "execution_count": 2,
   "metadata": {
    "execution": {
     "iopub.execute_input": "2021-09-23T09:18:10.437192Z",
     "iopub.status.busy": "2021-09-23T09:18:10.436370Z",
     "iopub.status.idle": "2021-09-23T09:18:10.438800Z",
     "shell.execute_reply": "2021-09-23T09:18:10.438077Z"
    },
    "pycharm": {
     "name": "#%%\n"
    }
   },
   "outputs": [],
   "source": [
    "EPOCHS = 5\n",
    "BATCH_SIZE = 4096\n",
    "LEARNING_RATE = 1e-3\n",
    "NUM_WORKERS = 32  # 4 per GPU seems to be a rule of thumb\n",
    "\n",
    "WINDOW_SIZE = 10"
   ]
  },
  {
   "cell_type": "markdown",
   "metadata": {},
   "source": [
    "Setup device"
   ]
  },
  {
   "cell_type": "code",
   "execution_count": 3,
   "metadata": {
    "execution": {
     "iopub.execute_input": "2021-09-23T09:18:10.547168Z",
     "iopub.status.busy": "2021-09-23T09:18:10.546187Z",
     "iopub.status.idle": "2021-09-23T09:18:10.549121Z",
     "shell.execute_reply": "2021-09-23T09:18:10.549585Z"
    },
    "pycharm": {
     "name": "#%%\n"
    }
   },
   "outputs": [
    {
     "name": "stdout",
     "output_type": "stream",
     "text": [
      "Device: cuda\n",
      "#GPUs: 8\n"
     ]
    }
   ],
   "source": [
    "device = torch.device(\"cuda\" if torch.cuda.is_available() else \"cpu\")\n",
    "parallelized = device != \"cpu\" and torch.cuda.device_count() > 1\n",
    "print(f\"Device: {device}\", f\"#GPUs: {torch.cuda.device_count()}\", sep=\"\\n\")"
   ]
  },
  {
   "cell_type": "markdown",
   "metadata": {},
   "source": [
    "Ensure reproducability"
   ]
  },
  {
   "cell_type": "code",
   "execution_count": 4,
   "metadata": {
    "execution": {
     "iopub.execute_input": "2021-09-23T09:18:10.554111Z",
     "iopub.status.busy": "2021-09-23T09:18:10.553542Z",
     "iopub.status.idle": "2021-09-23T09:18:10.557306Z",
     "shell.execute_reply": "2021-09-23T09:18:10.556823Z"
    }
   },
   "outputs": [],
   "source": [
    "utils.apply_global_seed(42)"
   ]
  },
  {
   "cell_type": "markdown",
   "metadata": {},
   "source": [
    "Load training data"
   ]
  },
  {
   "cell_type": "code",
   "execution_count": 5,
   "metadata": {
    "execution": {
     "iopub.execute_input": "2021-09-23T09:18:10.564422Z",
     "iopub.status.busy": "2021-09-23T09:18:10.561320Z",
     "iopub.status.idle": "2021-09-23T09:22:51.377138Z",
     "shell.execute_reply": "2021-09-23T09:22:51.376406Z"
    },
    "pycharm": {
     "name": "#%%\n"
    }
   },
   "outputs": [],
   "source": [
    "ds = ClassificationDataset(join(MERGED_DIR, TRAIN_FILE), window_size=WINDOW_SIZE, partial=True)\n",
    "train_ds, test_ds = ds.split(0.2)"
   ]
  },
  {
   "cell_type": "code",
   "execution_count": 6,
   "metadata": {
    "execution": {
     "iopub.execute_input": "2021-09-23T09:22:51.381547Z",
     "iopub.status.busy": "2021-09-23T09:22:51.380725Z",
     "iopub.status.idle": "2021-09-23T09:22:51.383528Z",
     "shell.execute_reply": "2021-09-23T09:22:51.384208Z"
    }
   },
   "outputs": [
    {
     "name": "stdout",
     "output_type": "stream",
     "text": [
      "173824\n",
      "825663\n"
     ]
    }
   ],
   "source": [
    "print(len(train_ds))\n",
    "print(len(test_ds))"
   ]
  },
  {
   "cell_type": "code",
   "execution_count": 7,
   "metadata": {
    "execution": {
     "iopub.execute_input": "2021-09-23T09:22:51.388570Z",
     "iopub.status.busy": "2021-09-23T09:22:51.387887Z",
     "iopub.status.idle": "2021-09-23T09:22:51.389882Z",
     "shell.execute_reply": "2021-09-23T09:22:51.389394Z"
    }
   },
   "outputs": [],
   "source": [
    "train_dl = DataLoader(train_ds, batch_size=BATCH_SIZE, num_workers=NUM_WORKERS, pin_memory=True)\n",
    "test_dl = DataLoader(test_ds, batch_size=BATCH_SIZE, num_workers=NUM_WORKERS, pin_memory=True)"
   ]
  },
  {
   "cell_type": "markdown",
   "metadata": {},
   "source": [
    "Prepare model"
   ]
  },
  {
   "cell_type": "code",
   "execution_count": 8,
   "metadata": {
    "execution": {
     "iopub.execute_input": "2021-09-23T09:22:52.624211Z",
     "iopub.status.busy": "2021-09-23T09:22:52.623635Z",
     "iopub.status.idle": "2021-09-23T09:22:55.424276Z",
     "shell.execute_reply": "2021-09-23T09:22:55.423391Z"
    }
   },
   "outputs": [
    {
     "name": "stdout",
     "output_type": "stream",
     "text": [
      "DataParallel(\n",
      "  (module): BaseNet(\n",
      "    (flatten): Flatten(start_dim=-2, end_dim=-1)\n",
      "    (linear1): Linear(in_features=6, out_features=16, bias=True)\n",
      "    (relu): ReLU()\n",
      "    (linear2): Linear(in_features=16, out_features=5, bias=True)\n",
      "  )\n",
      ")\n"
     ]
    }
   ],
   "source": [
    "model = BaseNet(num_bands=2)\n",
    "if parallelized:\n",
    "    model = nn.DataParallel(model)\n",
    "model.to(device)\n",
    "print(model)"
   ]
  },
  {
   "cell_type": "markdown",
   "metadata": {},
   "source": [
    "Count model parameters"
   ]
  },
  {
   "cell_type": "code",
   "execution_count": 9,
   "metadata": {
    "execution": {
     "iopub.execute_input": "2021-09-23T09:23:16.467320Z",
     "iopub.status.busy": "2021-09-23T09:23:16.466500Z",
     "iopub.status.idle": "2021-09-23T09:23:16.469116Z",
     "shell.execute_reply": "2021-09-23T09:23:16.469551Z"
    }
   },
   "outputs": [
    {
     "data": {
      "text/plain": [
       "197"
      ]
     },
     "execution_count": 9,
     "metadata": {},
     "output_type": "execute_result"
    }
   ],
   "source": [
    "utils.count_trainable_parameters(model)"
   ]
  },
  {
   "cell_type": "markdown",
   "metadata": {},
   "source": [
    "Verify the model resides on GPU"
   ]
  },
  {
   "cell_type": "code",
   "execution_count": 10,
   "metadata": {
    "execution": {
     "iopub.execute_input": "2021-09-23T09:22:55.428805Z",
     "iopub.status.busy": "2021-09-23T09:22:55.427980Z",
     "iopub.status.idle": "2021-09-23T09:22:55.430685Z",
     "shell.execute_reply": "2021-09-23T09:22:55.431356Z"
    },
    "scrolled": false
   },
   "outputs": [
    {
     "data": {
      "text/plain": [
       "True"
      ]
     },
     "execution_count": 10,
     "metadata": {},
     "output_type": "execute_result"
    }
   ],
   "source": [
    "utils.is_model_on_gpu(model)"
   ]
  },
  {
   "cell_type": "markdown",
   "metadata": {},
   "source": [
    "View a sample"
   ]
  },
  {
   "cell_type": "code",
   "execution_count": 11,
   "metadata": {
    "execution": {
     "iopub.execute_input": "2021-09-23T09:22:55.437840Z",
     "iopub.status.busy": "2021-09-23T09:22:55.437033Z",
     "iopub.status.idle": "2021-09-23T09:22:55.442829Z",
     "shell.execute_reply": "2021-09-23T09:22:55.442255Z"
    },
    "pycharm": {
     "name": "#%%\n"
    },
    "scrolled": false
   },
   "outputs": [
    {
     "name": "stdout",
     "output_type": "stream",
     "text": [
      "tensor([[[-0.8939,  0.5042,  0.2548],\n",
      "         [ 0.0791,  0.7735,  0.9118]],\n",
      "\n",
      "        [[-0.9656,  0.3747,  0.0987],\n",
      "         [ 0.0790,  0.7734,  0.9120]],\n",
      "\n",
      "        [[-0.8503,  0.2446,  0.1417],\n",
      "         [ 0.0789,  0.7733,  0.9122]],\n",
      "\n",
      "        [[-0.8005,  0.1914,  0.2459],\n",
      "         [ 0.0788,  0.7733,  0.9123]],\n",
      "\n",
      "        [[-0.8505,  0.1135,  0.3782],\n",
      "         [ 0.0788,  0.7732,  0.9125]],\n",
      "\n",
      "        [[-0.7557,  0.1629,  0.5743],\n",
      "         [ 0.0787,  0.7731,  0.9127]],\n",
      "\n",
      "        [[-0.7590,  0.4532,  0.5694],\n",
      "         [ 0.0786,  0.7730,  0.9128]],\n",
      "\n",
      "        [[-0.8666,  0.5920,  0.3623],\n",
      "         [ 0.0785,  0.7730,  0.9130]],\n",
      "\n",
      "        [[-0.9471,  0.5594,  0.2053],\n",
      "         [ 0.0784,  0.7729,  0.9132]],\n",
      "\n",
      "        [[-0.9124,  0.4999,  0.2535],\n",
      "         [ 0.0784,  0.7728,  0.9133]]])\n",
      "tensor([0, 0, 0, 1, 1, 1, 1, 1, 1, 1])\n"
     ]
    }
   ],
   "source": [
    "sample, label = ds[16604]\n",
    "\n",
    "print(sample)\n",
    "print(label)"
   ]
  },
  {
   "cell_type": "code",
   "execution_count": 12,
   "metadata": {
    "execution": {
     "iopub.execute_input": "2021-09-23T09:22:55.446429Z",
     "iopub.status.busy": "2021-09-23T09:22:55.445872Z",
     "iopub.status.idle": "2021-09-23T09:23:16.454159Z",
     "shell.execute_reply": "2021-09-23T09:23:16.454855Z"
    },
    "pycharm": {
     "name": "#%%\n"
    }
   },
   "outputs": [
    {
     "name": "stdout",
     "output_type": "stream",
     "text": [
      "tensor([[[-0.0026,  0.0324,  0.0293,  0.0196,  0.0189, -0.0191, -0.0354,\n",
      "          -0.0241,  0.0010,  0.0006],\n",
      "         [ 0.2105,  0.2236,  0.2518,  0.2659,  0.2673,  0.2684,  0.2389,\n",
      "           0.2026,  0.2001,  0.2092],\n",
      "         [ 0.1028,  0.1042,  0.1030,  0.1067,  0.1336,  0.1417,  0.1097,\n",
      "           0.1011,  0.1006,  0.1045],\n",
      "         [ 0.0757,  0.0679,  0.0654,  0.0688,  0.0673,  0.0743,  0.0897,\n",
      "           0.0832,  0.0770,  0.0754],\n",
      "         [ 0.1413,  0.1204,  0.1199,  0.1302,  0.1507,  0.1756,  0.1694,\n",
      "           0.1552,  0.1371,  0.1417]]], device='cuda:0')\n",
      "torch.Size([1, 5, 10])\n"
     ]
    }
   ],
   "source": [
    "sample = sample.to(device) \n",
    "with torch.no_grad():\n",
    "    out = model(torch.stack([sample]))\n",
    "print(out)\n",
    "print(out.shape)"
   ]
  },
  {
   "cell_type": "markdown",
   "metadata": {},
   "source": [
    "Define optimization evironment"
   ]
  },
  {
   "cell_type": "code",
   "execution_count": 13,
   "metadata": {
    "execution": {
     "iopub.execute_input": "2021-09-23T09:23:16.460470Z",
     "iopub.status.busy": "2021-09-23T09:23:16.459619Z",
     "iopub.status.idle": "2021-09-23T09:23:16.461356Z",
     "shell.execute_reply": "2021-09-23T09:23:16.462032Z"
    },
    "pycharm": {
     "name": "#%%\n"
    }
   },
   "outputs": [],
   "source": [
    "criterion = nn.CrossEntropyLoss()\n",
    "optimizer = torch.optim.Adam(model.parameters(), lr=LEARNING_RATE)\n",
    "accuracy = Accuracy(num_classes=5).to(device)"
   ]
  },
  {
   "cell_type": "markdown",
   "metadata": {},
   "source": [
    "Training loop"
   ]
  },
  {
   "cell_type": "code",
   "execution_count": 14,
   "metadata": {
    "execution": {
     "iopub.execute_input": "2021-09-23T09:23:16.475464Z",
     "iopub.status.busy": "2021-09-23T09:23:16.474934Z",
     "iopub.status.idle": "2021-09-24T05:27:21.109487Z",
     "shell.execute_reply": "2021-09-24T05:27:21.109900Z"
    },
    "scrolled": true
   },
   "outputs": [
    {
     "name": "stdout",
     "output_type": "stream",
     "text": [
      "Epoch 1/5\n",
      "-------------------------------\n",
      "loss: 1.5755622386932373, acc: 0.05391085147857666 [43/43]]\n",
      "Epoch 2/5\n",
      "-------------------------------\n",
      "loss: 1.4127806425094604, acc: 0.17089210450649261 [43/43]\n",
      "Epoch 3/5\n",
      "-------------------------------\n",
      "loss: 1.2549480199813843, acc: 0.26946088671684265 [43/43]\n",
      "Epoch 4/5\n",
      "-------------------------------\n",
      "loss: 1.095296025276184, acc: 0.36582016944885254 [43/43]]\n",
      "Epoch 5/5\n",
      "-------------------------------\n",
      "loss: 0.9346544742584229, acc: 0.44220855832099915 [43/43]\n",
      "DONE.\n"
     ]
    }
   ],
   "source": [
    "model.train()\n",
    "\n",
    "for epoch in range(EPOCHS):\n",
    "    print(f\"-----\\nEpoch {epoch + 1}/{EPOCHS}\\n-----\")\n",
    "    size = len(train_dl)\n",
    "\n",
    "    for batch, (X, y) in enumerate(train_dl):\n",
    "        X = X.to(device)\n",
    "        y = y.to(device)\n",
    "  \n",
    "        pred = model(X)\n",
    "        loss = criterion(pred, y)\n",
    "        accuracy(pred, y)\n",
    "\n",
    "        optimizer.zero_grad()\n",
    "        loss.backward()\n",
    "        optimizer.step()\n",
    "\n",
    "        if batch % 10 == 0:\n",
    "            loss = loss.item()\n",
    "            acc = accuracy.compute()\n",
    "            print(f\"loss: {loss}, acc: {acc} [{batch}/{size - 1}]\", end=\"\\r\")\n",
    "\n",
    "    loss = loss.item()\n",
    "    acc = accuracy.compute()\n",
    "    print(f\"loss: {loss}, acc: {acc} [{batch}/{size - 1}]\", end=\"\\n\")\n",
    "    \n",
    "print(\"DONE.\")"
   ]
  },
  {
   "cell_type": "markdown",
   "metadata": {},
   "source": [
    "Save the model"
   ]
  },
  {
   "cell_type": "code",
   "execution_count": 15,
   "metadata": {
    "execution": {
     "iopub.execute_input": "2021-09-24T05:27:21.114155Z",
     "iopub.status.busy": "2021-09-24T05:27:21.113720Z",
     "iopub.status.idle": "2021-09-24T05:27:21.119976Z",
     "shell.execute_reply": "2021-09-24T05:27:21.118913Z"
    }
   },
   "outputs": [],
   "source": [
    "container = model.module if parallelized else model\n",
    "torch.save(container.state_dict(), \"models/model.pth\")"
   ]
  },
  {
   "cell_type": "markdown",
   "metadata": {},
   "source": [
    "Evaluate the model"
   ]
  },
  {
   "cell_type": "code",
   "execution_count": 16,
   "metadata": {},
   "outputs": [
    {
     "name": "stdout",
     "output_type": "stream",
     "text": [
      "tensor(0.7765, device='cuda:0')\n"
     ]
    }
   ],
   "source": [
    "model.eval()\n",
    "acc = Accuracy(num_classes=5).to(device)\n",
    "\n",
    "with torch.no_grad():\n",
    "    for X, y in test_dl:\n",
    "        X = X.to(device)\n",
    "        y = y.to(device)\n",
    "        acc(model(X), y)\n",
    "\n",
    "    print(acc.compute())"
   ]
  }
 ],
 "metadata": {
  "kernelspec": {
   "display_name": "Python 3",
   "language": "python",
   "name": "python3"
  },
  "language_info": {
   "codemirror_mode": {
    "name": "ipython",
    "version": 3
   },
   "file_extension": ".py",
   "mimetype": "text/x-python",
   "name": "python",
   "nbconvert_exporter": "python",
   "pygments_lexer": "ipython3",
   "version": "3.8.8"
  }
 },
 "nbformat": 4,
 "nbformat_minor": 1
}