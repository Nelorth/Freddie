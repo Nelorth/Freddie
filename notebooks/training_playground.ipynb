{
 "cells": [
  {
   "cell_type": "markdown",
   "metadata": {
    "pycharm": {
     "name": "#%% md\n"
    }
   },
   "source": [
    "# Training Playground"
   ]
  },
  {
   "cell_type": "code",
   "execution_count": 1,
   "metadata": {
    "execution": {
     "iopub.execute_input": "2021-09-23T09:18:09.441361Z",
     "iopub.status.busy": "2021-09-23T09:18:09.440685Z",
     "iopub.status.idle": "2021-09-23T09:18:10.431966Z",
     "shell.execute_reply": "2021-09-23T09:18:10.432551Z"
    }
   },
   "outputs": [],
   "source": [
    "import torch\n",
    "import torch.nn as nn\n",
    "import utils\n",
    "import neptune.new as neptune\n",
    "\n",
    "from constants import *\n",
    "from torch.utils.data import DataLoader\n",
    "from torchmetrics import Accuracy\n",
    "from messenger_dataset import ClassificationDataset, PredictionDataset\n",
    "from models import BaseNet"
   ]
  },
  {
   "cell_type": "code",
   "execution_count": 2,
   "metadata": {
    "scrolled": true
   },
   "outputs": [
    {
     "name": "stdout",
     "output_type": "stream",
     "text": [
      "https://app.neptune.ai/nelorth/Freddie/e/FREDDIE-2\n",
      "Remember to stop your run once you’ve finished logging your metadata (https://docs.neptune.ai/api-reference/run#stop). It will be stopped automatically only when the notebook kernel/interactive console is terminated.\n"
     ]
    }
   ],
   "source": [
    "run = neptune.init(\n",
    "    project=\"nelorth/freddie\",\n",
    "    api_token=\"eyJhcGlfYWRkcmVzcyI6Imh0dHBzOi8vYXBwLm5lcHR1bmUuYWkiLCJhcGlfdXJsIjoiaHR0cHM6Ly9hcHAubmVwdHVuZS5haSIsImFwaV9rZXkiOiIwYWE3NzA2NS0yMTMwLTQ4YzMtYmYzYy0zYjEyNmVmNTBjMGMifQ==\",\n",
    ")"
   ]
  },
  {
   "cell_type": "markdown",
   "metadata": {},
   "source": [
    "Hyperparameters"
   ]
  },
  {
   "cell_type": "code",
   "execution_count": 3,
   "metadata": {
    "execution": {
     "iopub.execute_input": "2021-09-23T09:18:10.437192Z",
     "iopub.status.busy": "2021-09-23T09:18:10.436370Z",
     "iopub.status.idle": "2021-09-23T09:18:10.438800Z",
     "shell.execute_reply": "2021-09-23T09:18:10.438077Z"
    },
    "pycharm": {
     "name": "#%%\n"
    }
   },
   "outputs": [],
   "source": [
    "EPOCHS = 10\n",
    "BATCH_SIZE = 4096\n",
    "LEARNING_RATE = 1e-3\n",
    "NUM_WORKERS = 32  # 4 per GPU seems to be a rule of thumb\n",
    "DROPOUT = 0.2\n",
    "\n",
    "SEED = 42\n",
    "EVAL_SPLIT = 0.2\n",
    "WINDOW_SIZE = 10"
   ]
  },
  {
   "cell_type": "markdown",
   "metadata": {},
   "source": [
    "Setup device"
   ]
  },
  {
   "cell_type": "code",
   "execution_count": 4,
   "metadata": {
    "execution": {
     "iopub.execute_input": "2021-09-23T09:18:10.547168Z",
     "iopub.status.busy": "2021-09-23T09:18:10.546187Z",
     "iopub.status.idle": "2021-09-23T09:18:10.549121Z",
     "shell.execute_reply": "2021-09-23T09:18:10.549585Z"
    },
    "pycharm": {
     "name": "#%%\n"
    }
   },
   "outputs": [
    {
     "name": "stdout",
     "output_type": "stream",
     "text": [
      "Device: cuda\n",
      "#GPUs: 8\n"
     ]
    }
   ],
   "source": [
    "device = torch.device(\"cuda\" if torch.cuda.is_available() else \"cpu\")\n",
    "parallelized = device != \"cpu\" and torch.cuda.device_count() > 1\n",
    "print(f\"Device: {device}\", f\"#GPUs: {torch.cuda.device_count()}\", sep=\"\\n\")"
   ]
  },
  {
   "cell_type": "markdown",
   "metadata": {},
   "source": [
    "Ensure reproducability"
   ]
  },
  {
   "cell_type": "code",
   "execution_count": 5,
   "metadata": {
    "execution": {
     "iopub.execute_input": "2021-09-23T09:18:10.554111Z",
     "iopub.status.busy": "2021-09-23T09:18:10.553542Z",
     "iopub.status.idle": "2021-09-23T09:18:10.557306Z",
     "shell.execute_reply": "2021-09-23T09:18:10.556823Z"
    }
   },
   "outputs": [],
   "source": [
    "utils.apply_global_seed(SEED)"
   ]
  },
  {
   "cell_type": "markdown",
   "metadata": {},
   "source": [
    "Load training data"
   ]
  },
  {
   "cell_type": "code",
   "execution_count": 6,
   "metadata": {
    "execution": {
     "iopub.execute_input": "2021-09-23T09:18:10.564422Z",
     "iopub.status.busy": "2021-09-23T09:18:10.561320Z",
     "iopub.status.idle": "2021-09-23T09:22:51.377138Z",
     "shell.execute_reply": "2021-09-23T09:22:51.376406Z"
    },
    "pycharm": {
     "name": "#%%\n"
    }
   },
   "outputs": [],
   "source": [
    "ds = ClassificationDataset(utils.resolve_path(DATA_DIR, TRAIN_FILE), window_size=WINDOW_SIZE, partial=True)\n",
    "train_ds, test_ds = ds.split(EVAL_SPLIT)"
   ]
  },
  {
   "cell_type": "code",
   "execution_count": 7,
   "metadata": {
    "execution": {
     "iopub.execute_input": "2021-09-23T09:22:51.381547Z",
     "iopub.status.busy": "2021-09-23T09:22:51.380725Z",
     "iopub.status.idle": "2021-09-23T09:22:51.383528Z",
     "shell.execute_reply": "2021-09-23T09:22:51.384208Z"
    },
    "scrolled": true
   },
   "outputs": [
    {
     "name": "stdout",
     "output_type": "stream",
     "text": [
      "825663\n",
      "173824\n"
     ]
    }
   ],
   "source": [
    "print(len(train_ds))\n",
    "print(len(test_ds))"
   ]
  },
  {
   "cell_type": "code",
   "execution_count": 8,
   "metadata": {
    "execution": {
     "iopub.execute_input": "2021-09-23T09:22:51.388570Z",
     "iopub.status.busy": "2021-09-23T09:22:51.387887Z",
     "iopub.status.idle": "2021-09-23T09:22:51.389882Z",
     "shell.execute_reply": "2021-09-23T09:22:51.389394Z"
    }
   },
   "outputs": [],
   "source": [
    "train_dl = DataLoader(train_ds, batch_size=BATCH_SIZE, num_workers=NUM_WORKERS, pin_memory=True)\n",
    "test_dl = DataLoader(test_ds, batch_size=BATCH_SIZE, num_workers=NUM_WORKERS, pin_memory=True)"
   ]
  },
  {
   "cell_type": "markdown",
   "metadata": {},
   "source": [
    "Prepare model"
   ]
  },
  {
   "cell_type": "code",
   "execution_count": 9,
   "metadata": {
    "execution": {
     "iopub.execute_input": "2021-09-23T09:22:52.624211Z",
     "iopub.status.busy": "2021-09-23T09:22:52.623635Z",
     "iopub.status.idle": "2021-09-23T09:22:55.424276Z",
     "shell.execute_reply": "2021-09-23T09:22:55.423391Z"
    }
   },
   "outputs": [
    {
     "name": "stdout",
     "output_type": "stream",
     "text": [
      "DataParallel(\n",
      "  (module): BaseNet(\n",
      "    (flatten): Flatten(start_dim=-2, end_dim=-1)\n",
      "    (linear1): Linear(in_features=6, out_features=16, bias=True)\n",
      "    (relu): ReLU()\n",
      "    (linear2): Linear(in_features=16, out_features=5, bias=True)\n",
      "  )\n",
      ")\n"
     ]
    },
    {
     "data": {
      "text/plain": [
       "DataParallel(\n",
       "  (module): BaseNet(\n",
       "    (flatten): Flatten(start_dim=-2, end_dim=-1)\n",
       "    (linear1): Linear(in_features=6, out_features=16, bias=True)\n",
       "    (relu): ReLU()\n",
       "    (linear2): Linear(in_features=16, out_features=5, bias=True)\n",
       "  )\n",
       ")"
      ]
     },
     "execution_count": 9,
     "metadata": {},
     "output_type": "execute_result"
    }
   ],
   "source": [
    "model = BaseNet(num_bands=2)\n",
    "if parallelized:\n",
    "    model = nn.DataParallel(model)\n",
    "print(model)\n",
    "model.to(device, non_blocking=True)"
   ]
  },
  {
   "cell_type": "markdown",
   "metadata": {},
   "source": [
    "Count model parameters"
   ]
  },
  {
   "cell_type": "code",
   "execution_count": 10,
   "metadata": {
    "execution": {
     "iopub.execute_input": "2021-09-23T09:23:16.467320Z",
     "iopub.status.busy": "2021-09-23T09:23:16.466500Z",
     "iopub.status.idle": "2021-09-23T09:23:16.469116Z",
     "shell.execute_reply": "2021-09-23T09:23:16.469551Z"
    }
   },
   "outputs": [
    {
     "data": {
      "text/plain": [
       "197"
      ]
     },
     "execution_count": 10,
     "metadata": {},
     "output_type": "execute_result"
    }
   ],
   "source": [
    "utils.count_trainable_parameters(model)"
   ]
  },
  {
   "cell_type": "markdown",
   "metadata": {},
   "source": [
    "Verify the model resides on GPU"
   ]
  },
  {
   "cell_type": "code",
   "execution_count": 11,
   "metadata": {
    "execution": {
     "iopub.execute_input": "2021-09-23T09:22:55.428805Z",
     "iopub.status.busy": "2021-09-23T09:22:55.427980Z",
     "iopub.status.idle": "2021-09-23T09:22:55.430685Z",
     "shell.execute_reply": "2021-09-23T09:22:55.431356Z"
    },
    "scrolled": false
   },
   "outputs": [
    {
     "data": {
      "text/plain": [
       "True"
      ]
     },
     "execution_count": 11,
     "metadata": {},
     "output_type": "execute_result"
    }
   ],
   "source": [
    "utils.is_model_on_gpu(model)"
   ]
  },
  {
   "cell_type": "markdown",
   "metadata": {},
   "source": [
    "View a sample"
   ]
  },
  {
   "cell_type": "code",
   "execution_count": 13,
   "metadata": {
    "execution": {
     "iopub.execute_input": "2021-09-23T09:22:55.446429Z",
     "iopub.status.busy": "2021-09-23T09:22:55.445872Z",
     "iopub.status.idle": "2021-09-23T09:23:16.454159Z",
     "shell.execute_reply": "2021-09-23T09:23:16.454855Z"
    },
    "pycharm": {
     "name": "#%%\n"
    }
   },
   "outputs": [
    {
     "name": "stdout",
     "output_type": "stream",
     "text": [
      "tensor([[[-0.0026,  0.0324,  0.0293,  0.0196,  0.0189, -0.0191, -0.0354,\n",
      "          -0.0241,  0.0010,  0.0006],\n",
      "         [ 0.2105,  0.2236,  0.2518,  0.2659,  0.2673,  0.2684,  0.2389,\n",
      "           0.2026,  0.2001,  0.2092],\n",
      "         [ 0.1028,  0.1042,  0.1030,  0.1067,  0.1336,  0.1417,  0.1097,\n",
      "           0.1011,  0.1006,  0.1045],\n",
      "         [ 0.0757,  0.0679,  0.0654,  0.0688,  0.0673,  0.0743,  0.0897,\n",
      "           0.0832,  0.0770,  0.0754],\n",
      "         [ 0.1413,  0.1204,  0.1199,  0.1302,  0.1507,  0.1756,  0.1694,\n",
      "           0.1552,  0.1371,  0.1417]]], device='cuda:0')\n",
      "torch.Size([1, 5, 10])\n"
     ]
    }
   ],
   "source": [
    "sample, label = ds[16604]\n",
    "sample = sample.to(device, non_blocking=True)\n",
    "with torch.no_grad():\n",
    "    out = model(torch.stack([sample]))\n",
    "print(out)\n",
    "print(out.shape)"
   ]
  },
  {
   "cell_type": "markdown",
   "metadata": {},
   "source": [
    "Define optimization evironment"
   ]
  },
  {
   "cell_type": "code",
   "execution_count": 14,
   "metadata": {
    "execution": {
     "iopub.execute_input": "2021-09-23T09:23:16.460470Z",
     "iopub.status.busy": "2021-09-23T09:23:16.459619Z",
     "iopub.status.idle": "2021-09-23T09:23:16.461356Z",
     "shell.execute_reply": "2021-09-23T09:23:16.462032Z"
    },
    "pycharm": {
     "name": "#%%\n"
    }
   },
   "outputs": [],
   "source": [
    "criterion = nn.CrossEntropyLoss()\n",
    "optimizer = torch.optim.Adam(model.parameters(), lr=LEARNING_RATE)\n",
    "accuracy = Accuracy(num_classes=5).to(device, non_blocking=True)"
   ]
  },
  {
   "cell_type": "code",
   "execution_count": 15,
   "metadata": {},
   "outputs": [],
   "source": [
    "params = {\n",
    "    \"batch_size\": BATCH_SIZE,\n",
    "    \"dropout\": DROPOUT,\n",
    "    \"learning_rate\": LEARNING_RATE,\n",
    "    \"optimizer\": type(optimizer).__name__,\n",
    "    \"criterion\": type(criterion).__name__\n",
    "}\n",
    "run[\"params\"] = params"
   ]
  },
  {
   "cell_type": "markdown",
   "metadata": {},
   "source": [
    "Training loop"
   ]
  },
  {
   "cell_type": "code",
   "execution_count": 19,
   "metadata": {
    "execution": {
     "iopub.execute_input": "2021-09-23T09:23:16.475464Z",
     "iopub.status.busy": "2021-09-23T09:23:16.474934Z",
     "iopub.status.idle": "2021-09-24T05:27:21.109487Z",
     "shell.execute_reply": "2021-09-24T05:27:21.109900Z"
    },
    "scrolled": true
   },
   "outputs": [
    {
     "name": "stdout",
     "output_type": "stream",
     "text": [
      "Epoch 1/10\n",
      "----------------\n",
      "loss: 0.96698731, acc: 0.45311597 [201/201]\n",
      "\n",
      "Epoch 2/10\n",
      "----------------\n",
      "loss: 0.25658378, acc: 0.61422706 [201/201]\n",
      "\n",
      "Epoch 3/10\n",
      "----------------\n",
      "loss: 0.06480440, acc: 0.68827516 [201/201]\n",
      "\n",
      "Epoch 4/10\n",
      "----------------\n",
      "loss: 0.02657936, acc: 0.73196423 [201/201]\n",
      "\n",
      "Epoch 5/10\n",
      "----------------\n",
      "loss: 0.01521456, acc: 0.76125270 [201/201]\n",
      "\n",
      "Epoch 6/10\n",
      "----------------\n",
      "loss: 0.01051522, acc: 0.78182513 [201/201]\n",
      "\n",
      "Epoch 7/10\n",
      "----------------\n",
      "loss: 0.00812231, acc: 0.79728860 [201/201]\n",
      "\n",
      "Epoch 8/10\n",
      "----------------\n",
      "loss: 0.00671726, acc: 0.80953068 [201/201]\n",
      "\n",
      "Epoch 9/10\n",
      "----------------\n",
      "loss: 0.00582639, acc: 0.81947660 [201/201]\n",
      "\n",
      "Epoch 10/10\n",
      "----------------\n",
      "loss: 0.00523460, acc: 0.82763577 [201/201]\n",
      "\n",
      "DONE.\n"
     ]
    }
   ],
   "source": [
    "model.train()\n",
    "\n",
    "for epoch in range(EPOCHS):\n",
    "    print(f\"Epoch {epoch + 1}/{EPOCHS}\\n\" + 16 * \"-\")\n",
    "    size = len(train_dl)\n",
    "\n",
    "    for batch, (X, y) in enumerate(train_dl):\n",
    "        X = X.to(device, non_blocking=True)\n",
    "        y = y.to(device, non_blocking=True)\n",
    "  \n",
    "        pred = model(X)\n",
    "        loss = criterion(pred, y)\n",
    "        accuracy(pred, y)\n",
    "\n",
    "        optimizer.zero_grad()\n",
    "        loss.backward()\n",
    "        optimizer.step()\n",
    "\n",
    "        if batch % 10 == 0:\n",
    "            loss = loss.item()\n",
    "            acc = accuracy.compute()\n",
    "            print(f\"loss: {loss:.8f}, acc: {acc:.8f} [{batch}/{size - 1}]\", end=\"\\r\")\n",
    "\n",
    "    loss = loss.item()\n",
    "    acc = accuracy.compute()\n",
    "    \n",
    "    run[\"train/loss\"].log(loss)\n",
    "    run[\"train/accuracy\"].log(acc)\n",
    "    \n",
    "    print(f\"loss: {loss:.8f}, acc: {acc:.8f} [{batch}/{size - 1}]\", end=\"\\n\\n\")\n",
    "    \n",
    "print(\"DONE.\")"
   ]
  },
  {
   "cell_type": "markdown",
   "metadata": {},
   "source": [
    "Save the model"
   ]
  },
  {
   "cell_type": "code",
   "execution_count": 20,
   "metadata": {
    "execution": {
     "iopub.execute_input": "2021-09-24T05:27:21.114155Z",
     "iopub.status.busy": "2021-09-24T05:27:21.113720Z",
     "iopub.status.idle": "2021-09-24T05:27:21.119976Z",
     "shell.execute_reply": "2021-09-24T05:27:21.118913Z"
    }
   },
   "outputs": [],
   "source": [
    "container = model.module if parallelized else model\n",
    "torch.save(container.state_dict(), utils.resolve_path(MODELS_DIR, \"model.pth\"))\n",
    "run['model_weights'].upload(str(utils.resolve_path(MODELS_DIR, \"model.pth\")))"
   ]
  },
  {
   "cell_type": "markdown",
   "metadata": {},
   "source": [
    "Evaluate the model"
   ]
  },
  {
   "cell_type": "code",
   "execution_count": 21,
   "metadata": {},
   "outputs": [
    {
     "name": "stdout",
     "output_type": "stream",
     "text": [
      "accuracy: 0.8639888763427734\n"
     ]
    }
   ],
   "source": [
    "model.eval()\n",
    "accuracy = Accuracy(num_classes=5).to(device, non_blocking=True)\n",
    "\n",
    "with torch.no_grad():\n",
    "    for X, y in test_dl:\n",
    "        X = X.to(device, non_blocking=True)\n",
    "        y = y.to(device, non_blocking=True)\n",
    "        accuracy(model(X), y)\n",
    "\n",
    "    acc = accuracy.compute()\n",
    "    run[\"eval/accuracy\"].log(acc)\n",
    "    print(f\"accuracy: {acc}\")"
   ]
  },
  {
   "cell_type": "code",
   "execution_count": 22,
   "metadata": {},
   "outputs": [
    {
     "name": "stdout",
     "output_type": "stream",
     "text": [
      "Shutting down background jobs, please wait a moment...\n",
      "Done!\n"
     ]
    },
    {
     "name": "stderr",
     "output_type": "stream",
     "text": [
      "Waiting for the remaining 5 operations to synchronize with Neptune. Do not kill this process.\n"
     ]
    },
    {
     "name": "stdout",
     "output_type": "stream",
     "text": [
      "All 5 operations synced, thanks for waiting!\n"
     ]
    }
   ],
   "source": [
    "run.stop()"
   ]
  }
 ],
 "metadata": {
  "kernelspec": {
   "display_name": "Python 3",
   "language": "python",
   "name": "python3"
  },
  "language_info": {
   "codemirror_mode": {
    "name": "ipython",
    "version": 3
   },
   "file_extension": ".py",
   "mimetype": "text/x-python",
   "name": "python",
   "nbconvert_exporter": "python",
   "pygments_lexer": "ipython3",
   "version": "3.8.8"
  }
 },
 "nbformat": 4,
 "nbformat_minor": 1
}
