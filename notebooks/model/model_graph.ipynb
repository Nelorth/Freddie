{
 "cells": [
  {
   "cell_type": "code",
   "execution_count": 1,
   "metadata": {
    "collapsed": true
   },
   "outputs": [],
   "source": [
    "import tensorflow as tf\n",
    "import tensorflow.keras.layers as layers\n",
    "import utils.constants as c\n",
    "import utils.io as io"
   ]
  },
  {
   "cell_type": "code",
   "execution_count": 28,
   "outputs": [],
   "source": [
    "class MultiHeadSelfAttention(layers.Layer):\n",
    "    def __init__(self, num_heads, key_dim):\n",
    "        super().__init__()\n",
    "        self.attn = layers.MultiHeadAttention(num_heads=num_heads, key_dim=key_dim)\n",
    "\n",
    "    def call(self, inputs, *args, **kwargs):\n",
    "        return self.attn(inputs, inputs)"
   ],
   "metadata": {
    "collapsed": false,
    "pycharm": {
     "name": "#%%\n"
    }
   }
  },
  {
   "cell_type": "code",
   "execution_count": 2,
   "outputs": [],
   "source": [
    "mlp = tf.keras.Sequential([\n",
    "    layers.Reshape((1080,)),\n",
    "    layers.Dense(128, input_dim=9*120),\n",
    "    layers.ReLU(),\n",
    "    layers.Dense(128, input_dim=16),\n",
    "    layers.ReLU(),\n",
    "    layers.Dense(700, input_dim=128),\n",
    "    layers.Reshape((5, 140)),\n",
    "    layers.Softmax()\n",
    "], name=\"MLP\")\n",
    "mlp.build(input_shape=(42, 9,120))\n",
    "\n",
    "tf.keras.utils.plot_model(\n",
    "    mlp,\n",
    "    show_shapes=True,\n",
    "    expand_nested=True,\n",
    "    show_layer_names=False,\n",
    "    to_file=io.resolve_path(c.TEMP_DIR) / \"mlp.pdf\"\n",
    ")"
   ],
   "metadata": {
    "collapsed": false,
    "pycharm": {
     "name": "#%%\n"
    }
   }
  },
  {
   "cell_type": "code",
   "execution_count": 30,
   "outputs": [],
   "source": [
    "cnn = tf.keras.Sequential([\n",
    "    layers.Conv1D(32, 3, padding=\"same\", data_format=\"channels_first\"),\n",
    "    layers.ReLU(),\n",
    "    layers.MaxPool1D(2, data_format=\"channels_first\"),\n",
    "    layers.Conv1D(64, 5, padding=\"same\", data_format=\"channels_first\"),\n",
    "    layers.ReLU(),\n",
    "    layers.MaxPool1D(2, data_format=\"channels_first\"),\n",
    "    layers.Conv1D(128, 7, padding=\"same\", data_format=\"channels_first\"),\n",
    "    layers.ReLU(),\n",
    "    layers.MaxPool1D(2, data_format=\"channels_first\"),\n",
    "    layers.Reshape((1920,)),\n",
    "    layers.Dense(700, input_dim=1920),\n",
    "    layers.Reshape((5, 140))\n",
    "], name=\"CNN\")\n",
    "cnn.build(input_shape=(42, 9,120))\n",
    "\n",
    "tf.keras.utils.plot_model(\n",
    "    cnn,\n",
    "    show_shapes=True,\n",
    "    expand_nested=True,\n",
    "    show_layer_names=False,\n",
    "    to_file=io.resolve_path(c.TEMP_DIR) / \"cnn.pdf\"\n",
    ")\n"
   ],
   "metadata": {
    "collapsed": false,
    "pycharm": {
     "name": "#%%\n"
    }
   }
  },
  {
   "cell_type": "code",
   "execution_count": 31,
   "outputs": [],
   "source": [
    "fcnn = tf.keras.Sequential([\n",
    "    layers.Conv1D(128, 3, padding=\"same\", data_format=\"channels_first\"),\n",
    "    layers.ReLU(),\n",
    "    layers.MaxPool1D(2, data_format=\"channels_first\"),\n",
    "    layers.Conv1D(256, 5, padding=\"same\", data_format=\"channels_first\"),\n",
    "    layers.ReLU(),\n",
    "    layers.MaxPool1D(2, data_format=\"channels_first\"),\n",
    "    layers.Conv1D(512, 7, padding=\"same\", data_format=\"channels_first\"),\n",
    "    layers.ReLU(),\n",
    "    layers.MaxPool1D(2, data_format=\"channels_first\"),\n",
    "    layers.Conv1D(700, 1, padding=\"same\", data_format=\"channels_first\"),\n",
    "    layers.GlobalAvgPool1D(data_format=\"channels_first\"),\n",
    "    layers.Reshape((5, 140))\n",
    "], name=\"FCNN\")\n",
    "fcnn.build(input_shape=(42, 9,120))\n",
    "\n",
    "tf.keras.utils.plot_model(\n",
    "    fcnn,\n",
    "    show_shapes=True,\n",
    "    expand_nested=True,\n",
    "    show_layer_names=False,\n",
    "    to_file=io.resolve_path(c.TEMP_DIR) / \"fcnn.pdf\"\n",
    ")"
   ],
   "metadata": {
    "collapsed": false,
    "pycharm": {
     "name": "#%%\n"
    }
   }
  },
  {
   "cell_type": "code",
   "execution_count": 32,
   "outputs": [
    {
     "ename": "KeyboardInterrupt",
     "evalue": "",
     "output_type": "error",
     "traceback": [
      "\u001B[1;31m---------------------------------------------------------------------------\u001B[0m",
      "\u001B[1;31mKeyboardInterrupt\u001B[0m                         Traceback (most recent call last)",
      "\u001B[1;32m<ipython-input-32-d90099f26aa3>\u001B[0m in \u001B[0;36m<module>\u001B[1;34m\u001B[0m\n\u001B[0;32m     10\u001B[0m \u001B[0mrnn\u001B[0m\u001B[1;33m.\u001B[0m\u001B[0mbuild\u001B[0m\u001B[1;33m(\u001B[0m\u001B[0minput_shape\u001B[0m\u001B[1;33m=\u001B[0m\u001B[1;33m(\u001B[0m\u001B[1;36m42\u001B[0m\u001B[1;33m,\u001B[0m \u001B[1;36m9\u001B[0m\u001B[1;33m,\u001B[0m\u001B[1;36m120\u001B[0m\u001B[1;33m)\u001B[0m\u001B[1;33m)\u001B[0m\u001B[1;33m\u001B[0m\u001B[1;33m\u001B[0m\u001B[0m\n\u001B[0;32m     11\u001B[0m \u001B[1;33m\u001B[0m\u001B[0m\n\u001B[1;32m---> 12\u001B[1;33m tf.keras.utils.plot_model(\n\u001B[0m\u001B[0;32m     13\u001B[0m     \u001B[0mrnn\u001B[0m\u001B[1;33m,\u001B[0m\u001B[1;33m\u001B[0m\u001B[1;33m\u001B[0m\u001B[0m\n\u001B[0;32m     14\u001B[0m     \u001B[0mshow_shapes\u001B[0m\u001B[1;33m=\u001B[0m\u001B[1;32mTrue\u001B[0m\u001B[1;33m,\u001B[0m\u001B[1;33m\u001B[0m\u001B[1;33m\u001B[0m\u001B[0m\n",
      "\u001B[1;32m~\\AppData\\Roaming\\Python\\Python38\\site-packages\\tensorflow\\python\\keras\\utils\\vis_utils.py\u001B[0m in \u001B[0;36mplot_model\u001B[1;34m(model, to_file, show_shapes, show_dtype, show_layer_names, rankdir, expand_nested, dpi)\u001B[0m\n\u001B[0;32m    337\u001B[0m     \u001B[0mextension\u001B[0m \u001B[1;33m=\u001B[0m \u001B[0mextension\u001B[0m\u001B[1;33m[\u001B[0m\u001B[1;36m1\u001B[0m\u001B[1;33m:\u001B[0m\u001B[1;33m]\u001B[0m\u001B[1;33m\u001B[0m\u001B[1;33m\u001B[0m\u001B[0m\n\u001B[0;32m    338\u001B[0m   \u001B[1;31m# Save image to disk.\u001B[0m\u001B[1;33m\u001B[0m\u001B[1;33m\u001B[0m\u001B[1;33m\u001B[0m\u001B[0m\n\u001B[1;32m--> 339\u001B[1;33m   \u001B[0mdot\u001B[0m\u001B[1;33m.\u001B[0m\u001B[0mwrite\u001B[0m\u001B[1;33m(\u001B[0m\u001B[0mto_file\u001B[0m\u001B[1;33m,\u001B[0m \u001B[0mformat\u001B[0m\u001B[1;33m=\u001B[0m\u001B[0mextension\u001B[0m\u001B[1;33m)\u001B[0m\u001B[1;33m\u001B[0m\u001B[1;33m\u001B[0m\u001B[0m\n\u001B[0m\u001B[0;32m    340\u001B[0m   \u001B[1;31m# Return the image as a Jupyter Image object, to be displayed in-line.\u001B[0m\u001B[1;33m\u001B[0m\u001B[1;33m\u001B[0m\u001B[1;33m\u001B[0m\u001B[0m\n\u001B[0;32m    341\u001B[0m   \u001B[1;31m# Note that we cannot easily detect whether the code is running in a\u001B[0m\u001B[1;33m\u001B[0m\u001B[1;33m\u001B[0m\u001B[1;33m\u001B[0m\u001B[0m\n",
      "\u001B[1;32m~\\Anaconda3\\envs\\Python\\lib\\site-packages\\pydot.py\u001B[0m in \u001B[0;36mwrite\u001B[1;34m(self, path, prog, format, encoding)\u001B[0m\n\u001B[0;32m   1815\u001B[0m                 \u001B[0mf\u001B[0m\u001B[1;33m.\u001B[0m\u001B[0mwrite\u001B[0m\u001B[1;33m(\u001B[0m\u001B[0ms\u001B[0m\u001B[1;33m)\u001B[0m\u001B[1;33m\u001B[0m\u001B[1;33m\u001B[0m\u001B[0m\n\u001B[0;32m   1816\u001B[0m         \u001B[1;32melse\u001B[0m\u001B[1;33m:\u001B[0m\u001B[1;33m\u001B[0m\u001B[1;33m\u001B[0m\u001B[0m\n\u001B[1;32m-> 1817\u001B[1;33m             \u001B[0ms\u001B[0m \u001B[1;33m=\u001B[0m \u001B[0mself\u001B[0m\u001B[1;33m.\u001B[0m\u001B[0mcreate\u001B[0m\u001B[1;33m(\u001B[0m\u001B[0mprog\u001B[0m\u001B[1;33m,\u001B[0m \u001B[0mformat\u001B[0m\u001B[1;33m,\u001B[0m \u001B[0mencoding\u001B[0m\u001B[1;33m=\u001B[0m\u001B[0mencoding\u001B[0m\u001B[1;33m)\u001B[0m\u001B[1;33m\u001B[0m\u001B[1;33m\u001B[0m\u001B[0m\n\u001B[0m\u001B[0;32m   1818\u001B[0m             \u001B[1;32mwith\u001B[0m \u001B[0mio\u001B[0m\u001B[1;33m.\u001B[0m\u001B[0mopen\u001B[0m\u001B[1;33m(\u001B[0m\u001B[0mpath\u001B[0m\u001B[1;33m,\u001B[0m \u001B[0mmode\u001B[0m\u001B[1;33m=\u001B[0m\u001B[1;34m'wb'\u001B[0m\u001B[1;33m)\u001B[0m \u001B[1;32mas\u001B[0m \u001B[0mf\u001B[0m\u001B[1;33m:\u001B[0m\u001B[1;33m\u001B[0m\u001B[1;33m\u001B[0m\u001B[0m\n\u001B[0;32m   1819\u001B[0m                 \u001B[0mf\u001B[0m\u001B[1;33m.\u001B[0m\u001B[0mwrite\u001B[0m\u001B[1;33m(\u001B[0m\u001B[0ms\u001B[0m\u001B[1;33m)\u001B[0m\u001B[1;33m\u001B[0m\u001B[1;33m\u001B[0m\u001B[0m\n",
      "\u001B[1;32m~\\Anaconda3\\envs\\Python\\lib\\site-packages\\pydot.py\u001B[0m in \u001B[0;36mcreate\u001B[1;34m(self, prog, format, encoding)\u001B[0m\n\u001B[0;32m   1910\u001B[0m \u001B[1;33m\u001B[0m\u001B[0m\n\u001B[0;32m   1911\u001B[0m         \u001B[1;32mtry\u001B[0m\u001B[1;33m:\u001B[0m\u001B[1;33m\u001B[0m\u001B[1;33m\u001B[0m\u001B[0m\n\u001B[1;32m-> 1912\u001B[1;33m             stdout_data, stderr_data, process = call_graphviz(\n\u001B[0m\u001B[0;32m   1913\u001B[0m                 \u001B[0mprogram\u001B[0m\u001B[1;33m=\u001B[0m\u001B[0mprog\u001B[0m\u001B[1;33m,\u001B[0m\u001B[1;33m\u001B[0m\u001B[1;33m\u001B[0m\u001B[0m\n\u001B[0;32m   1914\u001B[0m                 \u001B[0marguments\u001B[0m\u001B[1;33m=\u001B[0m\u001B[0marguments\u001B[0m\u001B[1;33m,\u001B[0m\u001B[1;33m\u001B[0m\u001B[1;33m\u001B[0m\u001B[0m\n",
      "\u001B[1;32m~\\Anaconda3\\envs\\Python\\lib\\site-packages\\pydot.py\u001B[0m in \u001B[0;36mcall_graphviz\u001B[1;34m(program, arguments, working_dir, **kwargs)\u001B[0m\n\u001B[0;32m    136\u001B[0m         \u001B[1;33m**\u001B[0m\u001B[0mkwargs\u001B[0m\u001B[1;33m\u001B[0m\u001B[1;33m\u001B[0m\u001B[0m\n\u001B[0;32m    137\u001B[0m     )\n\u001B[1;32m--> 138\u001B[1;33m     \u001B[0mstdout_data\u001B[0m\u001B[1;33m,\u001B[0m \u001B[0mstderr_data\u001B[0m \u001B[1;33m=\u001B[0m \u001B[0mprocess\u001B[0m\u001B[1;33m.\u001B[0m\u001B[0mcommunicate\u001B[0m\u001B[1;33m(\u001B[0m\u001B[1;33m)\u001B[0m\u001B[1;33m\u001B[0m\u001B[1;33m\u001B[0m\u001B[0m\n\u001B[0m\u001B[0;32m    139\u001B[0m \u001B[1;33m\u001B[0m\u001B[0m\n\u001B[0;32m    140\u001B[0m     \u001B[1;32mreturn\u001B[0m \u001B[0mstdout_data\u001B[0m\u001B[1;33m,\u001B[0m \u001B[0mstderr_data\u001B[0m\u001B[1;33m,\u001B[0m \u001B[0mprocess\u001B[0m\u001B[1;33m\u001B[0m\u001B[1;33m\u001B[0m\u001B[0m\n",
      "\u001B[1;32m~\\Anaconda3\\envs\\Python\\lib\\subprocess.py\u001B[0m in \u001B[0;36mcommunicate\u001B[1;34m(self, input, timeout)\u001B[0m\n\u001B[0;32m   1026\u001B[0m \u001B[1;33m\u001B[0m\u001B[0m\n\u001B[0;32m   1027\u001B[0m             \u001B[1;32mtry\u001B[0m\u001B[1;33m:\u001B[0m\u001B[1;33m\u001B[0m\u001B[1;33m\u001B[0m\u001B[0m\n\u001B[1;32m-> 1028\u001B[1;33m                 \u001B[0mstdout\u001B[0m\u001B[1;33m,\u001B[0m \u001B[0mstderr\u001B[0m \u001B[1;33m=\u001B[0m \u001B[0mself\u001B[0m\u001B[1;33m.\u001B[0m\u001B[0m_communicate\u001B[0m\u001B[1;33m(\u001B[0m\u001B[0minput\u001B[0m\u001B[1;33m,\u001B[0m \u001B[0mendtime\u001B[0m\u001B[1;33m,\u001B[0m \u001B[0mtimeout\u001B[0m\u001B[1;33m)\u001B[0m\u001B[1;33m\u001B[0m\u001B[1;33m\u001B[0m\u001B[0m\n\u001B[0m\u001B[0;32m   1029\u001B[0m             \u001B[1;32mexcept\u001B[0m \u001B[0mKeyboardInterrupt\u001B[0m\u001B[1;33m:\u001B[0m\u001B[1;33m\u001B[0m\u001B[1;33m\u001B[0m\u001B[0m\n\u001B[0;32m   1030\u001B[0m                 \u001B[1;31m# https://bugs.python.org/issue25942\u001B[0m\u001B[1;33m\u001B[0m\u001B[1;33m\u001B[0m\u001B[1;33m\u001B[0m\u001B[0m\n",
      "\u001B[1;32m~\\Anaconda3\\envs\\Python\\lib\\subprocess.py\u001B[0m in \u001B[0;36m_communicate\u001B[1;34m(self, input, endtime, orig_timeout)\u001B[0m\n\u001B[0;32m   1397\u001B[0m             \u001B[1;31m# calls communicate again.\u001B[0m\u001B[1;33m\u001B[0m\u001B[1;33m\u001B[0m\u001B[1;33m\u001B[0m\u001B[0m\n\u001B[0;32m   1398\u001B[0m             \u001B[1;32mif\u001B[0m \u001B[0mself\u001B[0m\u001B[1;33m.\u001B[0m\u001B[0mstdout\u001B[0m \u001B[1;32mis\u001B[0m \u001B[1;32mnot\u001B[0m \u001B[1;32mNone\u001B[0m\u001B[1;33m:\u001B[0m\u001B[1;33m\u001B[0m\u001B[1;33m\u001B[0m\u001B[0m\n\u001B[1;32m-> 1399\u001B[1;33m                 \u001B[0mself\u001B[0m\u001B[1;33m.\u001B[0m\u001B[0mstdout_thread\u001B[0m\u001B[1;33m.\u001B[0m\u001B[0mjoin\u001B[0m\u001B[1;33m(\u001B[0m\u001B[0mself\u001B[0m\u001B[1;33m.\u001B[0m\u001B[0m_remaining_time\u001B[0m\u001B[1;33m(\u001B[0m\u001B[0mendtime\u001B[0m\u001B[1;33m)\u001B[0m\u001B[1;33m)\u001B[0m\u001B[1;33m\u001B[0m\u001B[1;33m\u001B[0m\u001B[0m\n\u001B[0m\u001B[0;32m   1400\u001B[0m                 \u001B[1;32mif\u001B[0m \u001B[0mself\u001B[0m\u001B[1;33m.\u001B[0m\u001B[0mstdout_thread\u001B[0m\u001B[1;33m.\u001B[0m\u001B[0mis_alive\u001B[0m\u001B[1;33m(\u001B[0m\u001B[1;33m)\u001B[0m\u001B[1;33m:\u001B[0m\u001B[1;33m\u001B[0m\u001B[1;33m\u001B[0m\u001B[0m\n\u001B[0;32m   1401\u001B[0m                     \u001B[1;32mraise\u001B[0m \u001B[0mTimeoutExpired\u001B[0m\u001B[1;33m(\u001B[0m\u001B[0mself\u001B[0m\u001B[1;33m.\u001B[0m\u001B[0margs\u001B[0m\u001B[1;33m,\u001B[0m \u001B[0morig_timeout\u001B[0m\u001B[1;33m)\u001B[0m\u001B[1;33m\u001B[0m\u001B[1;33m\u001B[0m\u001B[0m\n",
      "\u001B[1;32m~\\Anaconda3\\envs\\Python\\lib\\threading.py\u001B[0m in \u001B[0;36mjoin\u001B[1;34m(self, timeout)\u001B[0m\n\u001B[0;32m   1009\u001B[0m \u001B[1;33m\u001B[0m\u001B[0m\n\u001B[0;32m   1010\u001B[0m         \u001B[1;32mif\u001B[0m \u001B[0mtimeout\u001B[0m \u001B[1;32mis\u001B[0m \u001B[1;32mNone\u001B[0m\u001B[1;33m:\u001B[0m\u001B[1;33m\u001B[0m\u001B[1;33m\u001B[0m\u001B[0m\n\u001B[1;32m-> 1011\u001B[1;33m             \u001B[0mself\u001B[0m\u001B[1;33m.\u001B[0m\u001B[0m_wait_for_tstate_lock\u001B[0m\u001B[1;33m(\u001B[0m\u001B[1;33m)\u001B[0m\u001B[1;33m\u001B[0m\u001B[1;33m\u001B[0m\u001B[0m\n\u001B[0m\u001B[0;32m   1012\u001B[0m         \u001B[1;32melse\u001B[0m\u001B[1;33m:\u001B[0m\u001B[1;33m\u001B[0m\u001B[1;33m\u001B[0m\u001B[0m\n\u001B[0;32m   1013\u001B[0m             \u001B[1;31m# the behavior of a negative timeout isn't documented, but\u001B[0m\u001B[1;33m\u001B[0m\u001B[1;33m\u001B[0m\u001B[1;33m\u001B[0m\u001B[0m\n",
      "\u001B[1;32m~\\Anaconda3\\envs\\Python\\lib\\threading.py\u001B[0m in \u001B[0;36m_wait_for_tstate_lock\u001B[1;34m(self, block, timeout)\u001B[0m\n\u001B[0;32m   1025\u001B[0m         \u001B[1;32mif\u001B[0m \u001B[0mlock\u001B[0m \u001B[1;32mis\u001B[0m \u001B[1;32mNone\u001B[0m\u001B[1;33m:\u001B[0m  \u001B[1;31m# already determined that the C code is done\u001B[0m\u001B[1;33m\u001B[0m\u001B[1;33m\u001B[0m\u001B[0m\n\u001B[0;32m   1026\u001B[0m             \u001B[1;32massert\u001B[0m \u001B[0mself\u001B[0m\u001B[1;33m.\u001B[0m\u001B[0m_is_stopped\u001B[0m\u001B[1;33m\u001B[0m\u001B[1;33m\u001B[0m\u001B[0m\n\u001B[1;32m-> 1027\u001B[1;33m         \u001B[1;32melif\u001B[0m \u001B[0mlock\u001B[0m\u001B[1;33m.\u001B[0m\u001B[0macquire\u001B[0m\u001B[1;33m(\u001B[0m\u001B[0mblock\u001B[0m\u001B[1;33m,\u001B[0m \u001B[0mtimeout\u001B[0m\u001B[1;33m)\u001B[0m\u001B[1;33m:\u001B[0m\u001B[1;33m\u001B[0m\u001B[1;33m\u001B[0m\u001B[0m\n\u001B[0m\u001B[0;32m   1028\u001B[0m             \u001B[0mlock\u001B[0m\u001B[1;33m.\u001B[0m\u001B[0mrelease\u001B[0m\u001B[1;33m(\u001B[0m\u001B[1;33m)\u001B[0m\u001B[1;33m\u001B[0m\u001B[1;33m\u001B[0m\u001B[0m\n\u001B[0;32m   1029\u001B[0m             \u001B[0mself\u001B[0m\u001B[1;33m.\u001B[0m\u001B[0m_stop\u001B[0m\u001B[1;33m(\u001B[0m\u001B[1;33m)\u001B[0m\u001B[1;33m\u001B[0m\u001B[1;33m\u001B[0m\u001B[0m\n",
      "\u001B[1;31mKeyboardInterrupt\u001B[0m: "
     ]
    }
   ],
   "source": [
    "rnn = tf.keras.Sequential([\n",
    "    layers.Permute((2, 1)),\n",
    "    layers.ZeroPadding1D((0, 20)),\n",
    "    layers.Bidirectional(layers.LSTM(64, return_sequences=True)),\n",
    "    layers.Bidirectional(layers.LSTM(64, return_sequences=True)),\n",
    "    layers.Bidirectional(layers.LSTM(64, return_sequences=True)),\n",
    "    layers.Dense(5, input_dim=128),\n",
    "    layers.Permute((2, 1))\n",
    "], name=\"RNN\")\n",
    "rnn.build(input_shape=(42, 9,120))\n",
    "\n",
    "tf.keras.utils.plot_model(\n",
    "    rnn,\n",
    "    show_shapes=True,\n",
    "    expand_nested=True,\n",
    "    show_layer_names=False,\n",
    "    to_file=io.resolve_path(c.TEMP_DIR) / \"rnn.pdf\"\n",
    ")"
   ],
   "metadata": {
    "collapsed": false,
    "pycharm": {
     "name": "#%%\n"
    }
   }
  },
  {
   "cell_type": "code",
   "execution_count": 33,
   "outputs": [],
   "source": [
    "crnn = tf.keras.Sequential([\n",
    "    layers.Conv1D(128, 3, padding=\"same\", data_format=\"channels_first\"),\n",
    "    layers.ReLU(),\n",
    "    layers.Conv1D(128, 5, padding=\"same\", data_format=\"channels_first\"),\n",
    "    layers.ReLU(),\n",
    "    layers.Conv1D(128, 7, padding=\"same\", data_format=\"channels_first\"),\n",
    "    layers.ReLU(),\n",
    "    layers.Permute((2, 1)),\n",
    "    layers.ZeroPadding1D((0, 20)),\n",
    "    layers.Bidirectional(layers.LSTM(32, return_sequences=True)),\n",
    "    layers.Bidirectional(layers.LSTM(32, return_sequences=True)),\n",
    "    layers.Dense(5, input_dim=64),\n",
    "    layers.Permute((2, 1))\n",
    "], name=\"CRNN\")\n",
    "crnn.build(input_shape=(42, 9,120))\n",
    "\n",
    "tf.keras.utils.plot_model(\n",
    "    crnn,\n",
    "    show_shapes=True,\n",
    "    expand_nested=True,\n",
    "    show_layer_names=False,\n",
    "    to_file=io.resolve_path(c.TEMP_DIR) / \"crnn.pdf\"\n",
    ")"
   ],
   "metadata": {
    "collapsed": false,
    "pycharm": {
     "name": "#%%\n"
    }
   }
  },
  {
   "cell_type": "code",
   "execution_count": 37,
   "outputs": [],
   "source": [
    "cann = tf.keras.Sequential([\n",
    "    layers.Conv1D(128, 3, padding=\"same\", data_format=\"channels_first\"),\n",
    "    layers.ReLU(),\n",
    "    layers.Conv1D(128, 5, padding=\"same\", data_format=\"channels_first\"),\n",
    "    layers.ReLU(),\n",
    "    layers.Conv1D(128, 7, padding=\"same\", data_format=\"channels_first\"),\n",
    "    layers.ReLU(),\n",
    "    layers.Permute((2, 1)),\n",
    "    layers.ZeroPadding1D((0, 20)),\n",
    "    layers.Dense(64, input_dim=128),\n",
    "    MultiHeadSelfAttention(num_heads=4, key_dim=64),\n",
    "    layers.ReLU(),\n",
    "    layers.Dense(64, input_dim=64),\n",
    "    MultiHeadSelfAttention(num_heads=4, key_dim=64),\n",
    "    layers.ReLU(),\n",
    "    layers.Dense(5, input_dim=64),\n",
    "    layers.Permute((2, 1))\n",
    "], name=\"CANN\")\n",
    "cann.build(input_shape=(42, 9,120))\n",
    "\n",
    "tf.keras.utils.plot_model(\n",
    "    cann,\n",
    "    show_shapes=True,\n",
    "    expand_nested=True,\n",
    "    show_layer_names=False,\n",
    "    to_file=io.resolve_path(c.TEMP_DIR) / \"cann.pdf\"\n",
    ")"
   ],
   "metadata": {
    "collapsed": false,
    "pycharm": {
     "name": "#%%\n"
    }
   }
  },
  {
   "cell_type": "code",
   "execution_count": null,
   "outputs": [],
   "source": [],
   "metadata": {
    "collapsed": false,
    "pycharm": {
     "name": "#%%"
    }
   }
  }
 ],
 "metadata": {
  "kernelspec": {
   "display_name": "Python 3",
   "language": "python",
   "name": "python3"
  },
  "language_info": {
   "codemirror_mode": {
    "name": "ipython",
    "version": 2
   },
   "file_extension": ".py",
   "mimetype": "text/x-python",
   "name": "python",
   "nbconvert_exporter": "python",
   "pygments_lexer": "ipython2",
   "version": "2.7.6"
  }
 },
 "nbformat": 4,
 "nbformat_minor": 0
}