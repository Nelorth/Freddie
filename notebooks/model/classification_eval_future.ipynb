{
 "cells": [
  {
   "cell_type": "code",
   "execution_count": 1,
   "id": "60d87b32",
   "metadata": {},
   "outputs": [],
   "source": [
    "import utils.harry_plotter as harry_plotter\n",
    "import utils.constants as c\n",
    "import utils.io as io\n",
    "import utils.training as training\n",
    "\n",
    "from learning.datasets import MessengerDataset\n",
    "from torch.nn.functional import softmax\n",
    "from torch.utils.data import DataLoader\n",
    "from torchinfo import summary\n",
    "from torchmetrics import Accuracy, ConfusionMatrix, F1, MetricCollection, PrecisionRecallCurve\n",
    "from tqdm import tqdm"
   ]
  },
  {
   "cell_type": "code",
   "execution_count": 2,
   "id": "ec289c8e",
   "metadata": {},
   "outputs": [],
   "source": [
    "MODEL_RUN = 783\n",
    "BATCH_SIZE = 1024"
   ]
  },
  {
   "cell_type": "code",
   "execution_count": 3,
   "id": "b27f654c",
   "metadata": {},
   "outputs": [],
   "source": [
    "model, hparams = training.load_model(MODEL_RUN)"
   ]
  },
  {
   "cell_type": "code",
   "execution_count": 4,
   "id": "21137803",
   "metadata": {},
   "outputs": [
    {
     "name": "stdout",
     "output_type": "stream",
     "text": [
      "CRNN(\n",
      "  (conv_stack): ConvStack(\n",
      "    (conv0): Conv1d(9, 128, kernel_size=(3,), stride=(1,), padding=(1,))\n",
      "    (relu0): ReLU()\n",
      "    (conv1): Conv1d(128, 128, kernel_size=(5,), stride=(1,), padding=(2,))\n",
      "    (relu1): ReLU()\n",
      "    (conv2): Conv1d(128, 128, kernel_size=(7,), stride=(1,), padding=(3,))\n",
      "    (relu2): ReLU()\n",
      "  )\n",
      "  (zero_pad): ConstantPad1d(padding=(0, 20), value=0)\n",
      "  (swap_in): Transposer(dim1=-1, dim2=-2)\n",
      "  (lstm_stack): RecurrentStack(\n",
      "    (lstm0): LSTM(128, 32, batch_first=True, bidirectional=True)\n",
      "    (proj0): Projector(dim=0)\n",
      "    (lstm1): LSTM(64, 32, batch_first=True, bidirectional=True)\n",
      "    (proj1): Projector(dim=0)\n",
      "    (linear): Linear(in_features=64, out_features=5, bias=True)\n",
      "  )\n",
      "  (swap_out): Transposer(dim1=-1, dim2=-2)\n",
      ")\n"
     ]
    },
    {
     "data": {
      "text/plain": [
       "==========================================================================================\n",
       "Layer (type:depth-idx)                   Output Shape              Param #\n",
       "==========================================================================================\n",
       "CRNN                                     --                        --\n",
       "├─ConvStack: 1-1                         [1024, 128, 120]          --\n",
       "│    └─Conv1d: 2-1                       [1024, 128, 120]          3,584\n",
       "│    └─ReLU: 2-2                         [1024, 128, 120]          --\n",
       "│    └─Conv1d: 2-3                       [1024, 128, 120]          82,048\n",
       "│    └─ReLU: 2-4                         [1024, 128, 120]          --\n",
       "│    └─Conv1d: 2-5                       [1024, 128, 120]          114,816\n",
       "│    └─ReLU: 2-6                         [1024, 128, 120]          --\n",
       "├─ConstantPad1d: 1-2                     [1024, 128, 140]          --\n",
       "├─Transpose: 1-3                         [1024, 140, 128]          --\n",
       "├─RecurrentStack: 1-4                    [1024, 140, 5]            --\n",
       "│    └─LSTM: 2-7                         [1024, 140, 64]           41,472\n",
       "│    └─Projector: 2-8                    [1024, 140, 64]           --\n",
       "│    └─LSTM: 2-9                         [1024, 140, 64]           25,088\n",
       "│    └─Projector: 2-10                   [1024, 140, 64]           --\n",
       "│    └─Linear: 2-11                      [1024, 140, 5]            325\n",
       "├─Transpose: 1-5                         [1024, 5, 140]            --\n",
       "==========================================================================================\n",
       "Total params: 267,333\n",
       "Trainable params: 267,333\n",
       "Non-trainable params: 0\n",
       "Total mult-adds (G): 34.17\n",
       "==========================================================================================\n",
       "Input size (MB): 4.42\n",
       "Forward/backward pass size (MB): 530.02\n",
       "Params size (MB): 1.07\n",
       "Estimated Total Size (MB): 535.52\n",
       "=========================================================================================="
      ]
     },
     "execution_count": 4,
     "metadata": {},
     "output_type": "execute_result"
    }
   ],
   "source": [
    "print(model)\n",
    "summary(model, input_size=(BATCH_SIZE, len(hparams[\"features\"]), hparams[\"window_size\"]), device=\"cpu\")"
   ]
  },
  {
   "cell_type": "code",
   "execution_count": 5,
   "id": "a2d4ac5f",
   "metadata": {},
   "outputs": [
    {
     "name": "stderr",
     "output_type": "stream",
     "text": [
      "100%|██████████████████████████████████████████████████████████████████████████████████████████████████████████████████████████████████████████████████████| 316/316 [00:31<00:00,  9.88it/s]\n"
     ]
    }
   ],
   "source": [
    "ds_test = MessengerDataset(io.resolve_path(c.DATA_DIR),\n",
    "                           split=\"test\",\n",
    "                           features=hparams[\"features\"],\n",
    "                           window_size=hparams[\"window_size\"],\n",
    "                           future_size=hparams[\"future_size\"],\n",
    "                           use_orbits=1)"
   ]
  },
  {
   "cell_type": "code",
   "execution_count": 6,
   "id": "81d3c701",
   "metadata": {},
   "outputs": [],
   "source": [
    "dl_eval = DataLoader(ds_test, batch_size=BATCH_SIZE)"
   ]
  },
  {
   "cell_type": "code",
   "execution_count": 7,
   "id": "32706014",
   "metadata": {},
   "outputs": [
    {
     "name": "stderr",
     "output_type": "stream",
     "text": [
      "/opt/conda/envs/freddie/lib/python3.9/site-packages/torchmetrics/utilities/prints.py:36: UserWarning: Metric `PrecisionRecallCurve` will save all targets and predictions in buffer. For large datasets this may lead to large memory footprint.\n",
      "  warnings.warn(*args, **kwargs)\n"
     ]
    }
   ],
   "source": [
    "metrics = MetricCollection({\n",
    "    \"accuracy\": Accuracy(num_classes=len(c.CLASSES),\n",
    "                         compute_on_step=False),\n",
    "    \"macro_f1\": F1(num_classes=len(c.CLASSES),\n",
    "                   average=\"macro\",\n",
    "                   mdmc_average=\"global\",\n",
    "                   compute_on_step=False),\n",
    "    \"claccuracy\": Accuracy(num_classes=len(c.CLASSES),\n",
    "                           compute_on_step=False,\n",
    "                           average=\"none\"),\n",
    "    \"confmat\": ConfusionMatrix(num_classes=len(c.CLASSES),\n",
    "                               compute_on_step=False),\n",
    "    \"prc\": PrecisionRecallCurve(num_classes=len(c.CLASSES),\n",
    "                                compute_on_step=False)\n",
    "})"
   ]
  },
  {
   "cell_type": "code",
   "execution_count": 8,
   "id": "9ee9aa5e",
   "metadata": {},
   "outputs": [
    {
     "name": "stderr",
     "output_type": "stream",
     "text": [
      "100%|██████████████████████████████████████████████████████████████████████████████████████████████████████████████████████████████████████████████████| 9672/9672 [4:29:03<00:00,  1.67s/it]\n"
     ]
    }
   ],
   "source": [
    "for (x, y) in tqdm(dl_eval, total=len(dl_eval)):\n",
    "    metrics(softmax(model(x)[-hparams[\"future_size\"]:], dim=1), y[-hparams[\"future_size\"]:])"
   ]
  },
  {
   "cell_type": "code",
   "execution_count": 9,
   "id": "14561b48",
   "metadata": {},
   "outputs": [],
   "source": [
    "result = metrics.compute()"
   ]
  },
  {
   "cell_type": "code",
   "execution_count": 10,
   "id": "71203af1",
   "metadata": {},
   "outputs": [],
   "source": [
    "import pickle\n",
    "with open(io.resolve_path(c.TEMP_DIR) / \"result_prediction.pickle\", \"wb\") as f:\n",
    "    pickle.dump(result, f, protocol=pickle.HIGHEST_PROTOCOL)"
   ]
  },
  {
   "cell_type": "code",
   "execution_count": 11,
   "id": "9a09800d",
   "metadata": {},
   "outputs": [
    {
     "data": {
      "text/plain": [
       "tensor(0.9278)"
      ]
     },
     "execution_count": 11,
     "metadata": {},
     "output_type": "execute_result"
    }
   ],
   "source": [
    "result[\"accuracy\"]"
   ]
  },
  {
   "cell_type": "code",
   "execution_count": 12,
   "id": "9b18ac30",
   "metadata": {},
   "outputs": [
    {
     "data": {
      "text/plain": [
       "tensor(0.8135)"
      ]
     },
     "execution_count": 12,
     "metadata": {},
     "output_type": "execute_result"
    }
   ],
   "source": [
    "result[\"macro_f1\"]"
   ]
  },
  {
   "cell_type": "code",
   "execution_count": 13,
   "id": "dd403993",
   "metadata": {},
   "outputs": [
    {
     "data": {
      "text/plain": [
       "tensor([0.9497, 0.7805, 0.8425, 0.8644, 0.9603])"
      ]
     },
     "execution_count": 13,
     "metadata": {},
     "output_type": "execute_result"
    }
   ],
   "source": [
    "result[\"claccuracy\"]"
   ]
  },
  {
   "cell_type": "code",
   "execution_count": 31,
   "id": "6cd6c2cd",
   "metadata": {},
   "outputs": [
    {
     "name": "stderr",
     "output_type": "stream",
     "text": [
      "/root/freddie/src/utils/harry_plotter.py:146: UserWarning: This figure includes Axes that are not compatible with tight_layout, so results might be incorrect.\n",
      "  plt.savefig(outfile)\n"
     ]
    },
    {
     "data": {
      "text/plain": [
       "<Figure size 432x288 with 0 Axes>"
      ]
     },
     "metadata": {},
     "output_type": "display_data"
    },
    {
     "name": "stderr",
     "output_type": "stream",
     "text": [
      "/opt/conda/envs/freddie/lib/python3.9/site-packages/IPython/core/pylabtools.py:151: UserWarning: This figure includes Axes that are not compatible with tight_layout, so results might be incorrect.\n",
      "  fig.canvas.print_figure(bytes_io, **kw)\n"
     ]
    },
    {
     "data": {
      "image/png": "[encoded data removed]",
      "text/plain": [
       "<Figure size 288x288 with 2 Axes>"
      ]
     },
     "metadata": {
      "needs_background": "light"
     },
     "output_type": "display_data"
    }
   ],
   "source": [
    "harry_plotter.plot_confusion_matrix(result[\"confmat\"], \n",
    "                                    labels=[\"IMF\", \"SK\", \"MSh\", \"MP\", \"MSp\"], \n",
    "                                    outfile=io.resolve_path(c.TEMP_DIR) / \"confmat_prediction.pdf\",\n",
    "                                    normalize=\"all\")"
   ]
  },
  {
   "cell_type": "code",
   "execution_count": 32,
   "id": "0f82b042",
   "metadata": {},
   "outputs": [
    {
     "data": {
      "text/plain": [
       "<Figure size 432x288 with 0 Axes>"
      ]
     },
     "metadata": {},
     "output_type": "display_data"
    },
    {
     "data": {
      "image/png": "[encoded data removed]",
      "text/plain": [
       "<Figure size 288x288 with 2 Axes>"
      ]
     },
     "metadata": {
      "needs_background": "light"
     },
     "output_type": "display_data"
    }
   ],
   "source": [
    "harry_plotter.plot_confusion_matrix(result[\"confmat\"], \n",
    "                                    labels=[\"IMF\", \"SK\", \"MSh\", \"MP\", \"MSp\"], \n",
    "                                    outfile=io.resolve_path(c.TEMP_DIR) / \"confmat_prediction_precision.pdf\",\n",
    "                                    normalize=\"precision\")"
   ]
  },
  {
   "cell_type": "code",
   "execution_count": 33,
   "id": "c63ba5a8",
   "metadata": {},
   "outputs": [
    {
     "data": {
      "text/plain": [
       "<Figure size 432x288 with 0 Axes>"
      ]
     },
     "metadata": {},
     "output_type": "display_data"
    },
    {
     "data": {
      "image/png": "[encoded data removed]",
      "text/plain": [
       "<Figure size 288x288 with 2 Axes>"
      ]
     },
     "metadata": {
      "needs_background": "light"
     },
     "output_type": "display_data"
    }
   ],
   "source": [
    "harry_plotter.plot_confusion_matrix(result[\"confmat\"], \n",
    "                                    labels=[\"IMF\", \"SK\", \"MSh\", \"MP\", \"MSp\"], \n",
    "                                    outfile=io.resolve_path(c.TEMP_DIR) / \"confmat_prediction_recall.pdf\",\n",
    "                                    normalize=\"recall\")"
   ]
  },
  {
   "cell_type": "code",
   "execution_count": 17,
   "id": "a897a307",
   "metadata": {},
   "outputs": [],
   "source": [
    "precision, recall, thresholds = result[\"prc\"]"
   ]
  },
  {
   "cell_type": "code",
   "execution_count": 36,
   "id": "d1155ada",
   "metadata": {},
   "outputs": [
    {
     "data": {
      "image/png": "[encoded data removed]",
      "text/plain": [
       "<Figure size 432x216 with 2 Axes>"
      ]
     },
     "metadata": {
      "needs_background": "light"
     },
     "output_type": "display_data"
    }
   ],
   "source": [
    "import matplotlib.pyplot as plt\n",
    "plt.figure(figsize=(6, 3))\n",
    "plt.subplot(1, 2, 1)\n",
    "harry_plotter.plot_values(recall[1], precision[1], \n",
    "                          ylim=(-0.05, 1.05),\n",
    "                          xlabel=\"recall\", \n",
    "                          ylabel=\"precision\", \n",
    "                          title=\"SK PRC\")\n",
    "plt.subplot(1, 2, 2)\n",
    "harry_plotter.plot_values(recall[3], precision[3], \n",
    "                          ylim=(-0.05, 1.05),\n",
    "                          xlabel=\"recall\", \n",
    "                          ylabel=\"precision\", \n",
    "                          title=\"MP PRC\", \n",
    "                          outfile=io.resolve_path(c.TEMP_DIR) / \"prc_future.pdf\")"
   ]
  }
 ],
 "metadata": {
  "kernelspec": {
   "display_name": "Python 3 (ipykernel)",
   "language": "python",
   "name": "python3"
  },
  "language_info": {
   "codemirror_mode": {
    "name": "ipython",
    "version": 3
   },
   "file_extension": ".py",
   "mimetype": "text/x-python",
   "name": "python",
   "nbconvert_exporter": "python",
   "pygments_lexer": "ipython3",
   "version": "3.9.7"
  }
 },
 "nbformat": 4,
 "nbformat_minor": 5
}
