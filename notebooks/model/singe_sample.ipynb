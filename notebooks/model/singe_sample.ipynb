{
 "cells": [
  {
   "cell_type": "markdown",
   "metadata": {
    "collapsed": true,
    "pycharm": {
     "name": "#%% md\n"
    }
   },
   "source": [
    "# Single Sample Fitting\n",
    "\n",
    "This notebooks explores for a given model if it is able to fit a dataset consisting of only a single sample."
   ]
  },
  {
   "cell_type": "code",
   "execution_count": 79,
   "outputs": [],
   "source": [
    "import torch\n",
    "from torch.utils.data import TensorDataset, DataLoader\n",
    "from fitter import Fitter\n",
    "from torch.optim import Adam\n",
    "from torch.nn import CrossEntropyLoss\n",
    "from torch.nn.functional import softmax\n",
    "from models import *\n",
    "from torchmetrics import MetricCollection, Accuracy"
   ],
   "metadata": {
    "collapsed": false,
    "pycharm": {
     "name": "#%%\n"
    }
   }
  },
  {
   "cell_type": "code",
   "execution_count": 80,
   "outputs": [
    {
     "name": "stdout",
     "output_type": "stream",
     "text": [
      "dataset: (tensor([[0., 1., 0., 0., 0.],\n",
      "        [0., 0., 0., 1., 0.]]), tensor([0, 1, 0, 1, 0]))\n"
     ]
    }
   ],
   "source": [
    "samples = torch.tensor([[[0, 1, 0, 0, 0],\n",
    "                        [0, 0, 0, 1, 0]]], dtype=torch.float)\n",
    "labels = torch.tensor([[0, 1, 0, 1, 0]], dtype=torch.long)\n",
    "ds = TensorDataset(samples, labels)\n",
    "\n",
    "print(\"dataset:\", ds[0])"
   ],
   "metadata": {
    "collapsed": false,
    "pycharm": {
     "name": "#%%\n"
    }
   }
  },
  {
   "cell_type": "code",
   "execution_count": 81,
   "outputs": [],
   "source": [
    "model = MLP(num_channels=2,\n",
    "            window_size=5,\n",
    "            future_size=0,\n",
    "            num_classes=2,\n",
    "            hidden_sizes=[32],\n",
    "            channel_sizes=[32],\n",
    "            kernel_sizes=[3],\n",
    "            stride_sizes=[1],\n",
    "            pool_sizes=[1],\n",
    "            dropout_rate=0,\n",
    "            rnn_layers=4,\n",
    "            rnn_state_size=32)"
   ],
   "metadata": {
    "collapsed": false,
    "pycharm": {
     "name": "#%%\n"
    }
   }
  },
  {
   "cell_type": "code",
   "execution_count": 82,
   "outputs": [],
   "source": [
    "fitter = Fitter(Adam(model.parameters()),\n",
    "                CrossEntropyLoss(),\n",
    "                MetricCollection(Accuracy()),\n",
    "                MetricCollection([]),\n",
    "                max_epochs=100,\n",
    "                log_every=0,\n",
    "                train_device=\"cpu\",\n",
    "                eval_device=\"cpu\")"
   ],
   "metadata": {
    "collapsed": false,
    "pycharm": {
     "name": "#%%\n"
    }
   }
  },
  {
   "cell_type": "code",
   "execution_count": 83,
   "outputs": [
    {
     "name": "stdout",
     "output_type": "stream",
     "text": [
      "Training on 1 samples\n",
      "Evaluating on 1 samples\n",
      "Epoch 1/100\n",
      "1/1 [====================] loss: 0.70212400 | Accuracy: 0.40000001 \n",
      "Epoch 2/100\n",
      "1/1 [====================] loss: 0.69662714 | Accuracy: 0.40000001 \n",
      "Epoch 3/100\n",
      "1/1 [====================] loss: 0.69118011 | Accuracy: 0.40000001 \n",
      "Epoch 4/100\n",
      "1/1 [====================] loss: 0.68577570 | Accuracy: 0.40000001 \n",
      "Epoch 5/100\n",
      "1/1 [====================] loss: 0.68040878 | Accuracy: 0.40000001 \n",
      "Epoch 6/100\n",
      "1/1 [====================] loss: 0.67507517 | Accuracy: 0.40000001 \n",
      "Epoch 7/100\n",
      "1/1 [====================] loss: 0.66977274 | Accuracy: 0.60000002 \n",
      "Epoch 8/100\n",
      "1/1 [====================] loss: 0.66449875 | Accuracy: 0.80000001 \n",
      "Epoch 9/100\n",
      "1/1 [====================] loss: 0.65924990 | Accuracy: 0.80000001 \n",
      "Epoch 10/100\n",
      "1/1 [====================] loss: 0.65402210 | Accuracy: 0.80000001 \n",
      "Epoch 11/100\n",
      "1/1 [====================] loss: 0.64881122 | Accuracy: 0.80000001 \n",
      "Epoch 12/100\n",
      "1/1 [====================] loss: 0.64361358 | Accuracy: 0.80000001 \n",
      "Epoch 13/100\n",
      "1/1 [====================] loss: 0.63842613 | Accuracy: 0.80000001 \n",
      "Epoch 14/100\n",
      "1/1 [====================] loss: 0.63324630 | Accuracy: 0.80000001 \n",
      "Epoch 15/100\n",
      "1/1 [====================] loss: 0.62807226 | Accuracy: 0.80000001 \n",
      "Epoch 16/100\n",
      "1/1 [====================] loss: 0.62290245 | Accuracy: 0.80000001 \n",
      "Epoch 17/100\n",
      "1/1 [====================] loss: 0.61773539 | Accuracy: 0.80000001 \n",
      "Epoch 18/100\n",
      "1/1 [====================] loss: 0.61256969 | Accuracy: 0.80000001 \n",
      "Epoch 19/100\n",
      "1/1 [====================] loss: 0.60740423 | Accuracy: 0.80000001 \n",
      "Epoch 20/100\n",
      "1/1 [====================] loss: 0.60223758 | Accuracy: 0.80000001 \n",
      "Epoch 21/100\n",
      "1/1 [====================] loss: 0.59706849 | Accuracy: 1.00000000 \n",
      "Epoch 22/100\n",
      "1/1 [====================] loss: 0.59189570 | Accuracy: 1.00000000 \n",
      "Epoch 23/100\n",
      "1/1 [====================] loss: 0.58671790 | Accuracy: 1.00000000 \n",
      "Epoch 24/100\n",
      "1/1 [====================] loss: 0.58153379 | Accuracy: 1.00000000 \n",
      "Epoch 25/100\n",
      "1/1 [====================] loss: 0.57634199 | Accuracy: 1.00000000 \n",
      "Epoch 26/100\n",
      "1/1 [====================] loss: 0.57114136 | Accuracy: 1.00000000 \n",
      "Epoch 27/100\n",
      "1/1 [====================] loss: 0.56593055 | Accuracy: 1.00000000 \n",
      "Epoch 28/100\n",
      "1/1 [====================] loss: 0.56070852 | Accuracy: 1.00000000 \n",
      "Epoch 29/100\n",
      "1/1 [====================] loss: 0.55547416 | Accuracy: 1.00000000 \n",
      "Epoch 30/100\n",
      "1/1 [====================] loss: 0.55022639 | Accuracy: 1.00000000 \n",
      "Epoch 31/100\n",
      "1/1 [====================] loss: 0.54496443 | Accuracy: 1.00000000 \n",
      "Epoch 32/100\n",
      "1/1 [====================] loss: 0.53968740 | Accuracy: 1.00000000 \n",
      "Epoch 33/100\n",
      "1/1 [====================] loss: 0.53439486 | Accuracy: 1.00000000 \n",
      "Epoch 34/100\n",
      "1/1 [====================] loss: 0.52908599 | Accuracy: 1.00000000 \n",
      "Epoch 35/100\n",
      "1/1 [====================] loss: 0.52376074 | Accuracy: 1.00000000 \n",
      "Epoch 36/100\n",
      "1/1 [====================] loss: 0.51841879 | Accuracy: 1.00000000 \n",
      "Epoch 37/100\n",
      "1/1 [====================] loss: 0.51305997 | Accuracy: 1.00000000 \n",
      "Epoch 38/100\n",
      "1/1 [====================] loss: 0.50769675 | Accuracy: 1.00000000 \n",
      "Epoch 39/100\n",
      "1/1 [====================] loss: 0.50232810 | Accuracy: 1.00000000 \n",
      "Epoch 40/100\n",
      "1/1 [====================] loss: 0.49694163 | Accuracy: 1.00000000 \n",
      "Epoch 41/100\n",
      "1/1 [====================] loss: 0.49153787 | Accuracy: 1.00000000 \n",
      "Epoch 42/100\n",
      "1/1 [====================] loss: 0.48611784 | Accuracy: 1.00000000 \n",
      "Epoch 43/100\n",
      "1/1 [====================] loss: 0.48068228 | Accuracy: 1.00000000 \n",
      "Epoch 44/100\n",
      "1/1 [====================] loss: 0.47523230 | Accuracy: 1.00000000 \n",
      "Epoch 45/100\n",
      "1/1 [====================] loss: 0.46976891 | Accuracy: 1.00000000 \n",
      "Epoch 46/100\n",
      "1/1 [====================] loss: 0.46429339 | Accuracy: 1.00000000 \n",
      "Epoch 47/100\n",
      "1/1 [====================] loss: 0.45880690 | Accuracy: 1.00000000 \n",
      "Epoch 48/100\n",
      "1/1 [====================] loss: 0.45331091 | Accuracy: 1.00000000 \n",
      "Epoch 49/100\n",
      "1/1 [====================] loss: 0.44780689 | Accuracy: 1.00000000 \n",
      "Epoch 50/100\n",
      "1/1 [====================] loss: 0.44229621 | Accuracy: 1.00000000 \n",
      "Epoch 51/100\n",
      "1/1 [====================] loss: 0.43678054 | Accuracy: 1.00000000 \n",
      "Epoch 52/100\n",
      "1/1 [====================] loss: 0.43126145 | Accuracy: 1.00000000 \n",
      "Epoch 53/100\n",
      "1/1 [====================] loss: 0.42574066 | Accuracy: 1.00000000 \n",
      "Epoch 54/100\n",
      "1/1 [====================] loss: 0.42021996 | Accuracy: 1.00000000 \n",
      "Epoch 55/100\n",
      "1/1 [====================] loss: 0.41470093 | Accuracy: 1.00000000 \n",
      "Epoch 56/100\n",
      "1/1 [====================] loss: 0.40918565 | Accuracy: 1.00000000 \n",
      "Epoch 57/100\n",
      "1/1 [====================] loss: 0.40367573 | Accuracy: 1.00000000 \n",
      "Epoch 58/100\n",
      "1/1 [====================] loss: 0.39817324 | Accuracy: 1.00000000 \n",
      "Epoch 59/100\n",
      "1/1 [====================] loss: 0.39267993 | Accuracy: 1.00000000 \n",
      "Epoch 60/100\n",
      "1/1 [====================] loss: 0.38719782 | Accuracy: 1.00000000 \n",
      "Epoch 61/100\n",
      "1/1 [====================] loss: 0.38172886 | Accuracy: 1.00000000 \n",
      "Epoch 62/100\n",
      "1/1 [====================] loss: 0.37627488 | Accuracy: 1.00000000 \n",
      "Epoch 63/100\n",
      "1/1 [====================] loss: 0.37083799 | Accuracy: 1.00000000 \n",
      "Epoch 64/100\n",
      "1/1 [====================] loss: 0.36542004 | Accuracy: 1.00000000 \n",
      "Epoch 65/100\n",
      "1/1 [====================] loss: 0.36002302 | Accuracy: 1.00000000 \n",
      "Epoch 66/100\n",
      "1/1 [====================] loss: 0.35464889 | Accuracy: 1.00000000 \n",
      "Epoch 67/100\n",
      "1/1 [====================] loss: 0.34929961 | Accuracy: 1.00000000 \n",
      "Epoch 68/100\n",
      "1/1 [====================] loss: 0.34397700 | Accuracy: 1.00000000 \n",
      "Epoch 69/100\n",
      "1/1 [====================] loss: 0.33868307 | Accuracy: 1.00000000 \n",
      "Epoch 70/100\n",
      "1/1 [====================] loss: 0.33341962 | Accuracy: 1.00000000 \n",
      "Epoch 71/100\n",
      "1/1 [====================] loss: 0.32818857 | Accuracy: 1.00000000 \n",
      "Epoch 72/100\n",
      "1/1 [====================] loss: 0.32299164 | Accuracy: 1.00000000 \n",
      "Epoch 73/100\n",
      "1/1 [====================] loss: 0.31783071 | Accuracy: 1.00000000 \n",
      "Epoch 74/100\n",
      "1/1 [====================] loss: 0.31270736 | Accuracy: 1.00000000 \n",
      "Epoch 75/100\n",
      "1/1 [====================] loss: 0.30762345 | Accuracy: 1.00000000 \n",
      "Epoch 76/100\n",
      "1/1 [====================] loss: 0.30258060 | Accuracy: 1.00000000 \n",
      "Epoch 77/100\n",
      "1/1 [====================] loss: 0.29758033 | Accuracy: 1.00000000 \n",
      "Epoch 78/100\n",
      "1/1 [====================] loss: 0.29262418 | Accuracy: 1.00000000 \n",
      "Epoch 79/100\n",
      "1/1 [====================] loss: 0.28771371 | Accuracy: 1.00000000 \n",
      "Epoch 80/100\n",
      "1/1 [====================] loss: 0.28285033 | Accuracy: 1.00000000 \n",
      "Epoch 81/100\n",
      "1/1 [====================] loss: 0.27803540 | Accuracy: 1.00000000 \n",
      "Epoch 82/100\n",
      "1/1 [====================] loss: 0.27327019 | Accuracy: 1.00000000 \n",
      "Epoch 83/100\n",
      "1/1 [====================] loss: 0.26855594 | Accuracy: 1.00000000 \n",
      "Epoch 84/100\n",
      "1/1 [====================] loss: 0.26389387 | Accuracy: 1.00000000 \n",
      "Epoch 85/100\n",
      "1/1 [====================] loss: 0.25928506 | Accuracy: 1.00000000 \n",
      "Epoch 86/100\n",
      "1/1 [====================] loss: 0.25473061 | Accuracy: 1.00000000 \n",
      "Epoch 87/100\n",
      "1/1 [====================] loss: 0.25023136 | Accuracy: 1.00000000 \n",
      "Epoch 88/100\n",
      "1/1 [====================] loss: 0.24578837 | Accuracy: 1.00000000 \n",
      "Epoch 89/100\n",
      "1/1 [====================] loss: 0.24140231 | Accuracy: 1.00000000 \n",
      "Epoch 90/100\n",
      "1/1 [====================] loss: 0.23707406 | Accuracy: 1.00000000 \n",
      "Epoch 91/100\n",
      "1/1 [====================] loss: 0.23280425 | Accuracy: 1.00000000 \n",
      "Epoch 92/100\n",
      "1/1 [====================] loss: 0.22859350 | Accuracy: 1.00000000 \n",
      "Epoch 93/100\n",
      "1/1 [====================] loss: 0.22444239 | Accuracy: 1.00000000 \n",
      "Epoch 94/100\n",
      "1/1 [====================] loss: 0.22035137 | Accuracy: 1.00000000 \n",
      "Epoch 95/100\n",
      "1/1 [====================] loss: 0.21632083 | Accuracy: 1.00000000 \n",
      "Epoch 96/100\n",
      "1/1 [====================] loss: 0.21235108 | Accuracy: 1.00000000 \n",
      "Epoch 97/100\n",
      "1/1 [====================] loss: 0.20844254 | Accuracy: 1.00000000 \n",
      "Epoch 98/100\n",
      "1/1 [====================] loss: 0.20459525 | Accuracy: 1.00000000 \n",
      "Epoch 99/100\n",
      "1/1 [====================] loss: 0.20080948 | Accuracy: 1.00000000 \n",
      "Epoch 100/100\n",
      "1/1 [====================] loss: 0.19708522 | Accuracy: 1.00000000 \n"
     ]
    }
   ],
   "source": [
    "fitter.fit(model, DataLoader(ds), DataLoader(ds))"
   ],
   "metadata": {
    "collapsed": false,
    "pycharm": {
     "name": "#%%\n"
    }
   }
  },
  {
   "cell_type": "code",
   "execution_count": 86,
   "outputs": [
    {
     "name": "stdout",
     "output_type": "stream",
     "text": [
      "tensor([[0.3055, 0.0470, 0.3278, 0.0665, 0.2532],\n",
      "        [0.0759, 0.3641, 0.1024, 0.3792, 0.0784]], grad_fn=<SoftmaxBackward0>)\n"
     ]
    }
   ],
   "source": [
    "print(softmax(model(samples[0]), dim=1))"
   ],
   "metadata": {
    "collapsed": false,
    "pycharm": {
     "name": "#%%\n"
    }
   }
  }
 ],
 "metadata": {
  "kernelspec": {
   "display_name": "Python 3",
   "language": "python",
   "name": "python3"
  },
  "language_info": {
   "codemirror_mode": {
    "name": "ipython",
    "version": 2
   },
   "file_extension": ".py",
   "mimetype": "text/x-python",
   "name": "python",
   "nbconvert_exporter": "python",
   "pygments_lexer": "ipython2",
   "version": "2.7.6"
  }
 },
 "nbformat": 4,
 "nbformat_minor": 0
}