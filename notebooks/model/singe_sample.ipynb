{
 "cells": [
  {
   "cell_type": "markdown",
   "metadata": {
    "collapsed": true,
    "pycharm": {
     "name": "#%% md\n"
    }
   },
   "source": [
    "# Single Sample Fitting\n",
    "\n",
    "This notebooks explores for a given model if it is able to fit a dataset consisting of only a single sample."
   ]
  },
  {
   "cell_type": "code",
   "execution_count": 1,
   "outputs": [],
   "source": [
    "import torch\n",
    "\n",
    "from learning.fitter import Fitter\n",
    "from learning.models import *\n",
    "from torch.optim import Adam\n",
    "from torch.nn import CrossEntropyLoss\n",
    "from torch.nn.functional import softmax\n",
    "from torch.utils.data import TensorDataset, DataLoader\n",
    "from torchmetrics import MetricCollection, Accuracy"
   ],
   "metadata": {
    "collapsed": false,
    "pycharm": {
     "name": "#%%\n"
    }
   }
  },
  {
   "cell_type": "code",
   "execution_count": 2,
   "outputs": [
    {
     "name": "stdout",
     "output_type": "stream",
     "text": [
      "dataset: (tensor([[0., 1., 0., 0., 0.],\n",
      "        [0., 0., 0., 1., 0.]]), tensor([0, 1, 0, 1, 0]))\n"
     ]
    }
   ],
   "source": [
    "samples = torch.tensor([[[0, 1, 0, 0, 0],\n",
    "                        [0, 0, 0, 1, 0]]], dtype=torch.float)\n",
    "labels = torch.tensor([[0, 1, 0, 1, 0]], dtype=torch.long)\n",
    "ds = TensorDataset(samples, labels)\n",
    "\n",
    "print(\"dataset:\", ds[0])"
   ],
   "metadata": {
    "collapsed": false,
    "pycharm": {
     "name": "#%%\n"
    }
   }
  },
  {
   "cell_type": "code",
   "execution_count": 3,
   "outputs": [],
   "source": [
    "model = ACRNN(num_channels=2,\n",
    "            window_size=5,\n",
    "            future_size=0,\n",
    "            num_classes=2,\n",
    "            hidden_sizes=[32],\n",
    "            channel_sizes=[128],\n",
    "            kernel_sizes=[3, 5, 7],\n",
    "            stride_sizes=[1, 1, 1],\n",
    "            dilation_sizes=[1, 1, 1],\n",
    "            pool_sizes=[1, 1, 1],\n",
    "            dropout_rate=0,\n",
    "            batch_normalization=False,\n",
    "            state_sizes=[32],\n",
    "            attn_sizes=[32, 32, 32],\n",
    "            head_sizes=[4, 4, 4])"
   ],
   "metadata": {
    "collapsed": false,
    "pycharm": {
     "name": "#%%\n"
    }
   }
  },
  {
   "cell_type": "code",
   "execution_count": 4,
   "outputs": [],
   "source": [
    "fitter = Fitter(Adam(model.parameters()),\n",
    "                CrossEntropyLoss(),\n",
    "                MetricCollection(Accuracy()),\n",
    "                MetricCollection([]),\n",
    "                max_epochs=100,\n",
    "                log_every=0,\n",
    "                train_device=\"cpu\",\n",
    "                eval_device=\"cpu\")"
   ],
   "metadata": {
    "collapsed": false,
    "pycharm": {
     "name": "#%%\n"
    }
   }
  },
  {
   "cell_type": "code",
   "execution_count": 5,
   "outputs": [
    {
     "name": "stdout",
     "output_type": "stream",
     "text": [
      "Training on 1 samples\n",
      "Evaluating on 1 samples\n",
      "Epoch 1/100\n",
      "1/1 [====================] loss: 0.69043756 | Accuracy: 0.60000002 \n",
      "Epoch 2/100\n",
      "1/1 [====================] loss: 0.68872553 | Accuracy: 0.60000002 \n",
      "Epoch 3/100\n",
      "1/1 [====================] loss: 0.68707472 | Accuracy: 0.60000002 \n",
      "Epoch 4/100\n",
      "1/1 [====================] loss: 0.68551761 | Accuracy: 0.60000002 \n",
      "Epoch 5/100\n",
      "1/1 [====================] loss: 0.68405420 | Accuracy: 0.60000002 \n",
      "Epoch 6/100\n",
      "1/1 [====================] loss: 0.68255532 | Accuracy: 0.60000002 \n",
      "Epoch 7/100\n",
      "1/1 [====================] loss: 0.68100309 | Accuracy: 0.60000002 \n",
      "Epoch 8/100\n",
      "1/1 [====================] loss: 0.67946482 | Accuracy: 0.60000002 \n",
      "Epoch 9/100\n",
      "1/1 [====================] loss: 0.67792344 | Accuracy: 0.60000002 \n",
      "Epoch 10/100\n",
      "1/1 [====================] loss: 0.67629623 | Accuracy: 0.60000002 \n",
      "Epoch 11/100\n",
      "1/1 [====================] loss: 0.67440861 | Accuracy: 0.60000002 \n",
      "Epoch 12/100\n",
      "1/1 [====================] loss: 0.67217672 | Accuracy: 0.60000002 \n",
      "Epoch 13/100\n",
      "1/1 [====================] loss: 0.66990101 | Accuracy: 0.60000002 \n",
      "Epoch 14/100\n",
      "1/1 [====================] loss: 0.66731340 | Accuracy: 0.60000002 \n",
      "Epoch 15/100\n",
      "1/1 [====================] loss: 0.66426277 | Accuracy: 0.60000002 \n",
      "Epoch 16/100\n",
      "1/1 [====================] loss: 0.66059244 | Accuracy: 0.60000002 \n",
      "Epoch 17/100\n",
      "1/1 [====================] loss: 0.65602648 | Accuracy: 0.60000002 \n",
      "Epoch 18/100\n",
      "1/1 [====================] loss: 0.65015459 | Accuracy: 0.60000002 \n",
      "Epoch 19/100\n",
      "1/1 [====================] loss: 0.64235330 | Accuracy: 0.60000002 \n",
      "Epoch 20/100\n",
      "1/1 [====================] loss: 0.63216388 | Accuracy: 0.60000002 \n",
      "Epoch 21/100\n",
      "1/1 [====================] loss: 0.61922008 | Accuracy: 0.60000002 \n",
      "Epoch 22/100\n",
      "1/1 [====================] loss: 0.60246003 | Accuracy: 0.60000002 \n",
      "Epoch 23/100\n",
      "1/1 [====================] loss: 0.58168042 | Accuracy: 0.60000002 \n",
      "Epoch 24/100\n",
      "1/1 [====================] loss: 0.55509394 | Accuracy: 0.60000002 \n",
      "Epoch 25/100\n",
      "1/1 [====================] loss: 0.52315503 | Accuracy: 0.60000002 \n",
      "Epoch 26/100\n",
      "1/1 [====================] loss: 0.48723221 | Accuracy: 0.60000002 \n",
      "Epoch 27/100\n",
      "1/1 [====================] loss: 0.45053974 | Accuracy: 0.60000002 \n",
      "Epoch 28/100\n",
      "1/1 [====================] loss: 0.41447359 | Accuracy: 0.60000002 \n",
      "Epoch 29/100\n",
      "1/1 [====================] loss: 0.38087696 | Accuracy: 0.60000002 \n",
      "Epoch 30/100\n",
      "1/1 [====================] loss: 0.35415500 | Accuracy: 0.60000002 \n",
      "Epoch 31/100\n",
      "1/1 [====================] loss: 0.33507374 | Accuracy: 0.60000002 \n",
      "Epoch 32/100\n",
      "1/1 [====================] loss: 0.32102576 | Accuracy: 0.60000002 \n",
      "Epoch 33/100\n",
      "1/1 [====================] loss: 0.30880472 | Accuracy: 0.60000002 \n",
      "Epoch 34/100\n",
      "1/1 [====================] loss: 0.29597801 | Accuracy: 0.60000002 \n",
      "Epoch 35/100\n",
      "1/1 [====================] loss: 0.28371039 | Accuracy: 0.60000002 \n",
      "Epoch 36/100\n",
      "1/1 [====================] loss: 0.27413952 | Accuracy: 1.00000000 \n",
      "Epoch 37/100\n",
      "1/1 [====================] loss: 0.26999933 | Accuracy: 1.00000000 \n",
      "Epoch 38/100\n",
      "1/1 [====================] loss: 0.26613241 | Accuracy: 1.00000000 \n",
      "Epoch 39/100\n",
      "1/1 [====================] loss: 0.26214099 | Accuracy: 1.00000000 \n",
      "Epoch 40/100\n",
      "1/1 [====================] loss: 0.25596324 | Accuracy: 1.00000000 \n",
      "Epoch 41/100\n",
      "1/1 [====================] loss: 0.24745831 | Accuracy: 1.00000000 \n",
      "Epoch 42/100\n",
      "1/1 [====================] loss: 0.23617038 | Accuracy: 1.00000000 \n",
      "Epoch 43/100\n",
      "1/1 [====================] loss: 0.22149687 | Accuracy: 1.00000000 \n",
      "Epoch 44/100\n",
      "1/1 [====================] loss: 0.20280989 | Accuracy: 1.00000000 \n",
      "Epoch 45/100\n",
      "1/1 [====================] loss: 0.17959079 | Accuracy: 1.00000000 \n",
      "Epoch 46/100\n",
      "1/1 [====================] loss: 0.15125586 | Accuracy: 1.00000000 \n",
      "Epoch 47/100\n",
      "1/1 [====================] loss: 0.11835466 | Accuracy: 1.00000000 \n",
      "Epoch 48/100\n",
      "1/1 [====================] loss: 0.08325733 | Accuracy: 1.00000000 \n",
      "Epoch 49/100\n",
      "1/1 [====================] loss: 0.05048310 | Accuracy: 1.00000000 \n",
      "Epoch 50/100\n",
      "1/1 [====================] loss: 0.02517258 | Accuracy: 1.00000000 \n",
      "Epoch 51/100\n",
      "1/1 [====================] loss: 0.01000686 | Accuracy: 1.00000000 \n",
      "Epoch 52/100\n",
      "1/1 [====================] loss: 0.00316948 | Accuracy: 1.00000000 \n",
      "Epoch 53/100\n",
      "1/1 [====================] loss: 0.00082000 | Accuracy: 1.00000000 \n",
      "Epoch 54/100\n",
      "1/1 [====================] loss: 0.00018999 | Accuracy: 1.00000000 \n",
      "Epoch 55/100\n",
      "1/1 [====================] loss: 0.00010237 | Accuracy: 1.00000000 \n",
      "Epoch 56/100\n",
      "1/1 [====================] loss: 0.00037928 | Accuracy: 1.00000000 \n",
      "Epoch 57/100\n",
      "1/1 [====================] loss: 0.00100450 | Accuracy: 1.00000000 \n",
      "Epoch 58/100\n",
      "1/1 [====================] loss: 0.00040299 | Accuracy: 1.00000000 \n",
      "Epoch 59/100\n",
      "1/1 [====================] loss: 0.00008473 | Accuracy: 1.00000000 \n",
      "Epoch 60/100\n",
      "1/1 [====================] loss: 0.00001773 | Accuracy: 1.00000000 \n",
      "Epoch 61/100\n",
      "1/1 [====================] loss: 0.00000492 | Accuracy: 1.00000000 \n",
      "Epoch 62/100\n",
      "1/1 [====================] loss: 0.00000237 | Accuracy: 1.00000000 \n",
      "Epoch 63/100\n",
      "1/1 [====================] loss: 0.00000184 | Accuracy: 1.00000000 \n",
      "Epoch 64/100\n",
      "1/1 [====================] loss: 0.00000172 | Accuracy: 1.00000000 \n",
      "Epoch 65/100\n",
      "1/1 [====================] loss: 0.00000169 | Accuracy: 1.00000000 \n",
      "Epoch 66/100\n",
      "1/1 [====================] loss: 0.00000167 | Accuracy: 1.00000000 \n",
      "Epoch 67/100\n",
      "1/1 [====================] loss: 0.00000165 | Accuracy: 1.00000000 \n",
      "Epoch 68/100\n",
      "1/1 [====================] loss: 0.00000163 | Accuracy: 1.00000000 \n",
      "Epoch 69/100\n",
      "1/1 [====================] loss: 0.00000160 | Accuracy: 1.00000000 \n",
      "Epoch 70/100\n",
      "1/1 [====================] loss: 0.00000156 | Accuracy: 1.00000000 \n",
      "Epoch 71/100\n",
      "1/1 [====================] loss: 0.00000152 | Accuracy: 1.00000000 \n",
      "Epoch 72/100\n",
      "1/1 [====================] loss: 0.00000148 | Accuracy: 1.00000000 \n",
      "Epoch 73/100\n",
      "1/1 [====================] loss: 0.00000143 | Accuracy: 1.00000000 \n",
      "Epoch 74/100\n",
      "1/1 [====================] loss: 0.00000138 | Accuracy: 1.00000000 \n",
      "Epoch 75/100\n",
      "1/1 [====================] loss: 0.00000133 | Accuracy: 1.00000000 \n",
      "Epoch 76/100\n",
      "1/1 [====================] loss: 0.00000128 | Accuracy: 1.00000000 \n",
      "Epoch 77/100\n",
      "1/1 [====================] loss: 0.00000122 | Accuracy: 1.00000000 \n",
      "Epoch 78/100\n",
      "1/1 [====================] loss: 0.00000117 | Accuracy: 1.00000000 \n",
      "Epoch 79/100\n",
      "1/1 [====================] loss: 0.00000111 | Accuracy: 1.00000000 \n",
      "Epoch 80/100\n",
      "1/1 [====================] loss: 0.00000106 | Accuracy: 1.00000000 \n",
      "Epoch 81/100\n",
      "1/1 [====================] loss: 0.00000101 | Accuracy: 1.00000000 \n",
      "Epoch 82/100\n",
      "1/1 [====================] loss: 0.00000096 | Accuracy: 1.00000000 \n",
      "Epoch 83/100\n",
      "1/1 [====================] loss: 0.00000091 | Accuracy: 1.00000000 \n",
      "Epoch 84/100\n",
      "1/1 [====================] loss: 0.00000087 | Accuracy: 1.00000000 \n",
      "Epoch 85/100\n",
      "1/1 [====================] loss: 0.00000082 | Accuracy: 1.00000000 \n",
      "Epoch 86/100\n",
      "1/1 [====================] loss: 0.00000078 | Accuracy: 1.00000000 \n",
      "Epoch 87/100\n",
      "1/1 [====================] loss: 0.00000074 | Accuracy: 1.00000000 \n",
      "Epoch 88/100\n",
      "1/1 [====================] loss: 0.00000071 | Accuracy: 1.00000000 \n",
      "Epoch 89/100\n",
      "1/1 [====================] loss: 0.00000068 | Accuracy: 1.00000000 \n",
      "Epoch 90/100\n",
      "1/1 [====================] loss: 0.00000064 | Accuracy: 1.00000000 \n",
      "Epoch 91/100\n",
      "1/1 [====================] loss: 0.00000061 | Accuracy: 1.00000000 \n",
      "Epoch 92/100\n",
      "1/1 [====================] loss: 0.00000059 | Accuracy: 1.00000000 \n",
      "Epoch 93/100\n",
      "1/1 [====================] loss: 0.00000056 | Accuracy: 1.00000000 \n",
      "Epoch 94/100\n",
      "1/1 [====================] loss: 0.00000054 | Accuracy: 1.00000000 \n",
      "Epoch 95/100\n",
      "1/1 [====================] loss: 0.00000051 | Accuracy: 1.00000000 \n",
      "Epoch 96/100\n",
      "1/1 [====================] loss: 0.00000049 | Accuracy: 1.00000000 \n",
      "Epoch 97/100\n",
      "1/1 [====================] loss: 0.00000047 | Accuracy: 1.00000000 \n",
      "Epoch 98/100\n",
      "1/1 [====================] loss: 0.00000045 | Accuracy: 1.00000000 \n",
      "Epoch 99/100\n",
      "1/1 [====================] loss: 0.00000044 | Accuracy: 1.00000000 \n",
      "Epoch 100/100\n",
      "1/1 [====================] loss: 0.00000042 | Accuracy: 1.00000000 \n"
     ]
    }
   ],
   "source": [
    "fitter.fit(model, DataLoader(ds), DataLoader(ds))"
   ],
   "metadata": {
    "collapsed": false,
    "pycharm": {
     "name": "#%%\n"
    }
   }
  },
  {
   "cell_type": "code",
   "execution_count": 6,
   "outputs": [
    {
     "name": "stdout",
     "output_type": "stream",
     "text": [
      "tensor([[[1.0000e+00, 1.1456e-20, 1.0000e+00, 1.2398e-20, 1.0000e+00],\n",
      "         [2.0221e-06, 1.0000e+00, 8.1363e-20, 1.0000e+00, 4.6629e-14]]],\n",
      "       grad_fn=<SoftmaxBackward0>)\n"
     ]
    }
   ],
   "source": [
    "print(softmax(model(samples), dim=1))"
   ],
   "metadata": {
    "collapsed": false,
    "pycharm": {
     "name": "#%%\n"
    }
   }
  }
 ],
 "metadata": {
  "kernelspec": {
   "display_name": "Python 3",
   "language": "python",
   "name": "python3"
  },
  "language_info": {
   "codemirror_mode": {
    "name": "ipython",
    "version": 2
   },
   "file_extension": ".py",
   "mimetype": "text/x-python",
   "name": "python",
   "nbconvert_exporter": "python",
   "pygments_lexer": "ipython2",
   "version": "2.7.6"
  }
 },
 "nbformat": 4,
 "nbformat_minor": 0
}