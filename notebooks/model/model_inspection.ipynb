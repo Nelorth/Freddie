{
 "cells": [
  {
   "cell_type": "markdown",
   "source": [
    "# Model Inspection"
   ],
   "metadata": {
    "collapsed": false,
    "pycharm": {
     "name": "#%% md\n"
    }
   }
  },
  {
   "cell_type": "code",
   "execution_count": 6,
   "metadata": {
    "collapsed": true
   },
   "outputs": [],
   "source": [
    "from learning.models import *\n",
    "from torchinfo import summary"
   ]
  },
  {
   "cell_type": "markdown",
   "source": [
    "Define a model"
   ],
   "metadata": {
    "collapsed": false,
    "pycharm": {
     "name": "#%% md\n"
    }
   }
  },
  {
   "cell_type": "code",
   "execution_count": 7,
   "outputs": [],
   "source": [
    "model = FCN(num_channels=9,\n",
    "            window_size=120,\n",
    "            future_size=20,\n",
    "            hidden_sizes=None,\n",
    "            channel_sizes=[128, 128, 128],\n",
    "            kernel_sizes=[3, 5, 7, 5, 3],\n",
    "            stride_sizes=[1, 1, 1, 1, 1],\n",
    "            dilation_sizes=[1, 1, 1],\n",
    "            pool_sizes=[2, 2, 2, 1, 1],\n",
    "            state_sizes=[64, 64, 64],\n",
    "            attn_sizes=[128, 128, 128],\n",
    "            head_sizes=[4, 4, 4],\n",
    "            dropout_rate=0,\n",
    "            batch_normalization=False)"
   ],
   "metadata": {
    "collapsed": false,
    "pycharm": {
     "name": "#%%\n"
    }
   }
  },
  {
   "cell_type": "markdown",
   "source": [
    "Print the model's components"
   ],
   "metadata": {
    "collapsed": false,
    "pycharm": {
     "name": "#%% md\n"
    }
   }
  },
  {
   "cell_type": "code",
   "execution_count": 8,
   "outputs": [
    {
     "name": "stdout",
     "output_type": "stream",
     "text": [
      "FCN(\n",
      "  (conv_stack): ConvStack(\n",
      "    (conv0): Conv1d(9, 128, kernel_size=(3,), stride=(1,), padding=(1,))\n",
      "    (relu0): ReLU()\n",
      "    (max_pool0): MaxPool1d(kernel_size=2, stride=2, padding=0, dilation=1, ceil_mode=False)\n",
      "    (conv1): Conv1d(128, 128, kernel_size=(5,), stride=(1,), padding=(2,))\n",
      "    (relu1): ReLU()\n",
      "    (max_pool1): MaxPool1d(kernel_size=2, stride=2, padding=0, dilation=1, ceil_mode=False)\n",
      "    (conv2): Conv1d(128, 128, kernel_size=(7,), stride=(1,), padding=(3,))\n",
      "    (relu2): ReLU()\n",
      "    (max_pool2): MaxPool1d(kernel_size=2, stride=2, padding=0, dilation=1, ceil_mode=False)\n",
      "  )\n",
      "  (out_conv): Conv1d(128, 700, kernel_size=(1,), stride=(1,))\n",
      "  (gap): AvgPool1d(kernel_size=(15,), stride=(15,), padding=(0,))\n",
      "  (unflatten): Unflatten(dim=-1, unflattened_size=(5, 140))\n",
      ")\n"
     ]
    }
   ],
   "source": [
    "print(model)"
   ],
   "metadata": {
    "collapsed": false,
    "pycharm": {
     "name": "#%%\n"
    }
   }
  },
  {
   "cell_type": "markdown",
   "source": [
    "Analyze the parameter sizes"
   ],
   "metadata": {
    "collapsed": false,
    "pycharm": {
     "name": "#%% md\n"
    }
   }
  },
  {
   "cell_type": "code",
   "execution_count": 9,
   "outputs": [
    {
     "data": {
      "text/plain": "==========================================================================================\nLayer (type:depth-idx)                   Output Shape              Param #\n==========================================================================================\nFCN                                      --                        --\n├─ConvStack: 1-1                         [1, 128, 15]              --\n│    └─Conv1d: 2-1                       [1, 128, 120]             3,584\n│    └─ReLU: 2-2                         [1, 128, 120]             --\n│    └─MaxPool1d: 2-3                    [1, 128, 60]              --\n│    └─Conv1d: 2-4                       [1, 128, 60]              82,048\n│    └─ReLU: 2-5                         [1, 128, 60]              --\n│    └─MaxPool1d: 2-6                    [1, 128, 30]              --\n│    └─Conv1d: 2-7                       [1, 128, 30]              114,816\n│    └─ReLU: 2-8                         [1, 128, 30]              --\n│    └─MaxPool1d: 2-9                    [1, 128, 15]              --\n├─Conv1d: 1-2                            [1, 700, 15]              90,300\n├─AvgPool1d: 1-3                         [1, 700, 1]               --\n├─Unflatten: 1-4                         [1, 5, 140]               --\n==========================================================================================\nTotal params: 290,748\nTrainable params: 290,748\nNon-trainable params: 0\nTotal mult-adds (M): 10.15\n==========================================================================================\nInput size (MB): 0.00\nForward/backward pass size (MB): 0.30\nParams size (MB): 1.16\nEstimated Total Size (MB): 1.47\n=========================================================================================="
     },
     "execution_count": 9,
     "metadata": {},
     "output_type": "execute_result"
    }
   ],
   "source": [
    "summary(model, input_size=(1, 9, 120), device=\"cpu\", depth=2)"
   ],
   "metadata": {
    "collapsed": false,
    "pycharm": {
     "name": "#%%\n"
    }
   }
  }
 ],
 "metadata": {
  "kernelspec": {
   "display_name": "Python 3",
   "language": "python",
   "name": "python3"
  },
  "language_info": {
   "codemirror_mode": {
    "name": "ipython",
    "version": 2
   },
   "file_extension": ".py",
   "mimetype": "text/x-python",
   "name": "python",
   "nbconvert_exporter": "python",
   "pygments_lexer": "ipython2",
   "version": "2.7.6"
  }
 },
 "nbformat": 4,
 "nbformat_minor": 0
}