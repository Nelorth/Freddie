{
 "cells": [
  {
   "cell_type": "markdown",
   "source": [
    "# Model Inspection"
   ],
   "metadata": {
    "collapsed": false,
    "pycharm": {
     "name": "#%% md\n"
    }
   }
  },
  {
   "cell_type": "code",
   "execution_count": 1,
   "metadata": {
    "collapsed": true
   },
   "outputs": [],
   "source": [
    "from learning.models import *\n",
    "from torchinfo import summary"
   ]
  },
  {
   "cell_type": "markdown",
   "source": [
    "Define a model"
   ],
   "metadata": {
    "collapsed": false,
    "pycharm": {
     "name": "#%% md\n"
    }
   }
  },
  {
   "cell_type": "code",
   "execution_count": 2,
   "outputs": [],
   "source": [
    "model = TNN(num_channels=9,\n",
    "            window_size=120,\n",
    "            future_size=30,\n",
    "            hidden_sizes=[64, 128],\n",
    "            channel_sizes=[64, 64, 64],\n",
    "            kernel_sizes=[3, 5, 7, 5, 3],\n",
    "            stride_sizes=[1, 1, 1, 1, 1],\n",
    "            dilation_sizes=[1, 1, 1],\n",
    "            pool_sizes=[1, 1, 1, 1, 1],\n",
    "            state_sizes=[32, 32],\n",
    "            attn_sizes=[128, 128, 128],\n",
    "            head_sizes=[4, 4, 4],\n",
    "            dropout_rate=0,\n",
    "            batch_normalization=False)"
   ],
   "metadata": {
    "collapsed": false,
    "pycharm": {
     "name": "#%%\n"
    }
   }
  },
  {
   "cell_type": "markdown",
   "source": [
    "Print the model's components"
   ],
   "metadata": {
    "collapsed": false,
    "pycharm": {
     "name": "#%% md\n"
    }
   }
  },
  {
   "cell_type": "code",
   "execution_count": 3,
   "outputs": [
    {
     "name": "stdout",
     "output_type": "stream",
     "text": [
      "TNN(\n",
      "  (zero_pad): ConstantPad1d(padding=(0, 30), value=0)\n",
      "  (swap_in): Transposer(dim1=-1, dim2=-2)\n",
      "  (linear): Linear(in_features=9, out_features=128, bias=True)\n",
      "  (trans): TransformerEncoderLayer(\n",
      "    (self_attn): MultiheadAttention(\n",
      "      (out_proj): NonDynamicallyQuantizableLinear(in_features=128, out_features=128, bias=True)\n",
      "    )\n",
      "    (linear1): Linear(in_features=128, out_features=2048, bias=True)\n",
      "    (dropout): Dropout(p=0.1, inplace=False)\n",
      "    (linear2): Linear(in_features=2048, out_features=128, bias=True)\n",
      "    (norm1): LayerNorm((128,), eps=1e-05, elementwise_affine=True)\n",
      "    (norm2): LayerNorm((128,), eps=1e-05, elementwise_affine=True)\n",
      "    (dropout1): Dropout(p=0.1, inplace=False)\n",
      "    (dropout2): Dropout(p=0.1, inplace=False)\n",
      "  )\n",
      "  (swap_out): Transposer(dim1=-1, dim2=-2)\n",
      ")\n"
     ]
    }
   ],
   "source": [
    "print(model)"
   ],
   "metadata": {
    "collapsed": false,
    "pycharm": {
     "name": "#%%\n"
    }
   }
  },
  {
   "cell_type": "markdown",
   "source": [
    "Analyze the parameter sizes"
   ],
   "metadata": {
    "collapsed": false,
    "pycharm": {
     "name": "#%% md\n"
    }
   }
  },
  {
   "cell_type": "code",
   "execution_count": 4,
   "outputs": [
    {
     "data": {
      "text/plain": "==========================================================================================\nLayer (type:depth-idx)                   Output Shape              Param #\n==========================================================================================\nTNN                                      --                        --\n├─ConstantPad1d: 1-1                     [1, 9, 150]               --\n├─Transpose: 1-2                         [1, 150, 9]               --\n├─Linear: 1-3                            [1, 150, 128]             1,280\n├─TransformerEncoderLayer: 1-4           [1, 150, 128]             --\n│    └─MultiheadAttention: 2-1           [1, 150, 128]             66,048\n│    └─Dropout: 2-2                      [1, 150, 128]             --\n│    └─LayerNorm: 2-3                    [1, 150, 128]             256\n│    └─Linear: 2-4                       [1, 150, 2048]            264,192\n│    └─Dropout: 2-5                      [1, 150, 2048]            --\n│    └─Linear: 2-6                       [1, 150, 128]             262,272\n│    └─Dropout: 2-7                      [1, 150, 128]             --\n│    └─LayerNorm: 2-8                    [1, 150, 128]             256\n├─Transpose: 1-5                         [1, 128, 150]             --\n==========================================================================================\nTotal params: 528,256\nTrainable params: 528,256\nNon-trainable params: 0\nTotal mult-adds (M): 0.53\n==========================================================================================\nInput size (MB): 0.00\nForward/backward pass size (MB): 3.07\nParams size (MB): 2.11\nEstimated Total Size (MB): 5.19\n=========================================================================================="
     },
     "execution_count": 4,
     "metadata": {},
     "output_type": "execute_result"
    }
   ],
   "source": [
    "summary(model, input_size=(1, 9, 120), device=\"cpu\", depth=2)"
   ],
   "metadata": {
    "collapsed": false,
    "pycharm": {
     "name": "#%%\n"
    }
   }
  }
 ],
 "metadata": {
  "kernelspec": {
   "display_name": "Python 3",
   "language": "python",
   "name": "python3"
  },
  "language_info": {
   "codemirror_mode": {
    "name": "ipython",
    "version": 2
   },
   "file_extension": ".py",
   "mimetype": "text/x-python",
   "name": "python",
   "nbconvert_exporter": "python",
   "pygments_lexer": "ipython2",
   "version": "2.7.6"
  }
 },
 "nbformat": 4,
 "nbformat_minor": 0
}