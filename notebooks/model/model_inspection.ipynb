{
 "cells": [
  {
   "cell_type": "markdown",
   "source": [
    "# Model Inspection"
   ],
   "metadata": {
    "collapsed": false,
    "pycharm": {
     "name": "#%% md\n"
    }
   }
  },
  {
   "cell_type": "code",
   "execution_count": 1,
   "metadata": {
    "collapsed": true
   },
   "outputs": [],
   "source": [
    "from learning.models import *\n",
    "from torchinfo import summary"
   ]
  },
  {
   "cell_type": "markdown",
   "source": [
    "Define a model"
   ],
   "metadata": {
    "collapsed": false,
    "pycharm": {
     "name": "#%% md\n"
    }
   }
  },
  {
   "cell_type": "code",
   "execution_count": 2,
   "outputs": [],
   "source": [
    "model = CRNN(num_channels=9,\n",
    "            window_size=120,\n",
    "            future_size=20,\n",
    "            hidden_sizes=None,\n",
    "            channel_sizes=[128, 128, 128],\n",
    "            kernel_sizes=[3, 5, 7, 5, 3],\n",
    "            stride_sizes=[1, 1, 1, 1, 1],\n",
    "            dilation_sizes=[1, 1, 1],\n",
    "            pool_sizes=[1, 1, 1, 1, 1],\n",
    "            state_sizes=[32, 32],\n",
    "            attn_sizes=[128, 128],\n",
    "            head_sizes=[4, 4, 4],\n",
    "            dropout_rate=0,\n",
    "            batch_normalization=False)"
   ],
   "metadata": {
    "collapsed": false,
    "pycharm": {
     "name": "#%%\n"
    }
   }
  },
  {
   "cell_type": "markdown",
   "source": [
    "Print the model's components"
   ],
   "metadata": {
    "collapsed": false,
    "pycharm": {
     "name": "#%% md\n"
    }
   }
  },
  {
   "cell_type": "code",
   "execution_count": 3,
   "outputs": [
    {
     "name": "stdout",
     "output_type": "stream",
     "text": [
      "CRNN(\n",
      "  (conv_stack): ConvStack(\n",
      "    (conv0): Conv1d(9, 128, kernel_size=(3,), stride=(1,), padding=(1,))\n",
      "    (relu0): ReLU()\n",
      "    (conv1): Conv1d(128, 128, kernel_size=(5,), stride=(1,), padding=(2,))\n",
      "    (relu1): ReLU()\n",
      "    (conv2): Conv1d(128, 128, kernel_size=(7,), stride=(1,), padding=(3,))\n",
      "    (relu2): ReLU()\n",
      "  )\n",
      "  (zero_pad): ConstantPad1d(padding=(0, 20), value=0)\n",
      "  (swap_in): Transposer(dim1=-1, dim2=-2)\n",
      "  (lstm_stack): RecurrentStack(\n",
      "    (lstm0): LSTM(128, 32, batch_first=True, bidirectional=True)\n",
      "    (proj0): Projector(dim=0)\n",
      "    (lstm1): LSTM(64, 32, batch_first=True, bidirectional=True)\n",
      "    (proj1): Projector(dim=0)\n",
      "    (linear): Linear(in_features=64, out_features=5, bias=True)\n",
      "  )\n",
      "  (swap_out): Transposer(dim1=-1, dim2=-2)\n",
      ")\n"
     ]
    }
   ],
   "source": [
    "print(model)"
   ],
   "metadata": {
    "collapsed": false,
    "pycharm": {
     "name": "#%%\n"
    }
   }
  },
  {
   "cell_type": "markdown",
   "source": [
    "Analyze the parameter sizes"
   ],
   "metadata": {
    "collapsed": false,
    "pycharm": {
     "name": "#%% md\n"
    }
   }
  },
  {
   "cell_type": "code",
   "execution_count": 4,
   "outputs": [
    {
     "data": {
      "text/plain": "==========================================================================================\nLayer (type:depth-idx)                   Output Shape              Param #\n==========================================================================================\nCRNN                                     --                        --\n├─ConvStack: 1-1                         [1, 128, 120]             --\n│    └─Conv1d: 2-1                       [1, 128, 120]             3,584\n│    └─ReLU: 2-2                         [1, 128, 120]             --\n│    └─Conv1d: 2-3                       [1, 128, 120]             82,048\n│    └─ReLU: 2-4                         [1, 128, 120]             --\n│    └─Conv1d: 2-5                       [1, 128, 120]             114,816\n│    └─ReLU: 2-6                         [1, 128, 120]             --\n├─ConstantPad1d: 1-2                     [1, 128, 140]             --\n├─Transpose: 1-3                         [1, 140, 128]             --\n├─RecurrentStack: 1-4                    [1, 140, 5]               --\n│    └─LSTM: 2-7                         [1, 140, 64]              41,472\n│    └─Projector: 2-8                    [1, 140, 64]              --\n│    └─LSTM: 2-9                         [1, 140, 64]              25,088\n│    └─Projector: 2-10                   [1, 140, 64]              --\n│    └─Linear: 2-11                      [1, 140, 5]               325\n├─Transpose: 1-5                         [1, 5, 140]               --\n==========================================================================================\nTotal params: 267,333\nTrainable params: 267,333\nNon-trainable params: 0\nTotal mult-adds (M): 33.37\n==========================================================================================\nInput size (MB): 0.00\nForward/backward pass size (MB): 0.52\nParams size (MB): 1.07\nEstimated Total Size (MB): 1.59\n=========================================================================================="
     },
     "execution_count": 4,
     "metadata": {},
     "output_type": "execute_result"
    }
   ],
   "source": [
    "summary(model, input_size=(1, 9, 120), device=\"cpu\", depth=2)"
   ],
   "metadata": {
    "collapsed": false,
    "pycharm": {
     "name": "#%%\n"
    }
   }
  }
 ],
 "metadata": {
  "kernelspec": {
   "display_name": "Python 3",
   "language": "python",
   "name": "python3"
  },
  "language_info": {
   "codemirror_mode": {
    "name": "ipython",
    "version": 2
   },
   "file_extension": ".py",
   "mimetype": "text/x-python",
   "name": "python",
   "nbconvert_exporter": "python",
   "pygments_lexer": "ipython2",
   "version": "2.7.6"
  }
 },
 "nbformat": 4,
 "nbformat_minor": 0
}