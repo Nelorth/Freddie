{
 "cells": [
  {
   "cell_type": "markdown",
   "source": [
    "# Model Inspection"
   ],
   "metadata": {
    "collapsed": false,
    "pycharm": {
     "name": "#%% md\n"
    }
   }
  },
  {
   "cell_type": "code",
   "execution_count": 6,
   "metadata": {
    "collapsed": true
   },
   "outputs": [],
   "source": [
    "from models import *\n",
    "from torchinfo import summary"
   ]
  },
  {
   "cell_type": "markdown",
   "source": [
    "Define a model"
   ],
   "metadata": {
    "collapsed": false,
    "pycharm": {
     "name": "#%% md\n"
    }
   }
  },
  {
   "cell_type": "code",
   "execution_count": 7,
   "outputs": [],
   "source": [
    "model = CRNN(num_channels=9,\n",
    "             window_size=120,\n",
    "             future_size=30,\n",
    "             hidden_sizes=[64, 64, 64],\n",
    "             channel_sizes=[16, 32],\n",
    "             kernel_sizes=[7, 5],\n",
    "             stride_sizes=[2, 2],\n",
    "             pool_sizes=[2, 2],\n",
    "             dropout_rate=0,\n",
    "             rnn_layers=2,\n",
    "             rnn_state_size=5)"
   ],
   "metadata": {
    "collapsed": false,
    "pycharm": {
     "name": "#%%\n"
    }
   }
  },
  {
   "cell_type": "markdown",
   "source": [
    "Print the model's components"
   ],
   "metadata": {
    "collapsed": false,
    "pycharm": {
     "name": "#%% md\n"
    }
   }
  },
  {
   "cell_type": "code",
   "execution_count": 8,
   "outputs": [
    {
     "name": "stdout",
     "output_type": "stream",
     "text": [
      "CRNN(\n",
      "  (conv_stack): Sequential(\n",
      "    (0): Conv1d(9, 16, kernel_size=(7,), stride=(2,), padding=(3,))\n",
      "    (1): ReLU()\n",
      "    (2): MaxPool1d(kernel_size=2, stride=2, padding=0, dilation=1, ceil_mode=False)\n",
      "    (3): Conv1d(16, 32, kernel_size=(5,), stride=(2,), padding=(2,))\n",
      "    (4): ReLU()\n",
      "    (5): MaxPool1d(kernel_size=2, stride=2, padding=0, dilation=1, ceil_mode=False)\n",
      "  )\n",
      "  (zero_pad): ConstantPad1d(padding=(0, 30), value=0)\n",
      "  (swap_last1): SwapLast()\n",
      "  (lstm): LSTM(32, 5, num_layers=2, batch_first=True, bidirectional=True)\n",
      "  (fc): Linear(in_features=10, out_features=5, bias=True)\n",
      "  (swap_last2): SwapLast()\n",
      ")\n"
     ]
    }
   ],
   "source": [
    "print(model)"
   ],
   "metadata": {
    "collapsed": false,
    "pycharm": {
     "name": "#%%\n"
    }
   }
  },
  {
   "cell_type": "markdown",
   "source": [
    "Analyze the parameter sizes"
   ],
   "metadata": {
    "collapsed": false,
    "pycharm": {
     "name": "#%% md\n"
    }
   }
  },
  {
   "cell_type": "code",
   "execution_count": 9,
   "outputs": [
    {
     "data": {
      "text/plain": "==========================================================================================\nLayer (type:depth-idx)                   Output Shape              Param #\n==========================================================================================\nCRNN                                     --                        --\n├─Sequential: 1-1                        [1, 32, 7]                --\n│    └─Conv1d: 2-1                       [1, 16, 60]               1,024\n│    └─ReLU: 2-2                         [1, 16, 60]               --\n│    └─MaxPool1d: 2-3                    [1, 16, 30]               --\n│    └─Conv1d: 2-4                       [1, 32, 15]               2,592\n│    └─ReLU: 2-5                         [1, 32, 15]               --\n│    └─MaxPool1d: 2-6                    [1, 32, 7]                --\n├─ConstantPad1d: 1-2                     [1, 32, 37]               --\n├─SwapLast: 1-3                          [1, 37, 32]               --\n├─LSTM: 1-4                              [1, 37, 10]               2,240\n├─Linear: 1-5                            [1, 37, 5]                55\n├─SwapLast: 1-6                          [1, 5, 37]                --\n==========================================================================================\nTotal params: 5,911\nTrainable params: 5,911\nNon-trainable params: 0\nTotal mult-adds (M): 0.18\n==========================================================================================\nInput size (MB): 0.00\nForward/backward pass size (MB): 0.02\nParams size (MB): 0.02\nEstimated Total Size (MB): 0.04\n=========================================================================================="
     },
     "execution_count": 9,
     "metadata": {},
     "output_type": "execute_result"
    }
   ],
   "source": [
    "summary(model, input_size=(9, 120), batch_dim=0)"
   ],
   "metadata": {
    "collapsed": false,
    "pycharm": {
     "name": "#%%\n"
    }
   }
  }
 ],
 "metadata": {
  "kernelspec": {
   "display_name": "Python 3",
   "language": "python",
   "name": "python3"
  },
  "language_info": {
   "codemirror_mode": {
    "name": "ipython",
    "version": 2
   },
   "file_extension": ".py",
   "mimetype": "text/x-python",
   "name": "python",
   "nbconvert_exporter": "python",
   "pygments_lexer": "ipython2",
   "version": "2.7.6"
  }
 },
 "nbformat": 4,
 "nbformat_minor": 0
}