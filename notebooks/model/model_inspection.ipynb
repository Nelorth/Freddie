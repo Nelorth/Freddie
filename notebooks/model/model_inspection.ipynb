{
 "cells": [
  {
   "cell_type": "markdown",
   "source": [
    "# Model Inspection"
   ],
   "metadata": {
    "collapsed": false,
    "pycharm": {
     "name": "#%% md\n"
    }
   }
  },
  {
   "cell_type": "code",
   "execution_count": 5,
   "metadata": {
    "collapsed": true
   },
   "outputs": [],
   "source": [
    "from models import *\n",
    "from torchinfo import summary"
   ]
  },
  {
   "cell_type": "markdown",
   "source": [
    "Define a model"
   ],
   "metadata": {
    "collapsed": false,
    "pycharm": {
     "name": "#%% md\n"
    }
   }
  },
  {
   "cell_type": "code",
   "execution_count": 6,
   "outputs": [],
   "source": [
    "model = TNN(num_channels=9,\n",
    "             window_size=120,\n",
    "             future_size=30,\n",
    "             hidden_sizes=[32, 64, 128, 64, 32],\n",
    "             channel_sizes=[128, 128, 128, 64, 32],\n",
    "             kernel_sizes=[3, 5, 7, 5, 3],\n",
    "             stride_sizes=[1, 1, 1, 1, 1],\n",
    "             pool_sizes=[1, 1, 1, 1, 1],\n",
    "             dropout_rate=0,\n",
    "             rnn_layers=4,\n",
    "             rnn_state_size=32,\n",
    "             transformer_encoders=1,\n",
    "            transformer_decoders=1,\n",
    "            transformer_dim=256,\n",
    "            attention_heads=16)"
   ],
   "metadata": {
    "collapsed": false,
    "pycharm": {
     "name": "#%%\n"
    }
   }
  },
  {
   "cell_type": "markdown",
   "source": [
    "Print the model's components"
   ],
   "metadata": {
    "collapsed": false,
    "pycharm": {
     "name": "#%% md\n"
    }
   }
  },
  {
   "cell_type": "code",
   "execution_count": 7,
   "outputs": [
    {
     "name": "stdout",
     "output_type": "stream",
     "text": [
      "TNN(\n",
      "  (zero_pad): ConstantPad1d(padding=(0, 0, 0, 30), value=0)\n",
      "  (swap_last1): SwapLast()\n",
      "  (embed): Linear(in_features=9, out_features=256, bias=True)\n",
      "  (transformer): Transformer(\n",
      "    (encoder): TransformerEncoder(\n",
      "      (layers): ModuleList(\n",
      "        (0): TransformerEncoderLayer(\n",
      "          (self_attn): MultiheadAttention(\n",
      "            (out_proj): NonDynamicallyQuantizableLinear(in_features=256, out_features=256, bias=True)\n",
      "          )\n",
      "          (linear1): Linear(in_features=256, out_features=256, bias=True)\n",
      "          (dropout): Dropout(p=0.1, inplace=False)\n",
      "          (linear2): Linear(in_features=256, out_features=256, bias=True)\n",
      "          (norm1): LayerNorm((256,), eps=1e-05, elementwise_affine=True)\n",
      "          (norm2): LayerNorm((256,), eps=1e-05, elementwise_affine=True)\n",
      "          (dropout1): Dropout(p=0.1, inplace=False)\n",
      "          (dropout2): Dropout(p=0.1, inplace=False)\n",
      "        )\n",
      "      )\n",
      "      (norm): LayerNorm((256,), eps=1e-05, elementwise_affine=True)\n",
      "    )\n",
      "    (decoder): TransformerDecoder(\n",
      "      (layers): ModuleList(\n",
      "        (0): TransformerDecoderLayer(\n",
      "          (self_attn): MultiheadAttention(\n",
      "            (out_proj): NonDynamicallyQuantizableLinear(in_features=256, out_features=256, bias=True)\n",
      "          )\n",
      "          (multihead_attn): MultiheadAttention(\n",
      "            (out_proj): NonDynamicallyQuantizableLinear(in_features=256, out_features=256, bias=True)\n",
      "          )\n",
      "          (linear1): Linear(in_features=256, out_features=256, bias=True)\n",
      "          (dropout): Dropout(p=0.1, inplace=False)\n",
      "          (linear2): Linear(in_features=256, out_features=256, bias=True)\n",
      "          (norm1): LayerNorm((256,), eps=1e-05, elementwise_affine=True)\n",
      "          (norm2): LayerNorm((256,), eps=1e-05, elementwise_affine=True)\n",
      "          (norm3): LayerNorm((256,), eps=1e-05, elementwise_affine=True)\n",
      "          (dropout1): Dropout(p=0.1, inplace=False)\n",
      "          (dropout2): Dropout(p=0.1, inplace=False)\n",
      "          (dropout3): Dropout(p=0.1, inplace=False)\n",
      "        )\n",
      "      )\n",
      "      (norm): LayerNorm((256,), eps=1e-05, elementwise_affine=True)\n",
      "    )\n",
      "  )\n",
      "  (debed): Linear(in_features=256, out_features=5, bias=True)\n",
      "  (swap_last2): SwapLast()\n",
      ")\n"
     ]
    }
   ],
   "source": [
    "print(model)"
   ],
   "metadata": {
    "collapsed": false,
    "pycharm": {
     "name": "#%%\n"
    }
   }
  },
  {
   "cell_type": "markdown",
   "source": [
    "Analyze the parameter sizes"
   ],
   "metadata": {
    "collapsed": false,
    "pycharm": {
     "name": "#%% md\n"
    }
   }
  },
  {
   "cell_type": "code",
   "execution_count": 8,
   "outputs": [
    {
     "data": {
      "text/plain": "====================================================================================================\nLayer (type:depth-idx)                             Output Shape              Param #\n====================================================================================================\nTNN                                                --                        --\n├─Transformer: 1                                   --                        --\n│    └─TransformerEncoder: 2                       --                        --\n│    │    └─ModuleList: 3-1                        --                        395,776\n│    └─TransformerDecoder: 2                       --                        --\n│    │    └─ModuleList: 3-2                        --                        659,456\n├─SwapLast: 1-1                                    [1, 120, 9]               --\n├─Linear: 1-2                                      [1, 120, 256]             2,560\n├─ConstantPad1d: 1-3                               [1, 150, 256]             --\n├─Transformer: 1-4                                 [1, 150, 256]             --\n│    └─TransformerEncoder: 2-1                     [1, 120, 256]             --\n│    │    └─LayerNorm: 3-3                         [1, 120, 256]             512\n│    └─TransformerDecoder: 2-2                     [1, 150, 256]             --\n│    │    └─LayerNorm: 3-4                         [1, 150, 256]             512\n├─Linear: 1-5                                      [1, 150, 5]               1,285\n├─SwapLast: 1-6                                    [1, 5, 150]               --\n====================================================================================================\nTotal params: 270,597\nTrainable params: 270,597\nNon-trainable params: 0\nTotal mult-adds (M): 0.27\n====================================================================================================\nInput size (MB): 0.00\nForward/backward pass size (MB): 3.32\nParams size (MB): 1.08\nEstimated Total Size (MB): 4.41\n===================================================================================================="
     },
     "execution_count": 8,
     "metadata": {},
     "output_type": "execute_result"
    }
   ],
   "source": [
    "summary(model, input_size=(9, 120), batch_dim=0)"
   ],
   "metadata": {
    "collapsed": false,
    "pycharm": {
     "name": "#%%\n"
    }
   }
  },
  {
   "cell_type": "code",
   "execution_count": 9,
   "outputs": [
    {
     "name": "stdout",
     "output_type": "stream",
     "text": [
      "torch.Size([1, 5, 150])\n"
     ]
    }
   ],
   "source": [
    "import torch\n",
    "print(model(torch.rand((1, 9, 120)).to(\"cuda\")).shape)"
   ],
   "metadata": {
    "collapsed": false,
    "pycharm": {
     "name": "#%%\n"
    }
   }
  }
 ],
 "metadata": {
  "kernelspec": {
   "display_name": "Python 3",
   "language": "python",
   "name": "python3"
  },
  "language_info": {
   "codemirror_mode": {
    "name": "ipython",
    "version": 2
   },
   "file_extension": ".py",
   "mimetype": "text/x-python",
   "name": "python",
   "nbconvert_exporter": "python",
   "pygments_lexer": "ipython2",
   "version": "2.7.6"
  }
 },
 "nbformat": 4,
 "nbformat_minor": 0
}