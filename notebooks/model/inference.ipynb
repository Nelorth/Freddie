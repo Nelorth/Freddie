{
 "cells": [
  {
   "cell_type": "markdown",
   "metadata": {
    "pycharm": {
     "name": "#%% md\n"
    }
   },
   "source": [
    "# Inference\n",
    "\n",
    "Have a look into the predictions of a certain model on a specific orbit!"
   ]
  },
  {
   "cell_type": "code",
   "execution_count": 1,
   "metadata": {},
   "outputs": [],
   "source": [
    "import utils.constants as c\n",
    "import utils.harry_plotter as harry_plotter\n",
    "import utils.io as io\n",
    "import ordinary_training\n",
    "import torch\n",
    "import torch.nn.functional as F\n",
    "\n",
    "from tqdm.notebook import tqdm\n",
    "from learning.datasets import MessengerDataset\n",
    "from torchinfo import summary"
   ]
  },
  {
   "cell_type": "code",
   "execution_count": 2,
   "metadata": {
    "pycharm": {
     "name": "#%%\n"
    }
   },
   "outputs": [],
   "source": [
    "MODEL_RUN = 783\n",
    "ORBIT_ID = 42"
   ]
  },
  {
   "cell_type": "markdown",
   "metadata": {
    "pycharm": {
     "name": "#%% md\n"
    }
   },
   "source": [
    "Load model checkpoint and hyperparameters"
   ]
  },
  {
   "cell_type": "code",
   "execution_count": 3,
   "metadata": {
    "pycharm": {
     "name": "#%%\n"
    }
   },
   "outputs": [],
   "source": [
    "model, hparams = ordinary_training.load_model(MODEL_RUN)"
   ]
  },
  {
   "cell_type": "markdown",
   "metadata": {},
   "source": [
    "Load the specified inference orbit"
   ]
  },
  {
   "cell_type": "code",
   "execution_count": 4,
   "metadata": {
    "pycharm": {
     "name": "#%%\n"
    }
   },
   "outputs": [
    {
     "name": "stderr",
     "output_type": "stream",
     "text": [
      "100%|██████████████████████████████████████████████████████████████████████████████████████████████████████████████████████████████████████████████████████████| 1/1 [00:00<00:00,  7.11it/s]\n"
     ]
    }
   ],
   "source": [
    "ds = MessengerDataset(io.resolve_path(c.DATA_DIR),\n",
    "                      split=\"eval\",\n",
    "                      features=hparams[\"features\"],\n",
    "                      window_size=hparams[\"window_size\"],\n",
    "                      future_size=hparams[\"future_size\"],\n",
    "                      use_orbits=[ORBIT_ID])"
   ]
  },
  {
   "cell_type": "markdown",
   "metadata": {
    "pycharm": {
     "name": "#%% md\n"
    }
   },
   "source": [
    "Summarize the model"
   ]
  },
  {
   "cell_type": "code",
   "execution_count": 5,
   "metadata": {
    "pycharm": {
     "name": "#%%\n"
    }
   },
   "outputs": [
    {
     "name": "stdout",
     "output_type": "stream",
     "text": [
      "CRNN(\n",
      "  (conv_stack): ConvStack(\n",
      "    (conv0): Conv1d(9, 128, kernel_size=(3,), stride=(1,), padding=(1,))\n",
      "    (relu0): ReLU()\n",
      "    (conv1): Conv1d(128, 128, kernel_size=(5,), stride=(1,), padding=(2,))\n",
      "    (relu1): ReLU()\n",
      "    (conv2): Conv1d(128, 128, kernel_size=(7,), stride=(1,), padding=(3,))\n",
      "    (relu2): ReLU()\n",
      "  )\n",
      "  (zero_pad): ConstantPad1d(padding=(0, 20), value=0)\n",
      "  (swap_in): Transposer(dim1=-1, dim2=-2)\n",
      "  (lstm_stack): RecurrentStack(\n",
      "    (lstm0): LSTM(128, 32, batch_first=True, bidirectional=True)\n",
      "    (proj0): Projector(dim=0)\n",
      "    (lstm1): LSTM(64, 32, batch_first=True, bidirectional=True)\n",
      "    (proj1): Projector(dim=0)\n",
      "    (linear): Linear(in_features=64, out_features=5, bias=True)\n",
      "  )\n",
      "  (swap_out): Transposer(dim1=-1, dim2=-2)\n",
      ")\n"
     ]
    },
    {
     "data": {
      "text/plain": [
       "==========================================================================================\n",
       "Layer (type:depth-idx)                   Output Shape              Param #\n",
       "==========================================================================================\n",
       "CRNN                                     --                        --\n",
       "├─ConvStack: 1-1                         [1024, 128, 120]          --\n",
       "│    └─Conv1d: 2-1                       [1024, 128, 120]          3,584\n",
       "│    └─ReLU: 2-2                         [1024, 128, 120]          --\n",
       "│    └─Conv1d: 2-3                       [1024, 128, 120]          82,048\n",
       "│    └─ReLU: 2-4                         [1024, 128, 120]          --\n",
       "│    └─Conv1d: 2-5                       [1024, 128, 120]          114,816\n",
       "│    └─ReLU: 2-6                         [1024, 128, 120]          --\n",
       "├─ConstantPad1d: 1-2                     [1024, 128, 140]          --\n",
       "├─Transpose: 1-3                         [1024, 140, 128]          --\n",
       "├─RecurrentStack: 1-4                    [1024, 140, 5]            --\n",
       "│    └─LSTM: 2-7                         [1024, 140, 64]           41,472\n",
       "│    └─Projector: 2-8                    [1024, 140, 64]           --\n",
       "│    └─LSTM: 2-9                         [1024, 140, 64]           25,088\n",
       "│    └─Projector: 2-10                   [1024, 140, 64]           --\n",
       "│    └─Linear: 2-11                      [1024, 140, 5]            325\n",
       "├─Transpose: 1-5                         [1024, 5, 140]            --\n",
       "==========================================================================================\n",
       "Total params: 267,333\n",
       "Trainable params: 267,333\n",
       "Non-trainable params: 0\n",
       "Total mult-adds (G): 34.17\n",
       "==========================================================================================\n",
       "Input size (MB): 4.42\n",
       "Forward/backward pass size (MB): 530.02\n",
       "Params size (MB): 1.07\n",
       "Estimated Total Size (MB): 535.52\n",
       "=========================================================================================="
      ]
     },
     "execution_count": 5,
     "metadata": {},
     "output_type": "execute_result"
    }
   ],
   "source": [
    "print(model)\n",
    "summary(model, input_size=(hparams[\"batch_size\"], len(hparams[\"features\"]), hparams[\"window_size\"]), device=\"cpu\")"
   ]
  },
  {
   "cell_type": "markdown",
   "metadata": {
    "pycharm": {
     "name": "#%% md\n"
    }
   },
   "source": [
    "Put all window slices into one large batch"
   ]
  },
  {
   "cell_type": "code",
   "execution_count": 6,
   "metadata": {
    "pycharm": {
     "name": "#%%\n"
    }
   },
   "outputs": [
    {
     "data": {
      "application/vnd.jupyter.widget-view+json": {
       "model_id": "c1455bb8911948c98fc1b8a358f74687",
       "version_major": 2,
       "version_minor": 0
      },
      "text/plain": [
       "  0%|          | 0/43323 [00:00<?, ?it/s]"
      ]
     },
     "metadata": {},
     "output_type": "display_data"
    }
   ],
   "source": [
    "all_windows = torch.stack([sample for sample, label in tqdm(ds)])"
   ]
  },
  {
   "cell_type": "markdown",
   "metadata": {
    "pycharm": {
     "name": "#%% md\n"
    }
   },
   "source": [
    "Classify each time step in each of the windows"
   ]
  },
  {
   "cell_type": "code",
   "execution_count": 7,
   "metadata": {
    "pycharm": {
     "name": "#%%\n"
    }
   },
   "outputs": [],
   "source": [
    "model.eval()\n",
    "pred = model(all_windows)                   # predict class probabilities\n",
    "pred = pred[:, :, :hparams[\"window_size\"]]  # discard future predictions\n",
    "pred = F.softmax(pred, dim=1)               # convert logits to probabilities\n",
    "pred = pred.flip([2])                       # reverse the time dimension"
   ]
  },
  {
   "cell_type": "code",
   "execution_count": 8,
   "metadata": {},
   "outputs": [
    {
     "data": {
      "application/vnd.jupyter.widget-view+json": {
       "model_id": "1db3e870fb0a403aaefc68a044905e5b",
       "version_major": 2,
       "version_minor": 0
      },
      "text/plain": [
       "  0%|          | 0/43442 [00:00<?, ?it/s]"
      ]
     },
     "metadata": {},
     "output_type": "display_data"
    }
   ],
   "source": [
    "labels = torch.tensor([pred.diagonal(dim1=0, dim2=2, offset=i).mean(dim=1).argmax()\n",
    "                       for i in tqdm(range(pred.shape[2] - 1, -pred.shape[0], -1))])"
   ]
  },
  {
   "cell_type": "markdown",
   "metadata": {
    "pycharm": {
     "name": "#%% md\n"
    }
   },
   "source": [
    "Reduce predictions for each time step to a single one by majority voting"
   ]
  },
  {
   "cell_type": "code",
   "execution_count": 9,
   "metadata": {},
   "outputs": [
    {
     "data": {
      "image/png": "[encoded data removed]",
      "text/plain": [
       "<Figure size 432x288 with 1 Axes>"
      ]
     },
     "metadata": {
      "needs_background": "light"
     },
     "output_type": "display_data"
    }
   ],
   "source": [
    "df_orbit = ds.get_orbits()[0]\n",
    "figpath = str(io.resolve_path(c.TEMP_DIR) / c.MESSENGER(ORBIT_ID)) + \"_inference.pdf\"\n",
    "harry_plotter.plot_orbit(\n",
    "    df_orbit.index,\n",
    "    (df_orbit[\"BX_MSO\"],\n",
    "    df_orbit[\"BY_MSO\"],\n",
    "    df_orbit[\"BZ_MSO\"]),\n",
    "    symbol=\"B\",\n",
    "    labels=labels,\n",
    "    title=f\"Orbit $\\#{ORBIT_ID}$\",\n",
    "    ylabel=\"magnetic flux density [\\si{nT}]\",\n",
    "    outfile=figpath\n",
    ")"
   ]
  }
 ],
 "metadata": {
  "kernelspec": {
   "display_name": "Python 3 (ipykernel)",
   "language": "python",
   "name": "python3"
  },
  "language_info": {
   "codemirror_mode": {
    "name": "ipython",
    "version": 3
   },
   "file_extension": ".py",
   "mimetype": "text/x-python",
   "name": "python",
   "nbconvert_exporter": "python",
   "pygments_lexer": "ipython3",
   "version": "3.9.7"
  }
 },
 "nbformat": 4,
 "nbformat_minor": 1
}