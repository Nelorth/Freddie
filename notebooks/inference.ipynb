{
 "cells": [
  {
   "cell_type": "code",
   "execution_count": 4,
   "metadata": {
    "collapsed": true
   },
   "outputs": [],
   "source": [
    "import pandas as pd\n",
    "import torch\n",
    "import utils\n",
    "\n",
    "from constants import *\n",
    "from models import *"
   ]
  },
  {
   "cell_type": "code",
   "execution_count": 5,
   "outputs": [],
   "source": [
    "ORBIT_N = 42\n",
    "WINDOW_SIZE = 10"
   ],
   "metadata": {
    "collapsed": false,
    "pycharm": {
     "name": "#%%\n"
    }
   }
  },
  {
   "cell_type": "code",
   "execution_count": 6,
   "outputs": [],
   "source": [
    "df_orbit = pd.read_csv(utils.resolve_path(ORBIT_DIR, ORBIT_FILE(ORBIT_N)),\n",
    "                       index_col=DATE_COL,\n",
    "                       parse_dates=True,\n",
    "                       usecols=PRED_COLS)\n",
    "\n",
    "for feat_3d in COLS_3D:\n",
    "    utils.normalize_coupled(df_orbit, feat_3d)\n",
    "utils.normalize_decoupled(df_orbit, COLS_SINGLE)"
   ],
   "metadata": {
    "collapsed": false,
    "pycharm": {
     "name": "#%%\n"
    }
   }
  },
  {
   "cell_type": "code",
   "execution_count": 7,
   "outputs": [
    {
     "data": {
      "text/plain": "BaseNet(\n  (flatten): Flatten()\n  (linear1): Linear(in_features=6, out_features=16, bias=True)\n  (relu): ReLU()\n  (linear2): Linear(in_features=16, out_features=5, bias=True)\n)"
     },
     "execution_count": 7,
     "metadata": {},
     "output_type": "execute_result"
    }
   ],
   "source": [
    "model = BaseNet(num_bands=2)\n",
    "state_dict = torch.load(utils.resolve_path(MODELS_DIR, \"model.pth\"), map_location=torch.device(\"cpu\"))\n",
    "model.load_state_dict(state_dict)\n",
    "model.eval()"
   ],
   "metadata": {
    "collapsed": false,
    "pycharm": {
     "name": "#%%\n"
    }
   }
  },
  {
   "cell_type": "code",
   "execution_count": 8,
   "outputs": [],
   "source": [
    "x = torch.full((WINDOW_SIZE, 24), float(\"nan\"))\n",
    "\n",
    "with torch.no_grad():\n",
    "    for i in range(24 - (WINDOW_SIZE - 1)): # range(len(df_orbit) - (WINDOW_SIZE - 1)):\n",
    "        window = df_orbit.iloc[i:(i + WINDOW_SIZE)]\n",
    "        feats_3d = [torch.tensor(window[feat].values, dtype=torch.float) for feat in COLS_3D]\n",
    "        sample = torch.stack(feats_3d, dim=1).unsqueeze(0)\n",
    "        pred = model(sample)\n",
    "        pred = torch.argmax(pred, dim=1)[0]\n",
    "        x[i % WINDOW_SIZE, i:(i + WINDOW_SIZE)] = pred"
   ],
   "metadata": {
    "collapsed": false,
    "pycharm": {
     "name": "#%%\n"
    }
   }
  },
  {
   "cell_type": "code",
   "execution_count": 9,
   "outputs": [
    {
     "name": "stdout",
     "output_type": "stream",
     "text": [
      "tensor([[0., 0., 0., 0., 0., 0., 0., 0., 0., 0., 0., 0., 0., 0., 0., 0., 0., 0., 0., 0., nan, nan, nan, nan],\n",
      "        [nan, 0., 0., 0., 0., 0., 0., 0., 0., 0., 0., 0., 0., 0., 0., 0., 0., 0., 0., 0., 0., nan, nan, nan],\n",
      "        [nan, nan, 0., 0., 0., 0., 0., 0., 0., 0., 0., 0., 0., 0., 0., 0., 0., 0., 0., 0., 0., 0., nan, nan],\n",
      "        [nan, nan, nan, 0., 0., 0., 0., 0., 0., 0., 0., 0., 0., 0., 0., 0., 0., 0., 0., 0., 0., 0., 0., nan],\n",
      "        [nan, nan, nan, nan, 0., 0., 0., 0., 0., 0., 0., 0., 0., 0., 0., 0., 0., 0., 0., 0., 0., 0., 0., 0.],\n",
      "        [nan, nan, nan, nan, nan, 0., 0., 0., 0., 0., 0., 0., 0., 0., 0., nan, nan, nan, nan, nan, nan, nan, nan, nan],\n",
      "        [nan, nan, nan, nan, nan, nan, 0., 0., 0., 0., 0., 0., 0., 0., 0., 0., nan, nan, nan, nan, nan, nan, nan, nan],\n",
      "        [nan, nan, nan, nan, nan, nan, nan, 0., 0., 0., 0., 0., 0., 0., 0., 0., 0., nan, nan, nan, nan, nan, nan, nan],\n",
      "        [nan, nan, nan, nan, nan, nan, nan, nan, 0., 0., 0., 0., 0., 0., 0., 0., 0., 0., nan, nan, nan, nan, nan, nan],\n",
      "        [nan, nan, nan, nan, nan, nan, nan, nan, nan, 0., 0., 0., 0., 0., 0., 0., 0., 0., 0., nan, nan, nan, nan, nan]])\n",
      "torch.return_types.mode(\n",
      "values=tensor([0., 0., 0., 0., 0., 0., 0., 0., 0., 0., 0., 0., 0., 0., 0., 0., 0., 0., 0., 0., 0., 0., 0., 0.]),\n",
      "indices=tensor([0, 1, 2, 3, 4, 5, 6, 7, 8, 9, 9, 9, 9, 9, 9, 9, 9, 9, 9, 4, 4, 4, 4, 4]))\n"
     ]
    }
   ],
   "source": [
    "print(x)\n",
    "print(x.mode(dim=0))"
   ],
   "metadata": {
    "collapsed": false,
    "pycharm": {
     "name": "#%%\n"
    }
   }
  }
 ],
 "metadata": {
  "kernelspec": {
   "display_name": "Python 3",
   "language": "python",
   "name": "python3"
  },
  "language_info": {
   "codemirror_mode": {
    "name": "ipython",
    "version": 2
   },
   "file_extension": ".py",
   "mimetype": "text/x-python",
   "name": "python",
   "nbconvert_exporter": "python",
   "pygments_lexer": "ipython2",
   "version": "2.7.6"
  }
 },
 "nbformat": 4,
 "nbformat_minor": 0
}