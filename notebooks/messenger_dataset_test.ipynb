{
 "cells": [
  {
   "cell_type": "markdown",
   "metadata": {
    "pycharm": {
     "name": "#%% md\n"
    }
   },
   "source": [
    "# Dataset Test"
   ]
  },
  {
   "cell_type": "code",
   "execution_count": 1,
   "metadata": {},
   "outputs": [],
   "source": [
    "import utils\n",
    "\n",
    "from messenger_dataset import MessengerDataset\n",
    "from constants import *"
   ]
  },
  {
   "cell_type": "markdown",
   "metadata": {},
   "source": [
    "Load training data"
   ]
  },
  {
   "cell_type": "code",
   "execution_count": 7,
   "metadata": {
    "pycharm": {
     "name": "#%%\n"
    }
   },
   "outputs": [
    {
     "name": "stdout",
     "output_type": "stream",
     "text": [
      "86906\n"
     ]
    }
   ],
   "source": [
    "ds = MessengerDataset(utils.resolve_path(DATA_DIR),\n",
    "                      features=FLUX_COLS,\n",
    "                      window_size=10,\n",
    "                      future_size=2,\n",
    "                      use_orbits=[2, 3],\n",
    "                      normalize=False)\n",
    "print(len(ds))"
   ]
  },
  {
   "cell_type": "markdown",
   "metadata": {
    "pycharm": {
     "name": "#%% md\n"
    }
   },
   "source": [
    "Inspect sample-label pair at label change"
   ]
  },
  {
   "cell_type": "code",
   "execution_count": 8,
   "metadata": {
    "pycharm": {
     "name": "#%%\n"
    }
   },
   "outputs": [
    {
     "name": "stdout",
     "output_type": "stream",
     "text": [
      "tensor([[9.4786e+03, 9.4774e+03, 9.4762e+03, 9.4751e+03, 9.4739e+03, 9.4727e+03,\n",
      "         9.4716e+03, 9.4704e+03, 9.4693e+03, 9.4681e+03],\n",
      "        [9.1604e+03, 9.1595e+03, 9.1587e+03, 9.1578e+03, 9.1569e+03, 9.1561e+03,\n",
      "         9.1552e+03, 9.1544e+03, 9.1535e+03, 9.1527e+03],\n",
      "        [4.8946e+07, 4.8946e+07, 4.8946e+07, 4.8946e+07, 4.8946e+07, 4.8946e+07,\n",
      "         4.8946e+07, 4.8946e+07, 4.8946e+07, 4.8946e+07]])\n",
      "tensor([0, 0, 0, 0, 0, 0, 0, 1, 1, 1, 1, 1])\n"
     ]
    }
   ],
   "source": [
    "sample, label = ds[16600]\n",
    "print(sample)\n",
    "print(label)"
   ]
  },
  {
   "cell_type": "markdown",
   "metadata": {},
   "source": [
    "Inspect sample-label pair at orbit change"
   ]
  },
  {
   "cell_type": "code",
   "execution_count": 4,
   "metadata": {},
   "outputs": [
    {
     "name": "stdout",
     "output_type": "stream",
     "text": [
      "tensor([[ 29.5400,  29.8490,  29.3330,  30.2290,  29.5270,  29.9260,  28.0450,\n",
      "          31.6650,  28.0850,  29.3400],\n",
      "        [ -1.7130,  -0.9770,  -2.7520,  -4.7280,  -1.3570,  -4.1730,  -4.7510,\n",
      "          -2.3210,  -2.5650,  -3.5000],\n",
      "        [ -8.6330, -10.8330, -12.0140,  -9.0650,  -9.5890, -11.5340, -13.2750,\n",
      "          -9.3490, -11.8890, -11.9070]])\n",
      "tensor([0, 0, 0, 0, 0, 0, 0, 0, 0, 0, 0, 0])\n"
     ]
    }
   ],
   "source": [
    "sample, label = ds[43453]\n",
    "print(sample)\n",
    "print(label)"
   ]
  },
  {
   "cell_type": "markdown",
   "metadata": {
    "pycharm": {
     "name": "#%% md\n"
    }
   },
   "source": [
    "View first and last element"
   ]
  },
  {
   "cell_type": "code",
   "execution_count": 9,
   "metadata": {
    "pycharm": {
     "name": "#%%\n"
    }
   },
   "outputs": [
    {
     "name": "stdout",
     "output_type": "stream",
     "text": [
      "(tensor([[1.7698e+04, 1.7698e+04, 1.7698e+04, 1.7698e+04, 1.7698e+04, 1.7698e+04,\n",
      "         1.7698e+04, 1.7698e+04, 1.7698e+04, 1.7698e+04],\n",
      "        [8.7691e+03, 8.7696e+03, 8.7701e+03, 8.7706e+03, 8.7711e+03, 8.7715e+03,\n",
      "         8.7720e+03, 8.7725e+03, 8.7730e+03, 8.7735e+03],\n",
      "        [4.8820e+07, 4.8820e+07, 4.8820e+07, 4.8820e+07, 4.8820e+07, 4.8820e+07,\n",
      "         4.8820e+07, 4.8820e+07, 4.8820e+07, 4.8820e+07]]), tensor([0, 0, 0, 0, 0, 0, 0, 0, 0, 0, 0, 0]))\n"
     ]
    }
   ],
   "source": [
    "print(ds[0])"
   ]
  },
  {
   "cell_type": "code",
   "execution_count": 6,
   "metadata": {
    "scrolled": true
   },
   "outputs": [
    {
     "name": "stdout",
     "output_type": "stream",
     "text": [
      "(tensor([[31.6680, 30.8740, 31.8420, 31.9170, 32.1020, 31.5770, 31.7920, 31.7780,\n",
      "         31.3870, 31.5500],\n",
      "        [-1.5040, -1.4100,  0.2280,  0.2640,  1.2270,  1.4450,  2.8230,  1.7020,\n",
      "          2.1200,  0.4850],\n",
      "        [ 4.1140,  2.1080,  0.7480,  1.0340,  2.5250,  4.4420,  4.5470,  3.3290,\n",
      "          3.4610,  3.5080]]), tensor([0, 0, 0, 0, 0, 0, 0, 0, 0, 0, 0, 0]))\n"
     ]
    }
   ],
   "source": [
    "print(ds[len(ds) - 1])"
   ]
  },
  {
   "cell_type": "code",
   "execution_count": null,
   "metadata": {
    "pycharm": {
     "name": "#%%\n"
    }
   },
   "outputs": [],
   "source": [
    "from timer import Timer\n",
    "\n",
    "with Timer(\"load\"):\n",
    "    ds = MessengerDataset(utils.resolve_path(DATA_DIR),\n",
    "                          window_size=10,\n",
    "                          features=FLUX_COLS,\n",
    "                          future_size=2,\n",
    "                          normalize=False)\n",
    "    print(len(ds))\n",
    "\n",
    "with Timer(\"load\"):\n",
    "    ds = MessengerDataset(utils.resolve_path(DATA_DIR),\n",
    "                          window_size=10,\n",
    "                          features=FLUX_COLS,\n",
    "                          future_size=2,\n",
    "                          normalize=True)\n",
    "    print(len(ds))"
   ]
  }
 ],
 "metadata": {
  "kernelspec": {
   "display_name": "Python 3",
   "language": "python",
   "name": "python3"
  },
  "language_info": {
   "codemirror_mode": {
    "name": "ipython",
    "version": 3
   },
   "file_extension": ".py",
   "mimetype": "text/x-python",
   "name": "python",
   "nbconvert_exporter": "python",
   "pygments_lexer": "ipython3",
   "version": "3.8.8"
  }
 },
 "nbformat": 4,
 "nbformat_minor": 1
}