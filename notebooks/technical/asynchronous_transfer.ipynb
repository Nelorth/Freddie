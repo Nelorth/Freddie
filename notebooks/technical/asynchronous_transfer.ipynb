{
 "cells": [
  {
   "cell_type": "markdown",
   "metadata": {
    "collapsed": true,
    "pycharm": {
     "name": "#%% md\n"
    }
   },
   "source": [
    "# Asynchronous Tensor Transfer"
   ]
  },
  {
   "cell_type": "markdown",
   "source": [
    "Verdict: Don't use `non_blocking=True` in `Tensor.to` when transferring from GPU to CPU!"
   ],
   "metadata": {
    "collapsed": false,
    "pycharm": {
     "name": "#%% md\n"
    }
   }
  },
  {
   "cell_type": "code",
   "execution_count": 1,
   "outputs": [],
   "source": [
    "def transfer(src, dest):\n",
    "    x = torch.arange(1337).to(src)\n",
    "    print(x[42])\n",
    "\n",
    "    y = x.to(dest, non_blocking=True)\n",
    "    print(y[42])\n",
    "    time.sleep(2)\n",
    "    y = x.to(dest, non_blocking=True)\n",
    "    print(y[42])"
   ],
   "metadata": {
    "collapsed": false,
    "pycharm": {
     "name": "#%%\n"
    }
   }
  },
  {
   "cell_type": "code",
   "execution_count": 2,
   "outputs": [],
   "source": [
    "import time\n",
    "import torch"
   ],
   "metadata": {
    "collapsed": false,
    "pycharm": {
     "name": "#%%\n"
    }
   }
  },
  {
   "cell_type": "code",
   "execution_count": 3,
   "outputs": [
    {
     "name": "stdout",
     "output_type": "stream",
     "text": [
      "tensor(42)\n",
      "tensor(42, device='cuda:0')\n",
      "tensor(42, device='cuda:0')\n"
     ]
    }
   ],
   "source": [
    "transfer(\"cpu\", \"cuda\")"
   ],
   "metadata": {
    "collapsed": false,
    "pycharm": {
     "name": "#%%\n"
    }
   }
  },
  {
   "cell_type": "code",
   "execution_count": 4,
   "outputs": [
    {
     "name": "stdout",
     "output_type": "stream",
     "text": [
      "tensor(42, device='cuda:0')\n",
      "tensor(0)\n",
      "tensor(42)\n"
     ]
    }
   ],
   "source": [
    "transfer(\"cuda\", \"cpu\")"
   ],
   "metadata": {
    "collapsed": false,
    "pycharm": {
     "name": "#%%\n"
    }
   }
  }
 ],
 "metadata": {
  "kernelspec": {
   "display_name": "Python 3",
   "language": "python",
   "name": "python3"
  },
  "language_info": {
   "codemirror_mode": {
    "name": "ipython",
    "version": 2
   },
   "file_extension": ".py",
   "mimetype": "text/x-python",
   "name": "python",
   "nbconvert_exporter": "python",
   "pygments_lexer": "ipython2",
   "version": "2.7.6"
  }
 },
 "nbformat": 4,
 "nbformat_minor": 0
}