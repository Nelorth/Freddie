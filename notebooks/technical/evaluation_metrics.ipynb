{
 "cells": [
  {
   "cell_type": "markdown",
   "source": [
    "# Evaluation Metrics Playground"
   ],
   "metadata": {
    "collapsed": false,
    "pycharm": {
     "name": "#%% md\n"
    }
   }
  },
  {
   "cell_type": "code",
   "execution_count": 1,
   "outputs": [],
   "source": [
    "import torch\n",
    "from torchmetrics import *\n",
    "from pprint import pprint\n",
    "from auprc import AUPRC"
   ],
   "metadata": {
    "collapsed": false,
    "pycharm": {
     "name": "#%%\n"
    }
   }
  },
  {
   "cell_type": "markdown",
   "source": [
    "Create a toy batch"
   ],
   "metadata": {
    "collapsed": false
   }
  },
  {
   "cell_type": "code",
   "execution_count": 2,
   "outputs": [],
   "source": [
    "pred = torch.stack([torch.tensor([\n",
    "    [1, 1, 1, 1, 1, 1, 1, 1 ,1, 1],\n",
    "    [0, 0, 0, 0, 0, 0, 0, 0 ,0, 0],\n",
    "    [0, 0, 0, 0, 0, 0, 0, 0 ,0, 0]\n",
    "]), torch.tensor([\n",
    "    [0, 0, 0, 0, 0, 0, 0, 0 ,0, 0],\n",
    "    [1, 1, 1, 1, 1, 0, 0, 0 ,0, 1],\n",
    "    [0, 0, 0, 0, 0, 1, 1, 1 ,1, 0]\n",
    "], dtype=torch.float)])\n",
    "\n",
    "target = torch.stack([torch.tensor(\n",
    "    [0, 0, 0, 0, 0, 0, 0, 0, 0, 0]\n",
    "), torch.tensor(\n",
    "    [1, 1, 1, 1, 1, 1, 1, 1, 2, 2]\n",
    ")])"
   ],
   "metadata": {
    "collapsed": false,
    "pycharm": {
     "name": "#%%\n"
    }
   }
  },
  {
   "cell_type": "markdown",
   "source": [
    "Inspect metrics results"
   ],
   "metadata": {
    "collapsed": false,
    "pycharm": {
     "name": "#%% md\n"
    }
   }
  },
  {
   "cell_type": "code",
   "execution_count": 3,
   "outputs": [
    {
     "name": "stdout",
     "output_type": "stream",
     "text": [
      "{'AUPRC': tensor([1.0000, 0.6708, 0.1750]),\n",
      " 'AUROC': tensor([1.0000, 0.7708, 0.6667]),\n",
      " 'Accuracy': tensor(0.8000),\n",
      " 'ConfusionMatrix': tensor([[10.,  0.,  0.],\n",
      "        [ 0.,  5.,  3.],\n",
      "        [ 0.,  1.,  1.]]),\n",
      " 'F1': tensor(0.6825)}\n"
     ]
    },
    {
     "name": "stderr",
     "output_type": "stream",
     "text": [
      "C:\\Users\\Nelorth\\Anaconda3\\envs\\Python\\lib\\site-packages\\torchmetrics\\utilities\\prints.py:37: UserWarning: Metric `AUROC` will save all targets and predictions in buffer. For large datasets this may lead to large memory footprint.\n",
      "  warnings.warn(*args, **kwargs)\n",
      "C:\\Users\\Nelorth\\Anaconda3\\envs\\Python\\lib\\site-packages\\torchmetrics\\utilities\\prints.py:37: UserWarning: Metric `AveragePrecision` will save all targets and predictions in buffer. For large datasets this may lead to large memory footprint.\n",
      "  warnings.warn(*args, **kwargs)\n",
      "C:\\Users\\Nelorth\\Anaconda3\\envs\\Python\\lib\\site-packages\\torchmetrics\\functional\\classification\\precision_recall_curve.py:136: UserWarning: To copy construct from a tensor, it is recommended to use sourceTensor.clone().detach() or sourceTensor.clone().detach().requires_grad_(True), rather than torch.tensor(sourceTensor).\n",
      "  thresholds = tensor(reversed(thresholds[sl]))\n"
     ]
    }
   ],
   "source": [
    "metrics = MetricCollection(\n",
    "    Accuracy(num_classes=3,\n",
    "             compute_on_step=False),\n",
    "    F1(num_classes=3,\n",
    "       average=\"macro\",\n",
    "       mdmc_average=\"global\",\n",
    "       compute_on_step=False),\n",
    "    ConfusionMatrix(num_classes=3,\n",
    "                    compute_on_step=False),\n",
    "    AUROC(num_classes=3,\n",
    "          compute_on_step=False,\n",
    "          average=None),\n",
    "    AUPRC(num_classes=3,\n",
    "          compute_on_step=False)\n",
    ")\n",
    "metrics(pred, target)\n",
    "result = metrics.compute()\n",
    "pprint(result)"
   ],
   "metadata": {
    "collapsed": false,
    "pycharm": {
     "name": "#%%\n"
    }
   }
  }
 ],
 "metadata": {
  "kernelspec": {
   "display_name": "Python 3",
   "language": "python",
   "name": "python3"
  },
  "language_info": {
   "codemirror_mode": {
    "name": "ipython",
    "version": 2
   },
   "file_extension": ".py",
   "mimetype": "text/x-python",
   "name": "python",
   "nbconvert_exporter": "python",
   "pygments_lexer": "ipython2",
   "version": "2.7.6"
  }
 },
 "nbformat": 4,
 "nbformat_minor": 0
}