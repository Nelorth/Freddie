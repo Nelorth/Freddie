{
 "cells": [
  {
   "cell_type": "markdown",
   "source": [
    "# Evaluation Metrics Playground"
   ],
   "metadata": {
    "collapsed": false,
    "pycharm": {
     "name": "#%% md\n"
    }
   }
  },
  {
   "cell_type": "code",
   "execution_count": 8,
   "outputs": [],
   "source": [
    "import torch\n",
    "from torchmetrics import *\n",
    "from pprint import pprint\n",
    "from utils.auprc import AUPRC"
   ],
   "metadata": {
    "collapsed": false,
    "pycharm": {
     "name": "#%%\n"
    }
   }
  },
  {
   "cell_type": "markdown",
   "source": [
    "Create a toy batch"
   ],
   "metadata": {
    "collapsed": false
   }
  },
  {
   "cell_type": "code",
   "execution_count": 9,
   "outputs": [],
   "source": [
    "pred = torch.stack([torch.tensor([\n",
    "    [1, 0.8, 0.6, 0.5, 0.4],\n",
    "    [0, 0, 0.4, 0.2, 0.3],\n",
    "    [0, 0.2, 0, 0.3, 0.3]\n",
    "]), torch.tensor([\n",
    "    [0.1, 0.1, 0.3, 0.1, 0.3],\n",
    "    [0.9, 0.5, 0.4, 0, 0.3],\n",
    "    [0, 0.4, 0.3, 0.9, 0.4]\n",
    "], dtype=torch.float)])\n",
    "\n",
    "target = torch.stack([torch.tensor(\n",
    "    [0, 0, 0, 0, 0]\n",
    "), torch.tensor(\n",
    "    [1, 1, 1, 2, 2]\n",
    ")])"
   ],
   "metadata": {
    "collapsed": false,
    "pycharm": {
     "name": "#%%\n"
    }
   }
  },
  {
   "cell_type": "markdown",
   "source": [
    "Inspect metrics results"
   ],
   "metadata": {
    "collapsed": false,
    "pycharm": {
     "name": "#%% md\n"
    }
   }
  },
  {
   "cell_type": "code",
   "execution_count": 14,
   "outputs": [
    {
     "name": "stdout",
     "output_type": "stream",
     "text": [
      "{'Accuracy': tensor(1.),\n",
      " 'ConfusionMatrix': tensor([[5., 0., 0.],\n",
      "        [0., 3., 0.],\n",
      "        [0., 0., 2.]]),\n",
      " 'F1': tensor(1.),\n",
      " 'PrecisionRecallCurve': ([tensor([1., 1., 1., 1., 1., 1.]),\n",
      "                           tensor([0.7500, 1.0000, 1.0000, 1.0000]),\n",
      "                           tensor([0.6667, 1.0000, 1.0000])],\n",
      "                          [tensor([1.0000, 0.8000, 0.6000, 0.4000, 0.2000, 0.0000]),\n",
      "                           tensor([1.0000, 0.6667, 0.3333, 0.0000]),\n",
      "                           tensor([1.0000, 0.5000, 0.0000])],\n",
      "                          [tensor([0.4000, 0.5000, 0.6000, 0.8000, 1.0000]),\n",
      "                           tensor([0.4000, 0.5000, 0.9000]),\n",
      "                           tensor([0.4000, 0.9000])])}\n"
     ]
    }
   ],
   "source": [
    "metrics = MetricCollection(\n",
    "    Accuracy(num_classes=3,\n",
    "             compute_on_step=False),\n",
    "    F1(num_classes=3,\n",
    "       average=\"macro\",\n",
    "       mdmc_average=\"global\",\n",
    "       compute_on_step=False),\n",
    "    ConfusionMatrix(num_classes=3,\n",
    "                    compute_on_step=False),\n",
    "    PrecisionRecallCurve(num_classes=3)\n",
    ")\n",
    "metrics(pred, target)\n",
    "result = metrics.compute()\n",
    "pprint(result)"
   ],
   "metadata": {
    "collapsed": false,
    "pycharm": {
     "name": "#%%\n"
    }
   }
  }
 ],
 "metadata": {
  "kernelspec": {
   "display_name": "Python 3",
   "language": "python",
   "name": "python3"
  },
  "language_info": {
   "codemirror_mode": {
    "name": "ipython",
    "version": 2
   },
   "file_extension": ".py",
   "mimetype": "text/x-python",
   "name": "python",
   "nbconvert_exporter": "python",
   "pygments_lexer": "ipython2",
   "version": "2.7.6"
  }
 },
 "nbformat": 4,
 "nbformat_minor": 0
}