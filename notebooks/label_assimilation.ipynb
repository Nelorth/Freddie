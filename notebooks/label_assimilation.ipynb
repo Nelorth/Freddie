{
 "cells": [
  {
   "cell_type": "markdown",
   "source": [
    "# Label Assimilation"
   ],
   "metadata": {
    "collapsed": false,
    "pycharm": {
     "name": "#%% md\n"
    }
   }
  },
  {
   "cell_type": "code",
   "execution_count": 1,
   "metadata": {
    "collapsed": true
   },
   "outputs": [],
   "source": [
    "import pandas as pd\n",
    "import utils\n",
    "\n",
    "from constants import *"
   ]
  },
  {
   "cell_type": "markdown",
   "source": [
    "Load corrupt label file"
   ],
   "metadata": {
    "collapsed": false,
    "pycharm": {
     "name": "#%% md\n"
    }
   }
  },
  {
   "cell_type": "code",
   "execution_count": 2,
   "outputs": [],
   "source": [
    "df_corrupt = pd.read_csv(utils.resolve_path(LABEL_DIR, \"messenger-0011_-4104_labelled.csv\"),\n",
    "                         index_col=ORBIT_COL,\n",
    "                         parse_dates=EVENT_COLS)"
   ],
   "metadata": {
    "collapsed": false,
    "pycharm": {
     "name": "#%%\n"
    }
   }
  },
  {
   "cell_type": "markdown",
   "source": [
    "Drop additional columns and inutilizable rows"
   ],
   "metadata": {
    "collapsed": false,
    "pycharm": {
     "name": "#%% md\n"
    }
   }
  },
  {
   "cell_type": "code",
   "execution_count": 3,
   "outputs": [],
   "source": [
    "df_corrupt = df_corrupt.drop([\"9\",\"10\"], axis=1).drop([960, 969])"
   ],
   "metadata": {
    "collapsed": false,
    "pycharm": {
     "name": "#%%\n"
    }
   }
  },
  {
   "cell_type": "markdown",
   "source": [
    "Shift orbit IDs to fit our numbering scheme"
   ],
   "metadata": {
    "collapsed": false,
    "pycharm": {
     "name": "#%% md\n"
    }
   }
  },
  {
   "cell_type": "code",
   "execution_count": 4,
   "outputs": [],
   "source": [
    "eleven_offset1 = df_corrupt.loc[:959].index - 11\n",
    "twelve_offset = df_corrupt.loc[970:3576].index - 12\n",
    "eleven_offset2 = df_corrupt.loc[3577:3696].index - 11\n",
    "ten_offset = df_corrupt.loc[3697:].index - 10\n",
    "\n",
    "df_corrupt.index = eleven_offset1\\\n",
    "    .union(twelve_offset)\\\n",
    "    .union(eleven_offset2)\\\n",
    "    .union(ten_offset)"
   ],
   "metadata": {
    "collapsed": false,
    "pycharm": {
     "name": "#%%\n"
    }
   }
  },
  {
   "cell_type": "markdown",
   "source": [
    "Save cleaned label file"
   ],
   "metadata": {
    "collapsed": false,
    "pycharm": {
     "name": "#%% md\n"
    }
   }
  },
  {
   "cell_type": "code",
   "execution_count": 5,
   "outputs": [],
   "source": [
    "df_corrupt.to_csv(utils.resolve_path(LABEL_DIR, LABEL_FILE))"
   ],
   "metadata": {
    "collapsed": false,
    "pycharm": {
     "name": "#%%\n"
    }
   }
  }
 ],
 "metadata": {
  "kernelspec": {
   "display_name": "Python 3",
   "language": "python",
   "name": "python3"
  },
  "language_info": {
   "codemirror_mode": {
    "name": "ipython",
    "version": 2
   },
   "file_extension": ".py",
   "mimetype": "text/x-python",
   "name": "python",
   "nbconvert_exporter": "python",
   "pygments_lexer": "ipython2",
   "version": "2.7.6"
  }
 },
 "nbformat": 4,
 "nbformat_minor": 0
}