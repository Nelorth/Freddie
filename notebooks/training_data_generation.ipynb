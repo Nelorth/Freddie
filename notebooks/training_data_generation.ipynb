{
 "cells": [
  {
   "cell_type": "markdown",
   "metadata": {
    "pycharm": {
     "name": "#%% md\n"
    }
   },
   "source": [
    "# Training Data Generation"
   ]
  },
  {
   "cell_type": "code",
   "execution_count": 1,
   "metadata": {
    "execution": {
     "iopub.execute_input": "2021-10-22T07:59:18.047580Z",
     "iopub.status.busy": "2021-10-22T07:59:18.047058Z",
     "iopub.status.idle": "2021-10-22T07:59:18.995586Z",
     "shell.execute_reply": "2021-10-22T07:59:18.994027Z"
    },
    "pycharm": {
     "name": "#%%\n"
    }
   },
   "outputs": [],
   "source": [
    "import pandas as pd\n",
    "import constants as c\n",
    "import utils\n",
    "\n",
    "from tqdm import tqdm"
   ]
  },
  {
   "cell_type": "markdown",
   "metadata": {},
   "source": [
    "Define main procedures"
   ]
  },
  {
   "cell_type": "code",
   "execution_count": 2,
   "metadata": {
    "execution": {
     "iopub.execute_input": "2021-10-22T07:59:19.003025Z",
     "iopub.status.busy": "2021-10-22T07:59:19.001584Z",
     "iopub.status.idle": "2021-10-22T07:59:19.004564Z",
     "shell.execute_reply": "2021-10-22T07:59:19.005089Z"
    },
    "pycharm": {
     "name": "#%%\n"
    }
   },
   "outputs": [],
   "source": [
    "def prepare_labels():\n",
    "    \"\"\"Load the label descriptor file and preprocess it for merging.\"\"\"\n",
    "\n",
    "    df_labels = pd.read_csv(utils.resolve_path(c.DATA_DIR) / c.LABEL_SUBDIR / c.LABEL_FILE,\n",
    "                            index_col=c.ORBIT_COL,\n",
    "                            parse_dates=c.EVENT_COLS)\n",
    "\n",
    "    # disregard incompletely labeled orbits\n",
    "    df_labels = df_labels.dropna()\n",
    "\n",
    "    # add columns for predecessor and successor events\n",
    "    df_labels[\"Prev out\"] = df_labels[\"SK outer out\"].shift()\n",
    "    df_labels[\"Next in\"] = df_labels[\"SK outer in\"].shift(-1)\n",
    "\n",
    "    return df_labels"
   ]
  },
  {
   "cell_type": "code",
   "execution_count": 3,
   "metadata": {
    "execution": {
     "iopub.execute_input": "2021-10-22T07:59:19.013957Z",
     "iopub.status.busy": "2021-10-22T07:59:19.013357Z",
     "iopub.status.idle": "2021-10-22T07:59:19.016067Z",
     "shell.execute_reply": "2021-10-22T07:59:19.015556Z"
    },
    "pycharm": {
     "name": "#%%\n"
    }
   },
   "outputs": [],
   "source": [
    "def prepare_orbit(orbit_id):\n",
    "    \"\"\"Load the specified orbit and preprocess it for merging.\"\"\"\n",
    "\n",
    "    orbit_file = utils.resolve_path(c.DATA_DIR) / c.RAW_SUBDIR / c.ORBIT_FILE(orbit_id)\n",
    "    df_health.loc[orbit_id, \"does_not_exist\"] = not orbit_file.exists()\n",
    "\n",
    "    if not df_health.loc[orbit_id, \"does_not_exist\"]:\n",
    "        df_orbit = pd.read_csv(orbit_file, index_col=c.DATE_COL, parse_dates=True)\n",
    "\n",
    "        # determine validity criteria for orbit\n",
    "        df_health.loc[orbit_id, \"total_nan_count\"] = (\n",
    "                df_orbit.isnull().sum().sum()\n",
    "        )\n",
    "        df_health.loc[orbit_id, \"missing_entry_count\"] = (\n",
    "                (df_orbit.index[-1] - df_orbit.index[0]).total_seconds() + 1 - len(df_orbit)\n",
    "        )\n",
    "        df_health.loc[orbit_id, \"has_special_conditions\"] = (\n",
    "                df_labels.loc[orbit_id, \"SK outer in\"] <= df_orbit.index[0]\n",
    "                or df_orbit.index[0] <= df_labels.loc[orbit_id, \"Prev out\"]\n",
    "                or df_labels.loc[orbit_id, \"Next in\"] <= df_orbit.index[-1]\n",
    "                or df_orbit.index[-1] <= df_labels.loc[orbit_id, \"SK outer out\"]\n",
    "        )\n",
    "        df_health.loc[orbit_id, \"flux_norm_maximum\"] = (\n",
    "                df_orbit[c.FLUX_COLS].pow(2).sum(axis=1).pow(0.5).max()\n",
    "        )\n",
    "        \n",
    "        if df_health.loc[orbit_id].iloc[0:-1].sum() == 0:\n",
    "            df_orbit[c.ORBIT_COL] = orbit_id  # add orbit id\n",
    "            return df_orbit\n",
    "\n",
    "    return None  # rule out invalid orbit"
   ]
  },
  {
   "cell_type": "code",
   "execution_count": 4,
   "metadata": {
    "execution": {
     "iopub.execute_input": "2021-10-22T07:59:19.022597Z",
     "iopub.status.busy": "2021-10-22T07:59:19.021820Z",
     "iopub.status.idle": "2021-10-22T07:59:19.024651Z",
     "shell.execute_reply": "2021-10-22T07:59:19.023895Z"
    },
    "pycharm": {
     "name": "#%%\n"
    }
   },
   "outputs": [],
   "source": [
    "def assign_labels(df_total, df_labels):\n",
    "    \"\"\"Assign labels to the training time series using event boundary labels.\"\"\"\n",
    "\n",
    "    # interplanetary magnetic field\n",
    "    df_total[c.LABEL_COL] = 0\n",
    "\n",
    "    for row in tqdm(range(len(df_labels))):\n",
    "        event = lambda col: df_labels.iloc[row, df_labels.columns.get_loc(col)]\n",
    "\n",
    "        # bow shock crossings\n",
    "        df_total.loc[event(\"SK outer in\"):event(\"SK inner in\"), c.LABEL_COL] = 1\n",
    "        df_total.loc[event(\"SK inner out\"):event(\"SK outer out\"), c.LABEL_COL] = 1\n",
    "\n",
    "        # magnetosheath\n",
    "        df_total.loc[event(\"SK inner in\"):event(\"MP outer in\"), c.LABEL_COL] = 2\n",
    "        df_total.loc[event(\"MP outer out\"):event(\"SK inner out\"), c.LABEL_COL] = 2\n",
    "\n",
    "        # magnetopause crossings\n",
    "        df_total.loc[event(\"MP outer in\"):event(\"MP inner in\"), c.LABEL_COL] = 3\n",
    "        df_total.loc[event(\"MP inner out\"):event(\"MP outer out\"), c.LABEL_COL] = 3\n",
    "\n",
    "        # magnetosphere\n",
    "        df_total.loc[event(\"MP inner in\"):event(\"MP inner out\"), c.LABEL_COL] = 4"
   ]
  },
  {
   "cell_type": "markdown",
   "metadata": {},
   "source": [
    "Prepare label descriptor file"
   ]
  },
  {
   "cell_type": "code",
   "execution_count": 5,
   "metadata": {
    "execution": {
     "iopub.execute_input": "2021-10-22T07:59:19.029175Z",
     "iopub.status.busy": "2021-10-22T07:59:19.028461Z",
     "iopub.status.idle": "2021-10-22T07:59:19.066271Z",
     "shell.execute_reply": "2021-10-22T07:59:19.067080Z"
    },
    "pycharm": {
     "name": "#%%\n"
    }
   },
   "outputs": [
    {
     "name": "stdout",
     "output_type": "stream",
     "text": [
      "# validly labeled orbits: 4019\n"
     ]
    }
   ],
   "source": [
    "df_labels = prepare_labels()\n",
    "print(f\"# validly labeled orbits: {len(df_labels)}\")"
   ]
  },
  {
   "cell_type": "markdown",
   "metadata": {
    "pycharm": {
     "name": "#%% md\n"
    }
   },
   "source": [
    "Set up orbit validity statistics"
   ]
  },
  {
   "cell_type": "code",
   "execution_count": 6,
   "metadata": {
    "execution": {
     "iopub.execute_input": "2021-10-22T07:59:19.074749Z",
     "iopub.status.busy": "2021-10-22T07:59:19.073785Z",
     "iopub.status.idle": "2021-10-22T07:59:19.076533Z",
     "shell.execute_reply": "2021-10-22T07:59:19.075929Z"
    }
   },
   "outputs": [],
   "source": [
    "df_health = pd.DataFrame(\n",
    "    index=df_labels.index,\n",
    "    columns=[\"does_not_exist\",\n",
    "             \"total_nan_count\",\n",
    "             \"missing_entry_count\",\n",
    "             \"has_special_conditions\",\n",
    "             \"flux_norm_maximum\"]\n",
    ")"
   ]
  },
  {
   "cell_type": "markdown",
   "metadata": {},
   "source": [
    "Combine orbit data into one big frame"
   ]
  },
  {
   "cell_type": "code",
   "execution_count": 7,
   "metadata": {
    "execution": {
     "iopub.execute_input": "2021-10-22T07:59:19.080348Z",
     "iopub.status.busy": "2021-10-22T07:59:19.079759Z",
     "iopub.status.idle": "2021-10-22T08:11:50.823237Z",
     "shell.execute_reply": "2021-10-22T08:11:50.824544Z"
    },
    "pycharm": {
     "name": "#%%\n"
    }
   },
   "outputs": [
    {
     "name": "stderr",
     "output_type": "stream",
     "text": [
      "100%|██████████| 4019/4019 [12:17<00:00,  5.45it/s]\n"
     ]
    },
    {
     "data": {
      "text/html": [
       "<div>\n",
       "<style scoped>\n",
       "    .dataframe tbody tr th:only-of-type {\n",
       "        vertical-align: middle;\n",
       "    }\n",
       "\n",
       "    .dataframe tbody tr th {\n",
       "        vertical-align: top;\n",
       "    }\n",
       "\n",
       "    .dataframe thead th {\n",
       "        text-align: right;\n",
       "    }\n",
       "</style>\n",
       "<table border=\"1\" class=\"dataframe\">\n",
       "  <thead>\n",
       "    <tr style=\"text-align: right;\">\n",
       "      <th></th>\n",
       "      <th>X_MSO</th>\n",
       "      <th>Y_MSO</th>\n",
       "      <th>Z_MSO</th>\n",
       "      <th>BX_MSO</th>\n",
       "      <th>BY_MSO</th>\n",
       "      <th>BZ_MSO</th>\n",
       "      <th>DBX_MSO</th>\n",
       "      <th>DBY_MSO</th>\n",
       "      <th>DBZ_MSO</th>\n",
       "      <th>RHO_DIPOLE</th>\n",
       "      <th>...</th>\n",
       "      <th>Y</th>\n",
       "      <th>Z</th>\n",
       "      <th>VX</th>\n",
       "      <th>VY</th>\n",
       "      <th>VZ</th>\n",
       "      <th>VABS</th>\n",
       "      <th>D</th>\n",
       "      <th>COSALPHA</th>\n",
       "      <th>EXTREMA</th>\n",
       "      <th>ORBIT</th>\n",
       "    </tr>\n",
       "    <tr>\n",
       "      <th>DATE</th>\n",
       "      <th></th>\n",
       "      <th></th>\n",
       "      <th></th>\n",
       "      <th></th>\n",
       "      <th></th>\n",
       "      <th></th>\n",
       "      <th></th>\n",
       "      <th></th>\n",
       "      <th></th>\n",
       "      <th></th>\n",
       "      <th></th>\n",
       "      <th></th>\n",
       "      <th></th>\n",
       "      <th></th>\n",
       "      <th></th>\n",
       "      <th></th>\n",
       "      <th></th>\n",
       "      <th></th>\n",
       "      <th></th>\n",
       "      <th></th>\n",
       "      <th></th>\n",
       "    </tr>\n",
       "  </thead>\n",
       "  <tbody>\n",
       "    <tr>\n",
       "      <th>2011-03-24 19:46:22</th>\n",
       "      <td>6897.941</td>\n",
       "      <td>5403.502</td>\n",
       "      <td>-15374.343</td>\n",
       "      <td>29.343</td>\n",
       "      <td>-2.064</td>\n",
       "      <td>-9.552</td>\n",
       "      <td>0.299</td>\n",
       "      <td>1.637</td>\n",
       "      <td>1.395</td>\n",
       "      <td>18118.125361</td>\n",
       "      <td>...</td>\n",
       "      <td>3.802753e+07</td>\n",
       "      <td>5.912986e+06</td>\n",
       "      <td>-47.808573</td>\n",
       "      <td>-28.603154</td>\n",
       "      <td>2.049779</td>\n",
       "      <td>55.749454</td>\n",
       "      <td>4.915513e+07</td>\n",
       "      <td>0.670984</td>\n",
       "      <td>0</td>\n",
       "      <td>2</td>\n",
       "    </tr>\n",
       "    <tr>\n",
       "      <th>2011-03-24 19:46:23</th>\n",
       "      <td>6898.235</td>\n",
       "      <td>5403.903</td>\n",
       "      <td>-15374.070</td>\n",
       "      <td>29.540</td>\n",
       "      <td>-1.713</td>\n",
       "      <td>-8.633</td>\n",
       "      <td>0.809</td>\n",
       "      <td>1.914</td>\n",
       "      <td>2.789</td>\n",
       "      <td>18118.117945</td>\n",
       "      <td>...</td>\n",
       "      <td>3.802753e+07</td>\n",
       "      <td>5.912986e+06</td>\n",
       "      <td>-47.808573</td>\n",
       "      <td>-28.603154</td>\n",
       "      <td>2.049796</td>\n",
       "      <td>55.749455</td>\n",
       "      <td>4.915513e+07</td>\n",
       "      <td>0.670984</td>\n",
       "      <td>2</td>\n",
       "      <td>2</td>\n",
       "    </tr>\n",
       "    <tr>\n",
       "      <th>2011-03-24 19:46:23</th>\n",
       "      <td>6898.235</td>\n",
       "      <td>5403.903</td>\n",
       "      <td>-15374.070</td>\n",
       "      <td>29.540</td>\n",
       "      <td>-1.713</td>\n",
       "      <td>-8.633</td>\n",
       "      <td>0.809</td>\n",
       "      <td>1.914</td>\n",
       "      <td>2.789</td>\n",
       "      <td>18118.117945</td>\n",
       "      <td>...</td>\n",
       "      <td>3.802753e+07</td>\n",
       "      <td>5.912986e+06</td>\n",
       "      <td>-47.808573</td>\n",
       "      <td>-28.603154</td>\n",
       "      <td>2.049796</td>\n",
       "      <td>55.749455</td>\n",
       "      <td>4.915513e+07</td>\n",
       "      <td>0.670984</td>\n",
       "      <td>2</td>\n",
       "      <td>3</td>\n",
       "    </tr>\n",
       "    <tr>\n",
       "      <th>2011-03-24 19:46:24</th>\n",
       "      <td>6898.530</td>\n",
       "      <td>5404.304</td>\n",
       "      <td>-15373.797</td>\n",
       "      <td>29.849</td>\n",
       "      <td>-0.977</td>\n",
       "      <td>-10.833</td>\n",
       "      <td>1.065</td>\n",
       "      <td>4.469</td>\n",
       "      <td>3.514</td>\n",
       "      <td>18118.110927</td>\n",
       "      <td>...</td>\n",
       "      <td>3.802753e+07</td>\n",
       "      <td>5.912986e+06</td>\n",
       "      <td>-47.808573</td>\n",
       "      <td>-28.603154</td>\n",
       "      <td>2.049746</td>\n",
       "      <td>55.749453</td>\n",
       "      <td>4.915513e+07</td>\n",
       "      <td>0.670984</td>\n",
       "      <td>0</td>\n",
       "      <td>3</td>\n",
       "    </tr>\n",
       "    <tr>\n",
       "      <th>2011-03-24 19:46:25</th>\n",
       "      <td>6898.825</td>\n",
       "      <td>5404.705</td>\n",
       "      <td>-15373.523</td>\n",
       "      <td>29.333</td>\n",
       "      <td>-2.752</td>\n",
       "      <td>-12.014</td>\n",
       "      <td>1.250</td>\n",
       "      <td>5.516</td>\n",
       "      <td>5.414</td>\n",
       "      <td>18118.103052</td>\n",
       "      <td>...</td>\n",
       "      <td>3.802753e+07</td>\n",
       "      <td>5.912986e+06</td>\n",
       "      <td>-47.808573</td>\n",
       "      <td>-28.603154</td>\n",
       "      <td>2.049724</td>\n",
       "      <td>55.749452</td>\n",
       "      <td>4.915513e+07</td>\n",
       "      <td>0.670984</td>\n",
       "      <td>0</td>\n",
       "      <td>3</td>\n",
       "    </tr>\n",
       "  </tbody>\n",
       "</table>\n",
       "<p>5 rows × 29 columns</p>\n",
       "</div>"
      ],
      "text/plain": [
       "                        X_MSO     Y_MSO      Z_MSO  BX_MSO  BY_MSO  BZ_MSO  \\\n",
       "DATE                                                                         \n",
       "2011-03-24 19:46:22  6897.941  5403.502 -15374.343  29.343  -2.064  -9.552   \n",
       "2011-03-24 19:46:23  6898.235  5403.903 -15374.070  29.540  -1.713  -8.633   \n",
       "2011-03-24 19:46:23  6898.235  5403.903 -15374.070  29.540  -1.713  -8.633   \n",
       "2011-03-24 19:46:24  6898.530  5404.304 -15373.797  29.849  -0.977 -10.833   \n",
       "2011-03-24 19:46:25  6898.825  5404.705 -15373.523  29.333  -2.752 -12.014   \n",
       "\n",
       "                     DBX_MSO  DBY_MSO  DBZ_MSO    RHO_DIPOLE  ...  \\\n",
       "DATE                                                          ...   \n",
       "2011-03-24 19:46:22    0.299    1.637    1.395  18118.125361  ...   \n",
       "2011-03-24 19:46:23    0.809    1.914    2.789  18118.117945  ...   \n",
       "2011-03-24 19:46:23    0.809    1.914    2.789  18118.117945  ...   \n",
       "2011-03-24 19:46:24    1.065    4.469    3.514  18118.110927  ...   \n",
       "2011-03-24 19:46:25    1.250    5.516    5.414  18118.103052  ...   \n",
       "\n",
       "                                Y             Z         VX         VY  \\\n",
       "DATE                                                                    \n",
       "2011-03-24 19:46:22  3.802753e+07  5.912986e+06 -47.808573 -28.603154   \n",
       "2011-03-24 19:46:23  3.802753e+07  5.912986e+06 -47.808573 -28.603154   \n",
       "2011-03-24 19:46:23  3.802753e+07  5.912986e+06 -47.808573 -28.603154   \n",
       "2011-03-24 19:46:24  3.802753e+07  5.912986e+06 -47.808573 -28.603154   \n",
       "2011-03-24 19:46:25  3.802753e+07  5.912986e+06 -47.808573 -28.603154   \n",
       "\n",
       "                           VZ       VABS             D  COSALPHA  EXTREMA  \\\n",
       "DATE                                                                        \n",
       "2011-03-24 19:46:22  2.049779  55.749454  4.915513e+07  0.670984        0   \n",
       "2011-03-24 19:46:23  2.049796  55.749455  4.915513e+07  0.670984        2   \n",
       "2011-03-24 19:46:23  2.049796  55.749455  4.915513e+07  0.670984        2   \n",
       "2011-03-24 19:46:24  2.049746  55.749453  4.915513e+07  0.670984        0   \n",
       "2011-03-24 19:46:25  2.049724  55.749452  4.915513e+07  0.670984        0   \n",
       "\n",
       "                     ORBIT  \n",
       "DATE                        \n",
       "2011-03-24 19:46:22      2  \n",
       "2011-03-24 19:46:23      2  \n",
       "2011-03-24 19:46:23      3  \n",
       "2011-03-24 19:46:24      3  \n",
       "2011-03-24 19:46:25      3  \n",
       "\n",
       "[5 rows x 29 columns]"
      ]
     },
     "execution_count": 7,
     "metadata": {},
     "output_type": "execute_result"
    }
   ],
   "source": [
    "df_total = pd.concat(map(prepare_orbit, tqdm(df_labels.index)))\n",
    "df_total.iloc[43462:43467]"
   ]
  },
  {
   "cell_type": "markdown",
   "metadata": {},
   "source": [
    "Remove extreme outliers by three-sigma rule"
   ]
  },
  {
   "cell_type": "code",
   "execution_count": 8,
   "metadata": {
    "execution": {
     "iopub.execute_input": "2021-10-22T08:11:50.833058Z",
     "iopub.status.busy": "2021-10-22T08:11:50.832504Z",
     "iopub.status.idle": "2021-10-22T08:12:03.615138Z",
     "shell.execute_reply": "2021-10-22T08:12:03.613965Z"
    }
   },
   "outputs": [
    {
     "name": "stdout",
     "output_type": "stream",
     "text": [
      "[386, 1375, 1615, 1729, 1899, 1946, 3713, 3714, 3718, 4068]\n"
     ]
    }
   ],
   "source": [
    "df_max = df_health[\"flux_norm_maximum\"]\n",
    "outlier_orbits = df_health.index[df_max > df_max.mean() + 3 * df_max.std()]\n",
    "df_total = df_total[~df_total[c.ORBIT_COL].isin(outlier_orbits)]\n",
    "print(list(outlier_orbits))"
   ]
  },
  {
   "cell_type": "markdown",
   "metadata": {},
   "source": [
    "Save orbit validity statistics"
   ]
  },
  {
   "cell_type": "code",
   "execution_count": 9,
   "metadata": {
    "execution": {
     "iopub.execute_input": "2021-10-22T08:12:03.621416Z",
     "iopub.status.busy": "2021-10-22T08:12:03.620038Z",
     "iopub.status.idle": "2021-10-22T08:12:04.040415Z",
     "shell.execute_reply": "2021-10-22T08:12:04.041504Z"
    },
    "pycharm": {
     "name": "#%%\n"
    }
   },
   "outputs": [
    {
     "name": "stdout",
     "output_type": "stream",
     "text": [
      "# healthy orbits: 3153\n"
     ]
    }
   ],
   "source": [
    "df_health.to_csv(utils.resolve_path(c.DATA_DIR) / c.HEALTH_FILE)\n",
    "orbit_ids = df_total[c.ORBIT_COL].unique()\n",
    "print(f\"# healthy orbits: {len(orbit_ids)}\")"
   ]
  },
  {
   "cell_type": "markdown",
   "metadata": {
    "pycharm": {
     "is_executing": true,
     "name": "#%% md\n"
    }
   },
   "source": [
    "Assign labels to the instances of the training data"
   ]
  },
  {
   "cell_type": "code",
   "execution_count": 10,
   "metadata": {
    "execution": {
     "iopub.execute_input": "2021-10-22T08:12:04.047931Z",
     "iopub.status.busy": "2021-10-22T08:12:04.046558Z",
     "iopub.status.idle": "2021-10-22T13:11:54.384660Z",
     "shell.execute_reply": "2021-10-22T13:11:54.385850Z"
    },
    "pycharm": {
     "name": "#%%\n"
    },
    "scrolled": false
   },
   "outputs": [
    {
     "name": "stderr",
     "output_type": "stream",
     "text": [
      "100%|██████████| 4019/4019 [5:01:42<00:00,  4.50s/it]  \n"
     ]
    },
    {
     "data": {
      "text/html": [
       "<div>\n",
       "<style scoped>\n",
       "    .dataframe tbody tr th:only-of-type {\n",
       "        vertical-align: middle;\n",
       "    }\n",
       "\n",
       "    .dataframe tbody tr th {\n",
       "        vertical-align: top;\n",
       "    }\n",
       "\n",
       "    .dataframe thead th {\n",
       "        text-align: right;\n",
       "    }\n",
       "</style>\n",
       "<table border=\"1\" class=\"dataframe\">\n",
       "  <thead>\n",
       "    <tr style=\"text-align: right;\">\n",
       "      <th></th>\n",
       "      <th>X_MSO</th>\n",
       "      <th>Y_MSO</th>\n",
       "      <th>Z_MSO</th>\n",
       "      <th>BX_MSO</th>\n",
       "      <th>BY_MSO</th>\n",
       "      <th>BZ_MSO</th>\n",
       "      <th>DBX_MSO</th>\n",
       "      <th>DBY_MSO</th>\n",
       "      <th>DBZ_MSO</th>\n",
       "      <th>RHO_DIPOLE</th>\n",
       "      <th>...</th>\n",
       "      <th>Z</th>\n",
       "      <th>VX</th>\n",
       "      <th>VY</th>\n",
       "      <th>VZ</th>\n",
       "      <th>VABS</th>\n",
       "      <th>D</th>\n",
       "      <th>COSALPHA</th>\n",
       "      <th>EXTREMA</th>\n",
       "      <th>ORBIT</th>\n",
       "      <th>LABEL</th>\n",
       "    </tr>\n",
       "    <tr>\n",
       "      <th>DATE</th>\n",
       "      <th></th>\n",
       "      <th></th>\n",
       "      <th></th>\n",
       "      <th></th>\n",
       "      <th></th>\n",
       "      <th></th>\n",
       "      <th></th>\n",
       "      <th></th>\n",
       "      <th></th>\n",
       "      <th></th>\n",
       "      <th></th>\n",
       "      <th></th>\n",
       "      <th></th>\n",
       "      <th></th>\n",
       "      <th></th>\n",
       "      <th></th>\n",
       "      <th></th>\n",
       "      <th></th>\n",
       "      <th></th>\n",
       "      <th></th>\n",
       "      <th></th>\n",
       "    </tr>\n",
       "  </thead>\n",
       "  <tbody>\n",
       "    <tr>\n",
       "      <th>2011-03-24 12:18:45</th>\n",
       "      <td>5804.272</td>\n",
       "      <td>7081.276</td>\n",
       "      <td>-2428.740</td>\n",
       "      <td>-44.922</td>\n",
       "      <td>16.665</td>\n",
       "      <td>4.784</td>\n",
       "      <td>4.239</td>\n",
       "      <td>6.375</td>\n",
       "      <td>3.369</td>\n",
       "      <td>9608.230719</td>\n",
       "      <td>...</td>\n",
       "      <td>5.855501e+06</td>\n",
       "      <td>-48.713393</td>\n",
       "      <td>-27.442143</td>\n",
       "      <td>2.227680</td>\n",
       "      <td>55.955593</td>\n",
       "      <td>4.894640e+07</td>\n",
       "      <td>0.633532</td>\n",
       "      <td>0</td>\n",
       "      <td>2</td>\n",
       "      <td>0</td>\n",
       "    </tr>\n",
       "    <tr>\n",
       "      <th>2011-03-24 12:18:46</th>\n",
       "      <td>5803.633</td>\n",
       "      <td>7080.696</td>\n",
       "      <td>-2427.421</td>\n",
       "      <td>-37.371</td>\n",
       "      <td>8.136</td>\n",
       "      <td>7.607</td>\n",
       "      <td>2.316</td>\n",
       "      <td>3.672</td>\n",
       "      <td>3.443</td>\n",
       "      <td>9607.017439</td>\n",
       "      <td>...</td>\n",
       "      <td>5.855501e+06</td>\n",
       "      <td>-48.713393</td>\n",
       "      <td>-27.442143</td>\n",
       "      <td>2.227663</td>\n",
       "      <td>55.955593</td>\n",
       "      <td>4.894640e+07</td>\n",
       "      <td>0.633532</td>\n",
       "      <td>0</td>\n",
       "      <td>2</td>\n",
       "      <td>0</td>\n",
       "    </tr>\n",
       "    <tr>\n",
       "      <th>2011-03-24 12:18:47</th>\n",
       "      <td>5802.993</td>\n",
       "      <td>7080.117</td>\n",
       "      <td>-2426.101</td>\n",
       "      <td>-34.104</td>\n",
       "      <td>4.656</td>\n",
       "      <td>14.430</td>\n",
       "      <td>1.949</td>\n",
       "      <td>0.970</td>\n",
       "      <td>1.545</td>\n",
       "      <td>9605.804096</td>\n",
       "      <td>...</td>\n",
       "      <td>5.855501e+06</td>\n",
       "      <td>-48.713393</td>\n",
       "      <td>-27.442143</td>\n",
       "      <td>2.227660</td>\n",
       "      <td>55.955593</td>\n",
       "      <td>4.894640e+07</td>\n",
       "      <td>0.633532</td>\n",
       "      <td>0</td>\n",
       "      <td>2</td>\n",
       "      <td>1</td>\n",
       "    </tr>\n",
       "    <tr>\n",
       "      <th>2011-03-24 12:18:48</th>\n",
       "      <td>5802.353</td>\n",
       "      <td>7079.538</td>\n",
       "      <td>-2424.782</td>\n",
       "      <td>-37.385</td>\n",
       "      <td>-0.449</td>\n",
       "      <td>23.100</td>\n",
       "      <td>1.797</td>\n",
       "      <td>3.131</td>\n",
       "      <td>4.607</td>\n",
       "      <td>9604.591160</td>\n",
       "      <td>...</td>\n",
       "      <td>5.855501e+06</td>\n",
       "      <td>-48.713393</td>\n",
       "      <td>-27.442143</td>\n",
       "      <td>2.227669</td>\n",
       "      <td>55.955593</td>\n",
       "      <td>4.894640e+07</td>\n",
       "      <td>0.633532</td>\n",
       "      <td>0</td>\n",
       "      <td>2</td>\n",
       "      <td>1</td>\n",
       "    </tr>\n",
       "    <tr>\n",
       "      <th>2011-03-24 12:18:49</th>\n",
       "      <td>5801.714</td>\n",
       "      <td>7078.958</td>\n",
       "      <td>-2423.462</td>\n",
       "      <td>-31.174</td>\n",
       "      <td>2.786</td>\n",
       "      <td>35.948</td>\n",
       "      <td>3.817</td>\n",
       "      <td>7.081</td>\n",
       "      <td>2.152</td>\n",
       "      <td>9603.377895</td>\n",
       "      <td>...</td>\n",
       "      <td>5.855501e+06</td>\n",
       "      <td>-48.713393</td>\n",
       "      <td>-27.442143</td>\n",
       "      <td>2.227612</td>\n",
       "      <td>55.955591</td>\n",
       "      <td>4.894640e+07</td>\n",
       "      <td>0.633532</td>\n",
       "      <td>0</td>\n",
       "      <td>2</td>\n",
       "      <td>1</td>\n",
       "    </tr>\n",
       "  </tbody>\n",
       "</table>\n",
       "<p>5 rows × 30 columns</p>\n",
       "</div>"
      ],
      "text/plain": [
       "                        X_MSO     Y_MSO     Z_MSO  BX_MSO  BY_MSO  BZ_MSO  \\\n",
       "DATE                                                                        \n",
       "2011-03-24 12:18:45  5804.272  7081.276 -2428.740 -44.922  16.665   4.784   \n",
       "2011-03-24 12:18:46  5803.633  7080.696 -2427.421 -37.371   8.136   7.607   \n",
       "2011-03-24 12:18:47  5802.993  7080.117 -2426.101 -34.104   4.656  14.430   \n",
       "2011-03-24 12:18:48  5802.353  7079.538 -2424.782 -37.385  -0.449  23.100   \n",
       "2011-03-24 12:18:49  5801.714  7078.958 -2423.462 -31.174   2.786  35.948   \n",
       "\n",
       "                     DBX_MSO  DBY_MSO  DBZ_MSO   RHO_DIPOLE  ...  \\\n",
       "DATE                                                         ...   \n",
       "2011-03-24 12:18:45    4.239    6.375    3.369  9608.230719  ...   \n",
       "2011-03-24 12:18:46    2.316    3.672    3.443  9607.017439  ...   \n",
       "2011-03-24 12:18:47    1.949    0.970    1.545  9605.804096  ...   \n",
       "2011-03-24 12:18:48    1.797    3.131    4.607  9604.591160  ...   \n",
       "2011-03-24 12:18:49    3.817    7.081    2.152  9603.377895  ...   \n",
       "\n",
       "                                Z         VX         VY        VZ       VABS  \\\n",
       "DATE                                                                           \n",
       "2011-03-24 12:18:45  5.855501e+06 -48.713393 -27.442143  2.227680  55.955593   \n",
       "2011-03-24 12:18:46  5.855501e+06 -48.713393 -27.442143  2.227663  55.955593   \n",
       "2011-03-24 12:18:47  5.855501e+06 -48.713393 -27.442143  2.227660  55.955593   \n",
       "2011-03-24 12:18:48  5.855501e+06 -48.713393 -27.442143  2.227669  55.955593   \n",
       "2011-03-24 12:18:49  5.855501e+06 -48.713393 -27.442143  2.227612  55.955591   \n",
       "\n",
       "                                D  COSALPHA  EXTREMA  ORBIT  LABEL  \n",
       "DATE                                                                \n",
       "2011-03-24 12:18:45  4.894640e+07  0.633532        0      2      0  \n",
       "2011-03-24 12:18:46  4.894640e+07  0.633532        0      2      0  \n",
       "2011-03-24 12:18:47  4.894640e+07  0.633532        0      2      1  \n",
       "2011-03-24 12:18:48  4.894640e+07  0.633532        0      2      1  \n",
       "2011-03-24 12:18:49  4.894640e+07  0.633532        0      2      1  \n",
       "\n",
       "[5 rows x 30 columns]"
      ]
     },
     "execution_count": 10,
     "metadata": {},
     "output_type": "execute_result"
    }
   ],
   "source": [
    "assign_labels(df_total, df_labels)\n",
    "df_total.iloc[16605:16610]"
   ]
  },
  {
   "cell_type": "markdown",
   "metadata": {},
   "source": [
    "Save class distribution information"
   ]
  },
  {
   "cell_type": "code",
   "execution_count": 11,
   "metadata": {
    "execution": {
     "iopub.execute_input": "2021-10-22T13:13:06.571410Z",
     "iopub.status.busy": "2021-10-22T13:13:06.570050Z",
     "iopub.status.idle": "2021-10-22T13:13:08.169920Z",
     "shell.execute_reply": "2021-10-22T13:13:08.168766Z"
    },
    "pycharm": {
     "name": "#%%\n"
    }
   },
   "outputs": [
    {
     "data": {
      "text/plain": [
       "LABEL\n",
       "0    64868418\n",
       "1     3667178\n",
       "2    14346807\n",
       "3     2286557\n",
       "4    13957973\n",
       "dtype: int64"
      ]
     },
     "execution_count": 11,
     "metadata": {},
     "output_type": "execute_result"
    }
   ],
   "source": [
    "df_freqs = df_total.groupby(c.LABEL_COL).size()\n",
    "df_freqs.to_csv(utils.resolve_path(c.DATA_DIR) / c.FREQS_FILE)\n",
    "df_freqs"
   ]
  },
  {
   "cell_type": "markdown",
   "metadata": {
    "pycharm": {
     "name": "#%% md\n"
    }
   },
   "source": [
    "Partition data into $90\\%$ training and $10\\%$ testing set"
   ]
  },
  {
   "cell_type": "code",
   "execution_count": 12,
   "metadata": {
    "pycharm": {
     "name": "#%%\n"
    }
   },
   "outputs": [],
   "source": [
    "test_orbits = pd.Series(orbit_ids).sample(len(orbit_ids) // 10)\n",
    "df_train = df_total[~df_total[c.ORBIT_COL].isin(test_orbits)]\n",
    "df_test = df_total[df_total[c.ORBIT_COL].isin(test_orbits)]"
   ]
  },
  {
   "cell_type": "markdown",
   "metadata": {},
   "source": [
    "Save descriptive statistics about the training set"
   ]
  },
  {
   "cell_type": "code",
   "execution_count": 13,
   "metadata": {
    "pycharm": {
     "name": "#%%\n"
    }
   },
   "outputs": [
    {
     "data": {
      "text/html": [
       "<div>\n",
       "<style scoped>\n",
       "    .dataframe tbody tr th:only-of-type {\n",
       "        vertical-align: middle;\n",
       "    }\n",
       "\n",
       "    .dataframe tbody tr th {\n",
       "        vertical-align: top;\n",
       "    }\n",
       "\n",
       "    .dataframe thead th {\n",
       "        text-align: right;\n",
       "    }\n",
       "</style>\n",
       "<table border=\"1\" class=\"dataframe\">\n",
       "  <thead>\n",
       "    <tr style=\"text-align: right;\">\n",
       "      <th></th>\n",
       "      <th>X_MSO</th>\n",
       "      <th>Y_MSO</th>\n",
       "      <th>Z_MSO</th>\n",
       "      <th>BX_MSO</th>\n",
       "      <th>BY_MSO</th>\n",
       "      <th>BZ_MSO</th>\n",
       "      <th>DBX_MSO</th>\n",
       "      <th>DBY_MSO</th>\n",
       "      <th>DBZ_MSO</th>\n",
       "      <th>RHO_DIPOLE</th>\n",
       "      <th>...</th>\n",
       "      <th>Z</th>\n",
       "      <th>VX</th>\n",
       "      <th>VY</th>\n",
       "      <th>VZ</th>\n",
       "      <th>VABS</th>\n",
       "      <th>D</th>\n",
       "      <th>COSALPHA</th>\n",
       "      <th>EXTREMA</th>\n",
       "      <th>ORBIT</th>\n",
       "      <th>LABEL</th>\n",
       "    </tr>\n",
       "    <tr>\n",
       "      <th>STAT</th>\n",
       "      <th></th>\n",
       "      <th></th>\n",
       "      <th></th>\n",
       "      <th></th>\n",
       "      <th></th>\n",
       "      <th></th>\n",
       "      <th></th>\n",
       "      <th></th>\n",
       "      <th></th>\n",
       "      <th></th>\n",
       "      <th></th>\n",
       "      <th></th>\n",
       "      <th></th>\n",
       "      <th></th>\n",
       "      <th></th>\n",
       "      <th></th>\n",
       "      <th></th>\n",
       "      <th></th>\n",
       "      <th></th>\n",
       "      <th></th>\n",
       "      <th></th>\n",
       "    </tr>\n",
       "  </thead>\n",
       "  <tbody>\n",
       "    <tr>\n",
       "      <th>count</th>\n",
       "      <td>8.917289e+07</td>\n",
       "      <td>8.917289e+07</td>\n",
       "      <td>8.917289e+07</td>\n",
       "      <td>8.917289e+07</td>\n",
       "      <td>8.917289e+07</td>\n",
       "      <td>8.917289e+07</td>\n",
       "      <td>8.917289e+07</td>\n",
       "      <td>8.917289e+07</td>\n",
       "      <td>8.917289e+07</td>\n",
       "      <td>8.917289e+07</td>\n",
       "      <td>...</td>\n",
       "      <td>8.917289e+07</td>\n",
       "      <td>8.917289e+07</td>\n",
       "      <td>8.917289e+07</td>\n",
       "      <td>8.917289e+07</td>\n",
       "      <td>8.917289e+07</td>\n",
       "      <td>8.917289e+07</td>\n",
       "      <td>8.917289e+07</td>\n",
       "      <td>8.917289e+07</td>\n",
       "      <td>8.917289e+07</td>\n",
       "      <td>8.917289e+07</td>\n",
       "    </tr>\n",
       "    <tr>\n",
       "      <th>mean</th>\n",
       "      <td>1.315765e+02</td>\n",
       "      <td>-1.639584e+02</td>\n",
       "      <td>-7.899505e+03</td>\n",
       "      <td>4.337857e-01</td>\n",
       "      <td>-2.653793e-01</td>\n",
       "      <td>-4.454915e+00</td>\n",
       "      <td>1.060072e+00</td>\n",
       "      <td>1.400845e+00</td>\n",
       "      <td>1.399623e+00</td>\n",
       "      <td>1.051222e+04</td>\n",
       "      <td>...</td>\n",
       "      <td>-1.477714e+06</td>\n",
       "      <td>-2.943107e-02</td>\n",
       "      <td>3.703317e+00</td>\n",
       "      <td>3.053322e-01</td>\n",
       "      <td>4.752608e+01</td>\n",
       "      <td>5.895149e+07</td>\n",
       "      <td>2.349638e-03</td>\n",
       "      <td>6.366285e-05</td>\n",
       "      <td>1.862997e+03</td>\n",
       "      <td>9.604381e-01</td>\n",
       "    </tr>\n",
       "    <tr>\n",
       "      <th>std</th>\n",
       "      <td>3.665622e+03</td>\n",
       "      <td>3.885022e+03</td>\n",
       "      <td>5.242040e+03</td>\n",
       "      <td>4.071519e+01</td>\n",
       "      <td>3.999325e+01</td>\n",
       "      <td>5.646241e+01</td>\n",
       "      <td>1.653099e+00</td>\n",
       "      <td>2.094693e+00</td>\n",
       "      <td>2.100094e+00</td>\n",
       "      <td>3.978662e+03</td>\n",
       "      <td>...</td>\n",
       "      <td>4.885600e+06</td>\n",
       "      <td>3.417986e+01</td>\n",
       "      <td>3.331217e+01</td>\n",
       "      <td>4.125495e+00</td>\n",
       "      <td>7.075591e+00</td>\n",
       "      <td>8.439905e+06</td>\n",
       "      <td>6.874760e-01</td>\n",
       "      <td>2.111009e-02</td>\n",
       "      <td>1.169493e+03</td>\n",
       "      <td>1.469557e+00</td>\n",
       "    </tr>\n",
       "    <tr>\n",
       "      <th>min</th>\n",
       "      <td>-1.074348e+04</td>\n",
       "      <td>-1.131478e+04</td>\n",
       "      <td>-1.662732e+04</td>\n",
       "      <td>-3.955740e+02</td>\n",
       "      <td>-5.540960e+02</td>\n",
       "      <td>-5.791980e+02</td>\n",
       "      <td>0.000000e+00</td>\n",
       "      <td>0.000000e+00</td>\n",
       "      <td>0.000000e+00</td>\n",
       "      <td>2.015986e+03</td>\n",
       "      <td>...</td>\n",
       "      <td>-7.654416e+06</td>\n",
       "      <td>-5.848620e+01</td>\n",
       "      <td>-4.661918e+01</td>\n",
       "      <td>-4.894014e+00</td>\n",
       "      <td>3.885789e+01</td>\n",
       "      <td>4.599997e+07</td>\n",
       "      <td>-1.000000e+00</td>\n",
       "      <td>-2.000000e+00</td>\n",
       "      <td>2.000000e+00</td>\n",
       "      <td>0.000000e+00</td>\n",
       "    </tr>\n",
       "    <tr>\n",
       "      <th>25%</th>\n",
       "      <td>-2.319364e+03</td>\n",
       "      <td>-2.806297e+03</td>\n",
       "      <td>-1.196499e+04</td>\n",
       "      <td>-1.751600e+01</td>\n",
       "      <td>-1.121700e+01</td>\n",
       "      <td>-8.230000e+00</td>\n",
       "      <td>1.800000e-01</td>\n",
       "      <td>2.150000e-01</td>\n",
       "      <td>2.370000e-01</td>\n",
       "      <td>7.759019e+03</td>\n",
       "      <td>...</td>\n",
       "      <td>-6.329423e+06</td>\n",
       "      <td>-3.249120e+01</td>\n",
       "      <td>-2.789521e+01</td>\n",
       "      <td>-3.679371e+00</td>\n",
       "      <td>4.065040e+01</td>\n",
       "      <td>5.028207e+07</td>\n",
       "      <td>-6.630508e-01</td>\n",
       "      <td>0.000000e+00</td>\n",
       "      <td>8.180000e+02</td>\n",
       "      <td>0.000000e+00</td>\n",
       "    </tr>\n",
       "    <tr>\n",
       "      <th>50%</th>\n",
       "      <td>-8.294400e+01</td>\n",
       "      <td>-7.430100e+01</td>\n",
       "      <td>-9.311913e+03</td>\n",
       "      <td>-2.480000e-01</td>\n",
       "      <td>-5.300000e-02</td>\n",
       "      <td>5.370000e-01</td>\n",
       "      <td>5.130000e-01</td>\n",
       "      <td>6.970000e-01</td>\n",
       "      <td>7.100000e-01</td>\n",
       "      <td>1.137309e+04</td>\n",
       "      <td>...</td>\n",
       "      <td>-2.101660e+06</td>\n",
       "      <td>9.672237e+00</td>\n",
       "      <td>5.127849e+00</td>\n",
       "      <td>-4.220127e-01</td>\n",
       "      <td>4.599979e+01</td>\n",
       "      <td>6.021827e+07</td>\n",
       "      <td>1.899174e-03</td>\n",
       "      <td>0.000000e+00</td>\n",
       "      <td>1.790000e+03</td>\n",
       "      <td>0.000000e+00</td>\n",
       "    </tr>\n",
       "    <tr>\n",
       "      <th>75%</th>\n",
       "      <td>2.554231e+03</td>\n",
       "      <td>2.530306e+03</td>\n",
       "      <td>-4.026452e+03</td>\n",
       "      <td>1.556500e+01</td>\n",
       "      <td>1.101100e+01</td>\n",
       "      <td>9.863000e+00</td>\n",
       "      <td>1.286000e+00</td>\n",
       "      <td>1.775000e+00</td>\n",
       "      <td>1.751000e+00</td>\n",
       "      <td>1.302737e+04</td>\n",
       "      <td>...</td>\n",
       "      <td>3.339362e+06</td>\n",
       "      <td>3.231478e+01</td>\n",
       "      <td>3.599440e+01</td>\n",
       "      <td>4.215396e+00</td>\n",
       "      <td>5.465329e+01</td>\n",
       "      <td>6.729511e+07</td>\n",
       "      <td>6.773884e-01</td>\n",
       "      <td>0.000000e+00</td>\n",
       "      <td>2.794000e+03</td>\n",
       "      <td>2.000000e+00</td>\n",
       "    </tr>\n",
       "    <tr>\n",
       "      <th>max</th>\n",
       "      <td>1.142345e+04</td>\n",
       "      <td>1.111089e+04</td>\n",
       "      <td>3.154425e+03</td>\n",
       "      <td>5.589880e+02</td>\n",
       "      <td>5.206690e+02</td>\n",
       "      <td>3.956680e+02</td>\n",
       "      <td>3.332820e+02</td>\n",
       "      <td>2.960840e+02</td>\n",
       "      <td>2.866980e+02</td>\n",
       "      <td>1.812033e+04</td>\n",
       "      <td>...</td>\n",
       "      <td>6.239501e+06</td>\n",
       "      <td>3.894385e+01</td>\n",
       "      <td>5.089473e+01</td>\n",
       "      <td>7.036499e+00</td>\n",
       "      <td>5.897771e+01</td>\n",
       "      <td>6.981782e+07</td>\n",
       "      <td>9.999954e-01</td>\n",
       "      <td>2.000000e+00</td>\n",
       "      <td>4.092000e+03</td>\n",
       "      <td>4.000000e+00</td>\n",
       "    </tr>\n",
       "  </tbody>\n",
       "</table>\n",
       "<p>8 rows × 30 columns</p>\n",
       "</div>"
      ],
      "text/plain": [
       "              X_MSO         Y_MSO         Z_MSO        BX_MSO        BY_MSO  \\\n",
       "STAT                                                                          \n",
       "count  8.917289e+07  8.917289e+07  8.917289e+07  8.917289e+07  8.917289e+07   \n",
       "mean   1.315765e+02 -1.639584e+02 -7.899505e+03  4.337857e-01 -2.653793e-01   \n",
       "std    3.665622e+03  3.885022e+03  5.242040e+03  4.071519e+01  3.999325e+01   \n",
       "min   -1.074348e+04 -1.131478e+04 -1.662732e+04 -3.955740e+02 -5.540960e+02   \n",
       "25%   -2.319364e+03 -2.806297e+03 -1.196499e+04 -1.751600e+01 -1.121700e+01   \n",
       "50%   -8.294400e+01 -7.430100e+01 -9.311913e+03 -2.480000e-01 -5.300000e-02   \n",
       "75%    2.554231e+03  2.530306e+03 -4.026452e+03  1.556500e+01  1.101100e+01   \n",
       "max    1.142345e+04  1.111089e+04  3.154425e+03  5.589880e+02  5.206690e+02   \n",
       "\n",
       "             BZ_MSO       DBX_MSO       DBY_MSO       DBZ_MSO    RHO_DIPOLE  \\\n",
       "STAT                                                                          \n",
       "count  8.917289e+07  8.917289e+07  8.917289e+07  8.917289e+07  8.917289e+07   \n",
       "mean  -4.454915e+00  1.060072e+00  1.400845e+00  1.399623e+00  1.051222e+04   \n",
       "std    5.646241e+01  1.653099e+00  2.094693e+00  2.100094e+00  3.978662e+03   \n",
       "min   -5.791980e+02  0.000000e+00  0.000000e+00  0.000000e+00  2.015986e+03   \n",
       "25%   -8.230000e+00  1.800000e-01  2.150000e-01  2.370000e-01  7.759019e+03   \n",
       "50%    5.370000e-01  5.130000e-01  6.970000e-01  7.100000e-01  1.137309e+04   \n",
       "75%    9.863000e+00  1.286000e+00  1.775000e+00  1.751000e+00  1.302737e+04   \n",
       "max    3.956680e+02  3.332820e+02  2.960840e+02  2.866980e+02  1.812033e+04   \n",
       "\n",
       "       ...             Z            VX            VY            VZ  \\\n",
       "STAT   ...                                                           \n",
       "count  ...  8.917289e+07  8.917289e+07  8.917289e+07  8.917289e+07   \n",
       "mean   ... -1.477714e+06 -2.943107e-02  3.703317e+00  3.053322e-01   \n",
       "std    ...  4.885600e+06  3.417986e+01  3.331217e+01  4.125495e+00   \n",
       "min    ... -7.654416e+06 -5.848620e+01 -4.661918e+01 -4.894014e+00   \n",
       "25%    ... -6.329423e+06 -3.249120e+01 -2.789521e+01 -3.679371e+00   \n",
       "50%    ... -2.101660e+06  9.672237e+00  5.127849e+00 -4.220127e-01   \n",
       "75%    ...  3.339362e+06  3.231478e+01  3.599440e+01  4.215396e+00   \n",
       "max    ...  6.239501e+06  3.894385e+01  5.089473e+01  7.036499e+00   \n",
       "\n",
       "               VABS             D      COSALPHA       EXTREMA         ORBIT  \\\n",
       "STAT                                                                          \n",
       "count  8.917289e+07  8.917289e+07  8.917289e+07  8.917289e+07  8.917289e+07   \n",
       "mean   4.752608e+01  5.895149e+07  2.349638e-03  6.366285e-05  1.862997e+03   \n",
       "std    7.075591e+00  8.439905e+06  6.874760e-01  2.111009e-02  1.169493e+03   \n",
       "min    3.885789e+01  4.599997e+07 -1.000000e+00 -2.000000e+00  2.000000e+00   \n",
       "25%    4.065040e+01  5.028207e+07 -6.630508e-01  0.000000e+00  8.180000e+02   \n",
       "50%    4.599979e+01  6.021827e+07  1.899174e-03  0.000000e+00  1.790000e+03   \n",
       "75%    5.465329e+01  6.729511e+07  6.773884e-01  0.000000e+00  2.794000e+03   \n",
       "max    5.897771e+01  6.981782e+07  9.999954e-01  2.000000e+00  4.092000e+03   \n",
       "\n",
       "              LABEL  \n",
       "STAT                 \n",
       "count  8.917289e+07  \n",
       "mean   9.604381e-01  \n",
       "std    1.469557e+00  \n",
       "min    0.000000e+00  \n",
       "25%    0.000000e+00  \n",
       "50%    0.000000e+00  \n",
       "75%    2.000000e+00  \n",
       "max    4.000000e+00  \n",
       "\n",
       "[8 rows x 30 columns]"
      ]
     },
     "execution_count": 13,
     "metadata": {},
     "output_type": "execute_result"
    }
   ],
   "source": [
    "df_stats = df_train.describe()\n",
    "df_stats.index.name = c.STAT_COL\n",
    "df_stats.to_csv(utils.resolve_path(c.DATA_DIR) / c.STATS_FILE)\n",
    "df_stats"
   ]
  },
  {
   "cell_type": "markdown",
   "metadata": {
    "pycharm": {
     "name": "#%% md\n"
    }
   },
   "source": [
    "Save the final training data frames"
   ]
  },
  {
   "cell_type": "code",
   "execution_count": 14,
   "metadata": {
    "execution": {
     "iopub.execute_input": "2021-10-22T13:13:08.176177Z",
     "iopub.status.busy": "2021-10-22T13:13:08.175024Z",
     "iopub.status.idle": "2021-10-22T13:51:30.699255Z",
     "shell.execute_reply": "2021-10-22T13:51:30.700458Z"
    },
    "pycharm": {
     "name": "#%%\n"
    }
   },
   "outputs": [
    {
     "name": "stderr",
     "output_type": "stream",
     "text": [
      "100%|██████████| 2838/2838 [36:08<00:00,  1.31it/s]\n"
     ]
    }
   ],
   "source": [
    "train_dir = utils.resolve_path(c.DATA_DIR) / c.TRAIN_SUBDIR\n",
    "utils.ensure_directory(train_dir)\n",
    "\n",
    "for n, orbit in tqdm(df_train.groupby(c.ORBIT_COL)):\n",
    "    orbit.to_csv(train_dir / c.ORBIT_FILE(n))"
   ]
  },
  {
   "cell_type": "markdown",
   "metadata": {},
   "source": [
    "Save the final testing data frames"
   ]
  },
  {
   "cell_type": "code",
   "execution_count": 15,
   "metadata": {
    "pycharm": {
     "name": "#%%\n"
    }
   },
   "outputs": [
    {
     "name": "stderr",
     "output_type": "stream",
     "text": [
      "100%|██████████| 315/315 [04:02<00:00,  1.30it/s]\n"
     ]
    }
   ],
   "source": [
    "test_dir = utils.resolve_path(c.DATA_DIR) / c.TEST_SUBDIR\n",
    "utils.ensure_directory(test_dir)\n",
    "\n",
    "for n, orbit in tqdm(df_test.groupby(c.ORBIT_COL)):\n",
    "    orbit.to_csv(test_dir / c.ORBIT_FILE(n))"
   ]
  }
 ],
 "metadata": {
  "kernelspec": {
   "display_name": "Python 3",
   "language": "python",
   "name": "python3"
  },
  "language_info": {
   "codemirror_mode": {
    "name": "ipython",
    "version": 3
   },
   "file_extension": ".py",
   "mimetype": "text/x-python",
   "name": "python",
   "nbconvert_exporter": "python",
   "pygments_lexer": "ipython3",
   "version": "3.8.8"
  }
 },
 "nbformat": 4,
 "nbformat_minor": 1
}