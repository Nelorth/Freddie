{
 "cells": [
  {
   "cell_type": "markdown",
   "source": [
    "# Evaluation Metrics Playground"
   ],
   "metadata": {
    "collapsed": false,
    "pycharm": {
     "name": "#%% md\n"
    }
   }
  },
  {
   "cell_type": "code",
   "execution_count": 20,
   "outputs": [],
   "source": [
    "import torch\n",
    "from torchmetrics import *\n",
    "from pprint import pprint"
   ],
   "metadata": {
    "collapsed": false,
    "pycharm": {
     "name": "#%%\n"
    }
   }
  },
  {
   "cell_type": "markdown",
   "source": [
    "Rudimentary evaluation metric"
   ],
   "metadata": {
    "collapsed": false
   }
  },
  {
   "cell_type": "code",
   "execution_count": 21,
   "outputs": [],
   "source": [
    "pred = torch.stack([torch.tensor([\n",
    "    [1, 1, 1, 1, 1, 1, 1, 1 ,1, 1],\n",
    "    [0, 0, 0, 0, 0, 0, 0, 0 ,0, 0],\n",
    "    [0, 0, 0, 0, 0, 0, 0, 0 ,0, 0],\n",
    "    [0, 0, 0, 0, 0, 0, 0, 0 ,0, 0],\n",
    "    [0, 0, 0, 0, 0, 0, 0, 0 ,0, 0]\n",
    "]), torch.tensor([\n",
    "    [1, 1, 0, 0, 0, 0, 0, 0 ,0, 0],\n",
    "    [0, 0, 1, 1, 1, 0, 0, 0 ,0, 0],\n",
    "    [0, 0, 0, 0, 0, 1, 0, 0 ,0, 0],\n",
    "    [0, 0, 0, 0, 0, 0, 1, 1 ,0, 0],\n",
    "    [0, 0, 0, 0, 0, 0, 0, 0 ,1, 1]\n",
    "], dtype=torch.float)])\n",
    "\n",
    "target = torch.stack([torch.tensor(\n",
    "    [0, 0, 0, 0, 0, 0, 0, 0, 0, 0]\n",
    "), torch.tensor(\n",
    "    [0, 0, 1, 1, 1, 2, 2, 2, 2, 2]\n",
    ")])"
   ],
   "metadata": {
    "collapsed": false,
    "pycharm": {
     "name": "#%%\n"
    }
   }
  },
  {
   "cell_type": "code",
   "execution_count": 22,
   "outputs": [
    {
     "name": "stdout",
     "output_type": "stream",
     "text": [
      "{'Accuracy': tensor(0.8000),\n",
      " 'ConfusionMatrix': tensor([[12.,  0.,  0.,  0.,  0.],\n",
      "        [ 0.,  3.,  0.,  0.,  0.],\n",
      "        [ 0.,  0.,  1.,  2.,  2.],\n",
      "        [ 0.,  0.,  0.,  0.,  0.],\n",
      "        [ 0.,  0.,  0.,  0.,  0.]]),\n",
      " 'F1': tensor(0.4667)}\n"
     ]
    }
   ],
   "source": [
    "metrics = MetricCollection(\n",
    "    Accuracy(num_classes=5,\n",
    "             compute_on_step=False),\n",
    "    F1(num_classes=5,\n",
    "       average=\"macro\",\n",
    "       mdmc_average=\"global\",\n",
    "       compute_on_step=False),\n",
    "    ConfusionMatrix(num_classes=5,\n",
    "                    compute_on_step=False)\n",
    ")\n",
    "metrics(pred, target)\n",
    "pprint(metrics.compute())"
   ],
   "metadata": {
    "collapsed": false,
    "pycharm": {
     "name": "#%%\n"
    }
   }
  },
  {
   "cell_type": "code",
   "execution_count": 23,
   "outputs": [
    {
     "name": "stdout",
     "output_type": "stream",
     "text": [
      "{'Accuracy': tensor(0.),\n",
      " 'ConfusionMatrix': tensor([[0., 0., 0., 0., 0.],\n",
      "        [0., 0., 0., 0., 0.],\n",
      "        [0., 0., 0., 0., 0.],\n",
      "        [0., 0., 0., 0., 0.],\n",
      "        [0., 0., 0., 0., 0.]]),\n",
      " 'F1': tensor(0.)}\n"
     ]
    },
    {
     "name": "stderr",
     "output_type": "stream",
     "text": [
      "C:\\Users\\Nelorth\\Anaconda3\\envs\\Python\\lib\\site-packages\\torchmetrics\\utilities\\prints.py:37: UserWarning: The ``compute`` method of metric Accuracy was called before the ``update`` method which may lead to errors, as metric states have not yet been updated.\n",
      "  warnings.warn(*args, **kwargs)\n",
      "C:\\Users\\Nelorth\\Anaconda3\\envs\\Python\\lib\\site-packages\\torchmetrics\\utilities\\prints.py:37: UserWarning: The ``compute`` method of metric F1 was called before the ``update`` method which may lead to errors, as metric states have not yet been updated.\n",
      "  warnings.warn(*args, **kwargs)\n",
      "C:\\Users\\Nelorth\\Anaconda3\\envs\\Python\\lib\\site-packages\\torchmetrics\\utilities\\prints.py:37: UserWarning: The ``compute`` method of metric ConfusionMatrix was called before the ``update`` method which may lead to errors, as metric states have not yet been updated.\n",
      "  warnings.warn(*args, **kwargs)\n"
     ]
    }
   ],
   "source": [],
   "metadata": {
    "collapsed": false,
    "pycharm": {
     "name": "#%%"
    }
   }
  }
 ],
 "metadata": {
  "kernelspec": {
   "display_name": "Python 3",
   "language": "python",
   "name": "python3"
  },
  "language_info": {
   "codemirror_mode": {
    "name": "ipython",
    "version": 2
   },
   "file_extension": ".py",
   "mimetype": "text/x-python",
   "name": "python",
   "nbconvert_exporter": "python",
   "pygments_lexer": "ipython2",
   "version": "2.7.6"
  }
 },
 "nbformat": 4,
 "nbformat_minor": 0
}