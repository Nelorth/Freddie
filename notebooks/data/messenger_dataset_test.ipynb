{
 "cells": [
  {
   "cell_type": "markdown",
   "metadata": {
    "pycharm": {
     "name": "#%% md\n"
    }
   },
   "source": [
    "# Dataset Test"
   ]
  },
  {
   "cell_type": "code",
   "execution_count": 1,
   "metadata": {},
   "outputs": [],
   "source": [
    "import utils\n",
    "\n",
    "from messenger_dataset import MessengerDataset\n",
    "from constants import *"
   ]
  },
  {
   "cell_type": "markdown",
   "metadata": {},
   "source": [
    "Load training data"
   ]
  },
  {
   "cell_type": "code",
   "execution_count": 2,
   "metadata": {
    "pycharm": {
     "name": "#%%\n"
    }
   },
   "outputs": [
    {
     "name": "stdout",
     "output_type": "stream",
     "text": [
      "434538\n"
     ]
    }
   ],
   "source": [
    "ds = MessengerDataset(utils.resolve_path(DATA_DIR),\n",
    "                      features=[\"BX_MSO\", \"BY_MSO\", \"BZ_MSO\"],\n",
    "                      window_size=10,\n",
    "                      future_size=2,\n",
    "                      use_orbits=[2, 3, 4, 5, 6, 7, 8, 9, 10, 11],\n",
    "                      normalize=False)\n",
    "print(len(ds))"
   ]
  },
  {
   "cell_type": "markdown",
   "metadata": {
    "pycharm": {
     "name": "#%% md\n"
    }
   },
   "source": [
    "Inspect sample-label pair at label change"
   ]
  },
  {
   "cell_type": "code",
   "execution_count": 3,
   "metadata": {
    "pycharm": {
     "name": "#%%\n"
    }
   },
   "outputs": [
    {
     "name": "stdout",
     "output_type": "stream",
     "text": [
      "tensor([[-41.9570, -38.6640, -37.1620, -37.1990, -40.2240, -44.9220, -37.3710,\n",
      "         -34.1040, -37.3850, -31.1740],\n",
      "        [ 23.9860,  13.6640,  11.1460,  24.8980,  25.1490,  16.6650,   8.1360,\n",
      "           4.6560,  -0.4490,   2.7860],\n",
      "        [ -2.2310,  -3.6260,  14.9180,  18.8290,  15.0140,   4.7840,   7.6070,\n",
      "          14.4300,  23.1000,  35.9480]])\n",
      "tensor([0, 0, 0, 0, 0, 0, 0, 1, 1, 1, 1, 1])\n"
     ]
    }
   ],
   "source": [
    "sample, label = ds[16600]\n",
    "print(sample)\n",
    "print(label)"
   ]
  },
  {
   "cell_type": "markdown",
   "metadata": {},
   "source": [
    "Inspect sample-label pair at orbit change"
   ]
  },
  {
   "cell_type": "code",
   "execution_count": 4,
   "metadata": {},
   "outputs": [
    {
     "name": "stdout",
     "output_type": "stream",
     "text": [
      "tensor([[ 29.5400,  29.8490,  29.3330,  30.2290,  29.5270,  29.9260,  28.0450,\n",
      "          31.6650,  28.0850,  29.3400],\n",
      "        [ -1.7130,  -0.9770,  -2.7520,  -4.7280,  -1.3570,  -4.1730,  -4.7510,\n",
      "          -2.3210,  -2.5650,  -3.5000],\n",
      "        [ -8.6330, -10.8330, -12.0140,  -9.0650,  -9.5890, -11.5340, -13.2750,\n",
      "          -9.3490, -11.8890, -11.9070]])\n",
      "tensor([0, 0, 0, 0, 0, 0, 0, 0, 0, 0, 0, 0])\n"
     ]
    }
   ],
   "source": [
    "sample, label = ds[43453]\n",
    "print(sample)\n",
    "print(label)"
   ]
  },
  {
   "cell_type": "markdown",
   "metadata": {
    "pycharm": {
     "name": "#%% md\n"
    }
   },
   "source": [
    "View first and last element"
   ]
  },
  {
   "cell_type": "code",
   "execution_count": 5,
   "metadata": {
    "pycharm": {
     "name": "#%%\n"
    }
   },
   "outputs": [
    {
     "name": "stdout",
     "output_type": "stream",
     "text": [
      "(tensor([[-35.4070, -35.9760, -34.1150, -34.8300, -37.1020, -35.0010, -36.0010,\n",
      "         -37.0910, -36.7500, -36.0410],\n",
      "        [ 15.7220,  14.3270,  17.3080,  17.0100,  14.9650,  18.2500,  17.9700,\n",
      "          17.3900,  18.1020,  21.2490],\n",
      "        [  4.9990,   3.4010,   3.0780,   4.8460,   0.6400,  -1.3470,   0.9000,\n",
      "           0.8300,  -1.0810,  -0.7290]]), tensor([0, 0, 0, 0, 0, 0, 0, 0, 0, 0, 0, 0]))\n"
     ]
    }
   ],
   "source": [
    "print(ds[0])"
   ]
  },
  {
   "cell_type": "code",
   "execution_count": 6,
   "metadata": {
    "scrolled": true
   },
   "outputs": [
    {
     "name": "stdout",
     "output_type": "stream",
     "text": [
      "(tensor([[24.9080, 24.7380, 23.3850, 23.0170, 23.2610, 22.9920, 22.5880, 22.8500,\n",
      "         23.2280, 24.2270],\n",
      "        [ 4.6430,  4.4030,  4.4350,  4.3920,  5.0480,  4.7540,  4.8920,  4.9670,\n",
      "          4.3940,  5.7770],\n",
      "        [ 1.5450,  0.1540, -6.0790, -9.0970, -8.3360, -8.3680, -9.6430, -9.6540,\n",
      "         -8.6290, -4.8120]]), tensor([0, 0, 0, 0, 0, 0, 0, 0, 0, 0, 0, 0]))\n"
     ]
    }
   ],
   "source": [
    "print(ds[len(ds) - 1])"
   ]
  },
  {
   "cell_type": "code",
   "execution_count": 7,
   "metadata": {},
   "outputs": [
    {
     "name": "stdout",
     "output_type": "stream",
     "text": [
      "# training samples: 347631\n",
      "# training samples: 86907\n"
     ]
    }
   ],
   "source": [
    "ds_train, ds_eval = ds.split(0.25)\n",
    "print(\"# training samples:\", len(ds_train))\n",
    "print(\"# training samples:\", len(ds_eval))"
   ]
  }
 ],
 "metadata": {
  "kernelspec": {
   "display_name": "Python 3",
   "language": "python",
   "name": "python3"
  },
  "language_info": {
   "codemirror_mode": {
    "name": "ipython",
    "version": 3
   },
   "file_extension": ".py",
   "mimetype": "text/x-python",
   "name": "python",
   "nbconvert_exporter": "python",
   "pygments_lexer": "ipython3",
   "version": "3.8.8"
  }
 },
 "nbformat": 4,
 "nbformat_minor": 1
}