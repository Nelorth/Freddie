{
 "cells": [
  {
   "cell_type": "markdown",
   "id": "c3157908",
   "metadata": {
    "pycharm": {
     "name": "#%% md\n"
    }
   },
   "source": [
    "# Training Data Validation"
   ]
  },
  {
   "cell_type": "code",
   "execution_count": 1,
   "id": "1072794c",
   "metadata": {
    "pycharm": {
     "name": "#%%\n"
    }
   },
   "outputs": [],
   "source": [
    "import os\n",
    "import pandas as pd\n",
    "import utils.constants as c\n",
    "import utils.io as io\n",
    "\n",
    "from tqdm import tqdm"
   ]
  },
  {
   "cell_type": "markdown",
   "id": "9a4f51cc",
   "metadata": {},
   "source": [
    "Recombine data splits"
   ]
  },
  {
   "cell_type": "code",
   "execution_count": 2,
   "id": "e04d064f",
   "metadata": {
    "pycharm": {
     "name": "#%%\n"
    }
   },
   "outputs": [
    {
     "data": {
      "text/html": [
       "<div>\n",
       "<style scoped>\n",
       "    .dataframe tbody tr th:only-of-type {\n",
       "        vertical-align: middle;\n",
       "    }\n",
       "\n",
       "    .dataframe tbody tr th {\n",
       "        vertical-align: top;\n",
       "    }\n",
       "\n",
       "    .dataframe thead th {\n",
       "        text-align: right;\n",
       "    }\n",
       "</style>\n",
       "<table border=\"1\" class=\"dataframe\">\n",
       "  <thead>\n",
       "    <tr style=\"text-align: right;\">\n",
       "      <th></th>\n",
       "      <th>dir</th>\n",
       "      <th>file</th>\n",
       "    </tr>\n",
       "  </thead>\n",
       "  <tbody>\n",
       "    <tr>\n",
       "      <th>395</th>\n",
       "      <td>eval</td>\n",
       "      <td>messenger-0002.csv</td>\n",
       "    </tr>\n",
       "    <tr>\n",
       "      <th>596</th>\n",
       "      <td>eval</td>\n",
       "      <td>messenger-0003.csv</td>\n",
       "    </tr>\n",
       "    <tr>\n",
       "      <th>612</th>\n",
       "      <td>train</td>\n",
       "      <td>messenger-0004.csv</td>\n",
       "    </tr>\n",
       "    <tr>\n",
       "      <th>179</th>\n",
       "      <td>train</td>\n",
       "      <td>messenger-0005.csv</td>\n",
       "    </tr>\n",
       "    <tr>\n",
       "      <th>2084</th>\n",
       "      <td>train</td>\n",
       "      <td>messenger-0006.csv</td>\n",
       "    </tr>\n",
       "  </tbody>\n",
       "</table>\n",
       "</div>"
      ],
      "text/plain": [
       "        dir                file\n",
       "395    eval  messenger-0002.csv\n",
       "596    eval  messenger-0003.csv\n",
       "612   train  messenger-0004.csv\n",
       "179   train  messenger-0005.csv\n",
       "2084  train  messenger-0006.csv"
      ]
     },
     "execution_count": 2,
     "metadata": {},
     "output_type": "execute_result"
    }
   ],
   "source": [
    "data_dir = io.resolve_path(c.DATA_DIR)\n",
    "train_dir = data_dir / c.TRAIN_SUBDIR\n",
    "eval_dir = data_dir / c.EVAL_SUBDIR\n",
    "test_dir = data_dir / c.TEST_SUBDIR\n",
    "train_orbits = pd.DataFrame({\"dir\": c.TRAIN_SUBDIR, \"file\": os.listdir(train_dir)})\n",
    "eval_orbits = pd.DataFrame({\"dir\": c.EVAL_SUBDIR, \"file\": os.listdir(eval_dir)})\n",
    "test_orbits = pd.DataFrame({\"dir\": c.TEST_SUBDIR, \"file\": os.listdir(test_dir)})\n",
    "all_orbits = pd.concat([train_orbits, eval_orbits, test_orbits])\n",
    "all_orbits.sort_values(by=\"file\", inplace=True)\n",
    "all_orbits.head()"
   ]
  },
  {
   "cell_type": "code",
   "execution_count": null,
   "id": "3e5659af",
   "metadata": {},
   "outputs": [
    {
     "name": "stderr",
     "output_type": "stream",
     "text": [
      "680it [02:24,  6.52it/s]"
     ]
    }
   ],
   "source": [
    "df_total = pd.concat(pd.read_csv(\n",
    "    data_dir / row[\"dir\"] / row[\"file\"],\n",
    "    index_col=c.DATE_COL,\n",
    "    parse_dates=True\n",
    ") for _, row in tqdm(all_orbits.iterrows()))"
   ]
  },
  {
   "cell_type": "markdown",
   "id": "5ab7223b",
   "metadata": {},
   "source": [
    "Summarize basic information"
   ]
  },
  {
   "cell_type": "code",
   "execution_count": null,
   "id": "b8d399a3",
   "metadata": {},
   "outputs": [],
   "source": [
    "df_total.info()"
   ]
  },
  {
   "cell_type": "code",
   "execution_count": null,
   "id": "05dcae49",
   "metadata": {
    "pycharm": {
     "name": "#%%\n"
    }
   },
   "outputs": [],
   "source": [
    "orbit_ids = df_total[c.ORBIT_COL].unique()\n",
    "print(f\"#orbits: {len(orbit_ids)}\")"
   ]
  },
  {
   "cell_type": "markdown",
   "id": "92329167",
   "metadata": {
    "pycharm": {
     "name": "#%% md\n"
    }
   },
   "source": [
    "At first glance, there appears to be a high deviation in orbit length."
   ]
  },
  {
   "cell_type": "code",
   "execution_count": null,
   "id": "893b7a41",
   "metadata": {
    "pycharm": {
     "name": "#%%\n"
    },
    "scrolled": true
   },
   "outputs": [],
   "source": [
    "sizes = df_total.groupby(c.ORBIT_COL).size()\n",
    "sizes.describe()"
   ]
  },
  {
   "cell_type": "markdown",
   "id": "76b67dc1",
   "metadata": {
    "pycharm": {
     "name": "#%% md\n"
    }
   },
   "source": [
    "The reason for this is that MESSENGER changed from a 12-hour orbit to 8-hour orbit in April 2012."
   ]
  },
  {
   "cell_type": "code",
   "execution_count": null,
   "id": "d26cfbbb",
   "metadata": {
    "pycharm": {
     "name": "#%%\n"
    }
   },
   "outputs": [],
   "source": [
    "drop_idx = sizes.diff().abs().idxmax()\n",
    "drop_day = df_total.index[df_total[c.ORBIT_COL] == drop_idx][0].strftime(\"%Y-%m-%d\")\n",
    "print(f\"orbit lengths dropped starting with orbit #{drop_idx} on {drop_day}\")\n",
    "sizes.loc[drop_idx-5:drop_idx+5]"
   ]
  },
  {
   "cell_type": "markdown",
   "id": "7b1ac1a1",
   "metadata": {
    "pycharm": {
     "name": "#%% md\n"
    }
   },
   "source": [
    "When taking this into account, the initial deviation disappears."
   ]
  },
  {
   "cell_type": "code",
   "execution_count": null,
   "id": "f932c5b1",
   "metadata": {
    "pycharm": {
     "name": "#%%\n"
    }
   },
   "outputs": [],
   "source": [
    "sizes.loc[:drop_idx-1].describe()"
   ]
  },
  {
   "cell_type": "code",
   "execution_count": null,
   "id": "707bcd34",
   "metadata": {},
   "outputs": [],
   "source": [
    "sizes.loc[drop_idx:].describe()"
   ]
  },
  {
   "cell_type": "markdown",
   "id": "ab1772e3",
   "metadata": {
    "pycharm": {
     "name": "#%% md\n"
    }
   },
   "source": [
    "Verify that no NaN values exist."
   ]
  },
  {
   "cell_type": "code",
   "execution_count": null,
   "id": "4e741449",
   "metadata": {
    "pycharm": {
     "name": "#%%\n"
    }
   },
   "outputs": [],
   "source": [
    "nan_count = df_total.isnull().sum().sum()\n",
    "print(f\"There are {nan_count} NaN values.\")"
   ]
  }
 ],
 "metadata": {
  "kernelspec": {
   "display_name": "Python 3 (ipykernel)",
   "language": "python",
   "name": "python3"
  },
  "language_info": {
   "codemirror_mode": {
    "name": "ipython",
    "version": 3
   },
   "file_extension": ".py",
   "mimetype": "text/x-python",
   "name": "python",
   "nbconvert_exporter": "python",
   "pygments_lexer": "ipython3",
   "version": "3.9.7"
  }
 },
 "nbformat": 4,
 "nbformat_minor": 5
}