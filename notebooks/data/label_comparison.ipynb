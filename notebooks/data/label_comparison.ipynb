{
 "cells": [
  {
   "cell_type": "markdown",
   "source": [
    "# Label file comparison"
   ],
   "metadata": {
    "collapsed": false,
    "pycharm": {
     "name": "#%% md\n"
    }
   }
  },
  {
   "cell_type": "code",
   "execution_count": 1,
   "metadata": {
    "collapsed": true
   },
   "outputs": [],
   "source": [
    "import pandas as pd\n",
    "import utils\n",
    "\n",
    "from constants import *"
   ]
  },
  {
   "cell_type": "markdown",
   "source": [
    "Load old and new label file"
   ],
   "metadata": {
    "collapsed": false,
    "pycharm": {
     "name": "#%% md\n"
    }
   }
  },
  {
   "cell_type": "code",
   "execution_count": 2,
   "outputs": [],
   "source": [
    "df_old = pd.read_csv(utils.resolve_path(LABEL_DIR, \"messenger-0001_-0200_labelled.csv\"),\n",
    "                     index_col=ORBIT_COL,\n",
    "                     parse_dates=EVENT_COLS)\n",
    "df_new = pd.read_csv(utils.resolve_path(LABEL_DIR, \"messenger-0001_-4094_labelled.csv\"),\n",
    "                     index_col=ORBIT_COL,\n",
    "                     parse_dates=EVENT_COLS)"
   ],
   "metadata": {
    "collapsed": false,
    "pycharm": {
     "name": "#%%\n"
    }
   }
  },
  {
   "cell_type": "markdown",
   "source": [
    "Compare orbits $1-5$ (start of old file)"
   ],
   "metadata": {
    "collapsed": false,
    "pycharm": {
     "name": "#%% md\n"
    }
   }
  },
  {
   "cell_type": "code",
   "execution_count": 3,
   "outputs": [
    {
     "data": {
      "text/plain": "              SK outer in         SK inner in         MP outer in  \\\nORBIT                                                               \n1     2011-03-23 23:46:56 2011-03-23 23:59:55 2011-03-24 01:10:02   \n2     2011-03-24 12:18:59 2011-03-24 12:46:44 2011-03-24 13:21:46   \n3     2011-03-25 01:00:04 2011-03-25 01:00:40 2011-03-25 01:19:48   \n4     2011-03-25 13:04:25 2011-03-25 13:06:19 2011-03-25 13:27:39   \n5     2011-03-26 01:19:14 2011-03-26 01:19:24 2011-03-26 01:34:50   \n\n              MP inner in        MP inner out        MP outer out  \\\nORBIT                                                               \n1     2011-03-24 01:14:00 2011-03-24 02:14:45 2011-03-24 02:15:35   \n2     2011-03-24 13:23:40 2011-03-24 14:13:52 2011-03-24 14:19:17   \n3     2011-03-25 01:21:54 2011-03-25 02:18:19 2011-03-25 02:21:33   \n4     2011-03-25 13:30:53 2011-03-25 14:29:58 2011-03-25 14:31:24   \n5     2011-03-26 01:35:35 2011-03-26 02:34:27 2011-03-26 02:47:28   \n\n             SK inner out        SK outer out  \nORBIT                                          \n1     2011-03-24 04:35:07 2011-03-24 04:38:09  \n2     2011-03-24 14:45:20 2011-03-24 14:49:16  \n3     2011-03-25 03:30:23 2011-03-25 03:31:53  \n4     2011-03-25 15:03:53 2011-03-25 15:15:19  \n5     2011-03-26 03:14:19 2011-03-26 03:17:48  ",
      "text/html": "<div>\n<style scoped>\n    .dataframe tbody tr th:only-of-type {\n        vertical-align: middle;\n    }\n\n    .dataframe tbody tr th {\n        vertical-align: top;\n    }\n\n    .dataframe thead th {\n        text-align: right;\n    }\n</style>\n<table border=\"1\" class=\"dataframe\">\n  <thead>\n    <tr style=\"text-align: right;\">\n      <th></th>\n      <th>SK outer in</th>\n      <th>SK inner in</th>\n      <th>MP outer in</th>\n      <th>MP inner in</th>\n      <th>MP inner out</th>\n      <th>MP outer out</th>\n      <th>SK inner out</th>\n      <th>SK outer out</th>\n    </tr>\n    <tr>\n      <th>ORBIT</th>\n      <th></th>\n      <th></th>\n      <th></th>\n      <th></th>\n      <th></th>\n      <th></th>\n      <th></th>\n      <th></th>\n    </tr>\n  </thead>\n  <tbody>\n    <tr>\n      <th>1</th>\n      <td>2011-03-23 23:46:56</td>\n      <td>2011-03-23 23:59:55</td>\n      <td>2011-03-24 01:10:02</td>\n      <td>2011-03-24 01:14:00</td>\n      <td>2011-03-24 02:14:45</td>\n      <td>2011-03-24 02:15:35</td>\n      <td>2011-03-24 04:35:07</td>\n      <td>2011-03-24 04:38:09</td>\n    </tr>\n    <tr>\n      <th>2</th>\n      <td>2011-03-24 12:18:59</td>\n      <td>2011-03-24 12:46:44</td>\n      <td>2011-03-24 13:21:46</td>\n      <td>2011-03-24 13:23:40</td>\n      <td>2011-03-24 14:13:52</td>\n      <td>2011-03-24 14:19:17</td>\n      <td>2011-03-24 14:45:20</td>\n      <td>2011-03-24 14:49:16</td>\n    </tr>\n    <tr>\n      <th>3</th>\n      <td>2011-03-25 01:00:04</td>\n      <td>2011-03-25 01:00:40</td>\n      <td>2011-03-25 01:19:48</td>\n      <td>2011-03-25 01:21:54</td>\n      <td>2011-03-25 02:18:19</td>\n      <td>2011-03-25 02:21:33</td>\n      <td>2011-03-25 03:30:23</td>\n      <td>2011-03-25 03:31:53</td>\n    </tr>\n    <tr>\n      <th>4</th>\n      <td>2011-03-25 13:04:25</td>\n      <td>2011-03-25 13:06:19</td>\n      <td>2011-03-25 13:27:39</td>\n      <td>2011-03-25 13:30:53</td>\n      <td>2011-03-25 14:29:58</td>\n      <td>2011-03-25 14:31:24</td>\n      <td>2011-03-25 15:03:53</td>\n      <td>2011-03-25 15:15:19</td>\n    </tr>\n    <tr>\n      <th>5</th>\n      <td>2011-03-26 01:19:14</td>\n      <td>2011-03-26 01:19:24</td>\n      <td>2011-03-26 01:34:50</td>\n      <td>2011-03-26 01:35:35</td>\n      <td>2011-03-26 02:34:27</td>\n      <td>2011-03-26 02:47:28</td>\n      <td>2011-03-26 03:14:19</td>\n      <td>2011-03-26 03:17:48</td>\n    </tr>\n  </tbody>\n</table>\n</div>"
     },
     "execution_count": 3,
     "metadata": {},
     "output_type": "execute_result"
    }
   ],
   "source": [
    "df_old.loc[1:5]"
   ],
   "metadata": {
    "collapsed": false,
    "pycharm": {
     "name": "#%%\n"
    }
   }
  },
  {
   "cell_type": "code",
   "execution_count": 4,
   "outputs": [
    {
     "data": {
      "text/plain": "                  SK outer in             SK inner in             MP outer in  \\\nORBIT                                                                           \n1     2011-03-23 23:47:02.700 2011-03-23 23:59:44.400 2011-03-24 01:10:00.100   \n2     2011-03-24 12:18:47.000 2011-03-24 12:46:32.000 2011-03-24 13:20:54.000   \n3     2011-03-25 01:00:05.300 2011-03-25 01:00:36.600 2011-03-25 01:19:52.900   \n4     2011-03-25 13:04:25.000 2011-03-25 13:06:15.500 2011-03-25 13:27:42.300   \n5     2011-03-26 01:19:14.800 2011-03-26 01:19:27.000 2011-03-26 01:34:58.300   \n\n                  MP inner in            MP inner out            MP outer out  \\\nORBIT                                                                           \n1     2011-03-24 01:14:03.200 2011-03-24 02:14:46.100 2011-03-24 02:15:33.600   \n2     2011-03-24 13:24:32.000 2011-03-24 14:13:48.000 2011-03-24 14:19:14.000   \n3     2011-03-25 01:21:04.600 2011-03-25 02:18:21.900 2011-03-25 02:21:28.400   \n4     2011-03-25 13:30:40.400 2011-03-25 14:30:09.200 2011-03-25 14:31:14.900   \n5     2011-03-26 01:35:34.700 2011-03-26 02:34:33.500 2011-03-26 02:47:00.600   \n\n                 SK inner out            SK outer out  \nORBIT                                                  \n1     2011-03-24 04:35:08.800 2011-03-24 07:32:21.200  \n2     2011-03-24 14:45:20.000 2011-03-24 14:49:18.000  \n3     2011-03-25 03:30:24.800 2011-03-25 03:31:51.000  \n4     2011-03-25 15:03:59.600 2011-03-25 15:15:20.100  \n5     2011-03-26 03:14:12.700 2011-03-26 03:17:46.600  ",
      "text/html": "<div>\n<style scoped>\n    .dataframe tbody tr th:only-of-type {\n        vertical-align: middle;\n    }\n\n    .dataframe tbody tr th {\n        vertical-align: top;\n    }\n\n    .dataframe thead th {\n        text-align: right;\n    }\n</style>\n<table border=\"1\" class=\"dataframe\">\n  <thead>\n    <tr style=\"text-align: right;\">\n      <th></th>\n      <th>SK outer in</th>\n      <th>SK inner in</th>\n      <th>MP outer in</th>\n      <th>MP inner in</th>\n      <th>MP inner out</th>\n      <th>MP outer out</th>\n      <th>SK inner out</th>\n      <th>SK outer out</th>\n    </tr>\n    <tr>\n      <th>ORBIT</th>\n      <th></th>\n      <th></th>\n      <th></th>\n      <th></th>\n      <th></th>\n      <th></th>\n      <th></th>\n      <th></th>\n    </tr>\n  </thead>\n  <tbody>\n    <tr>\n      <th>1</th>\n      <td>2011-03-23 23:47:02.700</td>\n      <td>2011-03-23 23:59:44.400</td>\n      <td>2011-03-24 01:10:00.100</td>\n      <td>2011-03-24 01:14:03.200</td>\n      <td>2011-03-24 02:14:46.100</td>\n      <td>2011-03-24 02:15:33.600</td>\n      <td>2011-03-24 04:35:08.800</td>\n      <td>2011-03-24 07:32:21.200</td>\n    </tr>\n    <tr>\n      <th>2</th>\n      <td>2011-03-24 12:18:47.000</td>\n      <td>2011-03-24 12:46:32.000</td>\n      <td>2011-03-24 13:20:54.000</td>\n      <td>2011-03-24 13:24:32.000</td>\n      <td>2011-03-24 14:13:48.000</td>\n      <td>2011-03-24 14:19:14.000</td>\n      <td>2011-03-24 14:45:20.000</td>\n      <td>2011-03-24 14:49:18.000</td>\n    </tr>\n    <tr>\n      <th>3</th>\n      <td>2011-03-25 01:00:05.300</td>\n      <td>2011-03-25 01:00:36.600</td>\n      <td>2011-03-25 01:19:52.900</td>\n      <td>2011-03-25 01:21:04.600</td>\n      <td>2011-03-25 02:18:21.900</td>\n      <td>2011-03-25 02:21:28.400</td>\n      <td>2011-03-25 03:30:24.800</td>\n      <td>2011-03-25 03:31:51.000</td>\n    </tr>\n    <tr>\n      <th>4</th>\n      <td>2011-03-25 13:04:25.000</td>\n      <td>2011-03-25 13:06:15.500</td>\n      <td>2011-03-25 13:27:42.300</td>\n      <td>2011-03-25 13:30:40.400</td>\n      <td>2011-03-25 14:30:09.200</td>\n      <td>2011-03-25 14:31:14.900</td>\n      <td>2011-03-25 15:03:59.600</td>\n      <td>2011-03-25 15:15:20.100</td>\n    </tr>\n    <tr>\n      <th>5</th>\n      <td>2011-03-26 01:19:14.800</td>\n      <td>2011-03-26 01:19:27.000</td>\n      <td>2011-03-26 01:34:58.300</td>\n      <td>2011-03-26 01:35:34.700</td>\n      <td>2011-03-26 02:34:33.500</td>\n      <td>2011-03-26 02:47:00.600</td>\n      <td>2011-03-26 03:14:12.700</td>\n      <td>2011-03-26 03:17:46.600</td>\n    </tr>\n  </tbody>\n</table>\n</div>"
     },
     "execution_count": 4,
     "metadata": {},
     "output_type": "execute_result"
    }
   ],
   "source": [
    "df_new.loc[1:5]"
   ],
   "metadata": {
    "collapsed": false,
    "pycharm": {
     "name": "#%%\n"
    }
   }
  },
  {
   "cell_type": "markdown",
   "source": [
    "Compare orbits $195-199$ (end of old file)"
   ],
   "metadata": {
    "collapsed": false,
    "pycharm": {
     "name": "#%% md\n"
    }
   }
  },
  {
   "cell_type": "code",
   "execution_count": 5,
   "outputs": [
    {
     "data": {
      "text/plain": "              SK outer in         SK inner in         MP outer in  \\\nORBIT                                                               \n195   2011-06-29 07:39:49 2011-06-29 07:44:42 2011-06-29 07:50:17   \n196   2011-06-29 19:32:21 2011-06-29 19:32:50 2011-06-29 19:41:51   \n197   2011-06-30 07:17:48 2011-06-30 07:19:32 2011-06-30 07:32:00   \n198   2011-06-30 19:01:36 2011-06-30 19:08:18 2011-06-30 19:19:40   \n199   2011-07-01 06:54:55 2011-07-01 06:56:19 2011-07-01 07:05:05   \n\n              MP inner in        MP inner out        MP outer out  \\\nORBIT                                                               \n195   2011-06-29 07:53:17 2011-06-29 09:05:15 2011-06-29 09:16:55   \n196   2011-06-29 19:44:50 2011-06-29 20:54:15 2011-06-29 21:04:57   \n197   2011-06-30 07:34:12 2011-06-30 08:46:54 2011-06-30 08:48:47   \n198   2011-06-30 19:21:21 2011-06-30 20:30:37 2011-06-30 20:32:31   \n199   2011-07-01 07:06:09 2011-07-01 08:22:36 2011-07-01 08:29:34   \n\n             SK inner out        SK outer out  \nORBIT                                          \n195   2011-06-29 09:43:57 2011-06-29 10:03:42  \n196   2011-06-29 21:40:55 2011-06-29 21:47:21  \n197   2011-06-30 09:26:56 2011-06-30 09:37:53  \n198   2011-06-30 21:14:38 2011-06-30 21:19:51  \n199   2011-07-01 09:05:16 2011-07-01 09:10:57  ",
      "text/html": "<div>\n<style scoped>\n    .dataframe tbody tr th:only-of-type {\n        vertical-align: middle;\n    }\n\n    .dataframe tbody tr th {\n        vertical-align: top;\n    }\n\n    .dataframe thead th {\n        text-align: right;\n    }\n</style>\n<table border=\"1\" class=\"dataframe\">\n  <thead>\n    <tr style=\"text-align: right;\">\n      <th></th>\n      <th>SK outer in</th>\n      <th>SK inner in</th>\n      <th>MP outer in</th>\n      <th>MP inner in</th>\n      <th>MP inner out</th>\n      <th>MP outer out</th>\n      <th>SK inner out</th>\n      <th>SK outer out</th>\n    </tr>\n    <tr>\n      <th>ORBIT</th>\n      <th></th>\n      <th></th>\n      <th></th>\n      <th></th>\n      <th></th>\n      <th></th>\n      <th></th>\n      <th></th>\n    </tr>\n  </thead>\n  <tbody>\n    <tr>\n      <th>195</th>\n      <td>2011-06-29 07:39:49</td>\n      <td>2011-06-29 07:44:42</td>\n      <td>2011-06-29 07:50:17</td>\n      <td>2011-06-29 07:53:17</td>\n      <td>2011-06-29 09:05:15</td>\n      <td>2011-06-29 09:16:55</td>\n      <td>2011-06-29 09:43:57</td>\n      <td>2011-06-29 10:03:42</td>\n    </tr>\n    <tr>\n      <th>196</th>\n      <td>2011-06-29 19:32:21</td>\n      <td>2011-06-29 19:32:50</td>\n      <td>2011-06-29 19:41:51</td>\n      <td>2011-06-29 19:44:50</td>\n      <td>2011-06-29 20:54:15</td>\n      <td>2011-06-29 21:04:57</td>\n      <td>2011-06-29 21:40:55</td>\n      <td>2011-06-29 21:47:21</td>\n    </tr>\n    <tr>\n      <th>197</th>\n      <td>2011-06-30 07:17:48</td>\n      <td>2011-06-30 07:19:32</td>\n      <td>2011-06-30 07:32:00</td>\n      <td>2011-06-30 07:34:12</td>\n      <td>2011-06-30 08:46:54</td>\n      <td>2011-06-30 08:48:47</td>\n      <td>2011-06-30 09:26:56</td>\n      <td>2011-06-30 09:37:53</td>\n    </tr>\n    <tr>\n      <th>198</th>\n      <td>2011-06-30 19:01:36</td>\n      <td>2011-06-30 19:08:18</td>\n      <td>2011-06-30 19:19:40</td>\n      <td>2011-06-30 19:21:21</td>\n      <td>2011-06-30 20:30:37</td>\n      <td>2011-06-30 20:32:31</td>\n      <td>2011-06-30 21:14:38</td>\n      <td>2011-06-30 21:19:51</td>\n    </tr>\n    <tr>\n      <th>199</th>\n      <td>2011-07-01 06:54:55</td>\n      <td>2011-07-01 06:56:19</td>\n      <td>2011-07-01 07:05:05</td>\n      <td>2011-07-01 07:06:09</td>\n      <td>2011-07-01 08:22:36</td>\n      <td>2011-07-01 08:29:34</td>\n      <td>2011-07-01 09:05:16</td>\n      <td>2011-07-01 09:10:57</td>\n    </tr>\n  </tbody>\n</table>\n</div>"
     },
     "execution_count": 5,
     "metadata": {},
     "output_type": "execute_result"
    }
   ],
   "source": [
    "df_old.loc[195:199]"
   ],
   "metadata": {
    "collapsed": false,
    "pycharm": {
     "name": "#%%\n"
    }
   }
  },
  {
   "cell_type": "code",
   "execution_count": 6,
   "outputs": [
    {
     "data": {
      "text/plain": "              SK outer in         SK inner in         MP outer in  \\\nORBIT                                                               \n195   2011-06-29 07:39:50 2011-06-29 07:43:01 2011-06-29 07:50:54   \n196   2011-06-29 19:27:53 2011-06-29 19:32:47 2011-06-29 19:41:50   \n197   2011-06-30 07:17:35 2011-06-30 07:20:24 2011-06-30 07:31:43   \n198   2011-06-30 19:01:34 2011-06-30 19:08:13 2011-06-30 19:20:48   \n199   2011-07-01 06:53:27 2011-07-01 06:56:44 2011-07-01 07:04:28   \n\n              MP inner in        MP inner out        MP outer out  \\\nORBIT                                                               \n195   2011-06-29 07:53:16 2011-06-29 09:05:12 2011-06-29 09:14:43   \n196   2011-06-29 19:44:51 2011-06-29 20:54:19 2011-06-29 21:04:35   \n197   2011-06-30 07:32:50 2011-06-30 08:42:55 2011-06-30 08:49:31   \n198   2011-06-30 19:21:18 2011-06-30 20:29:51 2011-06-30 20:33:21   \n199   2011-07-01 07:06:12 2011-07-01 08:22:41 2011-07-01 08:29:42   \n\n             SK inner out        SK outer out  \nORBIT                                          \n195   2011-06-29 09:43:58 2011-06-29 10:04:30  \n196   2011-06-29 21:40:55 2011-06-29 21:47:22  \n197   2011-06-30 09:27:00 2011-06-30 09:37:52  \n198   2011-06-30 21:14:45 2011-06-30 21:22:06  \n199   2011-07-01 09:05:02 2011-07-01 09:10:55  ",
      "text/html": "<div>\n<style scoped>\n    .dataframe tbody tr th:only-of-type {\n        vertical-align: middle;\n    }\n\n    .dataframe tbody tr th {\n        vertical-align: top;\n    }\n\n    .dataframe thead th {\n        text-align: right;\n    }\n</style>\n<table border=\"1\" class=\"dataframe\">\n  <thead>\n    <tr style=\"text-align: right;\">\n      <th></th>\n      <th>SK outer in</th>\n      <th>SK inner in</th>\n      <th>MP outer in</th>\n      <th>MP inner in</th>\n      <th>MP inner out</th>\n      <th>MP outer out</th>\n      <th>SK inner out</th>\n      <th>SK outer out</th>\n    </tr>\n    <tr>\n      <th>ORBIT</th>\n      <th></th>\n      <th></th>\n      <th></th>\n      <th></th>\n      <th></th>\n      <th></th>\n      <th></th>\n      <th></th>\n    </tr>\n  </thead>\n  <tbody>\n    <tr>\n      <th>195</th>\n      <td>2011-06-29 07:39:50</td>\n      <td>2011-06-29 07:43:01</td>\n      <td>2011-06-29 07:50:54</td>\n      <td>2011-06-29 07:53:16</td>\n      <td>2011-06-29 09:05:12</td>\n      <td>2011-06-29 09:14:43</td>\n      <td>2011-06-29 09:43:58</td>\n      <td>2011-06-29 10:04:30</td>\n    </tr>\n    <tr>\n      <th>196</th>\n      <td>2011-06-29 19:27:53</td>\n      <td>2011-06-29 19:32:47</td>\n      <td>2011-06-29 19:41:50</td>\n      <td>2011-06-29 19:44:51</td>\n      <td>2011-06-29 20:54:19</td>\n      <td>2011-06-29 21:04:35</td>\n      <td>2011-06-29 21:40:55</td>\n      <td>2011-06-29 21:47:22</td>\n    </tr>\n    <tr>\n      <th>197</th>\n      <td>2011-06-30 07:17:35</td>\n      <td>2011-06-30 07:20:24</td>\n      <td>2011-06-30 07:31:43</td>\n      <td>2011-06-30 07:32:50</td>\n      <td>2011-06-30 08:42:55</td>\n      <td>2011-06-30 08:49:31</td>\n      <td>2011-06-30 09:27:00</td>\n      <td>2011-06-30 09:37:52</td>\n    </tr>\n    <tr>\n      <th>198</th>\n      <td>2011-06-30 19:01:34</td>\n      <td>2011-06-30 19:08:13</td>\n      <td>2011-06-30 19:20:48</td>\n      <td>2011-06-30 19:21:18</td>\n      <td>2011-06-30 20:29:51</td>\n      <td>2011-06-30 20:33:21</td>\n      <td>2011-06-30 21:14:45</td>\n      <td>2011-06-30 21:22:06</td>\n    </tr>\n    <tr>\n      <th>199</th>\n      <td>2011-07-01 06:53:27</td>\n      <td>2011-07-01 06:56:44</td>\n      <td>2011-07-01 07:04:28</td>\n      <td>2011-07-01 07:06:12</td>\n      <td>2011-07-01 08:22:41</td>\n      <td>2011-07-01 08:29:42</td>\n      <td>2011-07-01 09:05:02</td>\n      <td>2011-07-01 09:10:55</td>\n    </tr>\n  </tbody>\n</table>\n</div>"
     },
     "execution_count": 6,
     "metadata": {},
     "output_type": "execute_result"
    }
   ],
   "source": [
    "df_new.loc[195:199]"
   ],
   "metadata": {
    "collapsed": false,
    "pycharm": {
     "name": "#%%\n"
    }
   }
  },
  {
   "cell_type": "markdown",
   "source": [
    "Determine absolute timestamp deviation statistics"
   ],
   "metadata": {
    "collapsed": false,
    "pycharm": {
     "name": "#%% md\n"
    }
   }
  },
  {
   "cell_type": "code",
   "execution_count": 7,
   "outputs": [],
   "source": [
    "df_dev = (df_old - df_new).abs().agg([\"mean\", \"std\", \"max\", \"idxmax\"])\n",
    "dev_orbits = df_dev.loc[\"idxmax\"]"
   ],
   "metadata": {
    "collapsed": false,
    "pycharm": {
     "name": "#%%\n"
    }
   }
  },
  {
   "cell_type": "code",
   "execution_count": 8,
   "outputs": [
    {
     "data": {
      "text/plain": "                                  mean                       std  \\\nSK outer in  0 days 00:02:20.715730337 0 days 00:11:01.307635173   \nSK inner in  0 days 00:01:55.244382022 0 days 00:10:13.157648871   \nMP outer in  0 days 00:02:32.717977528 0 days 00:10:21.196384072   \nMP inner in  0 days 00:02:25.556179775 0 days 00:06:59.972987685   \nMP inner out 0 days 00:00:32.394382022 0 days 00:00:55.471795367   \nMP outer out 0 days 00:00:48.396067415 0 days 00:01:21.302400130   \nSK inner out 0 days 00:01:47.643820224 0 days 00:09:16.148560804   \nSK outer out 0 days 00:03:30.816292134 0 days 00:23:37.024000376   \n\n                                max idxmax  \nSK outer in         0 days 01:30:00    104  \nSK inner in         0 days 01:49:38    113  \nMP outer in         0 days 01:35:17    117  \nMP inner in         0 days 00:59:24    117  \nMP inner out        0 days 00:05:15    180  \nMP outer out 0 days 00:09:16.900000     18  \nSK inner out        0 days 01:59:00    104  \nSK outer out        0 days 04:17:11    104  ",
      "text/html": "<div>\n<style scoped>\n    .dataframe tbody tr th:only-of-type {\n        vertical-align: middle;\n    }\n\n    .dataframe tbody tr th {\n        vertical-align: top;\n    }\n\n    .dataframe thead th {\n        text-align: right;\n    }\n</style>\n<table border=\"1\" class=\"dataframe\">\n  <thead>\n    <tr style=\"text-align: right;\">\n      <th></th>\n      <th>mean</th>\n      <th>std</th>\n      <th>max</th>\n      <th>idxmax</th>\n    </tr>\n  </thead>\n  <tbody>\n    <tr>\n      <th>SK outer in</th>\n      <td>0 days 00:02:20.715730337</td>\n      <td>0 days 00:11:01.307635173</td>\n      <td>0 days 01:30:00</td>\n      <td>104</td>\n    </tr>\n    <tr>\n      <th>SK inner in</th>\n      <td>0 days 00:01:55.244382022</td>\n      <td>0 days 00:10:13.157648871</td>\n      <td>0 days 01:49:38</td>\n      <td>113</td>\n    </tr>\n    <tr>\n      <th>MP outer in</th>\n      <td>0 days 00:02:32.717977528</td>\n      <td>0 days 00:10:21.196384072</td>\n      <td>0 days 01:35:17</td>\n      <td>117</td>\n    </tr>\n    <tr>\n      <th>MP inner in</th>\n      <td>0 days 00:02:25.556179775</td>\n      <td>0 days 00:06:59.972987685</td>\n      <td>0 days 00:59:24</td>\n      <td>117</td>\n    </tr>\n    <tr>\n      <th>MP inner out</th>\n      <td>0 days 00:00:32.394382022</td>\n      <td>0 days 00:00:55.471795367</td>\n      <td>0 days 00:05:15</td>\n      <td>180</td>\n    </tr>\n    <tr>\n      <th>MP outer out</th>\n      <td>0 days 00:00:48.396067415</td>\n      <td>0 days 00:01:21.302400130</td>\n      <td>0 days 00:09:16.900000</td>\n      <td>18</td>\n    </tr>\n    <tr>\n      <th>SK inner out</th>\n      <td>0 days 00:01:47.643820224</td>\n      <td>0 days 00:09:16.148560804</td>\n      <td>0 days 01:59:00</td>\n      <td>104</td>\n    </tr>\n    <tr>\n      <th>SK outer out</th>\n      <td>0 days 00:03:30.816292134</td>\n      <td>0 days 00:23:37.024000376</td>\n      <td>0 days 04:17:11</td>\n      <td>104</td>\n    </tr>\n  </tbody>\n</table>\n</div>"
     },
     "execution_count": 8,
     "metadata": {},
     "output_type": "execute_result"
    }
   ],
   "source": [
    "df_dev.transpose()"
   ],
   "metadata": {
    "collapsed": false,
    "pycharm": {
     "name": "#%%\n"
    }
   }
  },
  {
   "cell_type": "markdown",
   "source": [
    "Inspect deviating orbits by comparing diagonals"
   ],
   "metadata": {
    "collapsed": false,
    "pycharm": {
     "name": "#%% md\n"
    }
   }
  },
  {
   "cell_type": "code",
   "execution_count": 9,
   "outputs": [
    {
     "data": {
      "text/plain": "              SK outer in         SK inner in         MP outer in  \\\nORBIT                                                               \n104   2011-05-14 15:12:48 2011-05-14 15:12:57 2011-05-14 20:17:30   \n113   2011-05-19 05:36:47 2011-05-19 05:36:51 2011-05-19 08:25:36   \n117   2011-05-21 05:25:02 2011-05-21 06:11:35 2011-05-21 09:19:08   \n117   2011-05-21 05:25:02 2011-05-21 06:11:35 2011-05-21 09:19:08   \n180   2011-06-21 21:50:18 2011-06-21 22:17:48 2011-06-21 22:49:15   \n18    2011-04-01 13:35:00 2011-04-01 13:51:55 2011-04-01 14:21:15   \n104   2011-05-14 15:12:48 2011-05-14 15:12:57 2011-05-14 20:17:30   \n104   2011-05-14 15:12:48 2011-05-14 15:12:57 2011-05-14 20:17:30   \n\n              MP inner in        MP inner out        MP outer out  \\\nORBIT                                                               \n104   2011-05-14 20:27:42 2011-05-14 21:41:30 2011-05-14 22:01:53   \n113   2011-05-19 08:31:38 2011-05-19 10:00:10 2011-05-19 10:03:52   \n117   2011-05-21 09:19:41 2011-05-21 10:21:41 2011-05-21 10:25:31   \n117   2011-05-21 09:19:41 2011-05-21 10:21:41 2011-05-21 10:25:31   \n180   2011-06-21 22:52:42 2011-06-21 23:41:12 2011-06-21 23:41:18   \n18    2011-04-01 14:21:45 2011-04-01 15:45:16 2011-04-01 15:59:10   \n104   2011-05-14 20:27:42 2011-05-14 21:41:30 2011-05-14 22:01:53   \n104   2011-05-14 20:27:42 2011-05-14 21:41:30 2011-05-14 22:01:53   \n\n             SK inner out        SK outer out  \nORBIT                                          \n104   2011-05-14 21:58:35 2011-05-15 00:02:11  \n113   2011-05-19 10:20:46 2011-05-19 10:21:46  \n117   2011-05-21 10:54:02 2011-05-21 10:55:26  \n117   2011-05-21 10:54:02 2011-05-21 10:55:26  \n180   2011-06-22 01:07:14 2011-06-22 01:24:29  \n18    2011-04-01 18:09:07 2011-04-01 19:11:29  \n104   2011-05-14 21:58:35 2011-05-15 00:02:11  \n104   2011-05-14 21:58:35 2011-05-15 00:02:11  ",
      "text/html": "<div>\n<style scoped>\n    .dataframe tbody tr th:only-of-type {\n        vertical-align: middle;\n    }\n\n    .dataframe tbody tr th {\n        vertical-align: top;\n    }\n\n    .dataframe thead th {\n        text-align: right;\n    }\n</style>\n<table border=\"1\" class=\"dataframe\">\n  <thead>\n    <tr style=\"text-align: right;\">\n      <th></th>\n      <th>SK outer in</th>\n      <th>SK inner in</th>\n      <th>MP outer in</th>\n      <th>MP inner in</th>\n      <th>MP inner out</th>\n      <th>MP outer out</th>\n      <th>SK inner out</th>\n      <th>SK outer out</th>\n    </tr>\n    <tr>\n      <th>ORBIT</th>\n      <th></th>\n      <th></th>\n      <th></th>\n      <th></th>\n      <th></th>\n      <th></th>\n      <th></th>\n      <th></th>\n    </tr>\n  </thead>\n  <tbody>\n    <tr>\n      <th>104</th>\n      <td>2011-05-14 15:12:48</td>\n      <td>2011-05-14 15:12:57</td>\n      <td>2011-05-14 20:17:30</td>\n      <td>2011-05-14 20:27:42</td>\n      <td>2011-05-14 21:41:30</td>\n      <td>2011-05-14 22:01:53</td>\n      <td>2011-05-14 21:58:35</td>\n      <td>2011-05-15 00:02:11</td>\n    </tr>\n    <tr>\n      <th>113</th>\n      <td>2011-05-19 05:36:47</td>\n      <td>2011-05-19 05:36:51</td>\n      <td>2011-05-19 08:25:36</td>\n      <td>2011-05-19 08:31:38</td>\n      <td>2011-05-19 10:00:10</td>\n      <td>2011-05-19 10:03:52</td>\n      <td>2011-05-19 10:20:46</td>\n      <td>2011-05-19 10:21:46</td>\n    </tr>\n    <tr>\n      <th>117</th>\n      <td>2011-05-21 05:25:02</td>\n      <td>2011-05-21 06:11:35</td>\n      <td>2011-05-21 09:19:08</td>\n      <td>2011-05-21 09:19:41</td>\n      <td>2011-05-21 10:21:41</td>\n      <td>2011-05-21 10:25:31</td>\n      <td>2011-05-21 10:54:02</td>\n      <td>2011-05-21 10:55:26</td>\n    </tr>\n    <tr>\n      <th>117</th>\n      <td>2011-05-21 05:25:02</td>\n      <td>2011-05-21 06:11:35</td>\n      <td>2011-05-21 09:19:08</td>\n      <td>2011-05-21 09:19:41</td>\n      <td>2011-05-21 10:21:41</td>\n      <td>2011-05-21 10:25:31</td>\n      <td>2011-05-21 10:54:02</td>\n      <td>2011-05-21 10:55:26</td>\n    </tr>\n    <tr>\n      <th>180</th>\n      <td>2011-06-21 21:50:18</td>\n      <td>2011-06-21 22:17:48</td>\n      <td>2011-06-21 22:49:15</td>\n      <td>2011-06-21 22:52:42</td>\n      <td>2011-06-21 23:41:12</td>\n      <td>2011-06-21 23:41:18</td>\n      <td>2011-06-22 01:07:14</td>\n      <td>2011-06-22 01:24:29</td>\n    </tr>\n    <tr>\n      <th>18</th>\n      <td>2011-04-01 13:35:00</td>\n      <td>2011-04-01 13:51:55</td>\n      <td>2011-04-01 14:21:15</td>\n      <td>2011-04-01 14:21:45</td>\n      <td>2011-04-01 15:45:16</td>\n      <td>2011-04-01 15:59:10</td>\n      <td>2011-04-01 18:09:07</td>\n      <td>2011-04-01 19:11:29</td>\n    </tr>\n    <tr>\n      <th>104</th>\n      <td>2011-05-14 15:12:48</td>\n      <td>2011-05-14 15:12:57</td>\n      <td>2011-05-14 20:17:30</td>\n      <td>2011-05-14 20:27:42</td>\n      <td>2011-05-14 21:41:30</td>\n      <td>2011-05-14 22:01:53</td>\n      <td>2011-05-14 21:58:35</td>\n      <td>2011-05-15 00:02:11</td>\n    </tr>\n    <tr>\n      <th>104</th>\n      <td>2011-05-14 15:12:48</td>\n      <td>2011-05-14 15:12:57</td>\n      <td>2011-05-14 20:17:30</td>\n      <td>2011-05-14 20:27:42</td>\n      <td>2011-05-14 21:41:30</td>\n      <td>2011-05-14 22:01:53</td>\n      <td>2011-05-14 21:58:35</td>\n      <td>2011-05-15 00:02:11</td>\n    </tr>\n  </tbody>\n</table>\n</div>"
     },
     "execution_count": 9,
     "metadata": {},
     "output_type": "execute_result"
    }
   ],
   "source": [
    "df_old.loc[dev_orbits]"
   ],
   "metadata": {
    "collapsed": false,
    "pycharm": {
     "name": "#%%\n"
    }
   }
  },
  {
   "cell_type": "code",
   "execution_count": 10,
   "outputs": [
    {
     "data": {
      "text/plain": "              SK outer in             SK inner in             MP outer in  \\\nORBIT                                                                       \n104   2011-05-14 13:42:48 2011-05-14 15:12:52.000 2011-05-14 20:17:23.000   \n113   2011-05-19 06:12:37 2011-05-19 07:26:29.000 2011-05-19 08:25:45.000   \n117   2011-05-21 05:25:05 2011-05-21 06:11:28.000 2011-05-21 07:43:51.000   \n117   2011-05-21 05:25:05 2011-05-21 06:11:28.000 2011-05-21 07:43:51.000   \n180   2011-06-21 21:50:12 2011-06-21 22:17:42.000 2011-06-21 22:49:29.000   \n18    2011-04-01 13:35:01 2011-04-01 13:51:52.600 2011-04-01 14:21:22.700   \n104   2011-05-14 13:42:48 2011-05-14 15:12:52.000 2011-05-14 20:17:23.000   \n104   2011-05-14 13:42:48 2011-05-14 15:12:52.000 2011-05-14 20:17:23.000   \n\n                  MP inner in            MP inner out            MP outer out  \\\nORBIT                                                                           \n104   2011-05-14 20:27:21.000 2011-05-14 21:44:44.000 2011-05-14 22:01:46.000   \n113   2011-05-19 08:42:06.000 2011-05-19 10:03:42.000 2011-05-19 10:03:56.000   \n117   2011-05-21 08:20:17.000 2011-05-21 10:21:42.000 2011-05-21 10:25:23.000   \n117   2011-05-21 08:20:17.000 2011-05-21 10:21:42.000 2011-05-21 10:25:23.000   \n180   2011-06-21 22:51:39.000 2011-06-21 23:35:57.000 2011-06-21 23:41:32.000   \n18    2011-04-01 14:21:35.500 2011-04-01 15:45:16.100 2011-04-01 15:49:53.100   \n104   2011-05-14 20:27:21.000 2011-05-14 21:44:44.000 2011-05-14 22:01:46.000   \n104   2011-05-14 20:27:21.000 2011-05-14 21:44:44.000 2011-05-14 22:01:46.000   \n\n                 SK inner out            SK outer out  \nORBIT                                                  \n104   2011-05-14 23:57:35.000 2011-05-15 04:19:22.000  \n113   2011-05-19 10:20:53.000 2011-05-19 10:22:25.000  \n117   2011-05-21 10:54:09.000 2011-05-21 10:55:25.000  \n117   2011-05-21 10:54:09.000 2011-05-21 10:55:25.000  \n180   2011-06-22 01:07:18.000 2011-06-22 01:24:29.000  \n18    2011-04-01 18:09:09.500 2011-04-01 19:11:29.200  \n104   2011-05-14 23:57:35.000 2011-05-15 04:19:22.000  \n104   2011-05-14 23:57:35.000 2011-05-15 04:19:22.000  ",
      "text/html": "<div>\n<style scoped>\n    .dataframe tbody tr th:only-of-type {\n        vertical-align: middle;\n    }\n\n    .dataframe tbody tr th {\n        vertical-align: top;\n    }\n\n    .dataframe thead th {\n        text-align: right;\n    }\n</style>\n<table border=\"1\" class=\"dataframe\">\n  <thead>\n    <tr style=\"text-align: right;\">\n      <th></th>\n      <th>SK outer in</th>\n      <th>SK inner in</th>\n      <th>MP outer in</th>\n      <th>MP inner in</th>\n      <th>MP inner out</th>\n      <th>MP outer out</th>\n      <th>SK inner out</th>\n      <th>SK outer out</th>\n    </tr>\n    <tr>\n      <th>ORBIT</th>\n      <th></th>\n      <th></th>\n      <th></th>\n      <th></th>\n      <th></th>\n      <th></th>\n      <th></th>\n      <th></th>\n    </tr>\n  </thead>\n  <tbody>\n    <tr>\n      <th>104</th>\n      <td>2011-05-14 13:42:48</td>\n      <td>2011-05-14 15:12:52.000</td>\n      <td>2011-05-14 20:17:23.000</td>\n      <td>2011-05-14 20:27:21.000</td>\n      <td>2011-05-14 21:44:44.000</td>\n      <td>2011-05-14 22:01:46.000</td>\n      <td>2011-05-14 23:57:35.000</td>\n      <td>2011-05-15 04:19:22.000</td>\n    </tr>\n    <tr>\n      <th>113</th>\n      <td>2011-05-19 06:12:37</td>\n      <td>2011-05-19 07:26:29.000</td>\n      <td>2011-05-19 08:25:45.000</td>\n      <td>2011-05-19 08:42:06.000</td>\n      <td>2011-05-19 10:03:42.000</td>\n      <td>2011-05-19 10:03:56.000</td>\n      <td>2011-05-19 10:20:53.000</td>\n      <td>2011-05-19 10:22:25.000</td>\n    </tr>\n    <tr>\n      <th>117</th>\n      <td>2011-05-21 05:25:05</td>\n      <td>2011-05-21 06:11:28.000</td>\n      <td>2011-05-21 07:43:51.000</td>\n      <td>2011-05-21 08:20:17.000</td>\n      <td>2011-05-21 10:21:42.000</td>\n      <td>2011-05-21 10:25:23.000</td>\n      <td>2011-05-21 10:54:09.000</td>\n      <td>2011-05-21 10:55:25.000</td>\n    </tr>\n    <tr>\n      <th>117</th>\n      <td>2011-05-21 05:25:05</td>\n      <td>2011-05-21 06:11:28.000</td>\n      <td>2011-05-21 07:43:51.000</td>\n      <td>2011-05-21 08:20:17.000</td>\n      <td>2011-05-21 10:21:42.000</td>\n      <td>2011-05-21 10:25:23.000</td>\n      <td>2011-05-21 10:54:09.000</td>\n      <td>2011-05-21 10:55:25.000</td>\n    </tr>\n    <tr>\n      <th>180</th>\n      <td>2011-06-21 21:50:12</td>\n      <td>2011-06-21 22:17:42.000</td>\n      <td>2011-06-21 22:49:29.000</td>\n      <td>2011-06-21 22:51:39.000</td>\n      <td>2011-06-21 23:35:57.000</td>\n      <td>2011-06-21 23:41:32.000</td>\n      <td>2011-06-22 01:07:18.000</td>\n      <td>2011-06-22 01:24:29.000</td>\n    </tr>\n    <tr>\n      <th>18</th>\n      <td>2011-04-01 13:35:01</td>\n      <td>2011-04-01 13:51:52.600</td>\n      <td>2011-04-01 14:21:22.700</td>\n      <td>2011-04-01 14:21:35.500</td>\n      <td>2011-04-01 15:45:16.100</td>\n      <td>2011-04-01 15:49:53.100</td>\n      <td>2011-04-01 18:09:09.500</td>\n      <td>2011-04-01 19:11:29.200</td>\n    </tr>\n    <tr>\n      <th>104</th>\n      <td>2011-05-14 13:42:48</td>\n      <td>2011-05-14 15:12:52.000</td>\n      <td>2011-05-14 20:17:23.000</td>\n      <td>2011-05-14 20:27:21.000</td>\n      <td>2011-05-14 21:44:44.000</td>\n      <td>2011-05-14 22:01:46.000</td>\n      <td>2011-05-14 23:57:35.000</td>\n      <td>2011-05-15 04:19:22.000</td>\n    </tr>\n    <tr>\n      <th>104</th>\n      <td>2011-05-14 13:42:48</td>\n      <td>2011-05-14 15:12:52.000</td>\n      <td>2011-05-14 20:17:23.000</td>\n      <td>2011-05-14 20:27:21.000</td>\n      <td>2011-05-14 21:44:44.000</td>\n      <td>2011-05-14 22:01:46.000</td>\n      <td>2011-05-14 23:57:35.000</td>\n      <td>2011-05-15 04:19:22.000</td>\n    </tr>\n  </tbody>\n</table>\n</div>"
     },
     "execution_count": 10,
     "metadata": {},
     "output_type": "execute_result"
    }
   ],
   "source": [
    "df_new.loc[dev_orbits]"
   ],
   "metadata": {
    "collapsed": false,
    "pycharm": {
     "name": "#%%\n"
    }
   }
  }
 ],
 "metadata": {
  "kernelspec": {
   "display_name": "Python 3",
   "language": "python",
   "name": "python3"
  },
  "language_info": {
   "codemirror_mode": {
    "name": "ipython",
    "version": 2
   },
   "file_extension": ".py",
   "mimetype": "text/x-python",
   "name": "python",
   "nbconvert_exporter": "python",
   "pygments_lexer": "ipython2",
   "version": "2.7.6"
  }
 },
 "nbformat": 4,
 "nbformat_minor": 0
}