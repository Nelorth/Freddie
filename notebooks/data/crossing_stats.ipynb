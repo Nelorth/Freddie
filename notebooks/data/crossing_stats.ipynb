{
 "cells": [
  {
   "cell_type": "markdown",
   "metadata": {
    "collapsed": true,
    "pycharm": {
     "name": "#%% md\n"
    }
   },
   "source": [
    "# SK and MP crossing statistics"
   ]
  },
  {
   "cell_type": "code",
   "execution_count": 10,
   "outputs": [],
   "source": [
    "import utils.constants as c\n",
    "import pandas as pd\n",
    "import utils.io as io"
   ],
   "metadata": {
    "collapsed": false,
    "pycharm": {
     "name": "#%%\n"
    }
   }
  },
  {
   "cell_type": "code",
   "execution_count": 27,
   "outputs": [],
   "source": [
    "df_labels = pd.read_csv(io.resolve_path(c.DATA_DIR) / c.LABEL_FILE,\n",
    "                        index_col=c.ORBIT_COL,\n",
    "                        parse_dates=c.EVENT_COLS)\n",
    "\n",
    "df_validity = pd.read_csv(io.resolve_path(c.DATA_DIR) / c.VALIDITY_FILE,\n",
    "                          index_col=c.ORBIT_COL)"
   ],
   "metadata": {
    "collapsed": false,
    "pycharm": {
     "name": "#%%\n"
    }
   }
  },
  {
   "cell_type": "markdown",
   "source": [
    "Bow shock statistics"
   ],
   "metadata": {
    "collapsed": false,
    "pycharm": {
     "name": "#%% md\n"
    }
   }
  },
  {
   "cell_type": "code",
   "execution_count": 50,
   "outputs": [
    {
     "name": "stdout",
     "output_type": "stream",
     "text": [
      "3160\n",
      "3160\n"
     ]
    }
   ],
   "source": [
    "valid_orbs = df_validity[df_validity.iloc[:, 0:4].sum(axis=1) == 0].index\n",
    "df_validity = df_validity.loc[valid_orbs]\n",
    "print(len(df_validity))\n",
    "valid_orbs = df_validity[df_validity[\"flux_norm_maximum\"] <= df_validity[\"flux_norm_maximum\"].mean() + 3 * df_validity[\"flux_norm_maximum\"].std()].index\n",
    "df_labels = df_labels.loc[valid_orbs]\n",
    "print(len(df_validity))"
   ],
   "metadata": {
    "collapsed": false,
    "pycharm": {
     "name": "#%%\n"
    }
   }
  },
  {
   "cell_type": "code",
   "execution_count": 46,
   "outputs": [
    {
     "data": {
      "text/plain": "3160"
     },
     "execution_count": 46,
     "metadata": {},
     "output_type": "execute_result"
    }
   ],
   "source": [
    "len(df_labels)"
   ],
   "metadata": {
    "collapsed": false,
    "pycharm": {
     "name": "#%%\n"
    }
   }
  },
  {
   "cell_type": "code",
   "execution_count": 54,
   "outputs": [
    {
     "name": "stdout",
     "output_type": "stream",
     "text": [
      "count                         6193\n",
      "mean     0 days 00:08:33.028290004\n",
      "std      0 days 00:09:09.654845695\n",
      "min         0 days 00:00:01.200000\n",
      "25%                0 days 00:01:56\n",
      "50%                0 days 00:05:20\n",
      "75%                0 days 00:12:09\n",
      "max                0 days 00:48:08\n",
      "dtype: object\n",
      "996\n"
     ]
    }
   ],
   "source": [
    "sk_in = df_labels[\"SK outer in\"].append(df_labels[\"SK inner out\"])\n",
    "sk_out = df_labels[\"SK inner in\"].append(df_labels[\"SK outer out\"])\n",
    "sk_len = sk_out - sk_in\n",
    "sk_len = sk_len.loc[sk_len <= sk_len.mean() + 3 * sk_len.std()]\n",
    "print(sk_len.describe())\n",
    "print(sk_len.argmax())"
   ],
   "metadata": {
    "collapsed": false,
    "pycharm": {
     "name": "#%%\n"
    }
   }
  },
  {
   "cell_type": "code",
   "execution_count": 55,
   "outputs": [
    {
     "data": {
      "text/plain": "SK outer in    2012-10-05 06:43:45\nSK inner in    2012-10-05 06:44:57\nMP outer in    2012-10-05 07:13:53\nMP inner in    2012-10-05 07:15:16\nMP inner out   2012-10-05 08:18:25\nMP outer out   2012-10-05 08:27:55\nSK inner out   2012-10-05 09:19:01\nSK outer out   2012-10-05 09:34:08\nName: 1301, dtype: datetime64[ns]"
     },
     "execution_count": 55,
     "metadata": {},
     "output_type": "execute_result"
    }
   ],
   "source": [
    "df_labels.iloc[996]"
   ],
   "metadata": {
    "collapsed": false,
    "pycharm": {
     "name": "#%%\n"
    }
   }
  },
  {
   "cell_type": "code",
   "execution_count": 56,
   "outputs": [],
   "source": [
    "mp_in = df_labels[\"MP outer in\"].append(df_labels[\"MP inner out\"])\n",
    "mp_out = df_labels[\"MP inner in\"].append(df_labels[\"MP outer out\"])\n",
    "mp_len = mp_out - mp_in"
   ],
   "metadata": {
    "collapsed": false,
    "pycharm": {
     "name": "#%%\n"
    }
   }
  },
  {
   "cell_type": "code",
   "execution_count": 64,
   "outputs": [
    {
     "data": {
      "text/plain": "SK outer in    2011-06-04 19:57:00\nSK inner in    2011-06-04 19:57:24\nMP outer in    2011-06-04 22:37:41\nMP inner in    2011-06-04 22:47:05\nMP inner out   2011-06-05 00:24:46\nMP outer out   2011-06-05 00:28:29\nSK inner out   2011-06-05 00:41:32\nSK outer out   2011-06-05 00:43:05\nName: 146, dtype: datetime64[ns]"
     },
     "execution_count": 64,
     "metadata": {},
     "output_type": "execute_result"
    }
   ],
   "source": [
    "df_labels.loc[146]"
   ],
   "metadata": {
    "collapsed": false,
    "pycharm": {
     "name": "#%%\n"
    }
   }
  },
  {
   "cell_type": "code",
   "execution_count": 60,
   "outputs": [
    {
     "data": {
      "text/plain": "3153"
     },
     "execution_count": 60,
     "metadata": {},
     "output_type": "execute_result"
    }
   ],
   "source": [
    "len(df_labels)"
   ],
   "metadata": {
    "collapsed": false,
    "pycharm": {
     "name": "#%%\n"
    }
   }
  }
 ],
 "metadata": {
  "kernelspec": {
   "display_name": "Python 3",
   "language": "python",
   "name": "python3"
  },
  "language_info": {
   "codemirror_mode": {
    "name": "ipython",
    "version": 2
   },
   "file_extension": ".py",
   "mimetype": "text/x-python",
   "name": "python",
   "nbconvert_exporter": "python",
   "pygments_lexer": "ipython2",
   "version": "2.7.6"
  }
 },
 "nbformat": 4,
 "nbformat_minor": 0
}