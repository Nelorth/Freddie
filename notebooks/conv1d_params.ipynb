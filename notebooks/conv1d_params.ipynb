{
 "cells": [
  {
   "cell_type": "markdown",
   "metadata": {
    "collapsed": true,
    "pycharm": {
     "name": "#%% md\n"
    }
   },
   "source": [
    "# 1D Convolution Layer Parameters\n",
    "\n",
    "We compare the behavior of 1D convolution layers in PyTorch on single-channel vs. multi-channel data. The conclusion is that each channel receives its *own* set of weights but all channels share one bias."
   ]
  },
  {
   "cell_type": "code",
   "execution_count": 1,
   "outputs": [],
   "source": [
    "import torch\n",
    "from torch import nn"
   ],
   "metadata": {
    "collapsed": false,
    "pycharm": {
     "name": "#%%\n"
    }
   }
  },
  {
   "cell_type": "markdown",
   "source": [
    "## Single-channel convolution"
   ],
   "metadata": {
    "collapsed": false,
    "pycharm": {
     "name": "#%% md\n"
    }
   }
  },
  {
   "cell_type": "markdown",
   "source": [
    "First, we create a simple yet illustrative sample."
   ],
   "metadata": {
    "collapsed": false
   }
  },
  {
   "cell_type": "code",
   "execution_count": 2,
   "outputs": [
    {
     "name": "stdout",
     "output_type": "stream",
     "text": [
      "tensor([[[1., 2., 3.]]])\n"
     ]
    }
   ],
   "source": [
    "X1 = torch.tensor([[[1.0, 2.0, 3.0]]])\n",
    "print(X1)"
   ],
   "metadata": {
    "collapsed": false,
    "pycharm": {
     "name": "#%%\n"
    }
   }
  },
  {
   "cell_type": "markdown",
   "source": [
    "Next, we take a look at the parameter shapes of a convolution layer with kernel size $2$."
   ],
   "metadata": {
    "collapsed": false,
    "pycharm": {
     "name": "#%% md\n"
    }
   }
  },
  {
   "cell_type": "code",
   "execution_count": 3,
   "outputs": [
    {
     "name": "stdout",
     "output_type": "stream",
     "text": [
      "torch.Size([1, 1, 2]) torch.Size([1])\n"
     ]
    }
   ],
   "source": [
    "single_conv = nn.Conv1d(1, 1, kernel_size=2)\n",
    "print(single_conv.weight.shape, single_conv.bias.shape)"
   ],
   "metadata": {
    "collapsed": false,
    "pycharm": {
     "name": "#%%\n"
    }
   }
  },
  {
   "cell_type": "markdown",
   "source": [
    "Since they are initialized randomly, we set the parameters to simple values, namely all weights to $1$ and the bias to $0$."
   ],
   "metadata": {
    "collapsed": false,
    "pycharm": {
     "name": "#%% md\n"
    }
   }
  },
  {
   "cell_type": "code",
   "execution_count": 4,
   "outputs": [
    {
     "name": "stdout",
     "output_type": "stream",
     "text": [
      "Parameter containing:\n",
      "tensor([[[1., 1.]]], grad_fn=<CopySlices>)\n",
      "Parameter containing:\n",
      "tensor([0.], grad_fn=<CopySlices>)\n"
     ]
    }
   ],
   "source": [
    "single_conv.weight[0] = 1\n",
    "single_conv.bias[0] = 0\n",
    "print(single_conv.weight, single_conv.bias, sep=\"\\n\")"
   ],
   "metadata": {
    "collapsed": false,
    "pycharm": {
     "name": "#%%\n"
    }
   }
  },
  {
   "cell_type": "markdown",
   "source": [
    "This should have the effect of replacing each value with the sum of all values in the convolution window. \n",
    "To confirm it, we execute a layer forward pass on the sample."
   ],
   "metadata": {
    "collapsed": false,
    "pycharm": {
     "name": "#%% md\n"
    }
   }
  },
  {
   "cell_type": "code",
   "execution_count": 5,
   "outputs": [
    {
     "name": "stdout",
     "output_type": "stream",
     "text": [
      "tensor([[[3., 5.]]], grad_fn=<SqueezeBackward1>)\n"
     ]
    }
   ],
   "source": [
    "print(single_conv(X1))"
   ],
   "metadata": {
    "collapsed": false,
    "pycharm": {
     "name": "#%%\n"
    }
   }
  },
  {
   "cell_type": "markdown",
   "source": [
    "## Multi-channel convolution"
   ],
   "metadata": {
    "collapsed": false,
    "pycharm": {
     "name": "#%% md\n"
    }
   }
  },
  {
   "cell_type": "markdown",
   "source": [
    "Again, we create a sample, but this time two-dimensional."
   ],
   "metadata": {
    "collapsed": false
   }
  },
  {
   "cell_type": "code",
   "execution_count": 6,
   "outputs": [
    {
     "name": "stdout",
     "output_type": "stream",
     "text": [
      "tensor([[[1., 2., 3.],\n",
      "         [4., 5., 6.]]])\n"
     ]
    }
   ],
   "source": [
    "X2 = torch.tensor([[[1.0, 2.0, 3.0],\n",
    "                    [4.0, 5.0, 6.0]]])\n",
    "print(X2)"
   ],
   "metadata": {
    "collapsed": false,
    "pycharm": {
     "name": "#%%\n"
    }
   }
  },
  {
   "cell_type": "markdown",
   "source": [
    "Now it becomes interesting: What are the parameter shapes of a convolution layer with, again, filter size $2$ but two input channels?"
   ],
   "metadata": {
    "collapsed": false
   }
  },
  {
   "cell_type": "code",
   "execution_count": 7,
   "outputs": [
    {
     "name": "stdout",
     "output_type": "stream",
     "text": [
      "torch.Size([1, 2, 2]) torch.Size([1])\n"
     ]
    }
   ],
   "source": [
    "dual_conv = nn.Conv1d(2, 1, kernel_size=2)\n",
    "print(dual_conv.weight.shape, dual_conv.bias.shape)"
   ],
   "metadata": {
    "collapsed": false,
    "pycharm": {
     "name": "#%%\n"
    }
   }
  },
  {
   "cell_type": "markdown",
   "source": [
    "We see that each channel of the input received its own set of weights, whereas the bias is shared. For comparability, we will again set all weights to the same value $1$."
   ],
   "metadata": {
    "collapsed": false
   }
  },
  {
   "cell_type": "code",
   "execution_count": 8,
   "outputs": [
    {
     "name": "stdout",
     "output_type": "stream",
     "text": [
      "Parameter containing:\n",
      "tensor([[[1., 1.],\n",
      "         [1., 1.]]], grad_fn=<CopySlices>)\n",
      "Parameter containing:\n",
      "tensor([0.], grad_fn=<CopySlices>)\n"
     ]
    }
   ],
   "source": [
    "dual_conv.weight[0] = 1\n",
    "dual_conv.bias[0] = 0\n",
    "print(dual_conv.weight, dual_conv.bias, sep=\"\\n\")"
   ],
   "metadata": {
    "collapsed": false,
    "pycharm": {
     "name": "#%%\n"
    }
   }
  },
  {
   "cell_type": "markdown",
   "source": [
    "A forward pass on the multi-channel input shows that the one-dimensional convolution proceeds along the time axis with a \"width\" equal to the number of channels."
   ],
   "metadata": {
    "collapsed": false
   }
  },
  {
   "cell_type": "code",
   "execution_count": 9,
   "outputs": [
    {
     "name": "stdout",
     "output_type": "stream",
     "text": [
      "tensor([[[12., 16.]]], grad_fn=<SqueezeBackward1>)\n"
     ]
    }
   ],
   "source": [
    "print(dual_conv(X2))"
   ],
   "metadata": {
    "collapsed": false,
    "pycharm": {
     "name": "#%%\n"
    }
   }
  },
  {
   "cell_type": "markdown",
   "source": [
    "The above mechanics are indeed a very sensible implementation of a one-dimensional convolution. Since each channel has its individual weights, it can be convolved differently from all the others. However, a statistical bias should apply to all channels in the same manner, and thus it is shared among the channels."
   ],
   "metadata": {
    "collapsed": false,
    "pycharm": {
     "name": "#%% md\n"
    }
   }
  }
 ],
 "metadata": {
  "kernelspec": {
   "display_name": "Python 3",
   "language": "python",
   "name": "python3"
  },
  "language_info": {
   "codemirror_mode": {
    "name": "ipython",
    "version": 2
   },
   "file_extension": ".py",
   "mimetype": "text/x-python",
   "name": "python",
   "nbconvert_exporter": "python",
   "pygments_lexer": "ipython2",
   "version": "2.7.6"
  }
 },
 "nbformat": 4,
 "nbformat_minor": 0
}