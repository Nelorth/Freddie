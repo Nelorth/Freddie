{
 "cells": [
  {
   "cell_type": "markdown",
   "id": "c3157908",
   "metadata": {
    "pycharm": {
     "name": "#%% md\n"
    }
   },
   "source": [
    "# Training Data Validation"
   ]
  },
  {
   "cell_type": "code",
   "execution_count": 1,
   "id": "1072794c",
   "metadata": {
    "pycharm": {
     "name": "#%%\n"
    }
   },
   "outputs": [],
   "source": [
    "import pandas as pd\n",
    "\n",
    "from constants import *\n",
    "from os.path import join"
   ]
  },
  {
   "cell_type": "code",
   "execution_count": 2,
   "id": "e04d064f",
   "metadata": {
    "pycharm": {
     "name": "#%%\n"
    }
   },
   "outputs": [
    {
     "data": {
      "text/html": [
       "<div>\n",
       "<style scoped>\n",
       "    .dataframe tbody tr th:only-of-type {\n",
       "        vertical-align: middle;\n",
       "    }\n",
       "\n",
       "    .dataframe tbody tr th {\n",
       "        vertical-align: top;\n",
       "    }\n",
       "\n",
       "    .dataframe thead th {\n",
       "        text-align: right;\n",
       "    }\n",
       "</style>\n",
       "<table border=\"1\" class=\"dataframe\">\n",
       "  <thead>\n",
       "    <tr style=\"text-align: right;\">\n",
       "      <th></th>\n",
       "      <th>X_MSO</th>\n",
       "      <th>Y_MSO</th>\n",
       "      <th>Z_MSO</th>\n",
       "      <th>BX_MSO</th>\n",
       "      <th>BY_MSO</th>\n",
       "      <th>BZ_MSO</th>\n",
       "      <th>DBX_MSO</th>\n",
       "      <th>DBY_MSO</th>\n",
       "      <th>DBZ_MSO</th>\n",
       "      <th>RHO_DIPOLE</th>\n",
       "      <th>...</th>\n",
       "      <th>Z</th>\n",
       "      <th>VX</th>\n",
       "      <th>VY</th>\n",
       "      <th>VZ</th>\n",
       "      <th>VABS</th>\n",
       "      <th>D</th>\n",
       "      <th>COSALPHA</th>\n",
       "      <th>EXTREMA</th>\n",
       "      <th>ORBIT</th>\n",
       "      <th>LABEL</th>\n",
       "    </tr>\n",
       "    <tr>\n",
       "      <th>DATE</th>\n",
       "      <th></th>\n",
       "      <th></th>\n",
       "      <th></th>\n",
       "      <th></th>\n",
       "      <th></th>\n",
       "      <th></th>\n",
       "      <th></th>\n",
       "      <th></th>\n",
       "      <th></th>\n",
       "      <th></th>\n",
       "      <th></th>\n",
       "      <th></th>\n",
       "      <th></th>\n",
       "      <th></th>\n",
       "      <th></th>\n",
       "      <th></th>\n",
       "      <th></th>\n",
       "      <th></th>\n",
       "      <th></th>\n",
       "      <th></th>\n",
       "      <th></th>\n",
       "    </tr>\n",
       "  </thead>\n",
       "  <tbody>\n",
       "    <tr>\n",
       "      <th>2011-03-24 07:42:00</th>\n",
       "      <td>6630.097</td>\n",
       "      <td>5739.308</td>\n",
       "      <td>-15373.126</td>\n",
       "      <td>-35.407</td>\n",
       "      <td>15.722</td>\n",
       "      <td>4.999</td>\n",
       "      <td>0.850</td>\n",
       "      <td>0.940</td>\n",
       "      <td>0.386</td>\n",
       "      <td>18120.328019</td>\n",
       "      <td>...</td>\n",
       "      <td>5.817703e+06</td>\n",
       "      <td>-49.256716</td>\n",
       "      <td>-26.708257</td>\n",
       "      <td>2.337419</td>\n",
       "      <td>56.080465</td>\n",
       "      <td>4.882045e+07</td>\n",
       "      <td>0.633532</td>\n",
       "      <td>2</td>\n",
       "      <td>2</td>\n",
       "      <td>0</td>\n",
       "    </tr>\n",
       "    <tr>\n",
       "      <th>2011-03-24 07:42:01</th>\n",
       "      <td>6630.372</td>\n",
       "      <td>5739.723</td>\n",
       "      <td>-15372.852</td>\n",
       "      <td>-35.976</td>\n",
       "      <td>14.327</td>\n",
       "      <td>3.401</td>\n",
       "      <td>0.606</td>\n",
       "      <td>0.811</td>\n",
       "      <td>0.729</td>\n",
       "      <td>18120.320315</td>\n",
       "      <td>...</td>\n",
       "      <td>5.817703e+06</td>\n",
       "      <td>-49.256716</td>\n",
       "      <td>-26.708257</td>\n",
       "      <td>2.337456</td>\n",
       "      <td>56.080467</td>\n",
       "      <td>4.882045e+07</td>\n",
       "      <td>0.633532</td>\n",
       "      <td>0</td>\n",
       "      <td>2</td>\n",
       "      <td>0</td>\n",
       "    </tr>\n",
       "    <tr>\n",
       "      <th>2011-03-24 07:42:02</th>\n",
       "      <td>6630.645</td>\n",
       "      <td>5740.138</td>\n",
       "      <td>-15372.580</td>\n",
       "      <td>-34.115</td>\n",
       "      <td>17.308</td>\n",
       "      <td>3.078</td>\n",
       "      <td>0.434</td>\n",
       "      <td>0.666</td>\n",
       "      <td>0.367</td>\n",
       "      <td>18120.313647</td>\n",
       "      <td>...</td>\n",
       "      <td>5.817703e+06</td>\n",
       "      <td>-49.256716</td>\n",
       "      <td>-26.708257</td>\n",
       "      <td>2.337478</td>\n",
       "      <td>56.080468</td>\n",
       "      <td>4.882045e+07</td>\n",
       "      <td>0.633532</td>\n",
       "      <td>0</td>\n",
       "      <td>2</td>\n",
       "      <td>0</td>\n",
       "    </tr>\n",
       "    <tr>\n",
       "      <th>2011-03-24 07:42:03</th>\n",
       "      <td>6630.920</td>\n",
       "      <td>5740.553</td>\n",
       "      <td>-15372.306</td>\n",
       "      <td>-34.830</td>\n",
       "      <td>17.010</td>\n",
       "      <td>4.846</td>\n",
       "      <td>1.054</td>\n",
       "      <td>1.083</td>\n",
       "      <td>0.505</td>\n",
       "      <td>18120.305979</td>\n",
       "      <td>...</td>\n",
       "      <td>5.817703e+06</td>\n",
       "      <td>-49.256716</td>\n",
       "      <td>-26.708257</td>\n",
       "      <td>2.337449</td>\n",
       "      <td>56.080466</td>\n",
       "      <td>4.882045e+07</td>\n",
       "      <td>0.633532</td>\n",
       "      <td>0</td>\n",
       "      <td>2</td>\n",
       "      <td>0</td>\n",
       "    </tr>\n",
       "    <tr>\n",
       "      <th>2011-03-24 07:42:04</th>\n",
       "      <td>6631.195</td>\n",
       "      <td>5740.968</td>\n",
       "      <td>-15372.032</td>\n",
       "      <td>-37.102</td>\n",
       "      <td>14.965</td>\n",
       "      <td>0.640</td>\n",
       "      <td>0.478</td>\n",
       "      <td>0.981</td>\n",
       "      <td>2.181</td>\n",
       "      <td>18120.298328</td>\n",
       "      <td>...</td>\n",
       "      <td>5.817703e+06</td>\n",
       "      <td>-49.256716</td>\n",
       "      <td>-26.708257</td>\n",
       "      <td>2.337420</td>\n",
       "      <td>56.080465</td>\n",
       "      <td>4.882045e+07</td>\n",
       "      <td>0.633532</td>\n",
       "      <td>0</td>\n",
       "      <td>2</td>\n",
       "      <td>0</td>\n",
       "    </tr>\n",
       "  </tbody>\n",
       "</table>\n",
       "<p>5 rows × 30 columns</p>\n",
       "</div>"
      ],
      "text/plain": [
       "                        X_MSO     Y_MSO      Z_MSO  BX_MSO  BY_MSO  BZ_MSO  \\\n",
       "DATE                                                                         \n",
       "2011-03-24 07:42:00  6630.097  5739.308 -15373.126 -35.407  15.722   4.999   \n",
       "2011-03-24 07:42:01  6630.372  5739.723 -15372.852 -35.976  14.327   3.401   \n",
       "2011-03-24 07:42:02  6630.645  5740.138 -15372.580 -34.115  17.308   3.078   \n",
       "2011-03-24 07:42:03  6630.920  5740.553 -15372.306 -34.830  17.010   4.846   \n",
       "2011-03-24 07:42:04  6631.195  5740.968 -15372.032 -37.102  14.965   0.640   \n",
       "\n",
       "                     DBX_MSO  DBY_MSO  DBZ_MSO    RHO_DIPOLE  ...  \\\n",
       "DATE                                                          ...   \n",
       "2011-03-24 07:42:00    0.850    0.940    0.386  18120.328019  ...   \n",
       "2011-03-24 07:42:01    0.606    0.811    0.729  18120.320315  ...   \n",
       "2011-03-24 07:42:02    0.434    0.666    0.367  18120.313647  ...   \n",
       "2011-03-24 07:42:03    1.054    1.083    0.505  18120.305979  ...   \n",
       "2011-03-24 07:42:04    0.478    0.981    2.181  18120.298328  ...   \n",
       "\n",
       "                                Z         VX         VY        VZ       VABS  \\\n",
       "DATE                                                                           \n",
       "2011-03-24 07:42:00  5.817703e+06 -49.256716 -26.708257  2.337419  56.080465   \n",
       "2011-03-24 07:42:01  5.817703e+06 -49.256716 -26.708257  2.337456  56.080467   \n",
       "2011-03-24 07:42:02  5.817703e+06 -49.256716 -26.708257  2.337478  56.080468   \n",
       "2011-03-24 07:42:03  5.817703e+06 -49.256716 -26.708257  2.337449  56.080466   \n",
       "2011-03-24 07:42:04  5.817703e+06 -49.256716 -26.708257  2.337420  56.080465   \n",
       "\n",
       "                                D  COSALPHA  EXTREMA  ORBIT  LABEL  \n",
       "DATE                                                                \n",
       "2011-03-24 07:42:00  4.882045e+07  0.633532        2      2      0  \n",
       "2011-03-24 07:42:01  4.882045e+07  0.633532        0      2      0  \n",
       "2011-03-24 07:42:02  4.882045e+07  0.633532        0      2      0  \n",
       "2011-03-24 07:42:03  4.882045e+07  0.633532        0      2      0  \n",
       "2011-03-24 07:42:04  4.882045e+07  0.633532        0      2      0  \n",
       "\n",
       "[5 rows x 30 columns]"
      ]
     },
     "execution_count": 2,
     "metadata": {},
     "output_type": "execute_result"
    }
   ],
   "source": [
    "df_train = pd.read_csv(join(MERGED_DIR, TRAIN_FILE),\n",
    "                       index_col=DATE_COL,\n",
    "                       parse_dates=True)\n",
    "df_train.head()"
   ]
  },
  {
   "cell_type": "code",
   "execution_count": 3,
   "id": "05dcae49",
   "metadata": {
    "pycharm": {
     "name": "#%%\n"
    }
   },
   "outputs": [
    {
     "name": "stdout",
     "output_type": "stream",
     "text": [
      "#orbits: 3261\n"
     ]
    }
   ],
   "source": [
    "orbit_ids = df_train[ORBIT_COL].unique()\n",
    "print(f\"#orbits: {len(orbit_ids)}\")"
   ]
  },
  {
   "cell_type": "markdown",
   "id": "92329167",
   "metadata": {
    "pycharm": {
     "name": "#%% md\n"
    }
   },
   "source": [
    "At first glance, there appears to be a high deviation in orbit length."
   ]
  },
  {
   "cell_type": "code",
   "execution_count": 4,
   "id": "893b7a41",
   "metadata": {
    "pycharm": {
     "name": "#%%\n"
    }
   },
   "outputs": [
    {
     "data": {
      "text/plain": [
       "count     3261.000000\n",
       "mean     31383.790555\n",
       "std       5268.893382\n",
       "min      27937.000000\n",
       "25%      28806.000000\n",
       "50%      28809.000000\n",
       "75%      29572.000000\n",
       "max      43466.000000\n",
       "dtype: float64"
      ]
     },
     "execution_count": 4,
     "metadata": {},
     "output_type": "execute_result"
    }
   ],
   "source": [
    "sizes = df_train.groupby(ORBIT_COL).size()\n",
    "sizes.describe()"
   ]
  },
  {
   "cell_type": "markdown",
   "id": "76b67dc1",
   "metadata": {
    "pycharm": {
     "name": "#%% md\n"
    }
   },
   "source": [
    "The reason for this is that MESSENGER changed from a 12-hour orbit to 8-hour orbit in April 2012."
   ]
  },
  {
   "cell_type": "code",
   "execution_count": 5,
   "id": "d26cfbbb",
   "metadata": {
    "pycharm": {
     "name": "#%%\n"
    }
   },
   "outputs": [
    {
     "name": "stdout",
     "output_type": "stream",
     "text": [
      "orbit lengths dropped starting with orbit #790 on 2012-04-16\n"
     ]
    },
    {
     "data": {
      "text/plain": [
       "ORBIT\n",
       "785    41778\n",
       "786    41777\n",
       "787    41778\n",
       "788    41777\n",
       "790    32687\n",
       "791    32685\n",
       "792    32686\n",
       "793    32686\n",
       "794    32686\n",
       "795    32686\n",
       "dtype: int64"
      ]
     },
     "execution_count": 5,
     "metadata": {},
     "output_type": "execute_result"
    }
   ],
   "source": [
    "drop_idx = sizes.diff().abs().idxmax()\n",
    "drop_day = df_train.index[df_train[ORBIT_COL] == drop_idx][0].strftime(\"%Y-%m-%d\")\n",
    "print(f\"orbit lengths dropped starting with orbit #{drop_idx} on {drop_day}\")\n",
    "sizes.loc[drop_idx-5:drop_idx+5]"
   ]
  },
  {
   "cell_type": "markdown",
   "id": "7b1ac1a1",
   "metadata": {
    "pycharm": {
     "name": "#%% md\n"
    }
   },
   "source": [
    "When taking this into account, the initial deviation disappears."
   ]
  },
  {
   "cell_type": "code",
   "execution_count": 6,
   "id": "f932c5b1",
   "metadata": {
    "pycharm": {
     "name": "#%%\n"
    }
   },
   "outputs": [
    {
     "data": {
      "text/plain": [
       "count      572.000000\n",
       "mean     42768.372378\n",
       "std        558.656569\n",
       "min      41777.000000\n",
       "25%      42432.000000\n",
       "50%      42486.500000\n",
       "75%      43204.000000\n",
       "max      43466.000000\n",
       "dtype: float64"
      ]
     },
     "execution_count": 6,
     "metadata": {},
     "output_type": "execute_result"
    }
   ],
   "source": [
    "sizes.loc[:drop_idx-1].describe()"
   ]
  },
  {
   "cell_type": "code",
   "execution_count": 7,
   "id": "707bcd34",
   "metadata": {},
   "outputs": [
    {
     "data": {
      "text/plain": [
       "count     2689.000000\n",
       "mean     28962.079583\n",
       "std        393.923839\n",
       "min      27937.000000\n",
       "25%      28805.000000\n",
       "50%      28808.000000\n",
       "75%      28813.000000\n",
       "max      32687.000000\n",
       "dtype: float64"
      ]
     },
     "execution_count": 7,
     "metadata": {},
     "output_type": "execute_result"
    }
   ],
   "source": [
    "sizes.loc[drop_idx:].describe()"
   ]
  },
  {
   "cell_type": "markdown",
   "id": "ab1772e3",
   "metadata": {
    "pycharm": {
     "name": "#%% md\n"
    }
   },
   "source": [
    "Verify that no NaN values exist."
   ]
  },
  {
   "cell_type": "code",
   "execution_count": 9,
   "id": "4e741449",
   "metadata": {
    "pycharm": {
     "name": "#%%\n"
    }
   },
   "outputs": [
    {
     "name": "stdout",
     "output_type": "stream",
     "text": [
      "There are 0 NaN values.\n"
     ]
    }
   ],
   "source": [
    "nan_count = df_train.isnull().sum().sum()\n",
    "print(f\"There are {nan_count} NaN values.\")"
   ]
  },
  {
   "cell_type": "markdown",
   "id": "fc51e9dc",
   "metadata": {},
   "source": [
    "Sanity-check orbit $42$"
   ]
  },
  {
   "cell_type": "code",
   "execution_count": 10,
   "id": "79e33eb8",
   "metadata": {},
   "outputs": [
    {
     "name": "stdout",
     "output_type": "stream",
     "text": [
      "LABEL\n",
      "2   2011-04-13 16:08:39\n",
      "3   2011-04-13 16:09:41\n",
      "4   2011-04-13 16:18:45\n",
      "5   2011-04-13 16:20:17\n",
      "6   2011-04-13 17:36:30\n",
      "7   2011-04-13 17:39:36\n",
      "8   2011-04-13 18:09:43\n",
      "9   2011-04-13 18:12:19\n",
      "Name: DATE, dtype: datetime64[ns]\n"
     ]
    },
    {
     "data": {
      "image/png": "[encoded data removed]",
      "text/plain": [
       "<Figure size 432x288 with 1 Axes>"
      ]
     },
     "metadata": {
      "needs_background": "light"
     },
     "output_type": "display_data"
    }
   ],
   "source": [
    "import harry_plotter\n",
    "\n",
    "orbit = df_train[df_train[ORBIT_COL] == 42]\n",
    "index = orbit.index\n",
    "orbit = orbit.reset_index()\n",
    "vlines = orbit.groupby(orbit[LABEL_COL].diff().ne(0).cumsum()).first().iloc[1:][DATE_COL]\n",
    "print(vlines)\n",
    "\n",
    "harry_plotter.plot_components_and_norm(\n",
    "    index,\n",
    "    (orbit.BX_MSO,\n",
    "    orbit.BY_MSO,\n",
    "    orbit.BZ_MSO),\n",
    "    symbol=\"B\",\n",
    "    vlines=vlines\n",
    ")"
   ]
  }
 ],
 "metadata": {
  "kernelspec": {
   "display_name": "Python 3",
   "language": "python",
   "name": "python3"
  },
  "language_info": {
   "codemirror_mode": {
    "name": "ipython",
    "version": 3
   },
   "file_extension": ".py",
   "mimetype": "text/x-python",
   "name": "python",
   "nbconvert_exporter": "python",
   "pygments_lexer": "ipython3",
   "version": "3.8.8"
  }
 },
 "nbformat": 4,
 "nbformat_minor": 5
}