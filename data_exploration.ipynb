{
 "cells": [
  {
   "cell_type": "markdown",
   "metadata": {
    "collapsed": true,
    "pycharm": {
     "name": "#%% md\n"
    }
   },
   "source": [
    "# Data Exploration"
   ]
  },
  {
   "cell_type": "code",
   "execution_count": 1,
   "outputs": [],
   "source": [
    "import os\n",
    "import pandas as pd\n",
    "import matplotlib.pyplot as plt\n",
    "import harry_plotter\n",
    "\n",
    "from constants import *"
   ],
   "metadata": {
    "collapsed": false,
    "pycharm": {
     "name": "#%%\n"
    }
   }
  },
  {
   "cell_type": "markdown",
   "source": [
    "Load orbit $n$"
   ],
   "metadata": {
    "collapsed": false,
    "pycharm": {
     "name": "#%% md\n"
    }
   }
  },
  {
   "cell_type": "code",
   "execution_count": 2,
   "outputs": [],
   "source": [
    "n = 42"
   ],
   "metadata": {
    "collapsed": false,
    "pycharm": {
     "name": "#%%\n"
    }
   }
  },
  {
   "cell_type": "code",
   "execution_count": 3,
   "outputs": [],
   "source": [
    "orbit = pd.read_csv(os.path.join(ORBIT_DIR, ORBIT_FILE(n)),\n",
    "                    index_col=DATE_COL,\n",
    "                    parse_dates=True)"
   ],
   "metadata": {
    "collapsed": false,
    "pycharm": {
     "name": "#%%\n"
    }
   }
  },
  {
   "cell_type": "markdown",
   "source": [
    "Peek into the data"
   ],
   "metadata": {
    "collapsed": false,
    "pycharm": {
     "name": "#%% md\n"
    }
   }
  },
  {
   "cell_type": "code",
   "execution_count": 4,
   "outputs": [
    {
     "data": {
      "text/plain": "                        X_MSO     Y_MSO      Z_MSO  BX_MSO  BY_MSO  BZ_MSO  \\\nDATE                                                                         \n2011-04-13 10:34:22  5994.666 -5966.287 -15414.501  -5.228   3.356   0.500   \n2011-04-13 10:34:23  5995.121 -5966.539 -15414.238  -5.186   3.293   0.360   \n2011-04-13 10:34:24  5995.576 -5966.791 -15413.975  -4.887   3.500   1.260   \n2011-04-13 10:34:25  5996.031 -5967.043 -15413.712  -4.214   4.172   0.611   \n2011-04-13 10:34:26  5996.486 -5967.295 -15413.449  -4.608   3.046   0.545   \n\n                     DBX_MSO  DBY_MSO  DBZ_MSO    RHO_DIPOLE  ...  \\\nDATE                                                          ...   \n2011-04-13 10:34:22    0.275    0.212    0.158  18008.190777  ...   \n2011-04-13 10:34:23    0.099    0.186    0.289  18008.193550  ...   \n2011-04-13 10:34:24    0.164    0.392    0.210  18008.196343  ...   \n2011-04-13 10:34:25    0.210    0.199    0.377  18008.199153  ...   \n2011-04-13 10:34:26    0.480    0.667    0.511  18008.201983  ...   \n\n                                X             Y             Z         VX  \\\nDATE                                                                       \n2011-04-13 10:34:22 -5.512601e+07 -3.375645e+07  2.300071e+06  15.427609   \n2011-04-13 10:34:23 -5.512601e+07 -3.375645e+07  2.300071e+06  15.427609   \n2011-04-13 10:34:24 -5.512601e+07 -3.375645e+07  2.300071e+06  15.427609   \n2011-04-13 10:34:25 -5.512601e+07 -3.375645e+07  2.300071e+06  15.427609   \n2011-04-13 10:34:26 -5.512601e+07 -3.375645e+07  2.300071e+06  15.427609   \n\n                            VY        VZ       VABS             D  COSALPHA  \\\nDATE                                                                          \n2011-04-13 10:34:22 -39.399943 -4.634681  42.565795  6.468126e+07 -0.815553   \n2011-04-13 10:34:23 -39.399943 -4.634664  42.565793  6.468126e+07 -0.815553   \n2011-04-13 10:34:24 -39.399943 -4.634714  42.565799  6.468126e+07 -0.815553   \n2011-04-13 10:34:25 -39.399943 -4.634736  42.565801  6.468126e+07 -0.815553   \n2011-04-13 10:34:26 -39.399943 -4.634744  42.565802  6.468126e+07 -0.815553   \n\n                     EXTREMA  \nDATE                          \n2011-04-13 10:34:22        2  \n2011-04-13 10:34:23        0  \n2011-04-13 10:34:24        0  \n2011-04-13 10:34:25        0  \n2011-04-13 10:34:26        0  \n\n[5 rows x 28 columns]",
      "text/html": "<div>\n<style scoped>\n    .dataframe tbody tr th:only-of-type {\n        vertical-align: middle;\n    }\n\n    .dataframe tbody tr th {\n        vertical-align: top;\n    }\n\n    .dataframe thead th {\n        text-align: right;\n    }\n</style>\n<table border=\"1\" class=\"dataframe\">\n  <thead>\n    <tr style=\"text-align: right;\">\n      <th></th>\n      <th>X_MSO</th>\n      <th>Y_MSO</th>\n      <th>Z_MSO</th>\n      <th>BX_MSO</th>\n      <th>BY_MSO</th>\n      <th>BZ_MSO</th>\n      <th>DBX_MSO</th>\n      <th>DBY_MSO</th>\n      <th>DBZ_MSO</th>\n      <th>RHO_DIPOLE</th>\n      <th>...</th>\n      <th>X</th>\n      <th>Y</th>\n      <th>Z</th>\n      <th>VX</th>\n      <th>VY</th>\n      <th>VZ</th>\n      <th>VABS</th>\n      <th>D</th>\n      <th>COSALPHA</th>\n      <th>EXTREMA</th>\n    </tr>\n    <tr>\n      <th>DATE</th>\n      <th></th>\n      <th></th>\n      <th></th>\n      <th></th>\n      <th></th>\n      <th></th>\n      <th></th>\n      <th></th>\n      <th></th>\n      <th></th>\n      <th></th>\n      <th></th>\n      <th></th>\n      <th></th>\n      <th></th>\n      <th></th>\n      <th></th>\n      <th></th>\n      <th></th>\n      <th></th>\n      <th></th>\n    </tr>\n  </thead>\n  <tbody>\n    <tr>\n      <th>2011-04-13 10:34:22</th>\n      <td>5994.666</td>\n      <td>-5966.287</td>\n      <td>-15414.501</td>\n      <td>-5.228</td>\n      <td>3.356</td>\n      <td>0.500</td>\n      <td>0.275</td>\n      <td>0.212</td>\n      <td>0.158</td>\n      <td>18008.190777</td>\n      <td>...</td>\n      <td>-5.512601e+07</td>\n      <td>-3.375645e+07</td>\n      <td>2.300071e+06</td>\n      <td>15.427609</td>\n      <td>-39.399943</td>\n      <td>-4.634681</td>\n      <td>42.565795</td>\n      <td>6.468126e+07</td>\n      <td>-0.815553</td>\n      <td>2</td>\n    </tr>\n    <tr>\n      <th>2011-04-13 10:34:23</th>\n      <td>5995.121</td>\n      <td>-5966.539</td>\n      <td>-15414.238</td>\n      <td>-5.186</td>\n      <td>3.293</td>\n      <td>0.360</td>\n      <td>0.099</td>\n      <td>0.186</td>\n      <td>0.289</td>\n      <td>18008.193550</td>\n      <td>...</td>\n      <td>-5.512601e+07</td>\n      <td>-3.375645e+07</td>\n      <td>2.300071e+06</td>\n      <td>15.427609</td>\n      <td>-39.399943</td>\n      <td>-4.634664</td>\n      <td>42.565793</td>\n      <td>6.468126e+07</td>\n      <td>-0.815553</td>\n      <td>0</td>\n    </tr>\n    <tr>\n      <th>2011-04-13 10:34:24</th>\n      <td>5995.576</td>\n      <td>-5966.791</td>\n      <td>-15413.975</td>\n      <td>-4.887</td>\n      <td>3.500</td>\n      <td>1.260</td>\n      <td>0.164</td>\n      <td>0.392</td>\n      <td>0.210</td>\n      <td>18008.196343</td>\n      <td>...</td>\n      <td>-5.512601e+07</td>\n      <td>-3.375645e+07</td>\n      <td>2.300071e+06</td>\n      <td>15.427609</td>\n      <td>-39.399943</td>\n      <td>-4.634714</td>\n      <td>42.565799</td>\n      <td>6.468126e+07</td>\n      <td>-0.815553</td>\n      <td>0</td>\n    </tr>\n    <tr>\n      <th>2011-04-13 10:34:25</th>\n      <td>5996.031</td>\n      <td>-5967.043</td>\n      <td>-15413.712</td>\n      <td>-4.214</td>\n      <td>4.172</td>\n      <td>0.611</td>\n      <td>0.210</td>\n      <td>0.199</td>\n      <td>0.377</td>\n      <td>18008.199153</td>\n      <td>...</td>\n      <td>-5.512601e+07</td>\n      <td>-3.375645e+07</td>\n      <td>2.300071e+06</td>\n      <td>15.427609</td>\n      <td>-39.399943</td>\n      <td>-4.634736</td>\n      <td>42.565801</td>\n      <td>6.468126e+07</td>\n      <td>-0.815553</td>\n      <td>0</td>\n    </tr>\n    <tr>\n      <th>2011-04-13 10:34:26</th>\n      <td>5996.486</td>\n      <td>-5967.295</td>\n      <td>-15413.449</td>\n      <td>-4.608</td>\n      <td>3.046</td>\n      <td>0.545</td>\n      <td>0.480</td>\n      <td>0.667</td>\n      <td>0.511</td>\n      <td>18008.201983</td>\n      <td>...</td>\n      <td>-5.512601e+07</td>\n      <td>-3.375645e+07</td>\n      <td>2.300071e+06</td>\n      <td>15.427609</td>\n      <td>-39.399943</td>\n      <td>-4.634744</td>\n      <td>42.565802</td>\n      <td>6.468126e+07</td>\n      <td>-0.815553</td>\n      <td>0</td>\n    </tr>\n  </tbody>\n</table>\n<p>5 rows × 28 columns</p>\n</div>"
     },
     "execution_count": 4,
     "metadata": {},
     "output_type": "execute_result"
    }
   ],
   "source": [
    "orbit.head()"
   ],
   "metadata": {
    "collapsed": false,
    "pycharm": {
     "name": "#%%\n"
    }
   }
  },
  {
   "cell_type": "code",
   "execution_count": 5,
   "outputs": [
    {
     "data": {
      "text/plain": "X_MSO           float64\nY_MSO           float64\nZ_MSO           float64\nBX_MSO          float64\nBY_MSO          float64\nBZ_MSO          float64\nDBX_MSO         float64\nDBY_MSO         float64\nDBZ_MSO         float64\nRHO_DIPOLE      float64\nPHI_DIPOLE      float64\nTHETA_DIPOLE    float64\nBABS_DIPOLE     float64\nBX_DIPOLE       float64\nBY_DIPOLE       float64\nBZ_DIPOLE       float64\nRHO             float64\nRXY             float64\nX               float64\nY               float64\nZ               float64\nVX              float64\nVY              float64\nVZ              float64\nVABS            float64\nD               float64\nCOSALPHA        float64\nEXTREMA           int64\ndtype: object"
     },
     "execution_count": 5,
     "metadata": {},
     "output_type": "execute_result"
    }
   ],
   "source": [
    "orbit.dtypes"
   ],
   "metadata": {
    "collapsed": false,
    "pycharm": {
     "name": "#%%\n"
    }
   }
  },
  {
   "cell_type": "code",
   "execution_count": 6,
   "outputs": [
    {
     "data": {
      "text/plain": "Index(['X_MSO', 'Y_MSO', 'Z_MSO', 'BX_MSO', 'BY_MSO', 'BZ_MSO', 'DBX_MSO',\n       'DBY_MSO', 'DBZ_MSO', 'RHO_DIPOLE', 'PHI_DIPOLE', 'THETA_DIPOLE',\n       'BABS_DIPOLE', 'BX_DIPOLE', 'BY_DIPOLE', 'BZ_DIPOLE', 'RHO', 'RXY', 'X',\n       'Y', 'Z', 'VX', 'VY', 'VZ', 'VABS', 'D', 'COSALPHA', 'EXTREMA'],\n      dtype='object')"
     },
     "execution_count": 6,
     "metadata": {},
     "output_type": "execute_result"
    }
   ],
   "source": [
    "orbit.columns"
   ],
   "metadata": {
    "collapsed": false,
    "pycharm": {
     "name": "#%%\n"
    }
   }
  },
  {
   "cell_type": "markdown",
   "source": [
    "Plot magnetic flux density"
   ],
   "metadata": {
    "collapsed": false,
    "pycharm": {
     "name": "#%% md\n"
    }
   }
  },
  {
   "cell_type": "code",
   "execution_count": 7,
   "outputs": [
    {
     "data": {
      "text/plain": "<Figure size 432x288 with 1 Axes>",
      "image/png": "[encoded data removed]"
     },
     "metadata": {
      "needs_background": "light"
     },
     "output_type": "display_data"
    }
   ],
   "source": [
    "harry_plotter.plot_components_and_norm(\n",
    "    orbit.index,\n",
    "    (orbit.BX_MSO,\n",
    "    orbit.BY_MSO,\n",
    "    orbit.BZ_MSO),\n",
    "    symbol=\"B\"\n",
    ")\n",
    "plt.savefig(os.path.join(FIGURE_DIR, MESSENGER(n) + \".pdf\"))"
   ],
   "metadata": {
    "collapsed": false,
    "pycharm": {
     "name": "#%%\n"
    }
   }
  },
  {
   "cell_type": "markdown",
   "source": [
    "Plot position"
   ],
   "metadata": {
    "collapsed": false,
    "pycharm": {
     "name": "#%% md\n"
    }
   }
  },
  {
   "cell_type": "code",
   "execution_count": 8,
   "outputs": [
    {
     "data": {
      "text/plain": "<Figure size 432x288 with 1 Axes>",
      "image/png": "[encoded data removed]"
     },
     "metadata": {
      "needs_background": "light"
     },
     "output_type": "display_data"
    }
   ],
   "source": [
    "harry_plotter.plot_components_and_norm(\n",
    "    orbit.index,\n",
    "    (orbit.X_MSO,\n",
    "    orbit.Y_MSO,\n",
    "    orbit.Z_MSO),\n",
    "    symbol=\"x\"\n",
    ")\n",
    "plt.savefig(os.path.join(FIGURE_DIR, MESSENGER(n) + \".pdf\"))"
   ],
   "metadata": {
    "collapsed": false,
    "pycharm": {
     "name": "#%%\n"
    }
   }
  },
  {
   "cell_type": "markdown",
   "source": [
    "Plot velocity"
   ],
   "metadata": {
    "collapsed": false,
    "pycharm": {
     "name": "#%% md\n"
    }
   }
  },
  {
   "cell_type": "code",
   "execution_count": 9,
   "outputs": [
    {
     "data": {
      "text/plain": "<Figure size 432x288 with 1 Axes>",
      "image/png": "[encoded data removed]"
     },
     "metadata": {
      "needs_background": "light"
     },
     "output_type": "display_data"
    }
   ],
   "source": [
    "harry_plotter.plot_components_and_norm(\n",
    "    orbit.index,\n",
    "    (orbit.VX,\n",
    "    orbit.VY,\n",
    "    orbit.VZ),\n",
    "    symbol=\"v\"\n",
    ")\n",
    "plt.savefig(os.path.join(FIGURE_DIR, MESSENGER(n) + \".pdf\"))"
   ],
   "metadata": {
    "collapsed": false,
    "pycharm": {
     "name": "#%%\n"
    }
   }
  }
 ],
 "metadata": {
  "kernelspec": {
   "display_name": "Python 3",
   "language": "python",
   "name": "python3"
  },
  "language_info": {
   "codemirror_mode": {
    "name": "ipython",
    "version": 2
   },
   "file_extension": ".py",
   "mimetype": "text/x-python",
   "name": "python",
   "nbconvert_exporter": "python",
   "pygments_lexer": "ipython2",
   "version": "2.7.6"
  }
 },
 "nbformat": 4,
 "nbformat_minor": 0
}