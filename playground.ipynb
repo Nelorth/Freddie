{
 "cells": [
  {
   "cell_type": "markdown",
   "metadata": {
    "collapsed": true,
    "pycharm": {
     "name": "#%% md\n"
    }
   },
   "source": [
    "# Playground"
   ]
  },
  {
   "cell_type": "code",
   "execution_count": 1,
   "outputs": [],
   "source": [
    "import pandas as pd\n",
    "import matplotlib.pyplot as plt\n",
    "import torch\n",
    "\n",
    "from messenger_dataset import MessengerDataset\n",
    "from torchmetrics import Metric"
   ],
   "metadata": {
    "collapsed": false,
    "pycharm": {
     "name": "#%%\n"
    }
   }
  },
  {
   "cell_type": "markdown",
   "source": [
    "Class name mapping"
   ],
   "metadata": {
    "collapsed": false,
    "pycharm": {
     "name": "#%% md\n"
    }
   }
  },
  {
   "cell_type": "code",
   "execution_count": 2,
   "outputs": [],
   "source": [
    "label_names = {\n",
    "    0: \"IMF\",\n",
    "    1: \"BS crossing\",\n",
    "    2: \"magnetosheath\",\n",
    "    3: \"MP crossing\",\n",
    "    4: \"magnetosphere\"\n",
    "}"
   ],
   "metadata": {
    "collapsed": false,
    "pycharm": {
     "name": "#%%\n"
    }
   }
  },
  {
   "cell_type": "markdown",
   "source": [
    "Data preprocessing test"
   ],
   "metadata": {
    "collapsed": false,
    "pycharm": {
     "name": "#%% md\n"
    }
   }
  },
  {
   "cell_type": "code",
   "execution_count": 3,
   "outputs": [],
   "source": [
    "d = MessengerDataset(\"merged/df_train.csv\", window_size=7)"
   ],
   "metadata": {
    "collapsed": false,
    "pycharm": {
     "name": "#%%\n"
    }
   }
  },
  {
   "cell_type": "code",
   "execution_count": 4,
   "outputs": [
    {
     "name": "stdout",
     "output_type": "stream",
     "text": [
      "7494690\n"
     ]
    }
   ],
   "source": [
    "print(len(d))"
   ],
   "metadata": {
    "collapsed": false,
    "pycharm": {
     "name": "#%%\n"
    }
   }
  },
  {
   "cell_type": "code",
   "execution_count": 5,
   "outputs": [
    {
     "name": "stdout",
     "output_type": "stream",
     "text": [
      "tensor([[[-0.0497,  0.5086, -0.0392],\n",
      "         [-0.6225, -0.9016, -0.7356],\n",
      "         [ 0.8376, -0.8421, -0.8406]],\n",
      "\n",
      "        [[-0.1362,  0.4713, -0.0584],\n",
      "         [-0.6224, -0.9014, -0.7357],\n",
      "         [ 0.8376, -0.8421, -0.8407]],\n",
      "\n",
      "        [[-0.1235,  0.4795, -0.0536],\n",
      "         [-0.6222, -0.9013, -0.7358],\n",
      "         [ 0.8376, -0.8421, -0.8404]],\n",
      "\n",
      "        [[-0.0702,  0.4979, -0.0190],\n",
      "         [-0.6221, -0.9012, -0.7359],\n",
      "         [ 0.8376, -0.8421, -0.8401]],\n",
      "\n",
      "        [[-0.1271,  0.5556, -0.0477],\n",
      "         [-0.6219, -0.9010, -0.7360],\n",
      "         [ 0.8376, -0.8421, -0.8406]],\n",
      "\n",
      "        [[-0.1310,  0.5856, -0.2340],\n",
      "         [-0.6217, -0.9009, -0.7361],\n",
      "         [ 0.8376, -0.8421, -0.8398]],\n",
      "\n",
      "        [[-0.0788,  0.6225, -0.1684],\n",
      "         [-0.6216, -0.9008, -0.7362],\n",
      "         [ 0.8376, -0.8421, -0.8406]]], dtype=torch.float64)\n",
      "tensor([[0, 0, 1, 0, 0],\n",
      "        [0, 0, 1, 0, 0],\n",
      "        [0, 0, 1, 0, 0],\n",
      "        [0, 1, 0, 0, 0],\n",
      "        [0, 1, 0, 0, 0],\n",
      "        [0, 1, 0, 0, 0],\n",
      "        [0, 1, 0, 0, 0]])\n"
     ]
    }
   ],
   "source": [
    "sample, label = d[32246]\n",
    "print(sample)\n",
    "print(label)"
   ],
   "metadata": {
    "collapsed": false,
    "pycharm": {
     "name": "#%%\n"
    }
   }
  },
  {
   "cell_type": "markdown",
   "source": [
    "Orbit length inspection"
   ],
   "metadata": {
    "collapsed": false
   }
  },
  {
   "cell_type": "code",
   "execution_count": 6,
   "outputs": [],
   "source": [
    "df = pd.read_csv(\"merged/df_train.csv\")"
   ],
   "metadata": {
    "collapsed": false,
    "pycharm": {
     "name": "#%%\n"
    }
   }
  },
  {
   "cell_type": "code",
   "execution_count": 7,
   "outputs": [
    {
     "name": "stdout",
     "output_type": "stream",
     "text": [
      "max deviation: 1361\n"
     ]
    },
    {
     "data": {
      "text/plain": "count      178.000000\nmean     43271.623596\nstd        390.995916\nmin      42105.000000\n25%      43455.000000\n50%      43460.000000\n75%      43461.750000\nmax      43466.000000\ndtype: float64"
     },
     "execution_count": 7,
     "metadata": {},
     "output_type": "execute_result"
    }
   ],
   "source": [
    "g = df.groupby(\"ORBIT\").size()\n",
    "print(f\"max deviation: {g.max() - g.min()}\")\n",
    "g.describe()"
   ],
   "metadata": {
    "collapsed": false,
    "pycharm": {
     "name": "#%%\n"
    }
   }
  },
  {
   "cell_type": "markdown",
   "source": [
    "Compare label values at cutoff index"
   ],
   "metadata": {
    "collapsed": false,
    "pycharm": {
     "name": "#%% md\n"
    }
   }
  },
  {
   "cell_type": "code",
   "execution_count": 8,
   "outputs": [
    {
     "name": "stdout",
     "output_type": "stream",
     "text": [
      "Occuring labels at cutoff index: {0}\n"
     ]
    }
   ],
   "source": [
    "cutoff_index = g.min() - 1\n",
    "occuring_labels = set()\n",
    "\n",
    "for orbit in df[\"ORBIT\"].unique():\n",
    "    occuring_labels.add(df[df[\"ORBIT\"] == orbit].iloc[cutoff_index][\"LABEL\"])\n",
    "\n",
    "print(\"Occuring labels at cutoff index:\", occuring_labels)"
   ],
   "metadata": {
    "collapsed": false,
    "pycharm": {
     "name": "#%%\n"
    }
   }
  },
  {
   "cell_type": "markdown",
   "source": [
    "Sanity check"
   ],
   "metadata": {
    "collapsed": false,
    "pycharm": {
     "name": "#%% md\n"
    }
   }
  },
  {
   "cell_type": "code",
   "execution_count": 9,
   "outputs": [
    {
     "data": {
      "text/plain": "[<matplotlib.lines.Line2D at 0x2a718809a30>]"
     },
     "execution_count": 9,
     "metadata": {},
     "output_type": "execute_result"
    },
    {
     "data": {
      "text/plain": "<Figure size 432x288 with 1 Axes>",
      "image/png": "[encoded data removed]"
     },
     "metadata": {
      "needs_background": "light"
     },
     "output_type": "display_data"
    }
   ],
   "source": [
    "o = df[df[\"ORBIT\"] == 42].reset_index().iloc[:cutoff_index]\n",
    "plt.plot(o[\"BX_MSO\"])\n",
    "plt.plot(o[\"BY_MSO\"])\n",
    "plt.plot(o[\"BZ_MSO\"])"
   ],
   "metadata": {
    "collapsed": false,
    "pycharm": {
     "name": "#%%\n"
    }
   }
  }
 ],
 "metadata": {
  "kernelspec": {
   "display_name": "Python 3",
   "language": "python",
   "name": "python3"
  },
  "language_info": {
   "codemirror_mode": {
    "name": "ipython",
    "version": 2
   },
   "file_extension": ".py",
   "mimetype": "text/x-python",
   "name": "python",
   "nbconvert_exporter": "python",
   "pygments_lexer": "ipython2",
   "version": "2.7.6"
  }
 },
 "nbformat": 4,
 "nbformat_minor": 0
}