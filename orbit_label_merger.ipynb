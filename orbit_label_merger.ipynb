{
 "cells": [
  {
   "cell_type": "markdown",
   "source": [
    "# Orbit-Label Merger"
   ],
   "metadata": {
    "collapsed": false,
    "pycharm": {
     "name": "#%% md\n"
    }
   }
  },
  {
   "cell_type": "code",
   "execution_count": 1,
   "outputs": [],
   "source": [
    "import os\n",
    "import pandas as pd"
   ],
   "metadata": {
    "collapsed": false,
    "pycharm": {
     "name": "#%%\n"
    }
   }
  },
  {
   "cell_type": "markdown",
   "source": [
    "Specify relevant file system directories"
   ],
   "metadata": {
    "collapsed": false,
    "pycharm": {
     "name": "#%% md\n"
    }
   }
  },
  {
   "cell_type": "code",
   "execution_count": 2,
   "outputs": [],
   "source": [
    "SOURCE_DIR = \"orbits\"  # where the orbit data is located\n",
    "LABELS_DIR = \"labels\"  # where the label mapping is located\n",
    "TARGET_DIR = \"merged\"  # where the result is to be written"
   ],
   "metadata": {
    "collapsed": false,
    "pycharm": {
     "name": "#%%\n"
    }
   }
  },
  {
   "cell_type": "markdown",
   "source": [
    "Specify required column names"
   ],
   "metadata": {
    "collapsed": false,
    "pycharm": {
     "name": "#%% md\n"
    }
   }
  },
  {
   "cell_type": "code",
   "execution_count": 3,
   "outputs": [],
   "source": [
    "EVENT_COLUMNS = [\"SK outer in\", \"SK inner in\",\"MP outer in\", \"MP inner in\",\n",
    "                 \"MP inner out\", \"MP outer out\", \"SK inner out\", \"SK outer out\"]\n",
    "\n",
    "DATA_COLUMNS = [\"BX_MSO\",\"BY_MSO\",\"BZ_MSO\",\n",
    "                \"X_MSO\",\"Y_MSO\",\"Z_MSO\",\n",
    "                \"VX\",\"VY\",\"VZ\"]"
   ],
   "metadata": {
    "collapsed": false,
    "pycharm": {
     "name": "#%%\n"
    }
   }
  },
  {
   "cell_type": "markdown",
   "source": [
    "Define main procedures"
   ],
   "metadata": {
    "collapsed": false
   }
  },
  {
   "cell_type": "code",
   "execution_count": 4,
   "outputs": [],
   "source": [
    "def normalize(df, columns):\n",
    "    \"\"\"Normalize the specified columns in the given data frame.\"\"\"\n",
    "\n",
    "    df[columns] = (df[columns] - df[columns].mean()) / df[columns].std()"
   ],
   "metadata": {
    "collapsed": false,
    "pycharm": {
     "name": "#%%\n"
    }
   }
  },
  {
   "cell_type": "code",
   "execution_count": 5,
   "outputs": [],
   "source": [
    "def prepare_orbit(orbit_id):\n",
    "    \"\"\"Load the specified orbit and preprocess it for merging.\"\"\"\n",
    "\n",
    "    file = os.path.join(SOURCE_DIR, f\"messenger-{orbit_id:04d}.csv\")\n",
    "    if os.path.exists(file):\n",
    "        df_orbit = pd.read_csv(file, usecols=DATA_COLUMNS + [\"DATE\"], parse_dates=True)\n",
    "        df_orbit.interpolate()  # interpolate missing values\n",
    "        df_orbit[\"ORBIT\"] = orbit_id  # add orbit id\n",
    "        normalize(df_orbit, DATA_COLUMNS)\n",
    "        return df_orbit"
   ],
   "metadata": {
    "collapsed": false,
    "pycharm": {
     "name": "#%%\n"
    }
   }
  },
  {
   "cell_type": "code",
   "execution_count": 6,
   "outputs": [],
   "source": [
    "def apply_labels(df_train, df_labels):\n",
    "    \"\"\"Assign labels to the training time series using event boundary labels.\"\"\"\n",
    "\n",
    "    df_train[\"LABEL\"] = 0 # interplanetary magnetic field is default\n",
    "\n",
    "    for row in range(len(df_labels)):\n",
    "        # bow shock crossing\n",
    "        bs_selector = ((df_train[\"DATE\"] >= df_labels.iloc[row][\"SK outer in\"])\n",
    "                         & (df_train[\"DATE\"] < df_labels.iloc[row][\"SK inner in\"]))\\\n",
    "                      | ((df_train[\"DATE\"] >= df_labels.iloc[row][\"SK inner out\"])\n",
    "                         & (df_train[\"DATE\"] < df_labels.iloc[row][\"SK outer out\"]))\n",
    "        df_train.loc[bs_selector, \"LABEL\"] = 1  # bow shock crossing\n",
    "    \n",
    "        #magnetosheath\n",
    "        msh_selector = ((df_train[\"DATE\"] >= df_labels.iloc[row][\"SK inner in\"])\n",
    "                         & (df_train[\"DATE\"] < df_labels.iloc[row][\"MP outer in\"])) \\\n",
    "                      | ((df_train[\"DATE\"] >= df_labels.iloc[row][\"MP outer out\"])\n",
    "                         & (df_train[\"DATE\"] < df_labels.iloc[row][\"SK inner out\"]))\n",
    "        df_train.loc[msh_selector, \"LABEL\"] = 2  # magnetosheath\n",
    "\n",
    "        # magnetopause crossing\n",
    "        mp_selector = ((df_train[\"DATE\"] >= df_labels.iloc[row][\"MP outer in\"])\n",
    "                        & (df_train[\"DATE\"] < df_labels.iloc[row][\"MP inner in\"]))\\\n",
    "                       | ((df_train[\"DATE\"] >= df_labels.iloc[row][\"MP inner out\"])\n",
    "                        & (df_train[\"DATE\"] < df_labels.iloc[row][\"MP outer out\"]))\n",
    "        df_train.loc[mp_selector, \"LABEL\"] = 3  # MP crossing\n",
    "\n",
    "        # magnetosphere\n",
    "        msp_selector = (df_train[\"DATE\"] >= df_labels.iloc[row][\"MP inner in\"])\\\n",
    "                         & (df_train[\"DATE\"] < df_labels.iloc[row][\"MP inner out\"])\n",
    "        df_train.loc[msp_selector, \"LABEL\"] = 4  # magnetosphere"
   ],
   "metadata": {
    "collapsed": false,
    "pycharm": {
     "name": "#%%\n"
    }
   }
  },
  {
   "cell_type": "markdown",
   "source": [
    "Load label descriptor file"
   ],
   "metadata": {
    "collapsed": false
   }
  },
  {
   "cell_type": "code",
   "execution_count": 7,
   "outputs": [
    {
     "name": "stdout",
     "output_type": "stream",
     "text": [
      "178\n"
     ]
    }
   ],
   "source": [
    "labels_path = os.path.join(LABELS_DIR, \"messenger-0001_-0200_labelled.csv\")\n",
    "df_labels = pd.read_csv(labels_path, parse_dates=True)\n",
    "df_labels = df_labels.dropna()  # remove invalid orbits\n",
    "print(len(df_labels[\"Orbit\"]))"
   ],
   "metadata": {
    "collapsed": false,
    "pycharm": {
     "name": "#%%\n"
    }
   }
  },
  {
   "cell_type": "markdown",
   "source": [
    "Combine orbit data into one big frame"
   ],
   "metadata": {
    "collapsed": false,
    "pycharm": {
     "name": "#%% md\n"
    }
   }
  },
  {
   "cell_type": "code",
   "execution_count": 8,
   "outputs": [
    {
     "name": "stdout",
     "output_type": "stream",
     "text": [
      "                      DATE     X_MSO     Y_MSO     Z_MSO    BX_MSO    BY_MSO  \\\n",
      "43460  2011-03-24 07:41:58  0.814358  0.462644 -0.958839 -0.186325 -0.292972   \n",
      "43461  2011-03-24 07:41:59  0.814447  0.462742 -0.958792 -0.171665 -0.239008   \n",
      "43462  2011-03-24 07:42:00  0.814535  0.462840 -0.958745 -0.238541 -0.270739   \n",
      "0      2011-03-24 07:42:00  0.711619  0.531844 -0.958634 -0.645540  0.151359   \n",
      "1      2011-03-24 07:42:01  0.711702  0.531946 -0.958587 -0.658417  0.113636   \n",
      "\n",
      "         BZ_MSO        VX        VY        VZ  ORBIT  \n",
      "43460  0.528521  1.746449 -1.715732 -1.729294      1  \n",
      "43461  0.512033  1.746449 -1.715732 -1.729697      1  \n",
      "43462  0.530772  1.751370 -1.720399 -1.734349      1  \n",
      "0      0.263814 -1.714806  1.744409  1.730366      2  \n",
      "1      0.231000 -1.714806  1.744409  1.730804      2  \n"
     ]
    }
   ],
   "source": [
    "df_train = pd.concat(map(prepare_orbit, df_labels[\"Orbit\"]))\n",
    "print(df_train.iloc[43460:43465])"
   ],
   "metadata": {
    "collapsed": false,
    "pycharm": {
     "name": "#%%\n"
    }
   }
  },
  {
   "cell_type": "markdown",
   "source": [
    "Assign labels to the instances of the training data"
   ],
   "metadata": {
    "collapsed": false,
    "pycharm": {
     "name": "#%% md\n",
     "is_executing": true
    }
   }
  },
  {
   "cell_type": "code",
   "execution_count": 9,
   "outputs": [
    {
     "name": "stdout",
     "output_type": "stream",
     "text": [
      "                      DATE     X_MSO     Y_MSO     Z_MSO    BX_MSO    BY_MSO  \\\n",
      "32245  2011-03-24 04:35:03 -0.622700 -0.901712 -0.735512 -0.052880  0.478132   \n",
      "32246  2011-03-24 04:35:04 -0.622538 -0.901576 -0.735612 -0.049653  0.508592   \n",
      "32247  2011-03-24 04:35:05 -0.622375 -0.901440 -0.735713 -0.136198  0.471295   \n",
      "32248  2011-03-24 04:35:06 -0.622213 -0.901304 -0.735813 -0.123536  0.479493   \n",
      "32249  2011-03-24 04:35:07 -0.622051 -0.901168 -0.735914 -0.070214  0.497914   \n",
      "32250  2011-03-24 04:35:08 -0.621889 -0.901032 -0.736014 -0.127132  0.555599   \n",
      "32251  2011-03-24 04:35:09 -0.621726 -0.900896 -0.736115 -0.131035  0.585636   \n",
      "32252  2011-03-24 04:35:10 -0.621564 -0.900760 -0.736216 -0.078850  0.622509   \n",
      "32253  2011-03-24 04:35:11 -0.621402 -0.900624 -0.736316 -0.040648  0.656600   \n",
      "32254  2011-03-24 04:35:12 -0.621240 -0.900488 -0.736417 -0.098734  0.788999   \n",
      "\n",
      "         BZ_MSO        VX        VY        VZ  ORBIT  LABEL  \n",
      "32245 -0.052872  0.837614 -0.842127 -0.840231      1      2  \n",
      "32246 -0.039235  0.837614 -0.842127 -0.840579      1      2  \n",
      "32247 -0.058403  0.837614 -0.842127 -0.840745      1      2  \n",
      "32248 -0.053558  0.837614 -0.842127 -0.840391      1      2  \n",
      "32249 -0.018973  0.837614 -0.842127 -0.840123      1      1  \n",
      "32250 -0.047683  0.837614 -0.842127 -0.840551      1      1  \n",
      "32251 -0.233962  0.837614 -0.842127 -0.839817      1      1  \n",
      "32252 -0.168438  0.837614 -0.842127 -0.840570      1      1  \n",
      "32253 -0.192945  0.837614 -0.842127 -0.840367      1      1  \n",
      "32254 -0.212542  0.837614 -0.842127 -0.839863      1      1  \n"
     ]
    }
   ],
   "source": [
    "apply_labels(df_train, df_labels)\n",
    "print(df_train.iloc[32245:32255])"
   ],
   "metadata": {
    "collapsed": false,
    "pycharm": {
     "name": "#%%\n"
    }
   }
  },
  {
   "cell_type": "markdown",
   "source": [
    "Save data and generate descriptive statistics"
   ],
   "metadata": {
    "collapsed": false,
    "pycharm": {
     "name": "#%% md\n"
    }
   }
  },
  {
   "cell_type": "code",
   "execution_count": 10,
   "outputs": [],
   "source": [
    "df_train.to_csv(os.path.join(TARGET_DIR, \"df_train.csv\"))\n",
    "\n",
    "df_train_description = df_train[DATA_COLUMNS].describe()\n",
    "df_train_description.to_excel(os.path.join(TARGET_DIR, \"df_train_total_description.xlsx\"))\n",
    "\n",
    "df_train_description = df_train.groupby([\"LABEL\"])[DATA_COLUMNS].describe()\n",
    "df_train_description.to_excel(os.path.join(TARGET_DIR, \"df_train_label_description.xlsx\"))"
   ],
   "metadata": {
    "collapsed": false,
    "pycharm": {
     "name": "#%%\n"
    }
   }
  }
 ],
 "metadata": {
  "kernelspec": {
   "display_name": "Python 3",
   "language": "python",
   "name": "python3"
  },
  "language_info": {
   "codemirror_mode": {
    "name": "ipython",
    "version": 2
   },
   "file_extension": ".py",
   "mimetype": "text/x-python",
   "name": "python",
   "nbconvert_exporter": "python",
   "pygments_lexer": "ipython2",
   "version": "2.7.6"
  }
 },
 "nbformat": 4,
 "nbformat_minor": 0
}